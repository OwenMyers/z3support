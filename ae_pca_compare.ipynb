{
 "cells": [
  {
   "cell_type": "code",
   "execution_count": 17,
   "id": "19a337df-b452-4e95-902c-9be1ca805753",
   "metadata": {},
   "outputs": [],
   "source": [
    "from tensorflow import keras\n",
    "import tensorflow as tf\n",
    "from tensorflow.keras.datasets import mnist\n",
    "from matplotlib import pyplot as plt\n",
    "\n",
    "N_DENSE = 2"
   ]
  },
  {
   "cell_type": "code",
   "execution_count": 11,
   "id": "7412df87-e2c9-427b-8bdc-7a93af63fa68",
   "metadata": {},
   "outputs": [
    {
     "name": "stdout",
     "output_type": "stream",
     "text": [
      "1 Physical GPUs, 1 Logical GPUs\n"
     ]
    }
   ],
   "source": [
    "gpus = tf.config.experimental.list_physical_devices('GPU')\n",
    "if gpus:\n",
    "    try:\n",
    "        # Currently, memory growth needs to be the same across GPUs\n",
    "        for gpu in gpus:\n",
    "            tf.config.experimental.set_memory_growth(gpu, True)\n",
    "        logical_gpus = tf.config.experimental.list_logical_devices('GPU')\n",
    "        print(len(gpus), \"Physical GPUs,\", len(logical_gpus), \"Logical GPUs\")\n",
    "    except RuntimeError as e:\n",
    "        # Memory growth must be set before GPUs have been initialized\n",
    "        print(e)"
   ]
  },
  {
   "cell_type": "code",
   "execution_count": 12,
   "id": "196329f4-e341-435a-bd70-33474ebb2b9c",
   "metadata": {},
   "outputs": [],
   "source": [
    "def get_mnist(train=True, train_percent=80):       \n",
    "    (x_train, y_train), (x_test, y_test) = mnist.load_data()\n",
    "\n",
    "    x_train = x_train.astype('float32') / 255.\n",
    "    x_train = x_train.reshape(x_train.shape + (1,))\n",
    "    x_test = x_test.astype('float32') / 255.\n",
    "    x_test = x_test.reshape(x_test.shape + (1,))\n",
    "\n",
    "    if train:\n",
    "        return x_train[:4000], y_train[:4000]\n",
    "    return x_test[:4000], y_test[:4000]"
   ]
  },
  {
   "cell_type": "code",
   "execution_count": 4,
   "id": "53a97bad-d5e2-470b-93ab-e8bb428570d2",
   "metadata": {},
   "outputs": [],
   "source": [
    "simp_ae = tf.keras.Sequential(\n",
    "    [\n",
    "        keras.layers.InputLayer(input_shape=(28, 28, 1)),\n",
    "        keras.layers.Flatten(),\n",
    "        keras.layers.Dense(N_DENSE),\n",
    "        keras.layers.Dense(units=28*28),\n",
    "        keras.layers.Reshape(target_shape=(28, 28, 1))\n",
    "    ]\n",
    ")"
   ]
  },
  {
   "cell_type": "code",
   "execution_count": 5,
   "id": "1d63e3a4-e6ba-4cb8-a104-3425b88556c1",
   "metadata": {},
   "outputs": [
    {
     "name": "stdout",
     "output_type": "stream",
     "text": [
      "Model: \"sequential\"\n",
      "_________________________________________________________________\n",
      " Layer (type)                Output Shape              Param #   \n",
      "=================================================================\n",
      " flatten (Flatten)           (None, 784)               0         \n",
      "                                                                 \n",
      " dense (Dense)               (None, 2)                 1570      \n",
      "                                                                 \n",
      " dense_1 (Dense)             (None, 784)               2352      \n",
      "                                                                 \n",
      " reshape (Reshape)           (None, 28, 28, 1)         0         \n",
      "                                                                 \n",
      "=================================================================\n",
      "Total params: 3,922\n",
      "Trainable params: 3,922\n",
      "Non-trainable params: 0\n",
      "_________________________________________________________________\n"
     ]
    }
   ],
   "source": [
    "simp_ae.summary()"
   ]
  },
  {
   "cell_type": "code",
   "execution_count": 6,
   "id": "442dd037-02d8-41d2-b01c-83d888745396",
   "metadata": {},
   "outputs": [],
   "source": [
    "x, y = get_mnist()"
   ]
  },
  {
   "cell_type": "code",
   "execution_count": 7,
   "id": "ffec81c4-bac4-44db-8f48-75fcaa810635",
   "metadata": {},
   "outputs": [],
   "source": [
    "tb_callback = keras.callbacks.TensorBoard(\n",
    "    log_dir='tb_log_dir_notebook',\n",
    "    histogram_freq=2,  \n",
    "    write_graph=True,\n",
    "    write_images=True\n",
    ")"
   ]
  },
  {
   "cell_type": "code",
   "execution_count": 8,
   "id": "b9699487-0bfb-412a-930e-7ea44362953a",
   "metadata": {},
   "outputs": [],
   "source": [
    "simp_ae.compile(optimizer=\"adam\", loss=\"mse\", metrics=[\"mae\"])"
   ]
  },
  {
   "cell_type": "code",
   "execution_count": 9,
   "id": "2a360e08-f73c-4643-90d3-6fb20d207ffa",
   "metadata": {},
   "outputs": [
    {
     "name": "stdout",
     "output_type": "stream",
     "text": [
      "Epoch 1/10\n",
      "250/250 [==============================] - 1s 2ms/step - loss: 0.0702 - mae: 0.1475\n",
      "Epoch 2/10\n",
      "250/250 [==============================] - 0s 2ms/step - loss: 0.0598 - mae: 0.1382\n",
      "Epoch 3/10\n",
      "250/250 [==============================] - 0s 2ms/step - loss: 0.0575 - mae: 0.1334\n",
      "Epoch 4/10\n",
      "250/250 [==============================] - 0s 1ms/step - loss: 0.0573 - mae: 0.1330\n",
      "Epoch 5/10\n",
      "250/250 [==============================] - 0s 2ms/step - loss: 0.0572 - mae: 0.1325\n",
      "Epoch 6/10\n",
      "250/250 [==============================] - 0s 2ms/step - loss: 0.0571 - mae: 0.1325\n",
      "Epoch 7/10\n",
      "250/250 [==============================] - ETA: 0s - loss: 0.0570 - mae: 0.132 - 0s 2ms/step - loss: 0.0570 - mae: 0.1322\n",
      "Epoch 8/10\n",
      "250/250 [==============================] - 0s 2ms/step - loss: 0.0569 - mae: 0.1322\n",
      "Epoch 9/10\n",
      "250/250 [==============================] - 0s 2ms/step - loss: 0.0568 - mae: 0.1319\n",
      "Epoch 10/10\n",
      "250/250 [==============================] - 0s 2ms/step - loss: 0.0566 - mae: 0.1319\n"
     ]
    },
    {
     "data": {
      "text/plain": [
       "<keras.callbacks.History at 0x1574057d0c8>"
      ]
     },
     "execution_count": 9,
     "metadata": {},
     "output_type": "execute_result"
    }
   ],
   "source": [
    "simp_ae.fit(\n",
    "    batch_size=16,\n",
    "    x=x,\n",
    "    y=x,\n",
    "    epochs=10,\n",
    "    callbacks=[tb_callback]\n",
    ")"
   ]
  },
  {
   "cell_type": "markdown",
   "id": "4a8283e7-b6d3-4c4d-84a3-08c8a437b83c",
   "metadata": {},
   "source": [
    "# Plot input and output images"
   ]
  },
  {
   "cell_type": "code",
   "execution_count": 15,
   "id": "9d781e7c-e98f-4c34-bcff-c9e2dbd72979",
   "metadata": {},
   "outputs": [],
   "source": [
    "predictions = simp_ae.predict(x[:2])"
   ]
  },
  {
   "cell_type": "code",
   "execution_count": 20,
   "id": "a399cf2d-fc24-41af-99d1-ee421fba92c7",
   "metadata": {},
   "outputs": [
    {
     "data": {
      "text/plain": [
       "<matplotlib.image.AxesImage at 0x15706c24c88>"
      ]
     },
     "execution_count": 20,
     "metadata": {},
     "output_type": "execute_result"
    },
    {
     "data": {
      "image/png": "[encoded data removed]",
      "text/plain": [
       "<Figure size 432x288 with 1 Axes>"
      ]
     },
     "metadata": {
      "needs_background": "light"
     },
     "output_type": "display_data"
    }
   ],
   "source": [
    "plt.imshow(predictions[1], aspect='auto', cmap='viridis')"
   ]
  },
  {
   "cell_type": "markdown",
   "id": "181997be-3986-4176-ac17-e15026187fd4",
   "metadata": {},
   "source": [
    "# Plot the latent space"
   ]
  },
  {
   "cell_type": "code",
   "execution_count": 21,
   "id": "cbccdc41-7d41-4ea4-810e-e62a0a291292",
   "metadata": {},
   "outputs": [],
   "source": [
    "desired_output_layers = ['dense']\n",
    "\n",
    "desired_outputs = []\n",
    "for desred_layer_name in desired_output_layers:\n",
    "    desired_outputs.append(simp_ae.get_layer(desred_layer_name).output)\n",
    "\n",
    "activation_model = keras.Model(simp_ae.inputs, desired_outputs)"
   ]
  },
  {
   "cell_type": "code",
   "execution_count": 22,
   "id": "bd911b32-b58c-47be-8ddf-64561a9ce0c2",
   "metadata": {},
   "outputs": [
    {
     "name": "stdout",
     "output_type": "stream",
     "text": [
      "Model: \"model\"\n",
      "_________________________________________________________________\n",
      " Layer (type)                Output Shape              Param #   \n",
      "=================================================================\n",
      " input_1 (InputLayer)        [(None, 28, 28, 1)]       0         \n",
      "                                                                 \n",
      " flatten (Flatten)           (None, 784)               0         \n",
      "                                                                 \n",
      " dense (Dense)               (None, 2)                 1570      \n",
      "                                                                 \n",
      "=================================================================\n",
      "Total params: 1,570\n",
      "Trainable params: 1,570\n",
      "Non-trainable params: 0\n",
      "_________________________________________________________________\n"
     ]
    }
   ],
   "source": [
    "activation_model.summary()"
   ]
  },
  {
   "cell_type": "code",
   "execution_count": null,
   "id": "b7733cc2-278d-45ff-a7e4-06f0f28dbeeb",
   "metadata": {},
   "outputs": [],
   "source": []
  }
 ],
 "metadata": {
  "kernelspec": {
   "display_name": "Python 3 (ipykernel)",
   "language": "python",
   "name": "python3"
  },
  "language_info": {
   "codemirror_mode": {
    "name": "ipython",
    "version": 3
   },
   "file_extension": ".py",
   "mimetype": "text/x-python",
   "name": "python",
   "nbconvert_exporter": "python",
   "pygments_lexer": "ipython3",
   "version": "3.7.6"
  }
 },
 "nbformat": 4,
 "nbformat_minor": 5
}
