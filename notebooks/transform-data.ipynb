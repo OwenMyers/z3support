{
 "cells": [
  {
   "cell_type": "code",
   "execution_count": 33,
   "metadata": {},
   "outputs": [],
   "source": [
    "import pandas as pd\n",
    "import numpy as np\n",
    "import os\n",
    "from tqdm import tqdm\n",
    "import pickle"
   ]
  },
  {
   "cell_type": "code",
   "execution_count": 34,
   "metadata": {},
   "outputs": [],
   "source": [
    "L = 4\n",
    "BASE_PATH = '~/repos/z3stringnet/'"
   ]
  },
  {
   "cell_type": "code",
   "execution_count": 35,
   "metadata": {},
   "outputs": [],
   "source": [
    "df = pd.read_csv(os.path.join(BASE_PATH, 'plaquett_lattice_bin_0.csv'))"
   ]
  },
  {
   "cell_type": "code",
   "execution_count": 36,
   "metadata": {},
   "outputs": [
    {
     "data": {
      "text/html": [
       "<div>\n",
       "<style scoped>\n",
       "    .dataframe tbody tr th:only-of-type {\n",
       "        vertical-align: middle;\n",
       "    }\n",
       "\n",
       "    .dataframe tbody tr th {\n",
       "        vertical-align: top;\n",
       "    }\n",
       "\n",
       "    .dataframe thead th {\n",
       "        text-align: right;\n",
       "    }\n",
       "</style>\n",
       "<table border=\"1\" class=\"dataframe\">\n",
       "  <thead>\n",
       "    <tr style=\"text-align: right;\">\n",
       "      <th></th>\n",
       "      <th>x</th>\n",
       "      <th>y</th>\n",
       "      <th>N</th>\n",
       "      <th>E</th>\n",
       "      <th>S</th>\n",
       "      <th>W</th>\n",
       "    </tr>\n",
       "  </thead>\n",
       "  <tbody>\n",
       "    <tr>\n",
       "      <th>0</th>\n",
       "      <td>0</td>\n",
       "      <td>0</td>\n",
       "      <td>W</td>\n",
       "      <td>N</td>\n",
       "      <td>B</td>\n",
       "      <td>N</td>\n",
       "    </tr>\n",
       "    <tr>\n",
       "      <th>1</th>\n",
       "      <td>1</td>\n",
       "      <td>0</td>\n",
       "      <td>W</td>\n",
       "      <td>S</td>\n",
       "      <td>B</td>\n",
       "      <td>N</td>\n",
       "    </tr>\n",
       "    <tr>\n",
       "      <th>2</th>\n",
       "      <td>2</td>\n",
       "      <td>0</td>\n",
       "      <td>B</td>\n",
       "      <td>S</td>\n",
       "      <td>E</td>\n",
       "      <td>S</td>\n",
       "    </tr>\n",
       "    <tr>\n",
       "      <th>3</th>\n",
       "      <td>3</td>\n",
       "      <td>0</td>\n",
       "      <td>W</td>\n",
       "      <td>N</td>\n",
       "      <td>B</td>\n",
       "      <td>S</td>\n",
       "    </tr>\n",
       "    <tr>\n",
       "      <th>4</th>\n",
       "      <td>1</td>\n",
       "      <td>1</td>\n",
       "      <td>E</td>\n",
       "      <td>N</td>\n",
       "      <td>W</td>\n",
       "      <td>N</td>\n",
       "    </tr>\n",
       "    <tr>\n",
       "      <th>5</th>\n",
       "      <td>2</td>\n",
       "      <td>1</td>\n",
       "      <td>W</td>\n",
       "      <td>B</td>\n",
       "      <td>B</td>\n",
       "      <td>N</td>\n",
       "    </tr>\n",
       "    <tr>\n",
       "      <th>6</th>\n",
       "      <td>3</td>\n",
       "      <td>1</td>\n",
       "      <td>B</td>\n",
       "      <td>N</td>\n",
       "      <td>W</td>\n",
       "      <td>B</td>\n",
       "    </tr>\n",
       "    <tr>\n",
       "      <th>7</th>\n",
       "      <td>0</td>\n",
       "      <td>1</td>\n",
       "      <td>B</td>\n",
       "      <td>N</td>\n",
       "      <td>W</td>\n",
       "      <td>N</td>\n",
       "    </tr>\n",
       "    <tr>\n",
       "      <th>8</th>\n",
       "      <td>0</td>\n",
       "      <td>2</td>\n",
       "      <td>E</td>\n",
       "      <td>B</td>\n",
       "      <td>B</td>\n",
       "      <td>N</td>\n",
       "    </tr>\n",
       "    <tr>\n",
       "      <th>9</th>\n",
       "      <td>1</td>\n",
       "      <td>2</td>\n",
       "      <td>B</td>\n",
       "      <td>B</td>\n",
       "      <td>E</td>\n",
       "      <td>B</td>\n",
       "    </tr>\n",
       "    <tr>\n",
       "      <th>10</th>\n",
       "      <td>2</td>\n",
       "      <td>2</td>\n",
       "      <td>B</td>\n",
       "      <td>S</td>\n",
       "      <td>W</td>\n",
       "      <td>B</td>\n",
       "    </tr>\n",
       "    <tr>\n",
       "      <th>11</th>\n",
       "      <td>3</td>\n",
       "      <td>2</td>\n",
       "      <td>E</td>\n",
       "      <td>N</td>\n",
       "      <td>B</td>\n",
       "      <td>S</td>\n",
       "    </tr>\n",
       "    <tr>\n",
       "      <th>12</th>\n",
       "      <td>1</td>\n",
       "      <td>3</td>\n",
       "      <td>B</td>\n",
       "      <td>B</td>\n",
       "      <td>B</td>\n",
       "      <td>N</td>\n",
       "    </tr>\n",
       "    <tr>\n",
       "      <th>13</th>\n",
       "      <td>2</td>\n",
       "      <td>3</td>\n",
       "      <td>E</td>\n",
       "      <td>N</td>\n",
       "      <td>B</td>\n",
       "      <td>B</td>\n",
       "    </tr>\n",
       "    <tr>\n",
       "      <th>14</th>\n",
       "      <td>3</td>\n",
       "      <td>3</td>\n",
       "      <td>B</td>\n",
       "      <td>N</td>\n",
       "      <td>E</td>\n",
       "      <td>N</td>\n",
       "    </tr>\n",
       "    <tr>\n",
       "      <th>15</th>\n",
       "      <td>0</td>\n",
       "      <td>3</td>\n",
       "      <td>B</td>\n",
       "      <td>N</td>\n",
       "      <td>E</td>\n",
       "      <td>N</td>\n",
       "    </tr>\n",
       "  </tbody>\n",
       "</table>\n",
       "</div>"
      ],
      "text/plain": [
       "    x  y  N  E  S  W\n",
       "0   0  0  W  N  B  N\n",
       "1   1  0  W  S  B  N\n",
       "2   2  0  B  S  E  S\n",
       "3   3  0  W  N  B  S\n",
       "4   1  1  E  N  W  N\n",
       "5   2  1  W  B  B  N\n",
       "6   3  1  B  N  W  B\n",
       "7   0  1  B  N  W  N\n",
       "8   0  2  E  B  B  N\n",
       "9   1  2  B  B  E  B\n",
       "10  2  2  B  S  W  B\n",
       "11  3  2  E  N  B  S\n",
       "12  1  3  B  B  B  N\n",
       "13  2  3  E  N  B  B\n",
       "14  3  3  B  N  E  N\n",
       "15  0  3  B  N  E  N"
      ]
     },
     "execution_count": 36,
     "metadata": {},
     "output_type": "execute_result"
    }
   ],
   "source": [
    "df"
   ]
  },
  {
   "cell_type": "markdown",
   "metadata": {},
   "source": [
    "# Link Encodings\n",
    "\n",
    "It is worth trying some different encodings. I can see some benifits \n",
    "and problems with the different approached and will probably just \n",
    "need to work through them by trying them. Here are some notes and\n",
    "thoughts.\n",
    "\n",
    "* Right now I believe the best thing to do is to physicaly represent links\n",
    "  in a \"location\" We will have zeros \"represent\" the locations on the\n",
    "  verticies and the centers of the plaquetts. \n",
    "* If you do the above you  still have some options for labeling the links.\n",
    "  - You can use 1, 2, 3, 4, 5 to represent blank, up (N), down (S), right (E),\n",
    "    left (W) respectivly. In this case horizontal links can only  take values\n",
    "    1, 4, 5. Vertical links can only take values 1, 2, 3\n",
    "  - You could also use values 1, 2, 3 for blank, up/righ, down/left\n",
    "    and the contect of the position in the matrix which determines if it\n",
    "    is a horizontal link or a vertical link would distiguish between\n",
    "    up and right, and down and left.\n",
    "* Of the above I think the second one would be nicer but I'm not sure if\n",
    "  you could confuse the encoder to something important. GOing to start with\n",
    "  the first subbullet above and after I get something working try the second"
   ]
  },
  {
   "cell_type": "code",
   "execution_count": 37,
   "metadata": {},
   "outputs": [],
   "source": [
    "def string_to_number_directions(r, column):\n",
    "    link_str = r[column]\n",
    "    if link_str == 'B':\n",
    "        return 1\n",
    "    elif link_str == 'N':\n",
    "        return 2\n",
    "    elif link_str == 'S':\n",
    "        return 3\n",
    "    elif link_str == 'E':\n",
    "        return 4\n",
    "    elif link_str == 'W':\n",
    "        return 5\n",
    "\n",
    "def apply_string_to_number_all_directions(df_in):\n",
    "    df_copy = df_in.copy()\n",
    "    df_copy['n_number'] = df_copy.apply(lambda r: string_to_number_directions(r, 'N'), axis=1)\n",
    "    df_copy['e_number'] = df_copy.apply(lambda r: string_to_number_directions(r, 'E'), axis=1)\n",
    "    df_copy['s_number'] = df_copy.apply(lambda r: string_to_number_directions(r, 'S'), axis=1)\n",
    "    df_copy['w_number'] = df_copy.apply(lambda r: string_to_number_directions(r, 'W'), axis=1)\n",
    "    return df_copy"
   ]
  },
  {
   "cell_type": "code",
   "execution_count": 38,
   "metadata": {},
   "outputs": [],
   "source": [
    "df = apply_string_to_number_all_directions(df)"
   ]
  },
  {
   "cell_type": "code",
   "execution_count": 39,
   "metadata": {},
   "outputs": [],
   "source": [
    "df.set_index(['x', 'y'], inplace=True)"
   ]
  },
  {
   "cell_type": "code",
   "execution_count": 40,
   "metadata": {},
   "outputs": [],
   "source": [
    "def determine_lattice_size(df_in):\n",
    "    # Assume square lattice\n",
    "    max_x = df_in['x'].values().max()\n",
    "    max_y = df_in['y'].values().max()\n",
    "    if max_x != max_y:\n",
    "        raise ValueError('Expecting x==y dimensions')\n",
    "    return max_x"
   ]
  },
  {
   "cell_type": "code",
   "execution_count": 41,
   "metadata": {},
   "outputs": [],
   "source": [
    "def check_if_exists(cur_val, proposed_val, v=False):\n",
    "    if v:\n",
    "        print('  In check_if_exists\\n')\n",
    "        print(f'    cur_val {cur_val}')\n",
    "        print(f'    proposed_val {proposed_val}')\n",
    "    if cur_val == 0:\n",
    "        pass\n",
    "    elif cur_val != proposed_val:\n",
    "        raise ValueError(\"Discovered inconsistancy in representation.\")"
   ]
  },
  {
   "cell_type": "code",
   "execution_count": 42,
   "metadata": {},
   "outputs": [],
   "source": [
    "def create_full_numerical_representation(df_in, l, v=False):\n",
    "    \"\"\"\n",
    "    Creates a matrix of numbers that can be interpreted by a CNN auto encoder.\n",
    "    \n",
    "    Requires running the ``string_to_number_directions`` function first.\n",
    "    \n",
    "    Checks for consistancy in the plaquette representations of the configurations.\n",
    "    \n",
    "    Arguments:\n",
    "        df (DataFrame): is the dataframe of a plaquette representation of\n",
    "        a configuration for which you have run the ``string_to_number_directions``\n",
    "        on.\n",
    "        \n",
    "    Returns:\n",
    "        A numpy matrix with zeros representing the verticies and centers of\n",
    "        plaquetts and the number system as described by ``string_to_number_directions``\n",
    "        representing the links.\n",
    "    \"\"\"\n",
    "    df_working = df_in.copy()\n",
    "    \n",
    "    #l = determine_lattice_size(df_working)\n",
    "    # Will return this matrix\n",
    "    m = np.zeros([2 * l, 2 * l])\n",
    "    for i in range(l):\n",
    "        for j in range(l):\n",
    "            cur_row = df_working.loc[j, i]\n",
    "        \n",
    "            # For all entries we will check for consistancy between the plaquetts.\n",
    "            # E.g. bottom(top) of the previous row of plaquetts with the top(bottom)\n",
    "            # of the current row -> these need to be the same and if they are not their\n",
    "            # is either a problem with the way you are writing the plaquetts to file, or\n",
    "            # with the algorithm generating the configurations.\n",
    "            horz_index_x = j * 2 + 1\n",
    "            horz_index_y = -(i * 2) - 1\n",
    "            vert_index_x = j * 2\n",
    "            vert_index_y = -(i * 2 + 1) - 1\n",
    "            if v:\n",
    "                print(f'i (y): {i}')\n",
    "                print(f'j (x): {j}')\n",
    "                print(f'horz_index_x {horz_index_x}')\n",
    "                print(f'horz_index_y {horz_index_y}')\n",
    "                print(f'vert_index_x {vert_index_x}')\n",
    "                print(f'vert_index_y {vert_index_y}')\n",
    "\n",
    "            # horizontal\n",
    "            check_if_exists(m[horz_index_y, horz_index_x], cur_row['s_number'], v=v)\n",
    "            m[horz_index_y, horz_index_x] = cur_row['s_number']\n",
    "            check_if_exists(m[-((-horz_index_y + 2) % (2 * l)), horz_index_x], cur_row['n_number'], v=v)\n",
    "            m[-((-horz_index_y + 2) % (2 * l)), horz_index_x] = cur_row['n_number']\n",
    "\n",
    "            # vertical\n",
    "            check_if_exists(m[vert_index_y, vert_index_x], cur_row['w_number'], v=v)\n",
    "            m[vert_index_y, vert_index_x] = cur_row['w_number']\n",
    "            check_if_exists(m[vert_index_y, (vert_index_x + 2) % (2 * l)], cur_row['e_number'], v=v)\n",
    "            m[vert_index_y, (vert_index_x + 2) % (2 * l)] = cur_row['e_number']\n",
    "            if v:\n",
    "                print('current m:\\n')\n",
    "                print(m)\n",
    "    return m"
   ]
  },
  {
   "cell_type": "code",
   "execution_count": 43,
   "metadata": {},
   "outputs": [
    {
     "data": {
      "text/plain": [
       "array([[2., 0., 2., 0., 1., 0., 2., 0.],\n",
       "       [0., 4., 0., 1., 0., 1., 0., 4.],\n",
       "       [2., 0., 1., 0., 1., 0., 3., 0.],\n",
       "       [0., 1., 0., 4., 0., 5., 0., 1.],\n",
       "       [2., 0., 2., 0., 2., 0., 1., 0.],\n",
       "       [0., 5., 0., 5., 0., 1., 0., 5.],\n",
       "       [2., 0., 2., 0., 3., 0., 3., 0.],\n",
       "       [0., 1., 0., 1., 0., 4., 0., 1.]])"
      ]
     },
     "execution_count": 43,
     "metadata": {},
     "output_type": "execute_result"
    }
   ],
   "source": [
    "create_full_numerical_representation(df, L, v=False)"
   ]
  },
  {
   "cell_type": "code",
   "execution_count": 54,
   "metadata": {},
   "outputs": [
    {
     "name": "stderr",
     "output_type": "stream",
     "text": [
      "100%|██████████| 9999/9999 [01:33<00:00, 106.59it/s]\n"
     ]
    }
   ],
   "source": [
    "matrix_list = []\n",
    "for i in tqdm(range(0, 999900, 100)):\n",
    "    current_df = pd.read_csv(os.path.join(BASE_PATH, f'plaquett_lattice_bin_{i}.csv'))\n",
    "    current_df = apply_string_to_number_all_directions(current_df)\n",
    "    current_df.set_index(['x', 'y'], inplace=True)\n",
    "    current_matrix = create_full_numerical_representation(current_df, L)\n",
    "    matrix_list.append(current_matrix)"
   ]
  },
  {
   "cell_type": "code",
   "execution_count": 55,
   "metadata": {},
   "outputs": [
    {
     "data": {
      "text/plain": [
       "9999"
      ]
     },
     "execution_count": 55,
     "metadata": {},
     "output_type": "execute_result"
    }
   ],
   "source": [
    "len(matrix_list)"
   ]
  },
  {
   "cell_type": "code",
   "execution_count": 56,
   "metadata": {},
   "outputs": [],
   "source": [
    "all_data = np.array(matrix_list)"
   ]
  },
  {
   "cell_type": "code",
   "execution_count": 57,
   "metadata": {},
   "outputs": [],
   "source": [
    "with open('pickle_data.pkl', 'wb') as f:\n",
    "    pickle.dump(all_data, f)"
   ]
  },
  {
   "cell_type": "code",
   "execution_count": null,
   "metadata": {},
   "outputs": [],
   "source": []
  }
 ],
 "metadata": {
  "kernelspec": {
   "display_name": "Python 3",
   "language": "python",
   "name": "python3"
  },
  "language_info": {
   "codemirror_mode": {
    "name": "ipython",
    "version": 3
   },
   "file_extension": ".py",
   "mimetype": "text/x-python",
   "name": "python",
   "nbconvert_exporter": "python",
   "pygments_lexer": "ipython3",
   "version": "3.8.2"
  }
 },
 "nbformat": 4,
 "nbformat_minor": 4
}
