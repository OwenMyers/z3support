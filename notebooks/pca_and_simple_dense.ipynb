{
 "cells": [
  {
   "cell_type": "code",
   "execution_count": 1,
   "id": "d2a9316e-6b93-41b2-9c76-8ae4e5bc3819",
   "metadata": {},
   "outputs": [],
   "source": [
    "from tensorflow import keras\n",
    "import tensorflow as tf\n",
    "from tensorflow.keras.datasets import mnist\n",
    "import pandas as pd\n",
    "from matplotlib import pyplot as plt\n",
    "import sklearn\n",
    "from sklearn.decomposition import PCA\n",
    "import numpy as np\n",
    "\n",
    "TRAINING_FRACTION = 0.8\n",
    "N_DENSE = 4\n",
    "L=16"
   ]
  },
  {
   "cell_type": "code",
   "execution_count": 2,
   "id": "634f03a6-2fc0-4864-8d95-2c0b052685ae",
   "metadata": {},
   "outputs": [],
   "source": [
    "user = 1\n",
    "if user == 1:\n",
    "    prefix_s3 = \"/home/owen/\"\n",
    "    prefix_data = \"/home/owen/repos/\"\n",
    "elif user == 2:\n",
    "    prefix_data = \"/Users/omyers/repos/\""
   ]
  },
  {
   "cell_type": "code",
   "execution_count": 3,
   "id": "df6f277a-3d0f-48bf-ae54-b5829af9dc46",
   "metadata": {},
   "outputs": [],
   "source": [
    "df_bins = pd.read_csv(\"{prefix_data}z3support/data/SpinMLData/2DIsing/L-{L}/L-{L}-T-1-5/bins_L-{L}-T-1-5.txt\".format(L=L,prefix_data=prefix_data), sep=\"\\t\")\n",
    "df_conf = pd.read_csv(\"{prefix_data}z3support/data/SpinMLData/2DIsing/L-{L}/L-{L}-T-1-5/spinConfigs_L-{L}-T-1-5.txt\".format(L=L,prefix_data=prefix_data), delimiter=r\"\\s+\", header=None)"
   ]
  },
  {
   "cell_type": "code",
   "execution_count": 4,
   "id": "00834366-74e5-47ee-be67-08f49096fb2a",
   "metadata": {},
   "outputs": [
    {
     "data": {
      "text/html": [
       "<div>\n",
       "<style scoped>\n",
       "    .dataframe tbody tr th:only-of-type {\n",
       "        vertical-align: middle;\n",
       "    }\n",
       "\n",
       "    .dataframe tbody tr th {\n",
       "        vertical-align: top;\n",
       "    }\n",
       "\n",
       "    .dataframe thead th {\n",
       "        text-align: right;\n",
       "    }\n",
       "</style>\n",
       "<table border=\"1\" class=\"dataframe\">\n",
       "  <thead>\n",
       "    <tr style=\"text-align: right;\">\n",
       "      <th></th>\n",
       "      <th># L</th>\n",
       "      <th>T</th>\n",
       "      <th>binNum</th>\n",
       "      <th>E</th>\n",
       "      <th>ESq</th>\n",
       "      <th>AccRate_local</th>\n",
       "      <th>AccRate_clust</th>\n",
       "      <th>sigma</th>\n",
       "      <th>absSigma</th>\n",
       "    </tr>\n",
       "  </thead>\n",
       "  <tbody>\n",
       "    <tr>\n",
       "      <th>0</th>\n",
       "      <td>16</td>\n",
       "      <td>1</td>\n",
       "      <td>1</td>\n",
       "      <td>-1.997375</td>\n",
       "      <td>3.98958935546875</td>\n",
       "      <td>0.0007338671875</td>\n",
       "      <td>1</td>\n",
       "      <td>-0.0959296875</td>\n",
       "      <td>0.9993359375</td>\n",
       "    </tr>\n",
       "    <tr>\n",
       "      <th>1</th>\n",
       "      <td>16</td>\n",
       "      <td>1</td>\n",
       "      <td>2</td>\n",
       "      <td>-1.997296875</td>\n",
       "      <td>3.98928051757813</td>\n",
       "      <td>0.0007177734375</td>\n",
       "      <td>1</td>\n",
       "      <td>-0.07590625</td>\n",
       "      <td>0.9993125</td>\n",
       "    </tr>\n",
       "    <tr>\n",
       "      <th>2</th>\n",
       "      <td>16</td>\n",
       "      <td>1</td>\n",
       "      <td>3</td>\n",
       "      <td>-1.996859375</td>\n",
       "      <td>3.98754760742188</td>\n",
       "      <td>0.0007245703125</td>\n",
       "      <td>1</td>\n",
       "      <td>-0.020015625</td>\n",
       "      <td>0.999203125</td>\n",
       "    </tr>\n",
       "    <tr>\n",
       "      <th>3</th>\n",
       "      <td>16</td>\n",
       "      <td>1</td>\n",
       "      <td>4</td>\n",
       "      <td>-1.997</td>\n",
       "      <td>3.9881083984375</td>\n",
       "      <td>0.00071078125</td>\n",
       "      <td>1</td>\n",
       "      <td>0.0379921875</td>\n",
       "      <td>0.9992265625</td>\n",
       "    </tr>\n",
       "    <tr>\n",
       "      <th>4</th>\n",
       "      <td>16</td>\n",
       "      <td>1</td>\n",
       "      <td>5</td>\n",
       "      <td>-1.997140625</td>\n",
       "      <td>3.98866528320313</td>\n",
       "      <td>0.00071921875</td>\n",
       "      <td>1</td>\n",
       "      <td>0.0338203125</td>\n",
       "      <td>0.9992578125</td>\n",
       "    </tr>\n",
       "    <tr>\n",
       "      <th>...</th>\n",
       "      <td>...</td>\n",
       "      <td>...</td>\n",
       "      <td>...</td>\n",
       "      <td>...</td>\n",
       "      <td>...</td>\n",
       "      <td>...</td>\n",
       "      <td>...</td>\n",
       "      <td>...</td>\n",
       "      <td>...</td>\n",
       "    </tr>\n",
       "    <tr>\n",
       "      <th>4999</th>\n",
       "      <td>16</td>\n",
       "      <td>5</td>\n",
       "      <td>996</td>\n",
       "      <td>-0.4278125</td>\n",
       "      <td>0.1926962890625</td>\n",
       "      <td>0.6918837109375</td>\n",
       "      <td>1</td>\n",
       "      <td>0.004671875</td>\n",
       "      <td>0.0836875</td>\n",
       "    </tr>\n",
       "    <tr>\n",
       "      <th>5000</th>\n",
       "      <td>16</td>\n",
       "      <td>5</td>\n",
       "      <td>997</td>\n",
       "      <td>-0.43128125</td>\n",
       "      <td>0.19522314453125</td>\n",
       "      <td>0.692264140625</td>\n",
       "      <td>1</td>\n",
       "      <td>0.003390625</td>\n",
       "      <td>0.085640625</td>\n",
       "    </tr>\n",
       "    <tr>\n",
       "      <th>5001</th>\n",
       "      <td>16</td>\n",
       "      <td>5</td>\n",
       "      <td>998</td>\n",
       "      <td>-0.4259375</td>\n",
       "      <td>0.19078955078125</td>\n",
       "      <td>0.691955390625</td>\n",
       "      <td>1</td>\n",
       "      <td>0.005828125</td>\n",
       "      <td>0.085140625</td>\n",
       "    </tr>\n",
       "    <tr>\n",
       "      <th>5002</th>\n",
       "      <td>16</td>\n",
       "      <td>5</td>\n",
       "      <td>999</td>\n",
       "      <td>-0.42375</td>\n",
       "      <td>0.18926171875</td>\n",
       "      <td>0.6920080078125</td>\n",
       "      <td>1</td>\n",
       "      <td>-0.006171875</td>\n",
       "      <td>0.08253125</td>\n",
       "    </tr>\n",
       "    <tr>\n",
       "      <th>5003</th>\n",
       "      <td>16</td>\n",
       "      <td>5</td>\n",
       "      <td>1000</td>\n",
       "      <td>-0.43034375</td>\n",
       "      <td>0.19466455078125</td>\n",
       "      <td>0.6921198828125</td>\n",
       "      <td>1</td>\n",
       "      <td>-0.0028671875</td>\n",
       "      <td>0.0870234375</td>\n",
       "    </tr>\n",
       "  </tbody>\n",
       "</table>\n",
       "<p>5004 rows × 9 columns</p>\n",
       "</div>"
      ],
      "text/plain": [
       "     # L   T   binNum             E               ESq    AccRate_local  \\\n",
       "0      16   1       1     -1.997375  3.98958935546875  0.0007338671875   \n",
       "1      16   1       2  -1.997296875  3.98928051757813  0.0007177734375   \n",
       "2      16   1       3  -1.996859375  3.98754760742188  0.0007245703125   \n",
       "3      16   1       4        -1.997   3.9881083984375    0.00071078125   \n",
       "4      16   1       5  -1.997140625  3.98866528320313    0.00071921875   \n",
       "...   ...  ..     ...           ...               ...              ...   \n",
       "4999   16   5     996    -0.4278125   0.1926962890625  0.6918837109375   \n",
       "5000   16   5     997   -0.43128125  0.19522314453125   0.692264140625   \n",
       "5001   16   5     998    -0.4259375  0.19078955078125   0.691955390625   \n",
       "5002   16   5     999      -0.42375     0.18926171875  0.6920080078125   \n",
       "5003   16   5    1000   -0.43034375  0.19466455078125  0.6921198828125   \n",
       "\n",
       "     AccRate_clust          sigma      absSigma  \n",
       "0                1  -0.0959296875  0.9993359375  \n",
       "1                1    -0.07590625     0.9993125  \n",
       "2                1   -0.020015625   0.999203125  \n",
       "3                1   0.0379921875  0.9992265625  \n",
       "4                1   0.0338203125  0.9992578125  \n",
       "...            ...            ...           ...  \n",
       "4999             1    0.004671875     0.0836875  \n",
       "5000             1    0.003390625   0.085640625  \n",
       "5001             1    0.005828125   0.085140625  \n",
       "5002             1   -0.006171875    0.08253125  \n",
       "5003             1  -0.0028671875  0.0870234375  \n",
       "\n",
       "[5004 rows x 9 columns]"
      ]
     },
     "execution_count": 4,
     "metadata": {},
     "output_type": "execute_result"
    }
   ],
   "source": [
    "df_bins"
   ]
  },
  {
   "cell_type": "code",
   "execution_count": 5,
   "id": "40a43576-12f9-4744-89b9-96cb0a0e1497",
   "metadata": {},
   "outputs": [
    {
     "data": {
      "text/plain": [
       "' T '"
      ]
     },
     "execution_count": 5,
     "metadata": {},
     "output_type": "execute_result"
    }
   ],
   "source": [
    "df_bins.iloc[1000][1]"
   ]
  },
  {
   "cell_type": "code",
   "execution_count": 6,
   "id": "9b5cf015-ff38-4136-bc74-fa2935840974",
   "metadata": {},
   "outputs": [],
   "source": [
    "df_bins = df_bins[df_bins[' T '] != ' T ']"
   ]
  },
  {
   "cell_type": "code",
   "execution_count": null,
   "id": "14324303-f986-4eb6-b9a4-d66e3339ab76",
   "metadata": {},
   "outputs": [],
   "source": []
  },
  {
   "cell_type": "code",
   "execution_count": 7,
   "id": "d513e9a1-cc21-4165-82c2-ff883be19d76",
   "metadata": {},
   "outputs": [],
   "source": [
    "df_bins = df_bins.astype(\n",
    "    {\n",
    "        \" T \": int,\n",
    "        \" binNum\": int,\n",
    "    }\n",
    ")"
   ]
  },
  {
   "cell_type": "code",
   "execution_count": 8,
   "id": "ae24d800-00b7-4c00-b203-5e70189aee40",
   "metadata": {},
   "outputs": [
    {
     "data": {
      "text/html": [
       "<div>\n",
       "<style scoped>\n",
       "    .dataframe tbody tr th:only-of-type {\n",
       "        vertical-align: middle;\n",
       "    }\n",
       "\n",
       "    .dataframe tbody tr th {\n",
       "        vertical-align: top;\n",
       "    }\n",
       "\n",
       "    .dataframe thead th {\n",
       "        text-align: right;\n",
       "    }\n",
       "</style>\n",
       "<table border=\"1\" class=\"dataframe\">\n",
       "  <thead>\n",
       "    <tr style=\"text-align: right;\">\n",
       "      <th></th>\n",
       "      <th>0</th>\n",
       "      <th>1</th>\n",
       "      <th>2</th>\n",
       "      <th>3</th>\n",
       "      <th>4</th>\n",
       "      <th>5</th>\n",
       "      <th>6</th>\n",
       "      <th>7</th>\n",
       "      <th>8</th>\n",
       "      <th>9</th>\n",
       "      <th>...</th>\n",
       "      <th>246</th>\n",
       "      <th>247</th>\n",
       "      <th>248</th>\n",
       "      <th>249</th>\n",
       "      <th>250</th>\n",
       "      <th>251</th>\n",
       "      <th>252</th>\n",
       "      <th>253</th>\n",
       "      <th>254</th>\n",
       "      <th>255</th>\n",
       "    </tr>\n",
       "  </thead>\n",
       "  <tbody>\n",
       "    <tr>\n",
       "      <th>0</th>\n",
       "      <td>-1</td>\n",
       "      <td>-1</td>\n",
       "      <td>-1</td>\n",
       "      <td>-1</td>\n",
       "      <td>-1</td>\n",
       "      <td>-1</td>\n",
       "      <td>-1</td>\n",
       "      <td>-1</td>\n",
       "      <td>-1</td>\n",
       "      <td>-1</td>\n",
       "      <td>...</td>\n",
       "      <td>-1</td>\n",
       "      <td>-1</td>\n",
       "      <td>-1</td>\n",
       "      <td>-1</td>\n",
       "      <td>-1</td>\n",
       "      <td>-1</td>\n",
       "      <td>-1</td>\n",
       "      <td>-1</td>\n",
       "      <td>-1</td>\n",
       "      <td>-1</td>\n",
       "    </tr>\n",
       "    <tr>\n",
       "      <th>1</th>\n",
       "      <td>-1</td>\n",
       "      <td>-1</td>\n",
       "      <td>-1</td>\n",
       "      <td>-1</td>\n",
       "      <td>-1</td>\n",
       "      <td>-1</td>\n",
       "      <td>-1</td>\n",
       "      <td>-1</td>\n",
       "      <td>-1</td>\n",
       "      <td>-1</td>\n",
       "      <td>...</td>\n",
       "      <td>-1</td>\n",
       "      <td>-1</td>\n",
       "      <td>-1</td>\n",
       "      <td>-1</td>\n",
       "      <td>-1</td>\n",
       "      <td>-1</td>\n",
       "      <td>-1</td>\n",
       "      <td>-1</td>\n",
       "      <td>-1</td>\n",
       "      <td>-1</td>\n",
       "    </tr>\n",
       "    <tr>\n",
       "      <th>2</th>\n",
       "      <td>-1</td>\n",
       "      <td>-1</td>\n",
       "      <td>-1</td>\n",
       "      <td>-1</td>\n",
       "      <td>-1</td>\n",
       "      <td>-1</td>\n",
       "      <td>-1</td>\n",
       "      <td>-1</td>\n",
       "      <td>-1</td>\n",
       "      <td>-1</td>\n",
       "      <td>...</td>\n",
       "      <td>-1</td>\n",
       "      <td>-1</td>\n",
       "      <td>-1</td>\n",
       "      <td>-1</td>\n",
       "      <td>-1</td>\n",
       "      <td>-1</td>\n",
       "      <td>-1</td>\n",
       "      <td>-1</td>\n",
       "      <td>-1</td>\n",
       "      <td>-1</td>\n",
       "    </tr>\n",
       "    <tr>\n",
       "      <th>3</th>\n",
       "      <td>1</td>\n",
       "      <td>1</td>\n",
       "      <td>1</td>\n",
       "      <td>1</td>\n",
       "      <td>1</td>\n",
       "      <td>1</td>\n",
       "      <td>1</td>\n",
       "      <td>1</td>\n",
       "      <td>1</td>\n",
       "      <td>1</td>\n",
       "      <td>...</td>\n",
       "      <td>1</td>\n",
       "      <td>1</td>\n",
       "      <td>1</td>\n",
       "      <td>1</td>\n",
       "      <td>1</td>\n",
       "      <td>1</td>\n",
       "      <td>1</td>\n",
       "      <td>1</td>\n",
       "      <td>1</td>\n",
       "      <td>1</td>\n",
       "    </tr>\n",
       "    <tr>\n",
       "      <th>4</th>\n",
       "      <td>1</td>\n",
       "      <td>1</td>\n",
       "      <td>1</td>\n",
       "      <td>1</td>\n",
       "      <td>1</td>\n",
       "      <td>1</td>\n",
       "      <td>1</td>\n",
       "      <td>1</td>\n",
       "      <td>1</td>\n",
       "      <td>1</td>\n",
       "      <td>...</td>\n",
       "      <td>1</td>\n",
       "      <td>1</td>\n",
       "      <td>1</td>\n",
       "      <td>1</td>\n",
       "      <td>1</td>\n",
       "      <td>1</td>\n",
       "      <td>1</td>\n",
       "      <td>1</td>\n",
       "      <td>1</td>\n",
       "      <td>1</td>\n",
       "    </tr>\n",
       "    <tr>\n",
       "      <th>...</th>\n",
       "      <td>...</td>\n",
       "      <td>...</td>\n",
       "      <td>...</td>\n",
       "      <td>...</td>\n",
       "      <td>...</td>\n",
       "      <td>...</td>\n",
       "      <td>...</td>\n",
       "      <td>...</td>\n",
       "      <td>...</td>\n",
       "      <td>...</td>\n",
       "      <td>...</td>\n",
       "      <td>...</td>\n",
       "      <td>...</td>\n",
       "      <td>...</td>\n",
       "      <td>...</td>\n",
       "      <td>...</td>\n",
       "      <td>...</td>\n",
       "      <td>...</td>\n",
       "      <td>...</td>\n",
       "      <td>...</td>\n",
       "      <td>...</td>\n",
       "    </tr>\n",
       "    <tr>\n",
       "      <th>4995</th>\n",
       "      <td>-1</td>\n",
       "      <td>-1</td>\n",
       "      <td>-1</td>\n",
       "      <td>-1</td>\n",
       "      <td>-1</td>\n",
       "      <td>-1</td>\n",
       "      <td>1</td>\n",
       "      <td>1</td>\n",
       "      <td>-1</td>\n",
       "      <td>1</td>\n",
       "      <td>...</td>\n",
       "      <td>-1</td>\n",
       "      <td>1</td>\n",
       "      <td>1</td>\n",
       "      <td>1</td>\n",
       "      <td>-1</td>\n",
       "      <td>1</td>\n",
       "      <td>1</td>\n",
       "      <td>1</td>\n",
       "      <td>1</td>\n",
       "      <td>-1</td>\n",
       "    </tr>\n",
       "    <tr>\n",
       "      <th>4996</th>\n",
       "      <td>-1</td>\n",
       "      <td>1</td>\n",
       "      <td>-1</td>\n",
       "      <td>1</td>\n",
       "      <td>1</td>\n",
       "      <td>-1</td>\n",
       "      <td>-1</td>\n",
       "      <td>-1</td>\n",
       "      <td>1</td>\n",
       "      <td>1</td>\n",
       "      <td>...</td>\n",
       "      <td>-1</td>\n",
       "      <td>-1</td>\n",
       "      <td>1</td>\n",
       "      <td>-1</td>\n",
       "      <td>1</td>\n",
       "      <td>1</td>\n",
       "      <td>1</td>\n",
       "      <td>-1</td>\n",
       "      <td>1</td>\n",
       "      <td>1</td>\n",
       "    </tr>\n",
       "    <tr>\n",
       "      <th>4997</th>\n",
       "      <td>1</td>\n",
       "      <td>-1</td>\n",
       "      <td>-1</td>\n",
       "      <td>-1</td>\n",
       "      <td>1</td>\n",
       "      <td>1</td>\n",
       "      <td>-1</td>\n",
       "      <td>1</td>\n",
       "      <td>1</td>\n",
       "      <td>1</td>\n",
       "      <td>...</td>\n",
       "      <td>-1</td>\n",
       "      <td>1</td>\n",
       "      <td>1</td>\n",
       "      <td>1</td>\n",
       "      <td>-1</td>\n",
       "      <td>-1</td>\n",
       "      <td>-1</td>\n",
       "      <td>-1</td>\n",
       "      <td>1</td>\n",
       "      <td>-1</td>\n",
       "    </tr>\n",
       "    <tr>\n",
       "      <th>4998</th>\n",
       "      <td>1</td>\n",
       "      <td>-1</td>\n",
       "      <td>-1</td>\n",
       "      <td>1</td>\n",
       "      <td>-1</td>\n",
       "      <td>-1</td>\n",
       "      <td>-1</td>\n",
       "      <td>-1</td>\n",
       "      <td>-1</td>\n",
       "      <td>-1</td>\n",
       "      <td>...</td>\n",
       "      <td>1</td>\n",
       "      <td>-1</td>\n",
       "      <td>-1</td>\n",
       "      <td>1</td>\n",
       "      <td>1</td>\n",
       "      <td>-1</td>\n",
       "      <td>1</td>\n",
       "      <td>1</td>\n",
       "      <td>-1</td>\n",
       "      <td>1</td>\n",
       "    </tr>\n",
       "    <tr>\n",
       "      <th>4999</th>\n",
       "      <td>1</td>\n",
       "      <td>-1</td>\n",
       "      <td>-1</td>\n",
       "      <td>-1</td>\n",
       "      <td>-1</td>\n",
       "      <td>1</td>\n",
       "      <td>-1</td>\n",
       "      <td>-1</td>\n",
       "      <td>-1</td>\n",
       "      <td>1</td>\n",
       "      <td>...</td>\n",
       "      <td>1</td>\n",
       "      <td>-1</td>\n",
       "      <td>1</td>\n",
       "      <td>1</td>\n",
       "      <td>1</td>\n",
       "      <td>-1</td>\n",
       "      <td>-1</td>\n",
       "      <td>1</td>\n",
       "      <td>1</td>\n",
       "      <td>1</td>\n",
       "    </tr>\n",
       "  </tbody>\n",
       "</table>\n",
       "<p>5000 rows × 256 columns</p>\n",
       "</div>"
      ],
      "text/plain": [
       "      0    1    2    3    4    5    6    7    8    9    ...  246  247  248  \\\n",
       "0      -1   -1   -1   -1   -1   -1   -1   -1   -1   -1  ...   -1   -1   -1   \n",
       "1      -1   -1   -1   -1   -1   -1   -1   -1   -1   -1  ...   -1   -1   -1   \n",
       "2      -1   -1   -1   -1   -1   -1   -1   -1   -1   -1  ...   -1   -1   -1   \n",
       "3       1    1    1    1    1    1    1    1    1    1  ...    1    1    1   \n",
       "4       1    1    1    1    1    1    1    1    1    1  ...    1    1    1   \n",
       "...   ...  ...  ...  ...  ...  ...  ...  ...  ...  ...  ...  ...  ...  ...   \n",
       "4995   -1   -1   -1   -1   -1   -1    1    1   -1    1  ...   -1    1    1   \n",
       "4996   -1    1   -1    1    1   -1   -1   -1    1    1  ...   -1   -1    1   \n",
       "4997    1   -1   -1   -1    1    1   -1    1    1    1  ...   -1    1    1   \n",
       "4998    1   -1   -1    1   -1   -1   -1   -1   -1   -1  ...    1   -1   -1   \n",
       "4999    1   -1   -1   -1   -1    1   -1   -1   -1    1  ...    1   -1    1   \n",
       "\n",
       "      249  250  251  252  253  254  255  \n",
       "0      -1   -1   -1   -1   -1   -1   -1  \n",
       "1      -1   -1   -1   -1   -1   -1   -1  \n",
       "2      -1   -1   -1   -1   -1   -1   -1  \n",
       "3       1    1    1    1    1    1    1  \n",
       "4       1    1    1    1    1    1    1  \n",
       "...   ...  ...  ...  ...  ...  ...  ...  \n",
       "4995    1   -1    1    1    1    1   -1  \n",
       "4996   -1    1    1    1   -1    1    1  \n",
       "4997    1   -1   -1   -1   -1    1   -1  \n",
       "4998    1    1   -1    1    1   -1    1  \n",
       "4999    1    1   -1   -1    1    1    1  \n",
       "\n",
       "[5000 rows x 256 columns]"
      ]
     },
     "execution_count": 8,
     "metadata": {},
     "output_type": "execute_result"
    }
   ],
   "source": [
    "df_conf"
   ]
  },
  {
   "cell_type": "markdown",
   "id": "3ba7e68a-af3f-40d6-9e38-d75bb53628e4",
   "metadata": {},
   "source": [
    "## Get the temp and magnatization into the configuration dataframe"
   ]
  },
  {
   "cell_type": "code",
   "execution_count": 9,
   "id": "32987d5f-f8de-4b80-9425-e32cf6f471e4",
   "metadata": {},
   "outputs": [],
   "source": [
    "df_conf[\"T\"] = df_bins[\" T \"]"
   ]
  },
  {
   "cell_type": "code",
   "execution_count": 10,
   "id": "dd08ea41-b20c-49b9-bb7e-b1ac0846134e",
   "metadata": {},
   "outputs": [
    {
     "data": {
      "text/plain": [
       "Index([  0,   1,   2,   3,   4,   5,   6,   7,   8,   9,\n",
       "       ...\n",
       "       247, 248, 249, 250, 251, 252, 253, 254, 255, 'T'],\n",
       "      dtype='object', length=257)"
      ]
     },
     "execution_count": 10,
     "metadata": {},
     "output_type": "execute_result"
    }
   ],
   "source": [
    "df_conf.columns"
   ]
  },
  {
   "cell_type": "code",
   "execution_count": 11,
   "id": "aeaefde9-a027-4a3d-acfe-aa3a2b10fd4e",
   "metadata": {},
   "outputs": [],
   "source": [
    "mean_col = df_conf[0].copy()\n",
    "for i in range(1, L):\n",
    "    mean_col += df_conf[i]\n",
    "\n",
    "mean_col /= L"
   ]
  },
  {
   "cell_type": "code",
   "execution_count": 12,
   "id": "ba82e04f-cfbf-4200-b5e1-f9e109fc620b",
   "metadata": {},
   "outputs": [],
   "source": [
    "df_conf[\"M\"] = mean_col"
   ]
  },
  {
   "cell_type": "code",
   "execution_count": 13,
   "id": "0f64be0d-b80c-4412-85b7-06122f335a9b",
   "metadata": {},
   "outputs": [],
   "source": [
    "#filterned_confs = df_conf[(df_conf[\"T\"] < 1.5) | (df_conf[\"T\"] > 4.5)]\n",
    "filterned_confs = df_conf"
   ]
  },
  {
   "cell_type": "code",
   "execution_count": 14,
   "id": "c3701418-d6e6-4f24-9d13-c87d1dfa0c65",
   "metadata": {},
   "outputs": [],
   "source": [
    "train_with_meta_info = filterned_confs.sample(frac=TRAINING_FRACTION, axis=0)\n",
    "test_with_meta_info = filterned_confs.drop(index=train_with_meta_info.index)\n",
    "train = train_with_meta_info.drop([\"T\",\"M\"], axis=1)\n",
    "test = test_with_meta_info.drop([\"T\",\"M\"], axis=1)"
   ]
  },
  {
   "cell_type": "code",
   "execution_count": 15,
   "id": "931ebf6e-cd3f-4e1f-8ffe-5517f34bda8d",
   "metadata": {},
   "outputs": [
    {
     "data": {
      "text/html": [
       "<div>\n",
       "<style scoped>\n",
       "    .dataframe tbody tr th:only-of-type {\n",
       "        vertical-align: middle;\n",
       "    }\n",
       "\n",
       "    .dataframe tbody tr th {\n",
       "        vertical-align: top;\n",
       "    }\n",
       "\n",
       "    .dataframe thead th {\n",
       "        text-align: right;\n",
       "    }\n",
       "</style>\n",
       "<table border=\"1\" class=\"dataframe\">\n",
       "  <thead>\n",
       "    <tr style=\"text-align: right;\">\n",
       "      <th></th>\n",
       "      <th>0</th>\n",
       "      <th>1</th>\n",
       "      <th>2</th>\n",
       "      <th>3</th>\n",
       "      <th>4</th>\n",
       "      <th>5</th>\n",
       "      <th>6</th>\n",
       "      <th>7</th>\n",
       "      <th>8</th>\n",
       "      <th>9</th>\n",
       "      <th>...</th>\n",
       "      <th>246</th>\n",
       "      <th>247</th>\n",
       "      <th>248</th>\n",
       "      <th>249</th>\n",
       "      <th>250</th>\n",
       "      <th>251</th>\n",
       "      <th>252</th>\n",
       "      <th>253</th>\n",
       "      <th>254</th>\n",
       "      <th>255</th>\n",
       "    </tr>\n",
       "  </thead>\n",
       "  <tbody>\n",
       "    <tr>\n",
       "      <th>2376</th>\n",
       "      <td>1</td>\n",
       "      <td>-1</td>\n",
       "      <td>-1</td>\n",
       "      <td>-1</td>\n",
       "      <td>-1</td>\n",
       "      <td>-1</td>\n",
       "      <td>-1</td>\n",
       "      <td>1</td>\n",
       "      <td>1</td>\n",
       "      <td>1</td>\n",
       "      <td>...</td>\n",
       "      <td>-1</td>\n",
       "      <td>-1</td>\n",
       "      <td>1</td>\n",
       "      <td>-1</td>\n",
       "      <td>1</td>\n",
       "      <td>-1</td>\n",
       "      <td>-1</td>\n",
       "      <td>-1</td>\n",
       "      <td>-1</td>\n",
       "      <td>-1</td>\n",
       "    </tr>\n",
       "    <tr>\n",
       "      <th>187</th>\n",
       "      <td>1</td>\n",
       "      <td>1</td>\n",
       "      <td>1</td>\n",
       "      <td>1</td>\n",
       "      <td>1</td>\n",
       "      <td>1</td>\n",
       "      <td>1</td>\n",
       "      <td>1</td>\n",
       "      <td>1</td>\n",
       "      <td>1</td>\n",
       "      <td>...</td>\n",
       "      <td>1</td>\n",
       "      <td>1</td>\n",
       "      <td>1</td>\n",
       "      <td>1</td>\n",
       "      <td>1</td>\n",
       "      <td>1</td>\n",
       "      <td>1</td>\n",
       "      <td>1</td>\n",
       "      <td>1</td>\n",
       "      <td>1</td>\n",
       "    </tr>\n",
       "    <tr>\n",
       "      <th>4254</th>\n",
       "      <td>1</td>\n",
       "      <td>-1</td>\n",
       "      <td>1</td>\n",
       "      <td>1</td>\n",
       "      <td>-1</td>\n",
       "      <td>-1</td>\n",
       "      <td>-1</td>\n",
       "      <td>-1</td>\n",
       "      <td>-1</td>\n",
       "      <td>1</td>\n",
       "      <td>...</td>\n",
       "      <td>-1</td>\n",
       "      <td>-1</td>\n",
       "      <td>-1</td>\n",
       "      <td>-1</td>\n",
       "      <td>-1</td>\n",
       "      <td>1</td>\n",
       "      <td>1</td>\n",
       "      <td>-1</td>\n",
       "      <td>-1</td>\n",
       "      <td>-1</td>\n",
       "    </tr>\n",
       "    <tr>\n",
       "      <th>1507</th>\n",
       "      <td>1</td>\n",
       "      <td>1</td>\n",
       "      <td>1</td>\n",
       "      <td>1</td>\n",
       "      <td>1</td>\n",
       "      <td>1</td>\n",
       "      <td>1</td>\n",
       "      <td>1</td>\n",
       "      <td>1</td>\n",
       "      <td>1</td>\n",
       "      <td>...</td>\n",
       "      <td>1</td>\n",
       "      <td>1</td>\n",
       "      <td>1</td>\n",
       "      <td>1</td>\n",
       "      <td>1</td>\n",
       "      <td>1</td>\n",
       "      <td>1</td>\n",
       "      <td>1</td>\n",
       "      <td>1</td>\n",
       "      <td>1</td>\n",
       "    </tr>\n",
       "    <tr>\n",
       "      <th>3737</th>\n",
       "      <td>1</td>\n",
       "      <td>-1</td>\n",
       "      <td>-1</td>\n",
       "      <td>1</td>\n",
       "      <td>1</td>\n",
       "      <td>1</td>\n",
       "      <td>-1</td>\n",
       "      <td>1</td>\n",
       "      <td>1</td>\n",
       "      <td>1</td>\n",
       "      <td>...</td>\n",
       "      <td>1</td>\n",
       "      <td>1</td>\n",
       "      <td>-1</td>\n",
       "      <td>1</td>\n",
       "      <td>-1</td>\n",
       "      <td>1</td>\n",
       "      <td>1</td>\n",
       "      <td>-1</td>\n",
       "      <td>1</td>\n",
       "      <td>1</td>\n",
       "    </tr>\n",
       "  </tbody>\n",
       "</table>\n",
       "<p>5 rows × 256 columns</p>\n",
       "</div>"
      ],
      "text/plain": [
       "      0    1    2    3    4    5    6    7    8    9    ...  246  247  248  \\\n",
       "2376    1   -1   -1   -1   -1   -1   -1    1    1    1  ...   -1   -1    1   \n",
       "187     1    1    1    1    1    1    1    1    1    1  ...    1    1    1   \n",
       "4254    1   -1    1    1   -1   -1   -1   -1   -1    1  ...   -1   -1   -1   \n",
       "1507    1    1    1    1    1    1    1    1    1    1  ...    1    1    1   \n",
       "3737    1   -1   -1    1    1    1   -1    1    1    1  ...    1    1   -1   \n",
       "\n",
       "      249  250  251  252  253  254  255  \n",
       "2376   -1    1   -1   -1   -1   -1   -1  \n",
       "187     1    1    1    1    1    1    1  \n",
       "4254   -1   -1    1    1   -1   -1   -1  \n",
       "1507    1    1    1    1    1    1    1  \n",
       "3737    1   -1    1    1   -1    1    1  \n",
       "\n",
       "[5 rows x 256 columns]"
      ]
     },
     "execution_count": 15,
     "metadata": {},
     "output_type": "execute_result"
    }
   ],
   "source": [
    "train.head()"
   ]
  },
  {
   "cell_type": "code",
   "execution_count": 16,
   "id": "e60f1a8f-fbcd-4dad-95e9-7d48bea230d5",
   "metadata": {},
   "outputs": [],
   "source": [
    "img_pca = PCA(n_components=N_DENSE)"
   ]
  },
  {
   "cell_type": "code",
   "execution_count": 17,
   "id": "a2a755b6-fe6e-4c89-9ea7-343cb2ed7776",
   "metadata": {},
   "outputs": [
    {
     "data": {
      "text/plain": [
       "PCA(n_components=4)"
      ]
     },
     "execution_count": 17,
     "metadata": {},
     "output_type": "execute_result"
    }
   ],
   "source": [
    "img_pca.fit(train)"
   ]
  },
  {
   "cell_type": "code",
   "execution_count": 18,
   "id": "a17cc88a-5e05-42eb-b1b4-9713962d21bc",
   "metadata": {},
   "outputs": [],
   "source": [
    "components = img_pca.transform(filterned_confs.drop([\"T\",\"M\"], axis=1))"
   ]
  },
  {
   "cell_type": "code",
   "execution_count": 19,
   "id": "77164d17-d435-495d-b955-4711168423bb",
   "metadata": {},
   "outputs": [
    {
     "data": {
      "text/plain": [
       "(5000, 4)"
      ]
     },
     "execution_count": 19,
     "metadata": {},
     "output_type": "execute_result"
    }
   ],
   "source": [
    "components.shape"
   ]
  },
  {
   "cell_type": "code",
   "execution_count": 20,
   "id": "863b71ea-4282-4be0-8390-1f9b055278a7",
   "metadata": {},
   "outputs": [
    {
     "data": {
      "text/plain": [
       "0       1.0\n",
       "1       1.0\n",
       "2       1.0\n",
       "3       1.0\n",
       "4       1.0\n",
       "       ... \n",
       "4995    5.0\n",
       "4996    5.0\n",
       "4997    5.0\n",
       "4998    5.0\n",
       "4999    5.0\n",
       "Name: T, Length: 5000, dtype: float64"
      ]
     },
     "execution_count": 20,
     "metadata": {},
     "output_type": "execute_result"
    }
   ],
   "source": [
    "filterned_confs[\"T\"]"
   ]
  },
  {
   "cell_type": "code",
   "execution_count": 21,
   "id": "1d598765-81df-478c-90bf-418087ea3772",
   "metadata": {},
   "outputs": [
    {
     "data": {
      "text/plain": [
       "<matplotlib.collections.PathCollection at 0x7fbc779349d0>"
      ]
     },
     "execution_count": 21,
     "metadata": {},
     "output_type": "execute_result"
    },
    {
     "data": {
      "image/png": "[encoded data removed]",
      "text/plain": [
       "<Figure size 432x288 with 1 Axes>"
      ]
     },
     "metadata": {
      "needs_background": "light"
     },
     "output_type": "display_data"
    }
   ],
   "source": [
    "plt.scatter(components[:,0], components[:,1], c=pd.to_numeric(filterned_confs[\"T\"]), alpha=0.1)"
   ]
  },
  {
   "cell_type": "code",
   "execution_count": 22,
   "id": "78342c38-cb45-4a31-aae6-ea2adb23b150",
   "metadata": {},
   "outputs": [
    {
     "data": {
      "text/plain": [
       "<matplotlib.collections.PathCollection at 0x7fbc77934850>"
      ]
     },
     "execution_count": 22,
     "metadata": {},
     "output_type": "execute_result"
    },
    {
     "data": {
      "image/png": "[encoded data removed]",
      "text/plain": [
       "<Figure size 432x288 with 1 Axes>"
      ]
     },
     "metadata": {
      "needs_background": "light"
     },
     "output_type": "display_data"
    }
   ],
   "source": [
    "plt.scatter(components[:,0], components[:,1], c=pd.to_numeric(filterned_confs[\"M\"]), alpha=0.1)"
   ]
  },
  {
   "cell_type": "code",
   "execution_count": 23,
   "id": "c90d05b8-7f3c-4d7e-b2c8-61d9d8048fd2",
   "metadata": {},
   "outputs": [
    {
     "data": {
      "image/png": "[encoded data removed]",
      "text/plain": [
       "<Figure size 432x288 with 8 Axes>"
      ]
     },
     "metadata": {
      "needs_background": "light"
     },
     "output_type": "display_data"
    }
   ],
   "source": [
    "vmax = 0.0\n",
    "vmin = 0.0\n",
    "for i in range(N_DENSE):\n",
    "    if max(img_pca.components_[i]) > vmax:\n",
    "        vmax = max(img_pca.components_[i])\n",
    "    \n",
    "    if min(img_pca.components_[i]) < vmin:\n",
    "        vmin = min(img_pca.components_[i])\n",
    "        \n",
    "\n",
    "fig_pca, (axes_pca, ax_color) = plt.subplots(2,N_DENSE, gridspec_kw={\"height_ratios\":[1, 0.05]})\n",
    "im_list = []\n",
    "for i, ax in enumerate(axes_pca.flat):\n",
    "    im = ax.imshow(img_pca.components_[i].reshape(L,L), vmin=vmin, vmax=vmax)\n",
    "    im_list.append(im)\n",
    "\n",
    "for i, ax in enumerate(ax_color.flat):\n",
    "    fig_pca.colorbar(im_list[i], cax=ax, orientation=\"horizontal\")\n",
    "plt.savefig(\"{}/s3-bucket/ising/pca_weights_as_image_l{}\".format(prefix_s3, L))"
   ]
  },
  {
   "cell_type": "code",
   "execution_count": 24,
   "id": "be52368f-0b9a-4080-a80a-8d6fa1f1687a",
   "metadata": {},
   "outputs": [],
   "source": [
    "df_components = pd.DataFrame(data={\"c0\": components[:,0], \"c1\": components[:,1], \"T\": pd.to_numeric(filterned_confs[\"T\"])})"
   ]
  },
  {
   "cell_type": "code",
   "execution_count": 25,
   "id": "31041950-ee34-408b-a33b-c5920aaa960d",
   "metadata": {},
   "outputs": [
    {
     "data": {
      "image/png": "[encoded data removed]",
      "text/plain": [
       "<Figure size 432x288 with 1 Axes>"
      ]
     },
     "metadata": {
      "needs_background": "light"
     },
     "output_type": "display_data"
    }
   ],
   "source": [
    "component_number = 0\n",
    "plt.hist(df_components[df_components[\"T\"] > 2][\"c{}\".format(component_number)], bins=15, color=\"r\")\n",
    "plt.hist(df_components[df_components[\"T\"] < 2][\"c{}\".format(component_number)], bins=20, color=\"y\")\n",
    "#plt.show()\n",
    "plt.savefig(\"{}/s3-bucket/reproduction/fig_2/pca_latent_param_hist_l{}.png\".format(prefix_s3, L))"
   ]
  },
  {
   "cell_type": "code",
   "execution_count": 45,
   "id": "5dcaf80a-acef-40aa-a21c-f4720383ad78",
   "metadata": {},
   "outputs": [
    {
     "data": {
      "image/png": "[encoded data removed]",
      "text/plain": [
       "<Figure size 432x288 with 1 Axes>"
      ]
     },
     "metadata": {
      "needs_background": "light"
     },
     "output_type": "display_data"
    }
   ],
   "source": [
    "plt.scatter(pd.to_numeric(filterned_confs[\"M\"]), components[:,0], c=pd.to_numeric(filterned_confs[\"T\"]), alpha=0.1)\n",
    "plt.xlabel(\"magnitization\")\n",
    "plt.ylabel(\"1st\")\n",
    "plt.savefig(\"{}/s3-bucket/reproduction/fig_2/pca_scatter_latent_vs_mag_color_by_t_l{}.png\".format(prefix_s3, L))"
   ]
  },
  {
   "cell_type": "markdown",
   "id": "1eb33e77-6016-4e84-a5fd-75c8fd63c85a",
   "metadata": {},
   "source": [
    "# Simple Autoencoder"
   ]
  },
  {
   "cell_type": "code",
   "execution_count": 26,
   "id": "258c7e7b-6cac-41bb-9911-fed86edbe4a9",
   "metadata": {},
   "outputs": [
    {
     "name": "stderr",
     "output_type": "stream",
     "text": [
      "2022-06-01 19:44:33.161599: E tensorflow/stream_executor/cuda/cuda_driver.cc:271] failed call to cuInit: CUDA_ERROR_COMPAT_NOT_SUPPORTED_ON_DEVICE: forward compatibility was attempted on non supported HW\n",
      "2022-06-01 19:44:33.161639: I tensorflow/stream_executor/cuda/cuda_diagnostics.cc:169] retrieving CUDA diagnostic information for host: owen-PRIME-Z390-A\n",
      "2022-06-01 19:44:33.161644: I tensorflow/stream_executor/cuda/cuda_diagnostics.cc:176] hostname: owen-PRIME-Z390-A\n",
      "2022-06-01 19:44:33.161800: I tensorflow/stream_executor/cuda/cuda_diagnostics.cc:200] libcuda reported version is: 470.129.6\n",
      "2022-06-01 19:44:33.161823: I tensorflow/stream_executor/cuda/cuda_diagnostics.cc:204] kernel reported version is: 470.103.1\n",
      "2022-06-01 19:44:33.161828: E tensorflow/stream_executor/cuda/cuda_diagnostics.cc:313] kernel version 470.103.1 does not match DSO version 470.129.6 -- cannot find working devices in this configuration\n",
      "2022-06-01 19:44:33.162508: I tensorflow/core/platform/cpu_feature_guard.cc:193] This TensorFlow binary is optimized with oneAPI Deep Neural Network Library (oneDNN) to use the following CPU instructions in performance-critical operations:  AVX2 FMA\n",
      "To enable them in other operations, rebuild TensorFlow with the appropriate compiler flags.\n"
     ]
    }
   ],
   "source": [
    "simp_ae = tf.keras.Sequential(\n",
    "    [\n",
    "        keras.layers.InputLayer(input_shape=(L*L,)),\n",
    "        keras.layers.Dense(N_DENSE, use_bias=False, name='latent_space'),\n",
    "        keras.layers.Dense(L*L),\n",
    "    ]\n",
    ")\n"
   ]
  },
  {
   "cell_type": "code",
   "execution_count": 27,
   "id": "eb6cf958-da14-4172-b7a7-776146a8d0cf",
   "metadata": {},
   "outputs": [
    {
     "data": {
      "text/plain": [
       "(None, 256)"
      ]
     },
     "execution_count": 27,
     "metadata": {},
     "output_type": "execute_result"
    }
   ],
   "source": [
    "simp_ae.output_shape"
   ]
  },
  {
   "cell_type": "code",
   "execution_count": 28,
   "id": "6f2faad0-c650-4b7e-bbc2-df9d8b7b53f3",
   "metadata": {},
   "outputs": [
    {
     "name": "stdout",
     "output_type": "stream",
     "text": [
      "Model: \"sequential\"\n",
      "_________________________________________________________________\n",
      " Layer (type)                Output Shape              Param #   \n",
      "=================================================================\n",
      " latent_space (Dense)        (None, 4)                 1024      \n",
      "                                                                 \n",
      " dense (Dense)               (None, 256)               1280      \n",
      "                                                                 \n",
      "=================================================================\n",
      "Total params: 2,304\n",
      "Trainable params: 2,304\n",
      "Non-trainable params: 0\n",
      "_________________________________________________________________\n"
     ]
    }
   ],
   "source": [
    "simp_ae.summary()"
   ]
  },
  {
   "cell_type": "code",
   "execution_count": 29,
   "id": "6ec54ee1-ffc0-4836-9d05-2d6bafe1d117",
   "metadata": {},
   "outputs": [],
   "source": [
    "tb_callback = keras.callbacks.TensorBoard(\n",
    "    log_dir='tb_log_dir_notebook',\n",
    "    histogram_freq=2,  \n",
    "    write_graph=True,\n",
    "    write_images=True\n",
    ")"
   ]
  },
  {
   "cell_type": "code",
   "execution_count": 30,
   "id": "bb3361e5-34d7-4a2d-bfb6-f7c23ba40b33",
   "metadata": {},
   "outputs": [],
   "source": [
    "simp_ae.compile(optimizer=\"adam\", loss=\"mse\", metrics=[\"mae\"])"
   ]
  },
  {
   "cell_type": "code",
   "execution_count": 31,
   "id": "0973a88c-5bb4-4b38-9584-c97a3db7ce70",
   "metadata": {
    "tags": []
   },
   "outputs": [
    {
     "name": "stdout",
     "output_type": "stream",
     "text": [
      "Epoch 1/100\n",
      "313/313 [==============================] - 1s 1ms/step - loss: 0.6875 - mae: 0.6821\n",
      "Epoch 2/100\n",
      "313/313 [==============================] - 0s 667us/step - loss: 0.6079 - mae: 0.6137\n",
      "Epoch 3/100\n",
      "313/313 [==============================] - 0s 688us/step - loss: 0.5965 - mae: 0.6035\n",
      "Epoch 4/100\n",
      "313/313 [==============================] - 0s 637us/step - loss: 0.5907 - mae: 0.5974\n",
      "Epoch 5/100\n",
      "313/313 [==============================] - 0s 690us/step - loss: 0.5882 - mae: 0.5951\n",
      "Epoch 6/100\n",
      "313/313 [==============================] - 0s 631us/step - loss: 0.5871 - mae: 0.5938\n",
      "Epoch 7/100\n",
      "313/313 [==============================] - 0s 681us/step - loss: 0.5866 - mae: 0.5933\n",
      "Epoch 8/100\n",
      "313/313 [==============================] - 0s 671us/step - loss: 0.5864 - mae: 0.5930\n",
      "Epoch 9/100\n",
      "313/313 [==============================] - 0s 755us/step - loss: 0.5862 - mae: 0.5929\n",
      "Epoch 10/100\n",
      "313/313 [==============================] - 0s 674us/step - loss: 0.5861 - mae: 0.5927\n",
      "Epoch 11/100\n",
      "313/313 [==============================] - 0s 764us/step - loss: 0.5861 - mae: 0.5926\n",
      "Epoch 12/100\n",
      "313/313 [==============================] - 0s 790us/step - loss: 0.5860 - mae: 0.5926\n",
      "Epoch 13/100\n",
      "313/313 [==============================] - 0s 673us/step - loss: 0.5860 - mae: 0.5925\n",
      "Epoch 14/100\n",
      "313/313 [==============================] - 0s 688us/step - loss: 0.5860 - mae: 0.5926\n",
      "Epoch 15/100\n",
      "313/313 [==============================] - 0s 698us/step - loss: 0.5860 - mae: 0.5924\n",
      "Epoch 16/100\n",
      "313/313 [==============================] - 0s 631us/step - loss: 0.5860 - mae: 0.5923\n",
      "Epoch 17/100\n",
      "313/313 [==============================] - 0s 690us/step - loss: 0.5860 - mae: 0.5923\n",
      "Epoch 18/100\n",
      "313/313 [==============================] - 0s 705us/step - loss: 0.5859 - mae: 0.5923\n",
      "Epoch 19/100\n",
      "313/313 [==============================] - 0s 677us/step - loss: 0.5859 - mae: 0.5923\n",
      "Epoch 20/100\n",
      "313/313 [==============================] - 0s 645us/step - loss: 0.5860 - mae: 0.5923\n",
      "Epoch 21/100\n",
      "313/313 [==============================] - 0s 687us/step - loss: 0.5859 - mae: 0.5921\n",
      "Epoch 22/100\n",
      "313/313 [==============================] - 0s 625us/step - loss: 0.5859 - mae: 0.5921\n",
      "Epoch 23/100\n",
      "313/313 [==============================] - 0s 695us/step - loss: 0.5859 - mae: 0.5921\n",
      "Epoch 24/100\n",
      "313/313 [==============================] - 0s 638us/step - loss: 0.5859 - mae: 0.5921\n",
      "Epoch 25/100\n",
      "313/313 [==============================] - 0s 700us/step - loss: 0.5859 - mae: 0.5922\n",
      "Epoch 26/100\n",
      "313/313 [==============================] - 0s 638us/step - loss: 0.5858 - mae: 0.5921\n",
      "Epoch 27/100\n",
      "313/313 [==============================] - 0s 694us/step - loss: 0.5858 - mae: 0.5919\n",
      "Epoch 28/100\n",
      "313/313 [==============================] - 0s 673us/step - loss: 0.5859 - mae: 0.5919\n",
      "Epoch 29/100\n",
      "313/313 [==============================] - 0s 685us/step - loss: 0.5859 - mae: 0.5921\n",
      "Epoch 30/100\n",
      "313/313 [==============================] - 0s 630us/step - loss: 0.5858 - mae: 0.5919\n",
      "Epoch 31/100\n",
      "313/313 [==============================] - 0s 688us/step - loss: 0.5858 - mae: 0.5918\n",
      "Epoch 32/100\n",
      "313/313 [==============================] - 0s 628us/step - loss: 0.5858 - mae: 0.5919\n",
      "Epoch 33/100\n",
      "313/313 [==============================] - 0s 679us/step - loss: 0.5858 - mae: 0.5920\n",
      "Epoch 34/100\n",
      "313/313 [==============================] - 0s 625us/step - loss: 0.5858 - mae: 0.5919\n",
      "Epoch 35/100\n",
      "313/313 [==============================] - 0s 673us/step - loss: 0.5858 - mae: 0.5917\n",
      "Epoch 36/100\n",
      "313/313 [==============================] - 0s 635us/step - loss: 0.5858 - mae: 0.5918\n",
      "Epoch 37/100\n",
      "313/313 [==============================] - 0s 672us/step - loss: 0.5858 - mae: 0.5918\n",
      "Epoch 38/100\n",
      "313/313 [==============================] - 0s 653us/step - loss: 0.5858 - mae: 0.5917\n",
      "Epoch 39/100\n",
      "313/313 [==============================] - 0s 688us/step - loss: 0.5858 - mae: 0.5919\n",
      "Epoch 40/100\n",
      "313/313 [==============================] - 0s 661us/step - loss: 0.5858 - mae: 0.5916\n",
      "Epoch 41/100\n",
      "313/313 [==============================] - 0s 682us/step - loss: 0.5857 - mae: 0.5917\n",
      "Epoch 42/100\n",
      "313/313 [==============================] - 0s 652us/step - loss: 0.5858 - mae: 0.5917\n",
      "Epoch 43/100\n",
      "313/313 [==============================] - 0s 679us/step - loss: 0.5858 - mae: 0.5917\n",
      "Epoch 44/100\n",
      "313/313 [==============================] - 0s 630us/step - loss: 0.5857 - mae: 0.5916\n",
      "Epoch 45/100\n",
      "313/313 [==============================] - 0s 706us/step - loss: 0.5857 - mae: 0.5916\n",
      "Epoch 46/100\n",
      "313/313 [==============================] - 0s 644us/step - loss: 0.5857 - mae: 0.5916\n",
      "Epoch 47/100\n",
      "313/313 [==============================] - 0s 704us/step - loss: 0.5857 - mae: 0.5915\n",
      "Epoch 48/100\n",
      "313/313 [==============================] - 0s 669us/step - loss: 0.5857 - mae: 0.5916\n",
      "Epoch 49/100\n",
      "313/313 [==============================] - 0s 699us/step - loss: 0.5857 - mae: 0.5919\n",
      "Epoch 50/100\n",
      "313/313 [==============================] - 0s 650us/step - loss: 0.5857 - mae: 0.5915\n",
      "Epoch 51/100\n",
      "313/313 [==============================] - 0s 713us/step - loss: 0.5857 - mae: 0.5915\n",
      "Epoch 52/100\n",
      "313/313 [==============================] - 0s 638us/step - loss: 0.5857 - mae: 0.5916\n",
      "Epoch 53/100\n",
      "313/313 [==============================] - 0s 676us/step - loss: 0.5857 - mae: 0.5916\n",
      "Epoch 54/100\n",
      "313/313 [==============================] - 0s 631us/step - loss: 0.5857 - mae: 0.5914\n",
      "Epoch 55/100\n",
      "313/313 [==============================] - 0s 699us/step - loss: 0.5857 - mae: 0.5914\n",
      "Epoch 56/100\n",
      "313/313 [==============================] - 0s 627us/step - loss: 0.5857 - mae: 0.5913\n",
      "Epoch 57/100\n",
      "313/313 [==============================] - 0s 662us/step - loss: 0.5857 - mae: 0.5914\n",
      "Epoch 58/100\n",
      "313/313 [==============================] - 0s 650us/step - loss: 0.5857 - mae: 0.5915\n",
      "Epoch 59/100\n",
      "313/313 [==============================] - 0s 712us/step - loss: 0.5857 - mae: 0.5914\n",
      "Epoch 60/100\n",
      "313/313 [==============================] - 0s 719us/step - loss: 0.5857 - mae: 0.5914\n",
      "Epoch 61/100\n",
      "313/313 [==============================] - 0s 705us/step - loss: 0.5857 - mae: 0.5914\n",
      "Epoch 62/100\n",
      "313/313 [==============================] - 0s 720us/step - loss: 0.5857 - mae: 0.5914\n",
      "Epoch 63/100\n",
      "313/313 [==============================] - 0s 667us/step - loss: 0.5857 - mae: 0.5915\n",
      "Epoch 64/100\n",
      "313/313 [==============================] - 0s 648us/step - loss: 0.5857 - mae: 0.5914\n",
      "Epoch 65/100\n",
      "313/313 [==============================] - 0s 668us/step - loss: 0.5857 - mae: 0.5914\n",
      "Epoch 66/100\n",
      "313/313 [==============================] - 0s 655us/step - loss: 0.5857 - mae: 0.5915\n",
      "Epoch 67/100\n",
      "313/313 [==============================] - 0s 675us/step - loss: 0.5856 - mae: 0.5913\n",
      "Epoch 68/100\n",
      "313/313 [==============================] - 0s 656us/step - loss: 0.5856 - mae: 0.5913\n",
      "Epoch 69/100\n",
      "313/313 [==============================] - 0s 684us/step - loss: 0.5857 - mae: 0.5914\n",
      "Epoch 70/100\n",
      "313/313 [==============================] - 0s 694us/step - loss: 0.5857 - mae: 0.5914\n",
      "Epoch 71/100\n",
      "313/313 [==============================] - 0s 668us/step - loss: 0.5856 - mae: 0.5913\n",
      "Epoch 72/100\n",
      "313/313 [==============================] - 0s 651us/step - loss: 0.5856 - mae: 0.5913\n",
      "Epoch 73/100\n",
      "313/313 [==============================] - 0s 709us/step - loss: 0.5856 - mae: 0.5912\n",
      "Epoch 74/100\n",
      "313/313 [==============================] - 0s 642us/step - loss: 0.5856 - mae: 0.5913\n",
      "Epoch 75/100\n",
      "313/313 [==============================] - 0s 675us/step - loss: 0.5857 - mae: 0.5916\n",
      "Epoch 76/100\n",
      "313/313 [==============================] - 0s 668us/step - loss: 0.5856 - mae: 0.5912\n",
      "Epoch 77/100\n",
      "313/313 [==============================] - 0s 677us/step - loss: 0.5857 - mae: 0.5917\n",
      "Epoch 78/100\n",
      "313/313 [==============================] - 0s 655us/step - loss: 0.5856 - mae: 0.5913\n",
      "Epoch 79/100\n",
      "313/313 [==============================] - 0s 685us/step - loss: 0.5856 - mae: 0.5912\n",
      "Epoch 80/100\n",
      "313/313 [==============================] - 0s 655us/step - loss: 0.5856 - mae: 0.5912\n",
      "Epoch 81/100\n",
      "313/313 [==============================] - 0s 714us/step - loss: 0.5857 - mae: 0.5914\n",
      "Epoch 82/100\n",
      "313/313 [==============================] - 0s 683us/step - loss: 0.5856 - mae: 0.5912\n",
      "Epoch 83/100\n",
      "313/313 [==============================] - 0s 720us/step - loss: 0.5856 - mae: 0.5911\n",
      "Epoch 84/100\n",
      "313/313 [==============================] - 0s 672us/step - loss: 0.5856 - mae: 0.5913\n",
      "Epoch 85/100\n",
      "313/313 [==============================] - 0s 712us/step - loss: 0.5857 - mae: 0.5914\n",
      "Epoch 86/100\n",
      "313/313 [==============================] - 0s 642us/step - loss: 0.5856 - mae: 0.5911\n",
      "Epoch 87/100\n",
      "313/313 [==============================] - 0s 682us/step - loss: 0.5856 - mae: 0.5913\n",
      "Epoch 88/100\n",
      "313/313 [==============================] - 0s 675us/step - loss: 0.5856 - mae: 0.5911\n",
      "Epoch 89/100\n",
      "313/313 [==============================] - 0s 707us/step - loss: 0.5856 - mae: 0.5911\n",
      "Epoch 90/100\n",
      "313/313 [==============================] - 0s 685us/step - loss: 0.5856 - mae: 0.5912\n",
      "Epoch 91/100\n",
      "313/313 [==============================] - 0s 678us/step - loss: 0.5856 - mae: 0.5911\n",
      "Epoch 92/100\n",
      "313/313 [==============================] - 0s 629us/step - loss: 0.5856 - mae: 0.5912\n",
      "Epoch 93/100\n",
      "313/313 [==============================] - 0s 692us/step - loss: 0.5856 - mae: 0.5912\n",
      "Epoch 94/100\n",
      "313/313 [==============================] - 0s 642us/step - loss: 0.5856 - mae: 0.5913\n",
      "Epoch 95/100\n",
      "313/313 [==============================] - 0s 700us/step - loss: 0.5856 - mae: 0.5911\n",
      "Epoch 96/100\n",
      "313/313 [==============================] - 0s 668us/step - loss: 0.5856 - mae: 0.5911\n",
      "Epoch 97/100\n",
      "313/313 [==============================] - 0s 667us/step - loss: 0.5856 - mae: 0.5915\n",
      "Epoch 98/100\n",
      "313/313 [==============================] - 0s 656us/step - loss: 0.5855 - mae: 0.5910\n",
      "Epoch 99/100\n",
      "313/313 [==============================] - 0s 663us/step - loss: 0.5855 - mae: 0.5911\n",
      "Epoch 100/100\n",
      "313/313 [==============================] - 0s 660us/step - loss: 0.5856 - mae: 0.5912\n"
     ]
    },
    {
     "data": {
      "text/plain": [
       "<keras.callbacks.History at 0x7f279c63e790>"
      ]
     },
     "execution_count": 31,
     "metadata": {},
     "output_type": "execute_result"
    }
   ],
   "source": [
    "simp_ae.fit(\n",
    "    batch_size=16,\n",
    "    x=filterned_confs.drop([\"T\",\"M\"], axis=1),\n",
    "    y=filterned_confs.drop([\"T\",\"M\"], axis=1),\n",
    "    epochs=100,\n",
    "    callbacks=[tb_callback]\n",
    ")"
   ]
  },
  {
   "cell_type": "code",
   "execution_count": 32,
   "id": "57da0df7-d970-4b69-8fb6-7252c9b4edae",
   "metadata": {},
   "outputs": [],
   "source": [
    "mid_layer = simp_ae.get_layer('latent_space')"
   ]
  },
  {
   "cell_type": "code",
   "execution_count": 33,
   "id": "166f7233-06fa-481c-8396-58e6d1b71a9e",
   "metadata": {},
   "outputs": [
    {
     "data": {
      "text/plain": [
       "(256, 4)"
      ]
     },
     "execution_count": 33,
     "metadata": {},
     "output_type": "execute_result"
    }
   ],
   "source": [
    "mid_layer.get_weights()[0].shape"
   ]
  },
  {
   "cell_type": "code",
   "execution_count": 54,
   "id": "ceba03c9-df72-4993-a336-f8032fc19ac7",
   "metadata": {},
   "outputs": [
    {
     "data": {
      "image/png": "[encoded data removed]",
      "text/plain": [
       "<Figure size 432x288 with 8 Axes>"
      ]
     },
     "metadata": {
      "needs_background": "light"
     },
     "output_type": "display_data"
    }
   ],
   "source": [
    "vmax = 0.0\n",
    "vmin = 0.0\n",
    "for i in range(N_DENSE):\n",
    "    cur_w = mid_layer.get_weights()[0][:,-(i+1)]\n",
    "    if max(cur_w) > vmax:\n",
    "        vmax = max(cur_w)\n",
    "    \n",
    "    if min(cur_w) < vmin:\n",
    "        vmin = min(cur_w)\n",
    "        \n",
    "\n",
    "fig, (axes, ax_color) = plt.subplots(2,N_DENSE, gridspec_kw={\"height_ratios\":[1, 0.05]})\n",
    "im_list = []\n",
    "for i, ax in enumerate(axes.flat):\n",
    "    im = ax.imshow(mid_layer.get_weights()[0][:,-(i+1)].reshape(L,L), vmin=vmin, vmax=vmax)\n",
    "    im_list.append(im)\n",
    "\n",
    "for i, ax in enumerate(ax_color.flat):\n",
    "    fig.colorbar(im_list[i], cax=ax, orientation=\"horizontal\")\n",
    "\n",
    "plt.savefig(\"{}/s3-bucket/ising/ae_weights_as_image_l{}\".format(prefix_s3, L))\n",
    "#fig, axes = plt.subplots(1,N_DENSE)\n",
    "#for i, ax in enumerate(axes.flat):\n",
    "#    ax.imshow(mid_layer.get_weights()[0][:,-(i+1)].reshape(L,L))"
   ]
  },
  {
   "cell_type": "code",
   "execution_count": 50,
   "id": "5dd1c7c3-058c-4738-aaf0-c187826a49b9",
   "metadata": {},
   "outputs": [
    {
     "data": {
      "text/plain": [
       "0.034677822"
      ]
     },
     "execution_count": 50,
     "metadata": {},
     "output_type": "execute_result"
    }
   ],
   "source": [
    "max(mid_layer.get_weights()[0][:,-(i+1)])"
   ]
  },
  {
   "cell_type": "code",
   "execution_count": 35,
   "id": "0f6cc1d8-a7bd-4921-9938-cccdf8a50f97",
   "metadata": {},
   "outputs": [
    {
     "name": "stdout",
     "output_type": "stream",
     "text": [
      "157/157 [==============================] - 0s 505us/step\n"
     ]
    }
   ],
   "source": [
    "full_latent_out = simp_ae.predict(filterned_confs.drop([\"T\",\"M\"], axis=1))"
   ]
  },
  {
   "cell_type": "code",
   "execution_count": 46,
   "id": "e6ebce46-dae6-479d-be6d-f76a9fa166e8",
   "metadata": {},
   "outputs": [
    {
     "data": {
      "image/png": "[encoded data removed]",
      "text/plain": [
       "<Figure size 432x288 with 1 Axes>"
      ]
     },
     "metadata": {
      "needs_background": "light"
     },
     "output_type": "display_data"
    }
   ],
   "source": [
    "plt.scatter(pd.to_numeric(filterned_confs[\"M\"]), full_latent_out[:,0], c=pd.to_numeric(filterned_confs[\"T\"]), alpha=0.1)\n",
    "plt.xlabel(\"magnitization\")\n",
    "plt.ylabel(\"1st\")\n",
    "plt.savefig(\"{}/s3-bucket/reproduction/fig_2/ae_scatter_latent_vs_mag_color_by_t_l{}.png\".format(prefix_s3, L))"
   ]
  },
  {
   "cell_type": "code",
   "execution_count": null,
   "id": "768abb81-ffd6-4064-9383-cdb5ac26bde7",
   "metadata": {},
   "outputs": [],
   "source": []
  },
  {
   "cell_type": "markdown",
   "id": "98dea57c-1d5b-40b3-a060-c0c5e896c960",
   "metadata": {},
   "source": [
    "# Simple Autoencoder with Reshape"
   ]
  },
  {
   "cell_type": "code",
   "execution_count": 37,
   "id": "7566ba55-a391-4684-971d-68951c7b2054",
   "metadata": {},
   "outputs": [],
   "source": [
    "simp_ae = tf.keras.Sequential(\n",
    "    [\n",
    "        keras.layers.InputLayer(input_shape=(L, L, 1)),\n",
    "        keras.layers.Flatten(),\n",
    "        keras.layers.Dense(N_DENSE, use_bias=False, name='latent_space'),\n",
    "        keras.layers.Dense(units=L*L),\n",
    "        keras.layers.Reshape(target_shape=(L, L, 1))\n",
    "    ]\n",
    ")"
   ]
  },
  {
   "cell_type": "markdown",
   "id": "430b81af-4ca3-4a41-8a11-a93c6caa59da",
   "metadata": {},
   "source": [
    "# Fig 2.c"
   ]
  },
  {
   "cell_type": "code",
   "execution_count": 38,
   "id": "36bfbf81-9c61-4189-b8a0-ded63bdb2c37",
   "metadata": {},
   "outputs": [],
   "source": [
    "filterned_confs[\"latent_1\"] = full_latent_out[:,0]"
   ]
  },
  {
   "cell_type": "code",
   "execution_count": 39,
   "id": "c9fa43df-2c73-40d9-bad4-15d1052145d3",
   "metadata": {},
   "outputs": [],
   "source": [
    "from sqlalchemy import create_engine\n",
    "engine = create_engine('sqlite://', echo=False)"
   ]
  },
  {
   "cell_type": "code",
   "execution_count": 40,
   "id": "0725fd81-e4c4-4098-bd10-eaf0b0a37b26",
   "metadata": {},
   "outputs": [],
   "source": [
    "filterned_confs.to_sql('filtered_confs', con=engine, if_exists='append')"
   ]
  },
  {
   "cell_type": "code",
   "execution_count": 41,
   "id": "a2b587ce-cefb-44b7-ad61-47481a898882",
   "metadata": {},
   "outputs": [],
   "source": [
    "avg_m_out = engine.execute(\n",
    "\"\"\"\n",
    "    select \n",
    "        t,\n",
    "        avg(abs(m)),\n",
    "        avg(abs(latent_1))\n",
    "    from filtered_confs\n",
    "    group by t\n",
    "\"\"\").fetchall()"
   ]
  },
  {
   "cell_type": "code",
   "execution_count": 42,
   "id": "80d9b691-d4a0-45f1-af46-c7da68d48752",
   "metadata": {},
   "outputs": [
    {
     "data": {
      "text/plain": [
       "[(1.0, 0.99975, 1.0002338646054267),\n",
       " (2.0, 0.9085, 0.9173381292819976),\n",
       " (3.0, 0.339625, 0.35191529381333386),\n",
       " (4.0, 0.258625, 0.24692795158014633),\n",
       " (5.0, 0.23795180722891565, 0.1971394226854306)]"
      ]
     },
     "execution_count": 42,
     "metadata": {},
     "output_type": "execute_result"
    }
   ],
   "source": [
    "avg_m_out[1:]"
   ]
  },
  {
   "cell_type": "code",
   "execution_count": 43,
   "id": "64add91a-e96c-4fb5-a4de-05b6917f865b",
   "metadata": {},
   "outputs": [
    {
     "data": {
      "image/png": "[encoded data removed]",
      "text/plain": [
       "<Figure size 432x288 with 1 Axes>"
      ]
     },
     "metadata": {
      "needs_background": "light"
     },
     "output_type": "display_data"
    }
   ],
   "source": [
    "plt.plot(\n",
    "    [i[0] for i in avg_m_out[1:]],\n",
    "    [i[1] for i in avg_m_out[1:]],\n",
    "    c='r',\n",
    "    label=\"magnetization\"\n",
    ")\n",
    "plt.plot(\n",
    "    [i[0] for i in avg_m_out[1:]],\n",
    "    [i[2] for i in avg_m_out[1:]],\n",
    "    c='b',\n",
    "    label=\"latent param.\"\n",
    ")\n",
    "plt.xlabel(\"Temperature\")\n",
    "plt.legend()\n",
    "plt.savefig(\"{}/s3-bucket/reproduction/fig_2/pca_magnitization_and_latent_param_vs_temp_l{}.png\".format(prefix_s3, L))"
   ]
  },
  {
   "cell_type": "markdown",
   "id": "8ed0a1f4-20a8-42bd-b048-d55cd5c8549b",
   "metadata": {},
   "source": [
    "# Look into this"
   ]
  },
  {
   "cell_type": "code",
   "execution_count": 44,
   "id": "7c98df83-fa2c-4afa-85b1-4cd40fbc9550",
   "metadata": {},
   "outputs": [],
   "source": [
    "#engine.execute(\n",
    "#\"\"\"\n",
    "#    select \n",
    "#    m\n",
    "#    from filterned_confs\n",
    "#    where t is null\n",
    "#\"\"\").fetchall()"
   ]
  },
  {
   "cell_type": "code",
   "execution_count": null,
   "id": "45749b3a-2eb5-4070-a27e-c296af64044e",
   "metadata": {},
   "outputs": [],
   "source": []
  }
 ],
 "metadata": {
  "kernelspec": {
   "display_name": "Python 3",
   "language": "python",
   "name": "python3"
  },
  "language_info": {
   "codemirror_mode": {
    "name": "ipython",
    "version": 3
   },
   "file_extension": ".py",
   "mimetype": "text/x-python",
   "name": "python",
   "nbconvert_exporter": "python",
   "pygments_lexer": "ipython3",
   "version": "3.8.10"
  }
 },
 "nbformat": 4,
 "nbformat_minor": 5
}
