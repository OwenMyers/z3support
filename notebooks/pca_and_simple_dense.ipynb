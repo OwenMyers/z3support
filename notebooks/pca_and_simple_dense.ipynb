{
 "cells": [
  {
   "cell_type": "code",
   "execution_count": 37,
   "id": "d2a9316e-6b93-41b2-9c76-8ae4e5bc3819",
   "metadata": {},
   "outputs": [],
   "source": [
    "from tensorflow import keras\n",
    "import tensorflow as tf\n",
    "from tensorflow.keras.datasets import mnist\n",
    "import pandas as pd\n",
    "from matplotlib import pyplot as plt\n",
    "import sklearn\n",
    "from sklearn.decomposition import PCA\n",
    "import numpy as np\n",
    "import datetime\n",
    "\n",
    "TRAINING_FRACTION = 0.8\n",
    "N_DENSE = 1\n",
    "L=32"
   ]
  },
  {
   "cell_type": "code",
   "execution_count": 38,
   "id": "634f03a6-2fc0-4864-8d95-2c0b052685ae",
   "metadata": {},
   "outputs": [],
   "source": [
    "user = 1\n",
    "if user == 1:\n",
    "    prefix_s3 = \"/home/owen/\"\n",
    "    prefix_data = \"/home/owen/repos/\"\n",
    "elif user == 2:\n",
    "    prefix_data = \"/Users/omyers/repos/\"\n",
    "    \n",
    "tensorboard_log_dir = \"{}/logs/fit/\".format(prefix_s3) + datetime.datetime.now().strftime(\"%Y%m%d-%H%M%S\")\n"
   ]
  },
  {
   "cell_type": "code",
   "execution_count": 39,
   "id": "df6f277a-3d0f-48bf-ae54-b5829af9dc46",
   "metadata": {},
   "outputs": [
    {
     "name": "stderr",
     "output_type": "stream",
     "text": [
      "/home/owen/repos/z3support/pythonenv/lib/python3.8/site-packages/IPython/core/interactiveshell.py:3106: DtypeWarning: Columns (0,1,2,3,4,5,6,7,8) have mixed types.Specify dtype option on import or set low_memory=False.\n",
      "  has_raised = await self.run_ast_nodes(code_ast.body, cell_name,\n"
     ]
    }
   ],
   "source": [
    "df_bins = pd.read_csv(\"{prefix_data}z3support/data/SpinMLData/2DIsing/L-{L}/L-{L}-T-1-5/bins_L-{L}-T-1-5.txt\".format(L=L,prefix_data=prefix_data), sep=\"\\t\")\n",
    "df_conf = pd.read_csv(\"{prefix_data}z3support/data/SpinMLData/2DIsing/L-{L}/L-{L}-T-1-5/spinConfigs_L-{L}-T-1-5.txt\".format(L=L,prefix_data=prefix_data), delimiter=r\"\\s+\", header=None)"
   ]
  },
  {
   "cell_type": "code",
   "execution_count": 40,
   "id": "00834366-74e5-47ee-be67-08f49096fb2a",
   "metadata": {},
   "outputs": [
    {
     "data": {
      "text/html": [
       "<div>\n",
       "<style scoped>\n",
       "    .dataframe tbody tr th:only-of-type {\n",
       "        vertical-align: middle;\n",
       "    }\n",
       "\n",
       "    .dataframe tbody tr th {\n",
       "        vertical-align: top;\n",
       "    }\n",
       "\n",
       "    .dataframe thead th {\n",
       "        text-align: right;\n",
       "    }\n",
       "</style>\n",
       "<table border=\"1\" class=\"dataframe\">\n",
       "  <thead>\n",
       "    <tr style=\"text-align: right;\">\n",
       "      <th></th>\n",
       "      <th># L</th>\n",
       "      <th>T</th>\n",
       "      <th>binNum</th>\n",
       "      <th>E</th>\n",
       "      <th>ESq</th>\n",
       "      <th>AccRate_local</th>\n",
       "      <th>AccRate_clust</th>\n",
       "      <th>sigma</th>\n",
       "      <th>absSigma</th>\n",
       "    </tr>\n",
       "  </thead>\n",
       "  <tbody>\n",
       "    <tr>\n",
       "      <th>0</th>\n",
       "      <td>32</td>\n",
       "      <td>0.25</td>\n",
       "      <td>1</td>\n",
       "      <td>-2</td>\n",
       "      <td>4</td>\n",
       "      <td>0</td>\n",
       "      <td>1</td>\n",
       "      <td>0</td>\n",
       "      <td>1</td>\n",
       "    </tr>\n",
       "    <tr>\n",
       "      <th>1</th>\n",
       "      <td>32</td>\n",
       "      <td>0.25</td>\n",
       "      <td>2</td>\n",
       "      <td>-2</td>\n",
       "      <td>4</td>\n",
       "      <td>0</td>\n",
       "      <td>1</td>\n",
       "      <td>0</td>\n",
       "      <td>1</td>\n",
       "    </tr>\n",
       "    <tr>\n",
       "      <th>2</th>\n",
       "      <td>32</td>\n",
       "      <td>0.25</td>\n",
       "      <td>3</td>\n",
       "      <td>-2</td>\n",
       "      <td>4</td>\n",
       "      <td>0</td>\n",
       "      <td>1</td>\n",
       "      <td>0</td>\n",
       "      <td>1</td>\n",
       "    </tr>\n",
       "    <tr>\n",
       "      <th>3</th>\n",
       "      <td>32</td>\n",
       "      <td>0.25</td>\n",
       "      <td>4</td>\n",
       "      <td>-2</td>\n",
       "      <td>4</td>\n",
       "      <td>0</td>\n",
       "      <td>1</td>\n",
       "      <td>0</td>\n",
       "      <td>1</td>\n",
       "    </tr>\n",
       "    <tr>\n",
       "      <th>4</th>\n",
       "      <td>32</td>\n",
       "      <td>0.25</td>\n",
       "      <td>5</td>\n",
       "      <td>-2</td>\n",
       "      <td>4</td>\n",
       "      <td>0</td>\n",
       "      <td>1</td>\n",
       "      <td>0</td>\n",
       "      <td>1</td>\n",
       "    </tr>\n",
       "    <tr>\n",
       "      <th>...</th>\n",
       "      <td>...</td>\n",
       "      <td>...</td>\n",
       "      <td>...</td>\n",
       "      <td>...</td>\n",
       "      <td>...</td>\n",
       "      <td>...</td>\n",
       "      <td>...</td>\n",
       "      <td>...</td>\n",
       "      <td>...</td>\n",
       "    </tr>\n",
       "    <tr>\n",
       "      <th>200014</th>\n",
       "      <td>32</td>\n",
       "      <td>5</td>\n",
       "      <td>9996</td>\n",
       "      <td>-0.425258</td>\n",
       "      <td>0.183289</td>\n",
       "      <td>0.693285</td>\n",
       "      <td>1</td>\n",
       "      <td>0.002006</td>\n",
       "      <td>0.040533</td>\n",
       "    </tr>\n",
       "    <tr>\n",
       "      <th>200015</th>\n",
       "      <td>32</td>\n",
       "      <td>5</td>\n",
       "      <td>9997</td>\n",
       "      <td>-0.432437</td>\n",
       "      <td>0.189161</td>\n",
       "      <td>0.690379</td>\n",
       "      <td>1</td>\n",
       "      <td>-0.000963</td>\n",
       "      <td>0.043111</td>\n",
       "    </tr>\n",
       "    <tr>\n",
       "      <th>200016</th>\n",
       "      <td>32</td>\n",
       "      <td>5</td>\n",
       "      <td>9998</td>\n",
       "      <td>-0.422969</td>\n",
       "      <td>0.181396</td>\n",
       "      <td>0.693585</td>\n",
       "      <td>1</td>\n",
       "      <td>-0.004283</td>\n",
       "      <td>0.042318</td>\n",
       "    </tr>\n",
       "    <tr>\n",
       "      <th>200017</th>\n",
       "      <td>32</td>\n",
       "      <td>5</td>\n",
       "      <td>9999</td>\n",
       "      <td>-0.427754</td>\n",
       "      <td>0.185275</td>\n",
       "      <td>0.691467</td>\n",
       "      <td>1</td>\n",
       "      <td>-0.003479</td>\n",
       "      <td>0.041635</td>\n",
       "    </tr>\n",
       "    <tr>\n",
       "      <th>200018</th>\n",
       "      <td>32</td>\n",
       "      <td>5</td>\n",
       "      <td>10000</td>\n",
       "      <td>-0.425523</td>\n",
       "      <td>0.183517</td>\n",
       "      <td>0.692356</td>\n",
       "      <td>1</td>\n",
       "      <td>0.001752</td>\n",
       "      <td>0.039549</td>\n",
       "    </tr>\n",
       "  </tbody>\n",
       "</table>\n",
       "<p>200019 rows × 9 columns</p>\n",
       "</div>"
      ],
      "text/plain": [
       "       # L     T   binNum         E       ESq AccRate_local AccRate_clust  \\\n",
       "0        32  0.25       1        -2         4             0             1   \n",
       "1        32  0.25       2        -2         4             0             1   \n",
       "2        32  0.25       3        -2         4             0             1   \n",
       "3        32  0.25       4        -2         4             0             1   \n",
       "4        32  0.25       5        -2         4             0             1   \n",
       "...     ...   ...     ...       ...       ...           ...           ...   \n",
       "200014   32     5    9996 -0.425258  0.183289      0.693285             1   \n",
       "200015   32     5    9997 -0.432437  0.189161      0.690379             1   \n",
       "200016   32     5    9998 -0.422969  0.181396      0.693585             1   \n",
       "200017   32     5    9999 -0.427754  0.185275      0.691467             1   \n",
       "200018   32     5   10000 -0.425523  0.183517      0.692356             1   \n",
       "\n",
       "           sigma  absSigma  \n",
       "0              0         1  \n",
       "1              0         1  \n",
       "2              0         1  \n",
       "3              0         1  \n",
       "4              0         1  \n",
       "...          ...       ...  \n",
       "200014  0.002006  0.040533  \n",
       "200015 -0.000963  0.043111  \n",
       "200016 -0.004283  0.042318  \n",
       "200017 -0.003479  0.041635  \n",
       "200018  0.001752  0.039549  \n",
       "\n",
       "[200019 rows x 9 columns]"
      ]
     },
     "execution_count": 40,
     "metadata": {},
     "output_type": "execute_result"
    }
   ],
   "source": [
    "df_bins"
   ]
  },
  {
   "cell_type": "code",
   "execution_count": 42,
   "id": "40a43576-12f9-4744-89b9-96cb0a0e1497",
   "metadata": {},
   "outputs": [
    {
     "name": "stdout",
     "output_type": "stream",
     "text": [
      " T \n"
     ]
    }
   ],
   "source": [
    "if L < 32:\n",
    "    print(df_bins.iloc[1000][1])\n",
    "else:\n",
    "    print(df_bins.iloc[10000][1])"
   ]
  },
  {
   "cell_type": "code",
   "execution_count": 43,
   "id": "9b5cf015-ff38-4136-bc74-fa2935840974",
   "metadata": {},
   "outputs": [],
   "source": [
    "df_bins = df_bins[df_bins[' T '] != ' T ']"
   ]
  },
  {
   "cell_type": "code",
   "execution_count": null,
   "id": "14324303-f986-4eb6-b9a4-d66e3339ab76",
   "metadata": {},
   "outputs": [],
   "source": []
  },
  {
   "cell_type": "code",
   "execution_count": 45,
   "id": "d513e9a1-cc21-4165-82c2-ff883be19d76",
   "metadata": {},
   "outputs": [],
   "source": [
    "df_bins = df_bins.astype(\n",
    "    {\n",
    "        \" T \": float,\n",
    "        \" binNum\": int,\n",
    "    }\n",
    ")"
   ]
  },
  {
   "cell_type": "code",
   "execution_count": 46,
   "id": "ae24d800-00b7-4c00-b203-5e70189aee40",
   "metadata": {},
   "outputs": [
    {
     "data": {
      "text/html": [
       "<div>\n",
       "<style scoped>\n",
       "    .dataframe tbody tr th:only-of-type {\n",
       "        vertical-align: middle;\n",
       "    }\n",
       "\n",
       "    .dataframe tbody tr th {\n",
       "        vertical-align: top;\n",
       "    }\n",
       "\n",
       "    .dataframe thead th {\n",
       "        text-align: right;\n",
       "    }\n",
       "</style>\n",
       "<table border=\"1\" class=\"dataframe\">\n",
       "  <thead>\n",
       "    <tr style=\"text-align: right;\">\n",
       "      <th></th>\n",
       "      <th>0</th>\n",
       "      <th>1</th>\n",
       "      <th>2</th>\n",
       "      <th>3</th>\n",
       "      <th>4</th>\n",
       "      <th>5</th>\n",
       "      <th>6</th>\n",
       "      <th>7</th>\n",
       "      <th>8</th>\n",
       "      <th>9</th>\n",
       "      <th>...</th>\n",
       "      <th>1014</th>\n",
       "      <th>1015</th>\n",
       "      <th>1016</th>\n",
       "      <th>1017</th>\n",
       "      <th>1018</th>\n",
       "      <th>1019</th>\n",
       "      <th>1020</th>\n",
       "      <th>1021</th>\n",
       "      <th>1022</th>\n",
       "      <th>1023</th>\n",
       "    </tr>\n",
       "  </thead>\n",
       "  <tbody>\n",
       "    <tr>\n",
       "      <th>0</th>\n",
       "      <td>1</td>\n",
       "      <td>1</td>\n",
       "      <td>1</td>\n",
       "      <td>1</td>\n",
       "      <td>1</td>\n",
       "      <td>1</td>\n",
       "      <td>1</td>\n",
       "      <td>1</td>\n",
       "      <td>1</td>\n",
       "      <td>1</td>\n",
       "      <td>...</td>\n",
       "      <td>1</td>\n",
       "      <td>1</td>\n",
       "      <td>1</td>\n",
       "      <td>1</td>\n",
       "      <td>1</td>\n",
       "      <td>1</td>\n",
       "      <td>1</td>\n",
       "      <td>1</td>\n",
       "      <td>1</td>\n",
       "      <td>1</td>\n",
       "    </tr>\n",
       "    <tr>\n",
       "      <th>1</th>\n",
       "      <td>1</td>\n",
       "      <td>1</td>\n",
       "      <td>1</td>\n",
       "      <td>1</td>\n",
       "      <td>1</td>\n",
       "      <td>1</td>\n",
       "      <td>1</td>\n",
       "      <td>1</td>\n",
       "      <td>1</td>\n",
       "      <td>1</td>\n",
       "      <td>...</td>\n",
       "      <td>1</td>\n",
       "      <td>1</td>\n",
       "      <td>1</td>\n",
       "      <td>1</td>\n",
       "      <td>1</td>\n",
       "      <td>1</td>\n",
       "      <td>1</td>\n",
       "      <td>1</td>\n",
       "      <td>1</td>\n",
       "      <td>1</td>\n",
       "    </tr>\n",
       "    <tr>\n",
       "      <th>2</th>\n",
       "      <td>1</td>\n",
       "      <td>1</td>\n",
       "      <td>1</td>\n",
       "      <td>1</td>\n",
       "      <td>1</td>\n",
       "      <td>1</td>\n",
       "      <td>1</td>\n",
       "      <td>1</td>\n",
       "      <td>1</td>\n",
       "      <td>1</td>\n",
       "      <td>...</td>\n",
       "      <td>1</td>\n",
       "      <td>1</td>\n",
       "      <td>1</td>\n",
       "      <td>1</td>\n",
       "      <td>1</td>\n",
       "      <td>1</td>\n",
       "      <td>1</td>\n",
       "      <td>1</td>\n",
       "      <td>1</td>\n",
       "      <td>1</td>\n",
       "    </tr>\n",
       "    <tr>\n",
       "      <th>3</th>\n",
       "      <td>1</td>\n",
       "      <td>1</td>\n",
       "      <td>1</td>\n",
       "      <td>1</td>\n",
       "      <td>1</td>\n",
       "      <td>1</td>\n",
       "      <td>1</td>\n",
       "      <td>1</td>\n",
       "      <td>1</td>\n",
       "      <td>1</td>\n",
       "      <td>...</td>\n",
       "      <td>1</td>\n",
       "      <td>1</td>\n",
       "      <td>1</td>\n",
       "      <td>1</td>\n",
       "      <td>1</td>\n",
       "      <td>1</td>\n",
       "      <td>1</td>\n",
       "      <td>1</td>\n",
       "      <td>1</td>\n",
       "      <td>1</td>\n",
       "    </tr>\n",
       "    <tr>\n",
       "      <th>4</th>\n",
       "      <td>1</td>\n",
       "      <td>1</td>\n",
       "      <td>1</td>\n",
       "      <td>1</td>\n",
       "      <td>1</td>\n",
       "      <td>1</td>\n",
       "      <td>1</td>\n",
       "      <td>1</td>\n",
       "      <td>1</td>\n",
       "      <td>1</td>\n",
       "      <td>...</td>\n",
       "      <td>1</td>\n",
       "      <td>1</td>\n",
       "      <td>1</td>\n",
       "      <td>1</td>\n",
       "      <td>1</td>\n",
       "      <td>1</td>\n",
       "      <td>1</td>\n",
       "      <td>1</td>\n",
       "      <td>1</td>\n",
       "      <td>1</td>\n",
       "    </tr>\n",
       "    <tr>\n",
       "      <th>...</th>\n",
       "      <td>...</td>\n",
       "      <td>...</td>\n",
       "      <td>...</td>\n",
       "      <td>...</td>\n",
       "      <td>...</td>\n",
       "      <td>...</td>\n",
       "      <td>...</td>\n",
       "      <td>...</td>\n",
       "      <td>...</td>\n",
       "      <td>...</td>\n",
       "      <td>...</td>\n",
       "      <td>...</td>\n",
       "      <td>...</td>\n",
       "      <td>...</td>\n",
       "      <td>...</td>\n",
       "      <td>...</td>\n",
       "      <td>...</td>\n",
       "      <td>...</td>\n",
       "      <td>...</td>\n",
       "      <td>...</td>\n",
       "      <td>...</td>\n",
       "    </tr>\n",
       "    <tr>\n",
       "      <th>199995</th>\n",
       "      <td>1</td>\n",
       "      <td>1</td>\n",
       "      <td>-1</td>\n",
       "      <td>1</td>\n",
       "      <td>1</td>\n",
       "      <td>1</td>\n",
       "      <td>-1</td>\n",
       "      <td>-1</td>\n",
       "      <td>-1</td>\n",
       "      <td>1</td>\n",
       "      <td>...</td>\n",
       "      <td>1</td>\n",
       "      <td>1</td>\n",
       "      <td>1</td>\n",
       "      <td>1</td>\n",
       "      <td>1</td>\n",
       "      <td>1</td>\n",
       "      <td>-1</td>\n",
       "      <td>-1</td>\n",
       "      <td>-1</td>\n",
       "      <td>1</td>\n",
       "    </tr>\n",
       "    <tr>\n",
       "      <th>199996</th>\n",
       "      <td>1</td>\n",
       "      <td>1</td>\n",
       "      <td>-1</td>\n",
       "      <td>-1</td>\n",
       "      <td>-1</td>\n",
       "      <td>-1</td>\n",
       "      <td>1</td>\n",
       "      <td>1</td>\n",
       "      <td>-1</td>\n",
       "      <td>-1</td>\n",
       "      <td>...</td>\n",
       "      <td>-1</td>\n",
       "      <td>-1</td>\n",
       "      <td>1</td>\n",
       "      <td>-1</td>\n",
       "      <td>1</td>\n",
       "      <td>-1</td>\n",
       "      <td>-1</td>\n",
       "      <td>1</td>\n",
       "      <td>-1</td>\n",
       "      <td>1</td>\n",
       "    </tr>\n",
       "    <tr>\n",
       "      <th>199997</th>\n",
       "      <td>-1</td>\n",
       "      <td>-1</td>\n",
       "      <td>1</td>\n",
       "      <td>-1</td>\n",
       "      <td>1</td>\n",
       "      <td>-1</td>\n",
       "      <td>-1</td>\n",
       "      <td>-1</td>\n",
       "      <td>-1</td>\n",
       "      <td>1</td>\n",
       "      <td>...</td>\n",
       "      <td>-1</td>\n",
       "      <td>1</td>\n",
       "      <td>-1</td>\n",
       "      <td>1</td>\n",
       "      <td>1</td>\n",
       "      <td>-1</td>\n",
       "      <td>1</td>\n",
       "      <td>1</td>\n",
       "      <td>-1</td>\n",
       "      <td>1</td>\n",
       "    </tr>\n",
       "    <tr>\n",
       "      <th>199998</th>\n",
       "      <td>-1</td>\n",
       "      <td>-1</td>\n",
       "      <td>1</td>\n",
       "      <td>1</td>\n",
       "      <td>-1</td>\n",
       "      <td>1</td>\n",
       "      <td>1</td>\n",
       "      <td>-1</td>\n",
       "      <td>1</td>\n",
       "      <td>-1</td>\n",
       "      <td>...</td>\n",
       "      <td>-1</td>\n",
       "      <td>1</td>\n",
       "      <td>1</td>\n",
       "      <td>-1</td>\n",
       "      <td>-1</td>\n",
       "      <td>-1</td>\n",
       "      <td>1</td>\n",
       "      <td>1</td>\n",
       "      <td>1</td>\n",
       "      <td>-1</td>\n",
       "    </tr>\n",
       "    <tr>\n",
       "      <th>199999</th>\n",
       "      <td>-1</td>\n",
       "      <td>-1</td>\n",
       "      <td>1</td>\n",
       "      <td>-1</td>\n",
       "      <td>1</td>\n",
       "      <td>1</td>\n",
       "      <td>-1</td>\n",
       "      <td>1</td>\n",
       "      <td>1</td>\n",
       "      <td>1</td>\n",
       "      <td>...</td>\n",
       "      <td>1</td>\n",
       "      <td>-1</td>\n",
       "      <td>-1</td>\n",
       "      <td>-1</td>\n",
       "      <td>-1</td>\n",
       "      <td>-1</td>\n",
       "      <td>-1</td>\n",
       "      <td>-1</td>\n",
       "      <td>-1</td>\n",
       "      <td>-1</td>\n",
       "    </tr>\n",
       "  </tbody>\n",
       "</table>\n",
       "<p>200000 rows × 1024 columns</p>\n",
       "</div>"
      ],
      "text/plain": [
       "        0     1     2     3     4     5     6     7     8     9     ...  1014  \\\n",
       "0          1     1     1     1     1     1     1     1     1     1  ...     1   \n",
       "1          1     1     1     1     1     1     1     1     1     1  ...     1   \n",
       "2          1     1     1     1     1     1     1     1     1     1  ...     1   \n",
       "3          1     1     1     1     1     1     1     1     1     1  ...     1   \n",
       "4          1     1     1     1     1     1     1     1     1     1  ...     1   \n",
       "...      ...   ...   ...   ...   ...   ...   ...   ...   ...   ...  ...   ...   \n",
       "199995     1     1    -1     1     1     1    -1    -1    -1     1  ...     1   \n",
       "199996     1     1    -1    -1    -1    -1     1     1    -1    -1  ...    -1   \n",
       "199997    -1    -1     1    -1     1    -1    -1    -1    -1     1  ...    -1   \n",
       "199998    -1    -1     1     1    -1     1     1    -1     1    -1  ...    -1   \n",
       "199999    -1    -1     1    -1     1     1    -1     1     1     1  ...     1   \n",
       "\n",
       "        1015  1016  1017  1018  1019  1020  1021  1022  1023  \n",
       "0          1     1     1     1     1     1     1     1     1  \n",
       "1          1     1     1     1     1     1     1     1     1  \n",
       "2          1     1     1     1     1     1     1     1     1  \n",
       "3          1     1     1     1     1     1     1     1     1  \n",
       "4          1     1     1     1     1     1     1     1     1  \n",
       "...      ...   ...   ...   ...   ...   ...   ...   ...   ...  \n",
       "199995     1     1     1     1     1    -1    -1    -1     1  \n",
       "199996    -1     1    -1     1    -1    -1     1    -1     1  \n",
       "199997     1    -1     1     1    -1     1     1    -1     1  \n",
       "199998     1     1    -1    -1    -1     1     1     1    -1  \n",
       "199999    -1    -1    -1    -1    -1    -1    -1    -1    -1  \n",
       "\n",
       "[200000 rows x 1024 columns]"
      ]
     },
     "execution_count": 46,
     "metadata": {},
     "output_type": "execute_result"
    }
   ],
   "source": [
    "df_conf"
   ]
  },
  {
   "cell_type": "markdown",
   "id": "3ba7e68a-af3f-40d6-9e38-d75bb53628e4",
   "metadata": {},
   "source": [
    "## Get the temp and magnatization into the configuration dataframe"
   ]
  },
  {
   "cell_type": "code",
   "execution_count": 47,
   "id": "32987d5f-f8de-4b80-9425-e32cf6f471e4",
   "metadata": {},
   "outputs": [],
   "source": [
    "df_conf[\"T\"] = df_bins[\" T \"]"
   ]
  },
  {
   "cell_type": "code",
   "execution_count": 48,
   "id": "dd08ea41-b20c-49b9-bb7e-b1ac0846134e",
   "metadata": {},
   "outputs": [
    {
     "data": {
      "text/plain": [
       "Index([   0,    1,    2,    3,    4,    5,    6,    7,    8,    9,\n",
       "       ...\n",
       "       1015, 1016, 1017, 1018, 1019, 1020, 1021, 1022, 1023,  'T'],\n",
       "      dtype='object', length=1025)"
      ]
     },
     "execution_count": 48,
     "metadata": {},
     "output_type": "execute_result"
    }
   ],
   "source": [
    "df_conf.columns"
   ]
  },
  {
   "cell_type": "code",
   "execution_count": 49,
   "id": "aeaefde9-a027-4a3d-acfe-aa3a2b10fd4e",
   "metadata": {},
   "outputs": [],
   "source": [
    "mean_col = df_conf[0].copy()\n",
    "for i in range(1, L):\n",
    "    mean_col += df_conf[i]\n",
    "\n",
    "mean_col /= L"
   ]
  },
  {
   "cell_type": "code",
   "execution_count": 50,
   "id": "ba82e04f-cfbf-4200-b5e1-f9e109fc620b",
   "metadata": {},
   "outputs": [],
   "source": [
    "df_conf[\"M\"] = mean_col"
   ]
  },
  {
   "cell_type": "markdown",
   "id": "f4ced43c-7937-4c50-8bca-aa5d1b51ce8d",
   "metadata": {},
   "source": [
    "# If you want to filter temp do it here"
   ]
  },
  {
   "cell_type": "code",
   "execution_count": 51,
   "id": "0f64be0d-b80c-4412-85b7-06122f335a9b",
   "metadata": {},
   "outputs": [],
   "source": [
    "#filterned_confs = df_conf[(df_conf[\"T\"] < 1.5) | (df_conf[\"T\"] > 4.5)]\n",
    "#filterned_confs = df_conf[(df_conf[\"T\"] > 1.5) | (df_conf[\"T\"] > 4.5)]\n",
    "filterned_confs = df_conf"
   ]
  },
  {
   "cell_type": "code",
   "execution_count": 52,
   "id": "c3701418-d6e6-4f24-9d13-c87d1dfa0c65",
   "metadata": {},
   "outputs": [],
   "source": [
    "train_with_meta_info = filterned_confs.sample(frac=TRAINING_FRACTION, axis=0)\n",
    "test_with_meta_info = filterned_confs.drop(index=train_with_meta_info.index)\n",
    "train = train_with_meta_info.drop([\"T\",\"M\"], axis=1)\n",
    "test = test_with_meta_info.drop([\"T\",\"M\"], axis=1)"
   ]
  },
  {
   "cell_type": "code",
   "execution_count": 15,
   "id": "931ebf6e-cd3f-4e1f-8ffe-5517f34bda8d",
   "metadata": {},
   "outputs": [
    {
     "data": {
      "text/html": [
       "<div>\n",
       "<style scoped>\n",
       "    .dataframe tbody tr th:only-of-type {\n",
       "        vertical-align: middle;\n",
       "    }\n",
       "\n",
       "    .dataframe tbody tr th {\n",
       "        vertical-align: top;\n",
       "    }\n",
       "\n",
       "    .dataframe thead th {\n",
       "        text-align: right;\n",
       "    }\n",
       "</style>\n",
       "<table border=\"1\" class=\"dataframe\">\n",
       "  <thead>\n",
       "    <tr style=\"text-align: right;\">\n",
       "      <th></th>\n",
       "      <th>0</th>\n",
       "      <th>1</th>\n",
       "      <th>2</th>\n",
       "      <th>3</th>\n",
       "      <th>4</th>\n",
       "      <th>5</th>\n",
       "      <th>6</th>\n",
       "      <th>7</th>\n",
       "      <th>8</th>\n",
       "      <th>9</th>\n",
       "      <th>...</th>\n",
       "      <th>246</th>\n",
       "      <th>247</th>\n",
       "      <th>248</th>\n",
       "      <th>249</th>\n",
       "      <th>250</th>\n",
       "      <th>251</th>\n",
       "      <th>252</th>\n",
       "      <th>253</th>\n",
       "      <th>254</th>\n",
       "      <th>255</th>\n",
       "    </tr>\n",
       "  </thead>\n",
       "  <tbody>\n",
       "    <tr>\n",
       "      <th>3677</th>\n",
       "      <td>1</td>\n",
       "      <td>1</td>\n",
       "      <td>-1</td>\n",
       "      <td>1</td>\n",
       "      <td>1</td>\n",
       "      <td>-1</td>\n",
       "      <td>-1</td>\n",
       "      <td>1</td>\n",
       "      <td>-1</td>\n",
       "      <td>1</td>\n",
       "      <td>...</td>\n",
       "      <td>-1</td>\n",
       "      <td>1</td>\n",
       "      <td>-1</td>\n",
       "      <td>1</td>\n",
       "      <td>1</td>\n",
       "      <td>1</td>\n",
       "      <td>1</td>\n",
       "      <td>1</td>\n",
       "      <td>1</td>\n",
       "      <td>1</td>\n",
       "    </tr>\n",
       "    <tr>\n",
       "      <th>2651</th>\n",
       "      <td>-1</td>\n",
       "      <td>-1</td>\n",
       "      <td>-1</td>\n",
       "      <td>-1</td>\n",
       "      <td>-1</td>\n",
       "      <td>-1</td>\n",
       "      <td>-1</td>\n",
       "      <td>-1</td>\n",
       "      <td>-1</td>\n",
       "      <td>-1</td>\n",
       "      <td>...</td>\n",
       "      <td>-1</td>\n",
       "      <td>1</td>\n",
       "      <td>-1</td>\n",
       "      <td>-1</td>\n",
       "      <td>-1</td>\n",
       "      <td>-1</td>\n",
       "      <td>-1</td>\n",
       "      <td>-1</td>\n",
       "      <td>-1</td>\n",
       "      <td>-1</td>\n",
       "    </tr>\n",
       "    <tr>\n",
       "      <th>4926</th>\n",
       "      <td>-1</td>\n",
       "      <td>-1</td>\n",
       "      <td>-1</td>\n",
       "      <td>-1</td>\n",
       "      <td>1</td>\n",
       "      <td>1</td>\n",
       "      <td>-1</td>\n",
       "      <td>-1</td>\n",
       "      <td>1</td>\n",
       "      <td>-1</td>\n",
       "      <td>...</td>\n",
       "      <td>-1</td>\n",
       "      <td>1</td>\n",
       "      <td>1</td>\n",
       "      <td>-1</td>\n",
       "      <td>-1</td>\n",
       "      <td>-1</td>\n",
       "      <td>1</td>\n",
       "      <td>1</td>\n",
       "      <td>-1</td>\n",
       "      <td>-1</td>\n",
       "    </tr>\n",
       "    <tr>\n",
       "      <th>881</th>\n",
       "      <td>1</td>\n",
       "      <td>1</td>\n",
       "      <td>1</td>\n",
       "      <td>1</td>\n",
       "      <td>1</td>\n",
       "      <td>1</td>\n",
       "      <td>1</td>\n",
       "      <td>1</td>\n",
       "      <td>1</td>\n",
       "      <td>1</td>\n",
       "      <td>...</td>\n",
       "      <td>1</td>\n",
       "      <td>1</td>\n",
       "      <td>1</td>\n",
       "      <td>1</td>\n",
       "      <td>1</td>\n",
       "      <td>1</td>\n",
       "      <td>1</td>\n",
       "      <td>1</td>\n",
       "      <td>1</td>\n",
       "      <td>1</td>\n",
       "    </tr>\n",
       "    <tr>\n",
       "      <th>3433</th>\n",
       "      <td>-1</td>\n",
       "      <td>-1</td>\n",
       "      <td>1</td>\n",
       "      <td>1</td>\n",
       "      <td>1</td>\n",
       "      <td>-1</td>\n",
       "      <td>-1</td>\n",
       "      <td>-1</td>\n",
       "      <td>1</td>\n",
       "      <td>1</td>\n",
       "      <td>...</td>\n",
       "      <td>-1</td>\n",
       "      <td>-1</td>\n",
       "      <td>-1</td>\n",
       "      <td>-1</td>\n",
       "      <td>1</td>\n",
       "      <td>1</td>\n",
       "      <td>1</td>\n",
       "      <td>1</td>\n",
       "      <td>-1</td>\n",
       "      <td>-1</td>\n",
       "    </tr>\n",
       "  </tbody>\n",
       "</table>\n",
       "<p>5 rows × 256 columns</p>\n",
       "</div>"
      ],
      "text/plain": [
       "      0    1    2    3    4    5    6    7    8    9    ...  246  247  248  \\\n",
       "3677    1    1   -1    1    1   -1   -1    1   -1    1  ...   -1    1   -1   \n",
       "2651   -1   -1   -1   -1   -1   -1   -1   -1   -1   -1  ...   -1    1   -1   \n",
       "4926   -1   -1   -1   -1    1    1   -1   -1    1   -1  ...   -1    1    1   \n",
       "881     1    1    1    1    1    1    1    1    1    1  ...    1    1    1   \n",
       "3433   -1   -1    1    1    1   -1   -1   -1    1    1  ...   -1   -1   -1   \n",
       "\n",
       "      249  250  251  252  253  254  255  \n",
       "3677    1    1    1    1    1    1    1  \n",
       "2651   -1   -1   -1   -1   -1   -1   -1  \n",
       "4926   -1   -1   -1    1    1   -1   -1  \n",
       "881     1    1    1    1    1    1    1  \n",
       "3433   -1    1    1    1    1   -1   -1  \n",
       "\n",
       "[5 rows x 256 columns]"
      ]
     },
     "execution_count": 15,
     "metadata": {},
     "output_type": "execute_result"
    }
   ],
   "source": [
    "train.head()"
   ]
  },
  {
   "cell_type": "code",
   "execution_count": null,
   "id": "6d8ce28b-2580-4e9c-8fbb-5a2fbec76415",
   "metadata": {},
   "outputs": [],
   "source": []
  },
  {
   "cell_type": "code",
   "execution_count": 16,
   "id": "e60f1a8f-fbcd-4dad-95e9-7d48bea230d5",
   "metadata": {},
   "outputs": [],
   "source": [
    "img_pca = PCA(n_components=N_DENSE)"
   ]
  },
  {
   "cell_type": "code",
   "execution_count": 17,
   "id": "a2a755b6-fe6e-4c89-9ea7-343cb2ed7776",
   "metadata": {},
   "outputs": [
    {
     "data": {
      "text/plain": [
       "PCA(n_components=1)"
      ]
     },
     "execution_count": 17,
     "metadata": {},
     "output_type": "execute_result"
    }
   ],
   "source": [
    "img_pca.fit(train)"
   ]
  },
  {
   "cell_type": "code",
   "execution_count": 18,
   "id": "a17cc88a-5e05-42eb-b1b4-9713962d21bc",
   "metadata": {},
   "outputs": [],
   "source": [
    "components = img_pca.transform(filterned_confs.drop([\"T\",\"M\"], axis=1))"
   ]
  },
  {
   "cell_type": "code",
   "execution_count": 19,
   "id": "77164d17-d435-495d-b955-4711168423bb",
   "metadata": {},
   "outputs": [
    {
     "data": {
      "text/plain": [
       "(5000, 1)"
      ]
     },
     "execution_count": 19,
     "metadata": {},
     "output_type": "execute_result"
    }
   ],
   "source": [
    "components.shape"
   ]
  },
  {
   "cell_type": "code",
   "execution_count": 20,
   "id": "863b71ea-4282-4be0-8390-1f9b055278a7",
   "metadata": {},
   "outputs": [
    {
     "data": {
      "text/plain": [
       "0       1.0\n",
       "1       1.0\n",
       "2       1.0\n",
       "3       1.0\n",
       "4       1.0\n",
       "       ... \n",
       "4995    5.0\n",
       "4996    5.0\n",
       "4997    5.0\n",
       "4998    5.0\n",
       "4999    5.0\n",
       "Name: T, Length: 5000, dtype: float64"
      ]
     },
     "execution_count": 20,
     "metadata": {},
     "output_type": "execute_result"
    }
   ],
   "source": [
    "filterned_confs[\"T\"]"
   ]
  },
  {
   "cell_type": "code",
   "execution_count": 21,
   "id": "1d598765-81df-478c-90bf-418087ea3772",
   "metadata": {},
   "outputs": [],
   "source": [
    "if N_DENSE > 1:\n",
    "    plt.scatter(components[:,0], components[:,1], c=pd.to_numeric(filterned_confs[\"T\"]), alpha=0.1)"
   ]
  },
  {
   "cell_type": "code",
   "execution_count": 22,
   "id": "78342c38-cb45-4a31-aae6-ea2adb23b150",
   "metadata": {},
   "outputs": [],
   "source": [
    "if N_DENSE > 1:\n",
    "    plt.scatter(components[:,0], components[:,1], c=pd.to_numeric(filterned_confs[\"M\"]), alpha=0.1)"
   ]
  },
  {
   "cell_type": "code",
   "execution_count": 23,
   "id": "c90d05b8-7f3c-4d7e-b2c8-61d9d8048fd2",
   "metadata": {},
   "outputs": [
    {
     "ename": "AttributeError",
     "evalue": "'AxesSubplot' object has no attribute 'flat'",
     "output_type": "error",
     "traceback": [
      "\u001b[0;31m---------------------------------------------------------------------------\u001b[0m",
      "\u001b[0;31mAttributeError\u001b[0m                            Traceback (most recent call last)",
      "Input \u001b[0;32mIn [23]\u001b[0m, in \u001b[0;36m<cell line: 13>\u001b[0;34m()\u001b[0m\n\u001b[1;32m     11\u001b[0m fig_pca, (axes_pca, ax_color) \u001b[38;5;241m=\u001b[39m plt\u001b[38;5;241m.\u001b[39msubplots(\u001b[38;5;241m2\u001b[39m,N_DENSE, gridspec_kw\u001b[38;5;241m=\u001b[39m{\u001b[38;5;124m\"\u001b[39m\u001b[38;5;124mheight_ratios\u001b[39m\u001b[38;5;124m\"\u001b[39m:[\u001b[38;5;241m1\u001b[39m, \u001b[38;5;241m0.05\u001b[39m]})\n\u001b[1;32m     12\u001b[0m im_list \u001b[38;5;241m=\u001b[39m []\n\u001b[0;32m---> 13\u001b[0m \u001b[38;5;28;01mfor\u001b[39;00m i, ax \u001b[38;5;129;01min\u001b[39;00m \u001b[38;5;28menumerate\u001b[39m(\u001b[43maxes_pca\u001b[49m\u001b[38;5;241;43m.\u001b[39;49m\u001b[43mflat\u001b[49m):\n\u001b[1;32m     14\u001b[0m     im \u001b[38;5;241m=\u001b[39m ax\u001b[38;5;241m.\u001b[39mimshow(img_pca\u001b[38;5;241m.\u001b[39mcomponents_[i]\u001b[38;5;241m.\u001b[39mreshape(L,L), vmin\u001b[38;5;241m=\u001b[39mvmin, vmax\u001b[38;5;241m=\u001b[39mvmax)\n\u001b[1;32m     15\u001b[0m     im_list\u001b[38;5;241m.\u001b[39mappend(im)\n",
      "\u001b[0;31mAttributeError\u001b[0m: 'AxesSubplot' object has no attribute 'flat'"
     ]
    },
    {
     "data": {
      "image/png": "[encoded data removed]",
      "text/plain": [
       "<Figure size 432x288 with 2 Axes>"
      ]
     },
     "metadata": {
      "needs_background": "light"
     },
     "output_type": "display_data"
    }
   ],
   "source": [
    "vmax = 0.0\n",
    "vmin = 0.0\n",
    "for i in range(N_DENSE):\n",
    "    if max(img_pca.components_[i]) > vmax:\n",
    "        vmax = max(img_pca.components_[i])\n",
    "    \n",
    "    if min(img_pca.components_[i]) < vmin:\n",
    "        vmin = min(img_pca.components_[i])\n",
    "        \n",
    "\n",
    "fig_pca, (axes_pca, ax_color) = plt.subplots(2,N_DENSE, gridspec_kw={\"height_ratios\":[1, 0.05]})\n",
    "im_list = []\n",
    "for i, ax in enumerate(axes_pca.flat):\n",
    "    im = ax.imshow(img_pca.components_[i].reshape(L,L), vmin=vmin, vmax=vmax)\n",
    "    im_list.append(im)\n",
    "\n",
    "for i, ax in enumerate(ax_color.flat):\n",
    "    fig_pca.colorbar(im_list[i], cax=ax, orientation=\"horizontal\")\n",
    "plt.savefig(\"{}/s3-bucket/ising/pca_weights_as_image_l{}\".format(prefix_s3, L))"
   ]
  },
  {
   "cell_type": "code",
   "execution_count": 24,
   "id": "be52368f-0b9a-4080-a80a-8d6fa1f1687a",
   "metadata": {},
   "outputs": [
    {
     "ename": "IndexError",
     "evalue": "index 1 is out of bounds for axis 1 with size 1",
     "output_type": "error",
     "traceback": [
      "\u001b[0;31m---------------------------------------------------------------------------\u001b[0m",
      "\u001b[0;31mIndexError\u001b[0m                                Traceback (most recent call last)",
      "Input \u001b[0;32mIn [24]\u001b[0m, in \u001b[0;36m<cell line: 1>\u001b[0;34m()\u001b[0m\n\u001b[0;32m----> 1\u001b[0m df_components \u001b[38;5;241m=\u001b[39m pd\u001b[38;5;241m.\u001b[39mDataFrame(data\u001b[38;5;241m=\u001b[39m{\u001b[38;5;124m\"\u001b[39m\u001b[38;5;124mc0\u001b[39m\u001b[38;5;124m\"\u001b[39m: components[:,\u001b[38;5;241m0\u001b[39m], \u001b[38;5;124m\"\u001b[39m\u001b[38;5;124mc1\u001b[39m\u001b[38;5;124m\"\u001b[39m: \u001b[43mcomponents\u001b[49m\u001b[43m[\u001b[49m\u001b[43m:\u001b[49m\u001b[43m,\u001b[49m\u001b[38;5;241;43m1\u001b[39;49m\u001b[43m]\u001b[49m, \u001b[38;5;124m\"\u001b[39m\u001b[38;5;124mT\u001b[39m\u001b[38;5;124m\"\u001b[39m: pd\u001b[38;5;241m.\u001b[39mto_numeric(filterned_confs[\u001b[38;5;124m\"\u001b[39m\u001b[38;5;124mT\u001b[39m\u001b[38;5;124m\"\u001b[39m])})\n",
      "\u001b[0;31mIndexError\u001b[0m: index 1 is out of bounds for axis 1 with size 1"
     ]
    }
   ],
   "source": [
    "df_components = pd.DataFrame(data={\"c0\": components[:,0], \"c1\": components[:,1], \"T\": pd.to_numeric(filterned_confs[\"T\"])})"
   ]
  },
  {
   "cell_type": "code",
   "execution_count": 25,
   "id": "31041950-ee34-408b-a33b-c5920aaa960d",
   "metadata": {},
   "outputs": [
    {
     "ename": "NameError",
     "evalue": "name 'df_components' is not defined",
     "output_type": "error",
     "traceback": [
      "\u001b[0;31m---------------------------------------------------------------------------\u001b[0m",
      "\u001b[0;31mNameError\u001b[0m                                 Traceback (most recent call last)",
      "Input \u001b[0;32mIn [25]\u001b[0m, in \u001b[0;36m<cell line: 2>\u001b[0;34m()\u001b[0m\n\u001b[1;32m      1\u001b[0m component_number \u001b[38;5;241m=\u001b[39m \u001b[38;5;241m0\u001b[39m\n\u001b[0;32m----> 2\u001b[0m plt\u001b[38;5;241m.\u001b[39mhist(\u001b[43mdf_components\u001b[49m[df_components[\u001b[38;5;124m\"\u001b[39m\u001b[38;5;124mT\u001b[39m\u001b[38;5;124m\"\u001b[39m] \u001b[38;5;241m>\u001b[39m \u001b[38;5;241m2\u001b[39m][\u001b[38;5;124m\"\u001b[39m\u001b[38;5;124mc\u001b[39m\u001b[38;5;132;01m{}\u001b[39;00m\u001b[38;5;124m\"\u001b[39m\u001b[38;5;241m.\u001b[39mformat(component_number)], bins\u001b[38;5;241m=\u001b[39m\u001b[38;5;241m15\u001b[39m, color\u001b[38;5;241m=\u001b[39m\u001b[38;5;124m\"\u001b[39m\u001b[38;5;124mr\u001b[39m\u001b[38;5;124m\"\u001b[39m)\n\u001b[1;32m      3\u001b[0m plt\u001b[38;5;241m.\u001b[39mhist(df_components[df_components[\u001b[38;5;124m\"\u001b[39m\u001b[38;5;124mT\u001b[39m\u001b[38;5;124m\"\u001b[39m] \u001b[38;5;241m<\u001b[39m \u001b[38;5;241m2\u001b[39m][\u001b[38;5;124m\"\u001b[39m\u001b[38;5;124mc\u001b[39m\u001b[38;5;132;01m{}\u001b[39;00m\u001b[38;5;124m\"\u001b[39m\u001b[38;5;241m.\u001b[39mformat(component_number)], bins\u001b[38;5;241m=\u001b[39m\u001b[38;5;241m20\u001b[39m, color\u001b[38;5;241m=\u001b[39m\u001b[38;5;124m\"\u001b[39m\u001b[38;5;124my\u001b[39m\u001b[38;5;124m\"\u001b[39m)\n\u001b[1;32m      4\u001b[0m \u001b[38;5;66;03m#plt.show()\u001b[39;00m\n",
      "\u001b[0;31mNameError\u001b[0m: name 'df_components' is not defined"
     ]
    }
   ],
   "source": [
    "component_number = 0\n",
    "plt.hist(df_components[df_components[\"T\"] > 2][\"c{}\".format(component_number)], bins=15, color=\"r\")\n",
    "plt.hist(df_components[df_components[\"T\"] < 2][\"c{}\".format(component_number)], bins=20, color=\"y\")\n",
    "#plt.show()\n",
    "plt.savefig(\"{}/s3-bucket/reproduction/fig_2/pca_latent_param_hist_l{}.png\".format(prefix_s3, L))"
   ]
  },
  {
   "cell_type": "code",
   "execution_count": null,
   "id": "5dcaf80a-acef-40aa-a21c-f4720383ad78",
   "metadata": {},
   "outputs": [],
   "source": [
    "plt.scatter(pd.to_numeric(filterned_confs[\"M\"]), components[:,0], c=pd.to_numeric(filterned_confs[\"T\"]), alpha=0.1)\n",
    "plt.xlabel(\"magnitization\")\n",
    "plt.ylabel(\"1st\")\n",
    "plt.savefig(\"{}/s3-bucket/reproduction/fig_2/pca_scatter_latent_vs_mag_color_by_t_l{}.png\".format(prefix_s3, L))"
   ]
  },
  {
   "cell_type": "markdown",
   "id": "c311229c-42d6-4c86-8819-5a9709203b86",
   "metadata": {},
   "source": [
    "# PCA Recreate from latent space"
   ]
  },
  {
   "cell_type": "code",
   "execution_count": 26,
   "id": "8dfddc6e-b5b5-4134-815f-a154424f401f",
   "metadata": {},
   "outputs": [
    {
     "data": {
      "image/png": "[encoded data removed]",
      "text/plain": [
       "<Figure size 216x1440 with 20 Axes>"
      ]
     },
     "metadata": {
      "needs_background": "light"
     },
     "output_type": "display_data"
    }
   ],
   "source": [
    "\n",
    "recreate_sample_size = 10\n",
    "\n",
    "plt.figure(figsize=(3, recreate_sample_size*2))\n",
    "\n",
    "sampled_look = test.sample(recreate_sample_size)\n",
    "\n",
    "for i in range(recreate_sample_size):\n",
    "    \n",
    "    plt1 = plt.subplot2grid((recreate_sample_size,2), (i,0), colspan=1)\n",
    "    plt2 = plt.subplot2grid((recreate_sample_size,2), (i,1), colspan=1)\n",
    "    \n",
    "    plt1.imshow(\n",
    "        sampled_look.iloc[i].to_numpy().reshape(L,L)\n",
    "    )\n",
    "    plt2.imshow(\n",
    "        img_pca.inverse_transform(img_pca.transform(sampled_look))[i].reshape(L,L)\n",
    "    )\n"
   ]
  },
  {
   "cell_type": "markdown",
   "id": "1eb33e77-6016-4e84-a5fd-75c8fd63c85a",
   "metadata": {},
   "source": [
    "# Simple Autoencoder"
   ]
  },
  {
   "cell_type": "code",
   "execution_count": 27,
   "id": "258c7e7b-6cac-41bb-9911-fed86edbe4a9",
   "metadata": {},
   "outputs": [
    {
     "name": "stderr",
     "output_type": "stream",
     "text": [
      "2022-08-12 14:45:36.504724: I tensorflow/stream_executor/cuda/cuda_gpu_executor.cc:975] successful NUMA node read from SysFS had negative value (-1), but there must be at least one NUMA node, so returning NUMA node zero\n",
      "2022-08-12 14:45:36.507902: I tensorflow/stream_executor/cuda/cuda_gpu_executor.cc:975] successful NUMA node read from SysFS had negative value (-1), but there must be at least one NUMA node, so returning NUMA node zero\n",
      "2022-08-12 14:45:36.508186: I tensorflow/stream_executor/cuda/cuda_gpu_executor.cc:975] successful NUMA node read from SysFS had negative value (-1), but there must be at least one NUMA node, so returning NUMA node zero\n",
      "2022-08-12 14:45:36.508661: I tensorflow/core/platform/cpu_feature_guard.cc:193] This TensorFlow binary is optimized with oneAPI Deep Neural Network Library (oneDNN) to use the following CPU instructions in performance-critical operations:  AVX2 FMA\n",
      "To enable them in other operations, rebuild TensorFlow with the appropriate compiler flags.\n",
      "2022-08-12 14:45:36.509039: I tensorflow/stream_executor/cuda/cuda_gpu_executor.cc:975] successful NUMA node read from SysFS had negative value (-1), but there must be at least one NUMA node, so returning NUMA node zero\n",
      "2022-08-12 14:45:36.509300: I tensorflow/stream_executor/cuda/cuda_gpu_executor.cc:975] successful NUMA node read from SysFS had negative value (-1), but there must be at least one NUMA node, so returning NUMA node zero\n",
      "2022-08-12 14:45:36.509542: I tensorflow/stream_executor/cuda/cuda_gpu_executor.cc:975] successful NUMA node read from SysFS had negative value (-1), but there must be at least one NUMA node, so returning NUMA node zero\n",
      "2022-08-12 14:45:36.831284: I tensorflow/stream_executor/cuda/cuda_gpu_executor.cc:975] successful NUMA node read from SysFS had negative value (-1), but there must be at least one NUMA node, so returning NUMA node zero\n",
      "2022-08-12 14:45:36.831592: I tensorflow/stream_executor/cuda/cuda_gpu_executor.cc:975] successful NUMA node read from SysFS had negative value (-1), but there must be at least one NUMA node, so returning NUMA node zero\n",
      "2022-08-12 14:45:36.831811: I tensorflow/stream_executor/cuda/cuda_gpu_executor.cc:975] successful NUMA node read from SysFS had negative value (-1), but there must be at least one NUMA node, so returning NUMA node zero\n",
      "2022-08-12 14:45:36.832010: I tensorflow/core/common_runtime/gpu/gpu_device.cc:1532] Created device /job:localhost/replica:0/task:0/device:GPU:0 with 4340 MB memory:  -> device: 0, name: NVIDIA GeForce GTX 980 Ti, pci bus id: 0000:01:00.0, compute capability: 5.2\n"
     ]
    }
   ],
   "source": [
    "simp_ae = tf.keras.Sequential(\n",
    "    [\n",
    "        keras.layers.InputLayer(input_shape=(L*L,)),\n",
    "        keras.layers.Dense(N_DENSE, use_bias=False, name='latent_space'),\n",
    "        keras.layers.Dense(L*L),\n",
    "    ]\n",
    ")\n"
   ]
  },
  {
   "cell_type": "code",
   "execution_count": 28,
   "id": "eb6cf958-da14-4172-b7a7-776146a8d0cf",
   "metadata": {},
   "outputs": [
    {
     "data": {
      "text/plain": [
       "(None, 256)"
      ]
     },
     "execution_count": 28,
     "metadata": {},
     "output_type": "execute_result"
    }
   ],
   "source": [
    "simp_ae.output_shape"
   ]
  },
  {
   "cell_type": "code",
   "execution_count": 29,
   "id": "6f2faad0-c650-4b7e-bbc2-df9d8b7b53f3",
   "metadata": {},
   "outputs": [
    {
     "name": "stdout",
     "output_type": "stream",
     "text": [
      "Model: \"sequential\"\n",
      "_________________________________________________________________\n",
      " Layer (type)                Output Shape              Param #   \n",
      "=================================================================\n",
      " latent_space (Dense)        (None, 1)                 256       \n",
      "                                                                 \n",
      " dense (Dense)               (None, 256)               512       \n",
      "                                                                 \n",
      "=================================================================\n",
      "Total params: 768\n",
      "Trainable params: 768\n",
      "Non-trainable params: 0\n",
      "_________________________________________________________________\n"
     ]
    }
   ],
   "source": [
    "simp_ae.summary()"
   ]
  },
  {
   "cell_type": "code",
   "execution_count": 30,
   "id": "6ec54ee1-ffc0-4836-9d05-2d6bafe1d117",
   "metadata": {},
   "outputs": [],
   "source": [
    "tb_callback = keras.callbacks.TensorBoard(\n",
    "    log_dir=tensorboard_log_dir,\n",
    "    histogram_freq=2,  \n",
    "    write_graph=True,\n",
    "    write_images=True\n",
    ")"
   ]
  },
  {
   "cell_type": "code",
   "execution_count": 31,
   "id": "0f45e3f4-9c75-49bf-b246-babb3c5c715d",
   "metadata": {},
   "outputs": [
    {
     "data": {
      "text/plain": [
       "'/home/owen//logs/fit/20220812-141818'"
      ]
     },
     "execution_count": 31,
     "metadata": {},
     "output_type": "execute_result"
    }
   ],
   "source": [
    "tensorboard_log_dir"
   ]
  },
  {
   "cell_type": "code",
   "execution_count": 32,
   "id": "bb3361e5-34d7-4a2d-bfb6-f7c23ba40b33",
   "metadata": {},
   "outputs": [],
   "source": [
    "simp_ae.compile(optimizer=\"adam\", loss=\"mse\", metrics=[\"mae\"])"
   ]
  },
  {
   "cell_type": "code",
   "execution_count": 33,
   "id": "0973a88c-5bb4-4b38-9584-c97a3db7ce70",
   "metadata": {
    "tags": []
   },
   "outputs": [
    {
     "name": "stdout",
     "output_type": "stream",
     "text": [
      "Epoch 1/50\n",
      "313/313 [==============================] - 1s 1ms/step - loss: 0.7263 - mae: 0.7339\n",
      "Epoch 2/50\n",
      "313/313 [==============================] - 0s 1ms/step - loss: 0.6200 - mae: 0.6233\n",
      "Epoch 3/50\n",
      "313/313 [==============================] - 0s 1ms/step - loss: 0.6192 - mae: 0.6234\n",
      "Epoch 4/50\n",
      "313/313 [==============================] - 0s 1ms/step - loss: 0.6189 - mae: 0.6236\n",
      "Epoch 5/50\n",
      "313/313 [==============================] - 0s 1ms/step - loss: 0.6188 - mae: 0.6233\n",
      "Epoch 6/50\n",
      "313/313 [==============================] - 0s 1ms/step - loss: 0.6188 - mae: 0.6235\n",
      "Epoch 7/50\n",
      "313/313 [==============================] - 0s 1ms/step - loss: 0.6188 - mae: 0.6234\n",
      "Epoch 8/50\n",
      "313/313 [==============================] - 0s 1ms/step - loss: 0.6188 - mae: 0.6234\n",
      "Epoch 9/50\n",
      "313/313 [==============================] - 0s 1ms/step - loss: 0.6188 - mae: 0.6233\n",
      "Epoch 10/50\n",
      "313/313 [==============================] - 0s 1ms/step - loss: 0.6187 - mae: 0.6232\n",
      "Epoch 11/50\n",
      "313/313 [==============================] - 0s 1ms/step - loss: 0.6187 - mae: 0.6233\n",
      "Epoch 12/50\n",
      "313/313 [==============================] - 0s 1ms/step - loss: 0.6187 - mae: 0.6232\n",
      "Epoch 13/50\n",
      "313/313 [==============================] - 0s 1ms/step - loss: 0.6187 - mae: 0.6232\n",
      "Epoch 14/50\n",
      "313/313 [==============================] - 0s 1ms/step - loss: 0.6187 - mae: 0.6231\n",
      "Epoch 15/50\n",
      "313/313 [==============================] - 0s 1ms/step - loss: 0.6187 - mae: 0.6232\n",
      "Epoch 16/50\n",
      "313/313 [==============================] - 0s 1ms/step - loss: 0.6187 - mae: 0.6230\n",
      "Epoch 17/50\n",
      "313/313 [==============================] - 0s 1ms/step - loss: 0.6187 - mae: 0.6230\n",
      "Epoch 18/50\n",
      "313/313 [==============================] - 0s 1ms/step - loss: 0.6187 - mae: 0.6231\n",
      "Epoch 19/50\n",
      "313/313 [==============================] - 0s 1ms/step - loss: 0.6187 - mae: 0.6230\n",
      "Epoch 20/50\n",
      "313/313 [==============================] - 0s 1ms/step - loss: 0.6187 - mae: 0.6231\n",
      "Epoch 21/50\n",
      "313/313 [==============================] - 0s 1ms/step - loss: 0.6187 - mae: 0.6230\n",
      "Epoch 22/50\n",
      "313/313 [==============================] - 0s 1ms/step - loss: 0.6187 - mae: 0.6230\n",
      "Epoch 23/50\n",
      "313/313 [==============================] - 0s 1ms/step - loss: 0.6187 - mae: 0.6229\n",
      "Epoch 24/50\n",
      "313/313 [==============================] - 0s 1ms/step - loss: 0.6187 - mae: 0.6229\n",
      "Epoch 25/50\n",
      "313/313 [==============================] - 0s 1ms/step - loss: 0.6187 - mae: 0.6228\n",
      "Epoch 26/50\n",
      "313/313 [==============================] - 0s 1ms/step - loss: 0.6187 - mae: 0.6230\n",
      "Epoch 27/50\n",
      "313/313 [==============================] - 0s 1ms/step - loss: 0.6187 - mae: 0.6229\n",
      "Epoch 28/50\n",
      "313/313 [==============================] - 0s 1ms/step - loss: 0.6187 - mae: 0.6228\n",
      "Epoch 29/50\n",
      "313/313 [==============================] - 0s 1ms/step - loss: 0.6187 - mae: 0.6228\n",
      "Epoch 30/50\n",
      "313/313 [==============================] - 0s 1ms/step - loss: 0.6187 - mae: 0.6229\n",
      "Epoch 31/50\n",
      "313/313 [==============================] - 0s 1ms/step - loss: 0.6187 - mae: 0.6226\n",
      "Epoch 32/50\n",
      "313/313 [==============================] - 0s 1ms/step - loss: 0.6187 - mae: 0.6228\n",
      "Epoch 33/50\n",
      "313/313 [==============================] - 0s 1ms/step - loss: 0.6187 - mae: 0.6228\n",
      "Epoch 34/50\n",
      "313/313 [==============================] - 0s 1ms/step - loss: 0.6187 - mae: 0.6228\n",
      "Epoch 35/50\n",
      "313/313 [==============================] - 0s 1ms/step - loss: 0.6187 - mae: 0.6226\n",
      "Epoch 36/50\n",
      "313/313 [==============================] - 0s 1ms/step - loss: 0.6187 - mae: 0.6227\n",
      "Epoch 37/50\n",
      "313/313 [==============================] - 0s 1ms/step - loss: 0.6187 - mae: 0.6227\n",
      "Epoch 38/50\n",
      "313/313 [==============================] - 0s 1ms/step - loss: 0.6187 - mae: 0.6226\n",
      "Epoch 39/50\n",
      "313/313 [==============================] - 0s 1ms/step - loss: 0.6187 - mae: 0.6226\n",
      "Epoch 40/50\n",
      "313/313 [==============================] - 0s 1ms/step - loss: 0.6187 - mae: 0.6227\n",
      "Epoch 41/50\n",
      "313/313 [==============================] - 0s 1ms/step - loss: 0.6187 - mae: 0.6226\n",
      "Epoch 42/50\n",
      "313/313 [==============================] - 0s 1ms/step - loss: 0.6187 - mae: 0.6227\n",
      "Epoch 43/50\n",
      "313/313 [==============================] - 0s 1ms/step - loss: 0.6187 - mae: 0.6226\n",
      "Epoch 44/50\n",
      "313/313 [==============================] - 0s 1ms/step - loss: 0.6187 - mae: 0.6226\n",
      "Epoch 45/50\n",
      "313/313 [==============================] - 0s 1ms/step - loss: 0.6187 - mae: 0.6225\n",
      "Epoch 46/50\n",
      "313/313 [==============================] - 0s 1ms/step - loss: 0.6187 - mae: 0.6225\n",
      "Epoch 47/50\n",
      "313/313 [==============================] - 0s 1ms/step - loss: 0.6187 - mae: 0.6225\n",
      "Epoch 48/50\n",
      "313/313 [==============================] - 0s 1ms/step - loss: 0.6187 - mae: 0.6225\n",
      "Epoch 49/50\n",
      "313/313 [==============================] - 0s 1ms/step - loss: 0.6187 - mae: 0.6226\n",
      "Epoch 50/50\n",
      "313/313 [==============================] - 0s 1ms/step - loss: 0.6187 - mae: 0.6225\n"
     ]
    },
    {
     "data": {
      "text/plain": [
       "<keras.callbacks.History at 0x7f025479b580>"
      ]
     },
     "execution_count": 33,
     "metadata": {},
     "output_type": "execute_result"
    }
   ],
   "source": [
    "simp_ae.fit(\n",
    "    batch_size=16,\n",
    "    x=filterned_confs.drop([\"T\",\"M\"], axis=1),\n",
    "    y=filterned_confs.drop([\"T\",\"M\"], axis=1),\n",
    "    epochs=50,\n",
    "    callbacks=[tb_callback]\n",
    ")"
   ]
  },
  {
   "cell_type": "code",
   "execution_count": 34,
   "id": "57da0df7-d970-4b69-8fb6-7252c9b4edae",
   "metadata": {},
   "outputs": [],
   "source": [
    "mid_layer = simp_ae.get_layer('latent_space')"
   ]
  },
  {
   "cell_type": "code",
   "execution_count": 35,
   "id": "166f7233-06fa-481c-8396-58e6d1b71a9e",
   "metadata": {},
   "outputs": [
    {
     "data": {
      "text/plain": [
       "(256, 1)"
      ]
     },
     "execution_count": 35,
     "metadata": {},
     "output_type": "execute_result"
    }
   ],
   "source": [
    "mid_layer.get_weights()[0].shape"
   ]
  },
  {
   "cell_type": "code",
   "execution_count": 36,
   "id": "ceba03c9-df72-4993-a336-f8032fc19ac7",
   "metadata": {},
   "outputs": [
    {
     "data": {
      "image/png": "[encoded data removed]",
      "text/plain": [
       "<Figure size 432x288 with 2 Axes>"
      ]
     },
     "metadata": {
      "needs_background": "light"
     },
     "output_type": "display_data"
    }
   ],
   "source": [
    "vmax = 0.0\n",
    "vmin = 0.0\n",
    "for i in range(N_DENSE):\n",
    "    cur_w = mid_layer.get_weights()[0][:,-(i+1)]\n",
    "    if max(cur_w) > vmax:\n",
    "        vmax = max(cur_w)\n",
    "    \n",
    "    if min(cur_w) < vmin:\n",
    "        vmin = min(cur_w)\n",
    "        \n",
    "\n",
    "fig, (axes, ax_color) = plt.subplots(2,N_DENSE, gridspec_kw={\"height_ratios\":[1, 0.05]})\n",
    "im_list = []\n",
    "axes_iter = None\n",
    "if N_DENSE > 1:\n",
    "    for i, ax in enumerate(axes.flat):\n",
    "        im = ax.imshow(mid_layer.get_weights()[0][:,-(i+1)].reshape(L,L), vmin=vmin, vmax=vmax)\n",
    "        im_list.append(im)\n",
    "\n",
    "    for i, ax in enumerate(ax_color.flat):\n",
    "        fig.colorbar(im_list[i], cax=ax, orientation=\"horizontal\")\n",
    "else:\n",
    "        im = axes.imshow(mid_layer.get_weights()[0][:,-(i+1)].reshape(L,L), vmin=vmin, vmax=vmax)\n",
    "        im_list.append(im)\n",
    "        fig.colorbar(im_list[0], cax=ax_color, orientation=\"horizontal\")\n",
    "        #plt.colorbar(x=axes, orientation=\"horizontal\")\n",
    "\n",
    "#plt.savefig(\"{}/s3-bucket/ising/ae_weights_as_image_l{}\".format(prefix_s3, L))\n",
    "plt.savefig(\"{}/s3-bucket/ising/linear_ae_latent_space_build_up_for_pca_compare/ae_weights_as_image_l{}_n_dense_{}\".format(prefix_s3, L, N_DENSE))"
   ]
  },
  {
   "cell_type": "code",
   "execution_count": null,
   "id": "5dd1c7c3-058c-4738-aaf0-c187826a49b9",
   "metadata": {},
   "outputs": [],
   "source": [
    "max(mid_layer.get_weights()[0][:,-(i+1)])"
   ]
  },
  {
   "cell_type": "code",
   "execution_count": null,
   "id": "0f6cc1d8-a7bd-4921-9938-cccdf8a50f97",
   "metadata": {},
   "outputs": [],
   "source": [
    "full_latent_out = simp_ae.predict(filterned_confs.drop([\"T\",\"M\"], axis=1))"
   ]
  },
  {
   "cell_type": "code",
   "execution_count": null,
   "id": "e6ebce46-dae6-479d-be6d-f76a9fa166e8",
   "metadata": {},
   "outputs": [],
   "source": [
    "plt.scatter(pd.to_numeric(filterned_confs[\"M\"]), full_latent_out[:,0], c=pd.to_numeric(filterned_confs[\"T\"]), alpha=0.1)\n",
    "plt.xlabel(\"magnitization\")\n",
    "plt.ylabel(\"1st\")\n",
    "plt.savefig(\"{}/s3-bucket/reproduction/fig_2/ae_scatter_latent_vs_mag_color_by_t_l{}.png\".format(prefix_s3, L))"
   ]
  },
  {
   "cell_type": "markdown",
   "id": "eba21e27-03c7-4358-a7f6-95dccaca5f6c",
   "metadata": {},
   "source": [
    "# Simple AE Latent Space"
   ]
  },
  {
   "cell_type": "code",
   "execution_count": null,
   "id": "71c45829-c874-43eb-8ce0-81d986cf48e0",
   "metadata": {},
   "outputs": [],
   "source": [
    "#mid_layer = simp_ae.get_layer('latent_space')\n",
    "#mid_layer.output()"
   ]
  },
  {
   "cell_type": "code",
   "execution_count": null,
   "id": "9551d153-9300-4df2-93b5-f8996433cf97",
   "metadata": {},
   "outputs": [],
   "source": [
    "extractor = keras.Model(inputs=simp_ae.inputs,\n",
    "                        outputs=[layer.output for layer in simp_ae.layers])"
   ]
  },
  {
   "cell_type": "code",
   "execution_count": null,
   "id": "98a25d86-3076-4894-9980-323c07ed9374",
   "metadata": {},
   "outputs": [],
   "source": [
    "extractor"
   ]
  },
  {
   "cell_type": "code",
   "execution_count": null,
   "id": "6febb989-a9d9-4846-85d5-8ef0d942d6f3",
   "metadata": {},
   "outputs": [],
   "source": [
    "features = extractor(filterned_confs.drop([\"T\",\"M\"], axis=1).to_numpy())"
   ]
  },
  {
   "cell_type": "code",
   "execution_count": null,
   "id": "52ec02a9-8e31-44c1-ad0a-86871db8864b",
   "metadata": {},
   "outputs": [],
   "source": [
    "features[0].shape"
   ]
  },
  {
   "cell_type": "code",
   "execution_count": null,
   "id": "372abf85-9765-43f4-ad31-5993a678edd8",
   "metadata": {},
   "outputs": [],
   "source": [
    "features[0][:,0]"
   ]
  },
  {
   "cell_type": "code",
   "execution_count": null,
   "id": "b5aab2fe-8752-4da3-b2c2-dfc0d8bf964c",
   "metadata": {},
   "outputs": [],
   "source": [
    "plt.scatter(features[0][:,2], features[0][:,1], c=filterned_confs[\"T\"])"
   ]
  },
  {
   "cell_type": "markdown",
   "id": "98dea57c-1d5b-40b3-a060-c0c5e896c960",
   "metadata": {},
   "source": [
    "# Simple Autoencoder with Reshape"
   ]
  },
  {
   "cell_type": "code",
   "execution_count": null,
   "id": "7566ba55-a391-4684-971d-68951c7b2054",
   "metadata": {},
   "outputs": [],
   "source": [
    "simp_ae = tf.keras.Sequential(\n",
    "    [\n",
    "        keras.layers.InputLayer(input_shape=(L, L, 1)),\n",
    "        keras.layers.Flatten(),\n",
    "        keras.layers.Dense(N_DENSE, use_bias=False, name='latent_space'),\n",
    "        keras.layers.Dense(units=L*L),\n",
    "        keras.layers.Reshape(target_shape=(L, L, 1))\n",
    "    ]\n",
    ")"
   ]
  },
  {
   "cell_type": "markdown",
   "id": "430b81af-4ca3-4a41-8a11-a93c6caa59da",
   "metadata": {
    "tags": []
   },
   "source": [
    "# Fig 2.c"
   ]
  },
  {
   "cell_type": "code",
   "execution_count": null,
   "id": "36bfbf81-9c61-4189-b8a0-ded63bdb2c37",
   "metadata": {},
   "outputs": [],
   "source": [
    "filterned_confs[\"latent_1\"] = full_latent_out[:,0]"
   ]
  },
  {
   "cell_type": "code",
   "execution_count": null,
   "id": "c9fa43df-2c73-40d9-bad4-15d1052145d3",
   "metadata": {},
   "outputs": [],
   "source": [
    "from sqlalchemy import create_engine\n",
    "engine = create_engine('sqlite://', echo=False)"
   ]
  },
  {
   "cell_type": "code",
   "execution_count": null,
   "id": "0725fd81-e4c4-4098-bd10-eaf0b0a37b26",
   "metadata": {},
   "outputs": [],
   "source": [
    "filterned_confs.to_sql('filtered_confs', con=engine, if_exists='append')"
   ]
  },
  {
   "cell_type": "code",
   "execution_count": null,
   "id": "a2b587ce-cefb-44b7-ad61-47481a898882",
   "metadata": {},
   "outputs": [],
   "source": [
    "avg_m_out = engine.execute(\n",
    "\"\"\"\n",
    "    select \n",
    "        t,\n",
    "        avg(abs(m)),\n",
    "        avg(abs(latent_1))\n",
    "    from filtered_confs\n",
    "    group by t\n",
    "\"\"\").fetchall()"
   ]
  },
  {
   "cell_type": "code",
   "execution_count": null,
   "id": "80d9b691-d4a0-45f1-af46-c7da68d48752",
   "metadata": {},
   "outputs": [],
   "source": [
    "avg_m_out[1:]"
   ]
  },
  {
   "cell_type": "code",
   "execution_count": null,
   "id": "64add91a-e96c-4fb5-a4de-05b6917f865b",
   "metadata": {},
   "outputs": [],
   "source": [
    "plt.plot(\n",
    "    [i[0] for i in avg_m_out[1:]],\n",
    "    [i[1] for i in avg_m_out[1:]],\n",
    "    c='r',\n",
    "    label=\"magnetization\"\n",
    ")\n",
    "plt.plot(\n",
    "    [i[0] for i in avg_m_out[1:]],\n",
    "    [i[2] for i in avg_m_out[1:]],\n",
    "    c='b',\n",
    "    label=\"latent param.\"\n",
    ")\n",
    "plt.xlabel(\"Temperature\")\n",
    "plt.legend()\n",
    "plt.savefig(\"{}/s3-bucket/reproduction/fig_2/pca_magnitization_and_latent_param_vs_temp_l{}.png\".format(prefix_s3, L))"
   ]
  },
  {
   "cell_type": "markdown",
   "id": "8ed0a1f4-20a8-42bd-b048-d55cd5c8549b",
   "metadata": {},
   "source": [
    "# Look into this"
   ]
  },
  {
   "cell_type": "code",
   "execution_count": null,
   "id": "7c98df83-fa2c-4afa-85b1-4cd40fbc9550",
   "metadata": {},
   "outputs": [],
   "source": [
    "#engine.execute(\n",
    "#\"\"\"\n",
    "#    select \n",
    "#    m\n",
    "#    from filterned_confs\n",
    "#    where t is null\n",
    "#\"\"\").fetchall()"
   ]
  },
  {
   "cell_type": "markdown",
   "id": "53cc9ffa-7319-4542-ae93-dac98fac07e9",
   "metadata": {},
   "source": [
    "# Simple AE Recreate from Latent Space"
   ]
  },
  {
   "cell_type": "code",
   "execution_count": null,
   "id": "b26436f8-c88e-41bb-939a-2f33fc0f8f95",
   "metadata": {},
   "outputs": [],
   "source": [
    "recreate_sample_size = 10\n",
    "\n",
    "plt.figure(figsize=(3, recreate_sample_size*2))\n",
    "\n",
    "sampled_look = filterned_confs.drop([\"T\",\"M\"], axis=1).sample(recreate_sample_size)\n",
    "sampled_latent_out = simp_ae.predict(sampled_look)\n",
    "\n",
    "for i in range(recreate_sample_size):\n",
    "    \n",
    "    plt1 = plt.subplot2grid((recreate_sample_size,2), (i,0), colspan=1)\n",
    "    plt2 = plt.subplot2grid((recreate_sample_size,2), (i,1), colspan=1)\n",
    "    \n",
    "    plt1.imshow(\n",
    "        sampled_look.iloc[i].to_numpy().reshape(L,L)\n",
    "    )\n",
    "    plt2.imshow(\n",
    "        sampled_latent_out[i].reshape(L,L)\n",
    "    )\n"
   ]
  },
  {
   "cell_type": "code",
   "execution_count": null,
   "id": "2de5d1ab-7b99-4623-a71e-c9716d01bc2a",
   "metadata": {},
   "outputs": [],
   "source": []
  }
 ],
 "metadata": {
  "kernelspec": {
   "display_name": "Python 3",
   "language": "python",
   "name": "python3"
  },
  "language_info": {
   "codemirror_mode": {
    "name": "ipython",
    "version": 3
   },
   "file_extension": ".py",
   "mimetype": "text/x-python",
   "name": "python",
   "nbconvert_exporter": "python",
   "pygments_lexer": "ipython3",
   "version": "3.8.10"
  }
 },
 "nbformat": 4,
 "nbformat_minor": 5
}
