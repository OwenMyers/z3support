{
 "cells": [
  {
   "cell_type": "code",
   "execution_count": 64,
   "metadata": {},
   "outputs": [],
   "source": [
    "import os\n",
    "from keras.layers import Input, Dense, Conv2D, Conv2DTranspose, MaxPooling2D, UpSampling2D\n",
    "from keras.models import Model\n",
    "from keras import models\n",
    "from keras import backend as K\n",
    "from keras.callbacks import TensorBoard, ModelCheckpoint\n",
    "from tensorboard.plugins.hparams import api as hp\n",
    "import tensorflow as tf\n",
    "import tensorflow as tf\n",
    "import numpy as np\n",
    "import pickle\n",
    "from datetime import datetime\n",
    "from contextlib import redirect_stdout\n",
    "import uuid\n",
    "from matplotlib import pyplot as plt"
   ]
  },
  {
   "cell_type": "code",
   "execution_count": 43,
   "metadata": {},
   "outputs": [],
   "source": [
    "L = 4\n",
    "FEATURE_MAP_START = 16\n",
    "EPOCHS = 32\n",
    "# quick run of single param or full param sweep. Use True for testing.\n",
    "QRUN = True\n",
    "VERBOSE = False\n",
    "# result dir in the tensorboardraw directory\n",
    "BOARD_SUB_DIR = 'hp_autoencoder'"
   ]
  },
  {
   "cell_type": "code",
   "execution_count": 44,
   "metadata": {},
   "outputs": [],
   "source": [
    "CHECKPOINTER = ModelCheckpoint(filepath='hparm_sweep_model_checkpoit.hdf5', \n",
    "                               monitor='val_loss',\n",
    "                               verbose=1, \n",
    "                               save_best_only=True,\n",
    "                               mode='auto')"
   ]
  },
  {
   "cell_type": "code",
   "execution_count": 45,
   "metadata": {},
   "outputs": [],
   "source": [
    "if not QRUN:\n",
    "    HP_BATCH_SIZE = hp.HParam('batch_size', hp.Discrete([15, 50]))\n",
    "    HP_N_LAYERS = hp.HParam('n_layers', hp.Discrete([2, 3]))\n",
    "    HP_FEATURE_MAP_STEP = hp.HParam('feature_map_step', hp.Discrete([2, 8, 16]))\n",
    "    HP_STRIDE_SIZE = hp.HParam('stride', hp.Discrete([1, 2]))\n",
    "else:\n",
    "    HP_BATCH_SIZE = hp.HParam('batch_size', hp.Discrete([50]))\n",
    "    HP_N_LAYERS = hp.HParam('n_layers', hp.Discrete([3]))\n",
    "    HP_FEATURE_MAP_STEP = hp.HParam('feature_map_step', hp.Discrete([16]))\n",
    "    HP_STRIDE_SIZE = hp.HParam('stride', hp.Discrete([1]))\n",
    "    BOARD_SUB_DIR = 'qrun'"
   ]
  },
  {
   "cell_type": "markdown",
   "metadata": {},
   "source": [
    "# Notes:\n",
    "* Add `Input` argument `channels_first` when using Z3 data and \n",
    "  change the input dimensions.\n",
    "* You will have to manualy add periodic edges for periodic padding before real runn\n",
    "* **requires** running the transform notebook to get the data into a format for the auto encoder"
   ]
  },
  {
   "cell_type": "code",
   "execution_count": 46,
   "metadata": {},
   "outputs": [],
   "source": [
    "with open('pickle_data.pkl', 'rb') as f:\n",
    "    all_data = pickle.load(f)\n",
    "\n",
    "all_data = all_data.astype('float32') / 5.0\n",
    "n_records = len(all_data)\n",
    "x_train = all_data[: n_records - int(n_records/4)]\n",
    "x_test = all_data[int(n_records/4) :]\n",
    "x_train = np.reshape(x_train, (len(x_train), L * 2, L * 2, 1))\n",
    "x_test = np.reshape(x_test, (len(x_test), L * 2, L * 2, 1))"
   ]
  },
  {
   "cell_type": "code",
   "execution_count": 47,
   "metadata": {},
   "outputs": [],
   "source": [
    "with tf.summary.create_file_writer(os.path.join('tensorboardraw', BOARD_SUB_DIR)).as_default():\n",
    "    hp.hparams_config(\n",
    "        hparams=[HP_BATCH_SIZE, HP_N_LAYERS, HP_FEATURE_MAP_STEP, HP_STRIDE_SIZE],\n",
    "        metrics=[hp.Metric('binary_crossentropy', display_name='Loss')]\n",
    "    )"
   ]
  },
  {
   "cell_type": "code",
   "execution_count": 52,
   "metadata": {},
   "outputs": [],
   "source": [
    "def train_test_model(hparams):\n",
    "    current_run_id = uuid.uuid4().hex\n",
    "    \n",
    "    input_obj = Input(shape=(L*2, L*2, 1))\n",
    "\n",
    "    x = Conv2D(\n",
    "        FEATURE_MAP_START,\n",
    "        (3, 3),\n",
    "        strides=hparams[HP_STRIDE_SIZE],\n",
    "        activation='relu',\n",
    "        padding='same',\n",
    "        use_bias=True\n",
    "    )(input_obj)\n",
    "\n",
    "    for i in range(hparams[HP_N_LAYERS] - 1):\n",
    "        fm = FEATURE_MAP_START + (i + 1) * hparams[HP_FEATURE_MAP_STEP]\n",
    "        x = Conv2D(\n",
    "            fm,\n",
    "            (3, 3),\n",
    "            strides=hparams[HP_STRIDE_SIZE],\n",
    "            activation='relu',\n",
    "            padding='same',\n",
    "            use_bias=True\n",
    "        )(x)\n",
    "        \n",
    "    max_fm = fm\n",
    "\n",
    "    for i in range(hparams[HP_N_LAYERS] - 1):\n",
    "        fm = max_fm - (i + 1) * hparams[HP_FEATURE_MAP_STEP]\n",
    "        x = Conv2DTranspose(\n",
    "            fm,\n",
    "            (3, 3),\n",
    "            strides=hparams[HP_STRIDE_SIZE],\n",
    "            activation='relu',\n",
    "            padding='same',\n",
    "            use_bias=True\n",
    "        )(x)\n",
    "    \n",
    "    decoded = Conv2DTranspose(\n",
    "        1,\n",
    "        (3, 3),\n",
    "        strides=hparams[HP_STRIDE_SIZE],\n",
    "        activation='relu',\n",
    "        padding='same',\n",
    "        use_bias=True\n",
    "    )(x)\n",
    "\n",
    "    autoencoder = Model(input_obj, decoded)\n",
    "    #autoencoder.summary()\n",
    "    autoencoder.compile(\n",
    "        optimizer='adadelta',\n",
    "        loss='binary_crossentropy',\n",
    "        metrics=['binary_crossentropy']\n",
    "    )\n",
    "\n",
    "    #log_dir='tensorboardraw/hp_autoencoder/{}_{}'.format(datetime.now(), current_run_id)\n",
    "    log_dir = os.path.join('tensorboardraw', BOARD_SUB_DIR)\n",
    "    autoencoder.fit(\n",
    "        x_train, x_train,\n",
    "        epochs=EPOCHS,\n",
    "        batch_size=hparams[HP_BATCH_SIZE],\n",
    "        shuffle=True,\n",
    "        validation_data=(x_test, x_test),\n",
    "        callbacks=[\n",
    "            TensorBoard(log_dir=log_dir),\n",
    "            hp.KerasCallback(log_dir, hparams),\n",
    "            CHECKPOINTER\n",
    "        ]\n",
    "    )\n",
    "    _, binary_crossentropy = autoencoder.evaluate(x_test, x_test)\n",
    "    return binary_crossentropy, autoencoder"
   ]
  },
  {
   "cell_type": "code",
   "execution_count": 55,
   "metadata": {},
   "outputs": [],
   "source": [
    "def run(run_dir, hparams):\n",
    "    with tf.summary.create_file_writer(run_dir).as_default():\n",
    "        hp.hparams(hparams)\n",
    "        loss, autoencoder = train_test_model(hparams)\n",
    "        tf.summary.scalar('binary_crossentropy', loss, step=1)\n",
    "        \n",
    "    return autoencoder"
   ]
  },
  {
   "cell_type": "code",
   "execution_count": 56,
   "metadata": {},
   "outputs": [
    {
     "name": "stdout",
     "output_type": "stream",
     "text": [
      "--- Starting trial: run-1\n",
      "{'batch_size': 50, 'n_layers': 3, 'feature_map_step': 16, 'stride': 1}\n",
      "Epoch 1/32\n",
      "148/150 [============================>.] - ETA: 0s - loss: 3.0720 - binary_crossentropy: 3.0720\n",
      "Epoch 00001: val_loss did not improve from 0.50532\n",
      "150/150 [==============================] - 2s 12ms/step - loss: 3.0708 - binary_crossentropy: 3.0708 - val_loss: 2.9550 - val_binary_crossentropy: 2.9550\n",
      "Epoch 2/32\n",
      "147/150 [============================>.] - ETA: 0s - loss: 2.8641 - binary_crossentropy: 2.8641\n",
      "Epoch 00002: val_loss did not improve from 0.50532\n",
      "150/150 [==============================] - 2s 10ms/step - loss: 2.8622 - binary_crossentropy: 2.8622 - val_loss: 2.7635 - val_binary_crossentropy: 2.7635\n",
      "Epoch 3/32\n",
      "149/150 [============================>.] - ETA: 0s - loss: 2.6748 - binary_crossentropy: 2.6748\n",
      "Epoch 00003: val_loss did not improve from 0.50532\n",
      "150/150 [==============================] - 2s 10ms/step - loss: 2.6742 - binary_crossentropy: 2.6742 - val_loss: 2.5979 - val_binary_crossentropy: 2.5979\n",
      "Epoch 4/32\n",
      "144/150 [===========================>..] - ETA: 0s - loss: 2.5434 - binary_crossentropy: 2.5434\n",
      "Epoch 00004: val_loss did not improve from 0.50532\n",
      "150/150 [==============================] - 2s 10ms/step - loss: 2.5415 - binary_crossentropy: 2.5415 - val_loss: 2.4909 - val_binary_crossentropy: 2.4909\n",
      "Epoch 5/32\n",
      "147/150 [============================>.] - ETA: 0s - loss: 2.4502 - binary_crossentropy: 2.4502\n",
      "Epoch 00005: val_loss did not improve from 0.50532\n",
      "150/150 [==============================] - 3s 19ms/step - loss: 2.4491 - binary_crossentropy: 2.4491 - val_loss: 2.4051 - val_binary_crossentropy: 2.4051\n",
      "Epoch 6/32\n",
      "148/150 [============================>.] - ETA: 0s - loss: 2.3590 - binary_crossentropy: 2.3590\n",
      "Epoch 00006: val_loss did not improve from 0.50532\n",
      "150/150 [==============================] - 4s 26ms/step - loss: 2.3590 - binary_crossentropy: 2.3590 - val_loss: 2.3112 - val_binary_crossentropy: 2.3112\n",
      "Epoch 7/32\n",
      "148/150 [============================>.] - ETA: 0s - loss: 2.2688 - binary_crossentropy: 2.2688\n",
      "Epoch 00007: val_loss did not improve from 0.50532\n",
      "150/150 [==============================] - 3s 19ms/step - loss: 2.2682 - binary_crossentropy: 2.2682 - val_loss: 2.2141 - val_binary_crossentropy: 2.2141\n",
      "Epoch 8/32\n",
      "144/150 [===========================>..] - ETA: 0s - loss: 2.1790 - binary_crossentropy: 2.1790\n",
      "Epoch 00008: val_loss did not improve from 0.50532\n",
      "150/150 [==============================] - 2s 10ms/step - loss: 2.1775 - binary_crossentropy: 2.1775 - val_loss: 2.1327 - val_binary_crossentropy: 2.1327\n",
      "Epoch 9/32\n",
      "145/150 [============================>.] - ETA: 0s - loss: 2.0985 - binary_crossentropy: 2.0985\n",
      "Epoch 00009: val_loss did not improve from 0.50532\n",
      "150/150 [==============================] - 2s 10ms/step - loss: 2.0974 - binary_crossentropy: 2.0974 - val_loss: 2.0524 - val_binary_crossentropy: 2.0524\n",
      "Epoch 10/32\n",
      "146/150 [============================>.] - ETA: 0s - loss: 2.0119 - binary_crossentropy: 2.0119\n",
      "Epoch 00010: val_loss did not improve from 0.50532\n",
      "150/150 [==============================] - 2s 10ms/step - loss: 2.0109 - binary_crossentropy: 2.0109 - val_loss: 1.9710 - val_binary_crossentropy: 1.9710\n",
      "Epoch 11/32\n",
      "147/150 [============================>.] - ETA: 0s - loss: 1.9455 - binary_crossentropy: 1.9455\n",
      "Epoch 00011: val_loss did not improve from 0.50532\n",
      "150/150 [==============================] - 2s 10ms/step - loss: 1.9446 - binary_crossentropy: 1.9446 - val_loss: 1.9113 - val_binary_crossentropy: 1.9113\n",
      "Epoch 12/32\n",
      "150/150 [==============================] - ETA: 0s - loss: 1.8822 - binary_crossentropy: 1.8822\n",
      "Epoch 00012: val_loss did not improve from 0.50532\n",
      "150/150 [==============================] - 2s 10ms/step - loss: 1.8822 - binary_crossentropy: 1.8822 - val_loss: 1.8521 - val_binary_crossentropy: 1.8521\n",
      "Epoch 13/32\n",
      "145/150 [============================>.] - ETA: 0s - loss: 1.8247 - binary_crossentropy: 1.8247\n",
      "Epoch 00013: val_loss did not improve from 0.50532\n",
      "150/150 [==============================] - 2s 10ms/step - loss: 1.8236 - binary_crossentropy: 1.8236 - val_loss: 1.7949 - val_binary_crossentropy: 1.7949\n",
      "Epoch 14/32\n",
      "145/150 [============================>.] - ETA: 0s - loss: 1.7792 - binary_crossentropy: 1.7792\n",
      "Epoch 00014: val_loss did not improve from 0.50532\n",
      "150/150 [==============================] - 2s 10ms/step - loss: 1.7784 - binary_crossentropy: 1.7784 - val_loss: 1.7605 - val_binary_crossentropy: 1.7605\n",
      "Epoch 15/32\n",
      "144/150 [===========================>..] - ETA: 0s - loss: 1.7439 - binary_crossentropy: 1.7439\n",
      "Epoch 00015: val_loss did not improve from 0.50532\n",
      "150/150 [==============================] - 2s 10ms/step - loss: 1.7424 - binary_crossentropy: 1.7424 - val_loss: 1.7243 - val_binary_crossentropy: 1.7243\n",
      "Epoch 16/32\n",
      "146/150 [============================>.] - ETA: 0s - loss: 1.7110 - binary_crossentropy: 1.7110\n",
      "Epoch 00016: val_loss did not improve from 0.50532\n",
      "150/150 [==============================] - 2s 10ms/step - loss: 1.7108 - binary_crossentropy: 1.7108 - val_loss: 1.6935 - val_binary_crossentropy: 1.6935\n",
      "Epoch 17/32\n",
      "148/150 [============================>.] - ETA: 0s - loss: 1.6788 - binary_crossentropy: 1.6788\n",
      "Epoch 00017: val_loss did not improve from 0.50532\n",
      "150/150 [==============================] - 2s 10ms/step - loss: 1.6783 - binary_crossentropy: 1.6783 - val_loss: 1.6614 - val_binary_crossentropy: 1.6614\n",
      "Epoch 18/32\n",
      "144/150 [===========================>..] - ETA: 0s - loss: 1.6475 - binary_crossentropy: 1.6475\n",
      "Epoch 00018: val_loss did not improve from 0.50532\n",
      "150/150 [==============================] - 2s 10ms/step - loss: 1.6476 - binary_crossentropy: 1.6476 - val_loss: 1.6321 - val_binary_crossentropy: 1.6321\n",
      "Epoch 19/32\n",
      "148/150 [============================>.] - ETA: 0s - loss: 1.6142 - binary_crossentropy: 1.6142\n",
      "Epoch 00019: val_loss did not improve from 0.50532\n",
      "150/150 [==============================] - 3s 17ms/step - loss: 1.6140 - binary_crossentropy: 1.6140 - val_loss: 1.5951 - val_binary_crossentropy: 1.5951\n",
      "Epoch 20/32\n",
      "148/150 [============================>.] - ETA: 0s - loss: 1.5783 - binary_crossentropy: 1.5783\n",
      "Epoch 00020: val_loss did not improve from 0.50532\n",
      "150/150 [==============================] - 2s 11ms/step - loss: 1.5781 - binary_crossentropy: 1.5781 - val_loss: 1.5600 - val_binary_crossentropy: 1.5600\n",
      "Epoch 21/32\n",
      "146/150 [============================>.] - ETA: 0s - loss: 1.5500 - binary_crossentropy: 1.5500\n",
      "Epoch 00021: val_loss did not improve from 0.50532\n",
      "150/150 [==============================] - 2s 10ms/step - loss: 1.5495 - binary_crossentropy: 1.5495 - val_loss: 1.5341 - val_binary_crossentropy: 1.5341\n",
      "Epoch 22/32\n",
      "147/150 [============================>.] - ETA: 0s - loss: 1.5177 - binary_crossentropy: 1.5177\n",
      "Epoch 00022: val_loss did not improve from 0.50532\n",
      "150/150 [==============================] - 2s 11ms/step - loss: 1.5174 - binary_crossentropy: 1.5174 - val_loss: 1.5005 - val_binary_crossentropy: 1.5005\n",
      "Epoch 23/32\n",
      "147/150 [============================>.] - ETA: 0s - loss: 1.4911 - binary_crossentropy: 1.4911\n",
      "Epoch 00023: val_loss did not improve from 0.50532\n",
      "150/150 [==============================] - 2s 10ms/step - loss: 1.4909 - binary_crossentropy: 1.4909 - val_loss: 1.4757 - val_binary_crossentropy: 1.4757\n",
      "Epoch 24/32\n",
      "148/150 [============================>.] - ETA: 0s - loss: 1.4619 - binary_crossentropy: 1.4619\n",
      "Epoch 00024: val_loss did not improve from 0.50532\n",
      "150/150 [==============================] - 2s 10ms/step - loss: 1.4616 - binary_crossentropy: 1.4616 - val_loss: 1.4456 - val_binary_crossentropy: 1.4456\n",
      "Epoch 25/32\n",
      "148/150 [============================>.] - ETA: 0s - loss: 1.4359 - binary_crossentropy: 1.4359\n",
      "Epoch 00025: val_loss did not improve from 0.50532\n",
      "150/150 [==============================] - 2s 10ms/step - loss: 1.4356 - binary_crossentropy: 1.4356 - val_loss: 1.4204 - val_binary_crossentropy: 1.4204\n",
      "Epoch 26/32\n",
      "145/150 [============================>.] - ETA: 0s - loss: 1.4074 - binary_crossentropy: 1.4074\n",
      "Epoch 00026: val_loss did not improve from 0.50532\n",
      "150/150 [==============================] - 2s 10ms/step - loss: 1.4072 - binary_crossentropy: 1.4072 - val_loss: 1.3927 - val_binary_crossentropy: 1.3927\n",
      "Epoch 27/32\n",
      "147/150 [============================>.] - ETA: 0s - loss: 1.3814 - binary_crossentropy: 1.3814\n",
      "Epoch 00027: val_loss did not improve from 0.50532\n",
      "150/150 [==============================] - 2s 10ms/step - loss: 1.3812 - binary_crossentropy: 1.3812 - val_loss: 1.3664 - val_binary_crossentropy: 1.3664\n",
      "Epoch 28/32\n",
      "150/150 [==============================] - ETA: 0s - loss: 1.3542 - binary_crossentropy: 1.3542\n",
      "Epoch 00028: val_loss did not improve from 0.50532\n",
      "150/150 [==============================] - 2s 10ms/step - loss: 1.3542 - binary_crossentropy: 1.3542 - val_loss: 1.3420 - val_binary_crossentropy: 1.3420\n",
      "Epoch 29/32\n",
      "147/150 [============================>.] - ETA: 0s - loss: 1.3310 - binary_crossentropy: 1.3310\n",
      "Epoch 00029: val_loss did not improve from 0.50532\n",
      "150/150 [==============================] - 2s 10ms/step - loss: 1.3312 - binary_crossentropy: 1.3312 - val_loss: 1.3156 - val_binary_crossentropy: 1.3156\n",
      "Epoch 30/32\n",
      "147/150 [============================>.] - ETA: 0s - loss: 1.3004 - binary_crossentropy: 1.3004\n",
      "Epoch 00030: val_loss did not improve from 0.50532\n",
      "150/150 [==============================] - 2s 10ms/step - loss: 1.3003 - binary_crossentropy: 1.3003 - val_loss: 1.2813 - val_binary_crossentropy: 1.2813\n",
      "Epoch 31/32\n",
      "150/150 [==============================] - ETA: 0s - loss: 1.2644 - binary_crossentropy: 1.2644\n",
      "Epoch 00031: val_loss did not improve from 0.50532\n",
      "150/150 [==============================] - 2s 11ms/step - loss: 1.2644 - binary_crossentropy: 1.2644 - val_loss: 1.2441 - val_binary_crossentropy: 1.2441\n",
      "Epoch 32/32\n",
      "145/150 [============================>.] - ETA: 0s - loss: 1.2275 - binary_crossentropy: 1.2275\n",
      "Epoch 00032: val_loss did not improve from 0.50532\n",
      "150/150 [==============================] - 2s 10ms/step - loss: 1.2266 - binary_crossentropy: 1.2266 - val_loss: 1.2060 - val_binary_crossentropy: 1.2060\n",
      "235/235 [==============================] - 0s 2ms/step - loss: 1.2060 - binary_crossentropy: 1.2060\n"
     ]
    }
   ],
   "source": [
    "c = 0\n",
    "for batch_size in HP_BATCH_SIZE.domain.values:\n",
    "    for n_layers in HP_N_LAYERS.domain.values:\n",
    "        for f_map_step in HP_FEATURE_MAP_STEP.domain.values:\n",
    "            for stride in HP_STRIDE_SIZE.domain.values:\n",
    "                hparams = {\n",
    "                    HP_BATCH_SIZE: batch_size,\n",
    "                    HP_N_LAYERS: n_layers,\n",
    "                    HP_FEATURE_MAP_STEP: f_map_step,\n",
    "                    HP_STRIDE_SIZE: stride\n",
    "                }\n",
    "                c += 1\n",
    "                run_name = \"run-%d\" % c\n",
    "                print('--- Starting trial: %s' % run_name)\n",
    "                print({h.name: hparams[h] for h in hparams})\n",
    "                autoencoder = run(os.path.join('tensorboardraw', BOARD_SUB_DIR, run_name), hparams)"
   ]
  },
  {
   "cell_type": "code",
   "execution_count": 57,
   "metadata": {},
   "outputs": [],
   "source": [
    "autoencoder.load_weights('hparm_sweep_model_checkpoit.hdf5')"
   ]
  },
  {
   "cell_type": "code",
   "execution_count": 58,
   "metadata": {},
   "outputs": [],
   "source": [
    "autoencoder.save('models/best_hparam_autoencoder.h5')"
   ]
  },
  {
   "cell_type": "code",
   "execution_count": 59,
   "metadata": {},
   "outputs": [
    {
     "name": "stdout",
     "output_type": "stream",
     "text": [
      "3\n"
     ]
    }
   ],
   "source": [
    "layers_to_encoded = int(len(autoencoder.layers)/2)\n",
    "print(layers_to_encoded)"
   ]
  },
  {
   "cell_type": "code",
   "execution_count": 60,
   "metadata": {},
   "outputs": [],
   "source": [
    "layer_activations = [layer.output for layer in autoencoder.layers[:layers_to_encoded]]"
   ]
  },
  {
   "cell_type": "code",
   "execution_count": 61,
   "metadata": {},
   "outputs": [],
   "source": [
    "activation_model = models.Model(\n",
    "    inputs=autoencoder.input,\n",
    "    outputs=layer_activations\n",
    ")"
   ]
  },
  {
   "cell_type": "code",
   "execution_count": 62,
   "metadata": {},
   "outputs": [
    {
     "data": {
      "text/plain": [
       "(7500, 8, 8, 1)"
      ]
     },
     "execution_count": 62,
     "metadata": {},
     "output_type": "execute_result"
    }
   ],
   "source": [
    "x_test.shape"
   ]
  },
  {
   "cell_type": "code",
   "execution_count": 65,
   "metadata": {},
   "outputs": [
    {
     "data": {
      "text/plain": [
       "<matplotlib.image.AxesImage at 0x7f8711b59ee0>"
      ]
     },
     "execution_count": 65,
     "metadata": {},
     "output_type": "execute_result"
    },
    {
     "data": {
      "image/png": "[encoded data removed]",
      "text/plain": [
       "<Figure size 288x288 with 1 Axes>"
      ]
     },
     "metadata": {
      "needs_background": "light"
     },
     "output_type": "display_data"
    }
   ],
   "source": [
    "single_image = x_test[64]\n",
    "plt.matshow(single_image[:, :, 0])"
   ]
  },
  {
   "cell_type": "code",
   "execution_count": 66,
   "metadata": {},
   "outputs": [],
   "source": [
    "activations = activation_model.predict(x_test)"
   ]
  },
  {
   "cell_type": "code",
   "execution_count": 68,
   "metadata": {},
   "outputs": [
    {
     "data": {
      "text/plain": [
       "<matplotlib.image.AxesImage at 0x7f871163d0d0>"
      ]
     },
     "execution_count": 68,
     "metadata": {},
     "output_type": "execute_result"
    },
    {
     "data": {
      "image/png": "[encoded data removed]",
      "text/plain": [
       "<Figure size 288x288 with 1 Axes>"
      ]
     },
     "metadata": {
      "needs_background": "light"
     },
     "output_type": "display_data"
    }
   ],
   "source": [
    "first_layer_activation = activations[0]\n",
    "plt.matshow(first_layer_activation[1, :, :, 0], cmap='viridis')"
   ]
  },
  {
   "cell_type": "code",
   "execution_count": 69,
   "metadata": {},
   "outputs": [
    {
     "name": "stdout",
     "output_type": "stream",
     "text": [
      "Layer_activation shape (7500, 8, 8, 16);    Layer name conv2d_126\n",
      "Size 8;  N Features 16;  N Cols 1\n",
      "Layer_activation shape (7500, 8, 8, 32);    Layer name conv2d_127\n",
      "Size 8;  N Features 32;  N Cols 2\n"
     ]
    },
    {
     "data": {
      "image/png": "[encoded data removed]",
      "text/plain": [
       "<Figure size 1152x72 with 1 Axes>"
      ]
     },
     "metadata": {
      "needs_background": "light"
     },
     "output_type": "display_data"
    },
    {
     "data": {
      "image/png": "[encoded data removed]",
      "text/plain": [
       "<Figure size 1152x144 with 1 Axes>"
      ]
     },
     "metadata": {
      "needs_background": "light"
     },
     "output_type": "display_data"
    }
   ],
   "source": [
    "layer_names = []\n",
    "for layer in autoencoder.layers[:layers_to_encoded]:\n",
    "    layer_names.append(layer.name) # Names of the layers, so you can have them as part of your plot\n",
    "    \n",
    "images_per_row = 16\n",
    "\n",
    "c = 0\n",
    "for layer_name, layer_activation in zip(layer_names, activations): # Displays the feature maps\n",
    "    if c == 0:\n",
    "        c += 1\n",
    "        continue\n",
    "    print(f'Layer_activation shape {layer_activation.shape};    Layer name {layer_name}')\n",
    "    n_features = layer_activation.shape[-1] # Number of features in the feature map\n",
    "    size = layer_activation.shape[1] #The feature map has shape (1, size, size, n_features).\n",
    "    n_cols = max([n_features // images_per_row, 1]) # Tiles the activation channels in this matrix\n",
    "    print('Size {};  N Features {};  N Cols {}'.format(size, n_features, n_cols))\n",
    "    display_grid = np.zeros((size * n_cols, images_per_row * size))\n",
    "    for col in range(n_cols): # Tiles each filter into a big horizontal grid\n",
    "        for row in range(images_per_row):\n",
    "            try:\n",
    "                channel_image = layer_activation[0, :, :, col * images_per_row + row]\n",
    "            except IndexError:\n",
    "                continue\n",
    "            channel_image -= channel_image.mean() # Post-processes the feature to make it visually palatable\n",
    "            channel_image /= channel_image.std()\n",
    "            channel_image *= 64\n",
    "            channel_image += 128\n",
    "            channel_image = np.clip(channel_image, 0, 255).astype('uint8')\n",
    "            display_grid[col * size : (col + 1) * size, # Displays the grid\n",
    "                         row * size : (row + 1) * size] = channel_image\n",
    "    scale = 1. / size\n",
    "    plt.figure(figsize=(scale * display_grid.shape[1],\n",
    "                        scale * display_grid.shape[0]))\n",
    "    plt.title(layer_name)\n",
    "    plt.grid(False)\n",
    "    plt.imshow(display_grid, aspect='auto', cmap='viridis')\n",
    "    c += 1"
   ]
  },
  {
   "cell_type": "code",
   "execution_count": null,
   "metadata": {},
   "outputs": [],
   "source": []
  }
 ],
 "metadata": {
  "kernelspec": {
   "display_name": "Python 3",
   "language": "python",
   "name": "python3"
  },
  "language_info": {
   "codemirror_mode": {
    "name": "ipython",
    "version": 3
   },
   "file_extension": ".py",
   "mimetype": "text/x-python",
   "name": "python",
   "nbconvert_exporter": "python",
   "pygments_lexer": "ipython3",
   "version": "3.8.10"
  }
 },
 "nbformat": 4,
 "nbformat_minor": 4
}
