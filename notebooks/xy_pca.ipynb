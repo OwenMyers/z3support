{
 "cells": [
  {
   "cell_type": "code",
   "execution_count": 176,
   "id": "946bf4a6-1051-4ee1-a055-bc79d58b116c",
   "metadata": {},
   "outputs": [],
   "source": [
    "from tensorflow import keras\n",
    "import tensorflow as tf\n",
    "from tensorflow.keras.datasets import mnist\n",
    "import pandas as pd\n",
    "from matplotlib import pyplot as plt\n",
    "import sklearn\n",
    "from sklearn.decomposition import PCA\n",
    "import numpy as np\n",
    "import datetime\n",
    "import os\n",
    "\n",
    "from tensorflow.python.framework.ops import disable_eager_execution\n",
    "from models.vae import DenseVariationalAutoencoder\n",
    "disable_eager_execution()\n",
    "\n",
    "\n",
    "os.environ[\"CUDA_VISIBLE_DEVICES\"] = \"-1\"\n",
    "\n",
    "TRAINING_FRACTION = 0.8\n",
    "N_DENSE = 2\n",
    "L=4\n",
    "NON_LINEAR_ACTIVATION_BOOL=True"
   ]
  },
  {
   "cell_type": "code",
   "execution_count": 6,
   "id": "7ea66a09-cbce-41e4-84b9-d330103b369d",
   "metadata": {},
   "outputs": [],
   "source": [
    "user = 1\n",
    "if user == 1:\n",
    "    prefix_s3 = \"/home/owen/\"\n",
    "    prefix_data = \"/home/owen/repos/\"\n",
    "elif user == 2:\n",
    "    prefix_data = \"/Users/omyers/repos/\"\n",
    "    \n",
    "tensorboard_log_dir = \"{}/logs/fit/\".format(prefix_s3) + datetime.datetime.now().strftime(\"%Y%m%d-%H%M%S\")\n"
   ]
  },
  {
   "cell_type": "code",
   "execution_count": 20,
   "id": "dd95e533-2e73-43d4-907e-388d49f5566b",
   "metadata": {},
   "outputs": [],
   "source": [
    "# Just do this so it is easier to configure arbitrary choices\n",
    "work_with_t_list = [ \"00.10\", \"00.20\", \"00.30\",]# \"00.40\", \"00.50\", \"00.60\", \"00.70\", \"00.80\", \"00.90\", \"01.00\", \"01.10\", \"01.20\", \"01.30\", \"01.40\", \"01.50\", \"01.60\", \"01.70\", \"01.80\", \"01.90\", \"02.00\"]"
   ]
  },
  {
   "cell_type": "code",
   "execution_count": 23,
   "id": "bdee7f56-48b9-4135-9bb3-6ea29329cecd",
   "metadata": {},
   "outputs": [
    {
     "name": "stdout",
     "output_type": "stream",
     "text": [
      "/home/owen/repos/z3support/data/XYMLData/2DXY-configs-L-0004/bins_2DXY-configs-L-0004-0004-00.10-0000.txt\n",
      "/home/owen/repos/z3support/data/XYMLData/2DXY-configs-L-0004/bins_2DXY-configs-L-0004-0004-00.20-0000.txt\n",
      "/home/owen/repos/z3support/data/XYMLData/2DXY-configs-L-0004/bins_2DXY-configs-L-0004-0004-00.30-0000.txt\n"
     ]
    }
   ],
   "source": [
    "df_bins = None\n",
    "df_conf = None\n",
    "for i, t_string in enumerate(work_with_t_list):\n",
    "    bins_f_name = \"{prefix_data}z3support/data/XYMLData/2DXY-configs-L-{l}/bins_2DXY-configs-L-{l}-{l}-{t}-0000.txt\".format(\n",
    "        l = str(L).zfill(4),\n",
    "        t = t_string,\n",
    "        prefix_data = prefix_data\n",
    "    )\n",
    "    configs_f_name = \"{prefix_data}z3support/data/XYMLData/2DXY-configs-L-{l}/spinConfigs_2DXY-configs-L-{l}-{l}-{t}-0000.txt\".format(\n",
    "        l = str(L).zfill(4),\n",
    "        t = t_string,\n",
    "        prefix_data = prefix_data\n",
    "    )\n",
    "    if i == 0:\n",
    "        df_bins = pd.read_csv(bins_f_name, sep=\"\\t\")\n",
    "        df_conf = pd.read_csv(configs_f_name, delimiter=r\"\\s+\", header=None)\n",
    "    else:\n",
    "        cur_df_bins = pd.read_csv(bins_f_name, sep=\"\\t\")\n",
    "        cur_df_conf = pd.read_csv(configs_f_name, delimiter=r\"\\s+\", header=None)\n",
    "        df_bins = df_bins.append(cur_df_bins) \n",
    "        df_conf = df_conf.append(cur_df_conf) \n",
    "    print(bins_f_name)"
   ]
  },
  {
   "cell_type": "code",
   "execution_count": 24,
   "id": "5643d93a-24a5-4be6-bdca-f28f48ade956",
   "metadata": {},
   "outputs": [
    {
     "data": {
      "text/plain": [
       "(30000, 10)"
      ]
     },
     "execution_count": 24,
     "metadata": {},
     "output_type": "execute_result"
    }
   ],
   "source": [
    "df_bins.shape"
   ]
  },
  {
   "cell_type": "code",
   "execution_count": 26,
   "id": "ca027ebb-bbfe-4a0b-80f8-6a460319a1f6",
   "metadata": {},
   "outputs": [],
   "source": [
    "df_bins = df_bins.astype(\n",
    "    {\n",
    "        \" T \": float,\n",
    "        \" binNum\": int,\n",
    "    }\n",
    ")"
   ]
  },
  {
   "cell_type": "code",
   "execution_count": 32,
   "id": "53e10b71-173d-43fc-bcb5-44ffdbdbb4b3",
   "metadata": {},
   "outputs": [],
   "source": [
    "df_conf[\"T\"] = df_bins[\" T \"]"
   ]
  },
  {
   "cell_type": "code",
   "execution_count": 33,
   "id": "c5d67406-1112-4546-9e17-1ed4e6cc739f",
   "metadata": {},
   "outputs": [],
   "source": [
    "mean_col = df_conf[0].copy()\n",
    "for i in range(1, L):\n",
    "    mean_col += df_conf[i]\n",
    "\n",
    "mean_col /= L"
   ]
  },
  {
   "cell_type": "code",
   "execution_count": 34,
   "id": "45c28707-bc0e-48ac-9165-385a178a9b03",
   "metadata": {},
   "outputs": [],
   "source": [
    "df_conf[\"M\"] = mean_col"
   ]
  },
  {
   "cell_type": "code",
   "execution_count": 35,
   "id": "5194281f-6a72-46db-b129-1788f21421da",
   "metadata": {},
   "outputs": [
    {
     "data": {
      "text/plain": [
       "Index([0, 1, 2, 3, 4, 5, 6, 7, 8, 9, 10, 11, 12, 13, 14, 15, 'M', 'T'], dtype='object')"
      ]
     },
     "execution_count": 35,
     "metadata": {},
     "output_type": "execute_result"
    }
   ],
   "source": [
    "df_conf.columns"
   ]
  },
  {
   "cell_type": "code",
   "execution_count": 47,
   "id": "7ecf6bed-92cc-42c2-9bf1-6ee7e726612b",
   "metadata": {},
   "outputs": [
    {
     "data": {
      "text/plain": [
       "(30000, 18)"
      ]
     },
     "execution_count": 47,
     "metadata": {},
     "output_type": "execute_result"
    }
   ],
   "source": [
    "df_conf.shape"
   ]
  },
  {
   "cell_type": "code",
   "execution_count": 48,
   "id": "5aaba68a-33b2-41ca-9ab6-825a85925a05",
   "metadata": {},
   "outputs": [
    {
     "data": {
      "text/html": [
       "<div>\n",
       "<style scoped>\n",
       "    .dataframe tbody tr th:only-of-type {\n",
       "        vertical-align: middle;\n",
       "    }\n",
       "\n",
       "    .dataframe tbody tr th {\n",
       "        vertical-align: top;\n",
       "    }\n",
       "\n",
       "    .dataframe thead th {\n",
       "        text-align: right;\n",
       "    }\n",
       "</style>\n",
       "<table border=\"1\" class=\"dataframe\">\n",
       "  <thead>\n",
       "    <tr style=\"text-align: right;\">\n",
       "      <th></th>\n",
       "      <th>0</th>\n",
       "      <th>1</th>\n",
       "      <th>2</th>\n",
       "      <th>3</th>\n",
       "      <th>4</th>\n",
       "      <th>5</th>\n",
       "      <th>6</th>\n",
       "      <th>7</th>\n",
       "      <th>8</th>\n",
       "      <th>9</th>\n",
       "      <th>10</th>\n",
       "      <th>11</th>\n",
       "      <th>12</th>\n",
       "      <th>13</th>\n",
       "      <th>14</th>\n",
       "      <th>15</th>\n",
       "      <th>M</th>\n",
       "      <th>T</th>\n",
       "    </tr>\n",
       "  </thead>\n",
       "  <tbody>\n",
       "    <tr>\n",
       "      <th>0</th>\n",
       "      <td>0.162246</td>\n",
       "      <td>5.973095</td>\n",
       "      <td>6.133531</td>\n",
       "      <td>6.156717</td>\n",
       "      <td>0.025063</td>\n",
       "      <td>6.050038</td>\n",
       "      <td>6.020508</td>\n",
       "      <td>6.223365</td>\n",
       "      <td>0.067779</td>\n",
       "      <td>6.153401</td>\n",
       "      <td>6.032560</td>\n",
       "      <td>0.073008</td>\n",
       "      <td>6.134114</td>\n",
       "      <td>6.160847</td>\n",
       "      <td>0.052111</td>\n",
       "      <td>0.115091</td>\n",
       "      <td>4.606397</td>\n",
       "      <td>0.1</td>\n",
       "    </tr>\n",
       "    <tr>\n",
       "      <th>1</th>\n",
       "      <td>4.983357</td>\n",
       "      <td>4.822849</td>\n",
       "      <td>4.691446</td>\n",
       "      <td>4.885390</td>\n",
       "      <td>5.122919</td>\n",
       "      <td>4.853683</td>\n",
       "      <td>4.793827</td>\n",
       "      <td>4.921220</td>\n",
       "      <td>4.869675</td>\n",
       "      <td>5.132625</td>\n",
       "      <td>5.236716</td>\n",
       "      <td>4.908288</td>\n",
       "      <td>4.935758</td>\n",
       "      <td>4.859949</td>\n",
       "      <td>4.700985</td>\n",
       "      <td>5.001698</td>\n",
       "      <td>4.845760</td>\n",
       "      <td>0.1</td>\n",
       "    </tr>\n",
       "    <tr>\n",
       "      <th>2</th>\n",
       "      <td>2.727240</td>\n",
       "      <td>2.390374</td>\n",
       "      <td>2.708473</td>\n",
       "      <td>2.618912</td>\n",
       "      <td>2.354293</td>\n",
       "      <td>2.384652</td>\n",
       "      <td>2.535973</td>\n",
       "      <td>2.779869</td>\n",
       "      <td>2.592872</td>\n",
       "      <td>2.413333</td>\n",
       "      <td>2.715683</td>\n",
       "      <td>2.716086</td>\n",
       "      <td>2.763101</td>\n",
       "      <td>2.847251</td>\n",
       "      <td>2.660584</td>\n",
       "      <td>2.721994</td>\n",
       "      <td>2.611250</td>\n",
       "      <td>0.1</td>\n",
       "    </tr>\n",
       "    <tr>\n",
       "      <th>3</th>\n",
       "      <td>5.762936</td>\n",
       "      <td>5.839879</td>\n",
       "      <td>0.023180</td>\n",
       "      <td>6.216394</td>\n",
       "      <td>6.118754</td>\n",
       "      <td>6.144861</td>\n",
       "      <td>0.033664</td>\n",
       "      <td>0.032085</td>\n",
       "      <td>6.282960</td>\n",
       "      <td>0.085963</td>\n",
       "      <td>0.031738</td>\n",
       "      <td>0.152408</td>\n",
       "      <td>6.027732</td>\n",
       "      <td>6.234099</td>\n",
       "      <td>0.083261</td>\n",
       "      <td>0.023046</td>\n",
       "      <td>4.460597</td>\n",
       "      <td>0.1</td>\n",
       "    </tr>\n",
       "    <tr>\n",
       "      <th>4</th>\n",
       "      <td>4.463147</td>\n",
       "      <td>4.564015</td>\n",
       "      <td>4.342138</td>\n",
       "      <td>4.595675</td>\n",
       "      <td>4.269949</td>\n",
       "      <td>4.323170</td>\n",
       "      <td>4.407668</td>\n",
       "      <td>4.411044</td>\n",
       "      <td>4.368104</td>\n",
       "      <td>4.413393</td>\n",
       "      <td>4.490482</td>\n",
       "      <td>4.530060</td>\n",
       "      <td>4.503687</td>\n",
       "      <td>4.435605</td>\n",
       "      <td>4.239925</td>\n",
       "      <td>4.452277</td>\n",
       "      <td>4.491244</td>\n",
       "      <td>0.1</td>\n",
       "    </tr>\n",
       "  </tbody>\n",
       "</table>\n",
       "</div>"
      ],
      "text/plain": [
       "          0         1         2         3         4         5         6  \\\n",
       "0  0.162246  5.973095  6.133531  6.156717  0.025063  6.050038  6.020508   \n",
       "1  4.983357  4.822849  4.691446  4.885390  5.122919  4.853683  4.793827   \n",
       "2  2.727240  2.390374  2.708473  2.618912  2.354293  2.384652  2.535973   \n",
       "3  5.762936  5.839879  0.023180  6.216394  6.118754  6.144861  0.033664   \n",
       "4  4.463147  4.564015  4.342138  4.595675  4.269949  4.323170  4.407668   \n",
       "\n",
       "          7         8         9        10        11        12        13  \\\n",
       "0  6.223365  0.067779  6.153401  6.032560  0.073008  6.134114  6.160847   \n",
       "1  4.921220  4.869675  5.132625  5.236716  4.908288  4.935758  4.859949   \n",
       "2  2.779869  2.592872  2.413333  2.715683  2.716086  2.763101  2.847251   \n",
       "3  0.032085  6.282960  0.085963  0.031738  0.152408  6.027732  6.234099   \n",
       "4  4.411044  4.368104  4.413393  4.490482  4.530060  4.503687  4.435605   \n",
       "\n",
       "         14        15         M    T  \n",
       "0  0.052111  0.115091  4.606397  0.1  \n",
       "1  4.700985  5.001698  4.845760  0.1  \n",
       "2  2.660584  2.721994  2.611250  0.1  \n",
       "3  0.083261  0.023046  4.460597  0.1  \n",
       "4  4.239925  4.452277  4.491244  0.1  "
      ]
     },
     "execution_count": 48,
     "metadata": {},
     "output_type": "execute_result"
    }
   ],
   "source": [
    "df_conf.head()"
   ]
  },
  {
   "cell_type": "code",
   "execution_count": 54,
   "id": "4a3348ac-df84-4b76-b9e9-96578312422e",
   "metadata": {},
   "outputs": [
    {
     "name": "stdout",
     "output_type": "stream",
     "text": [
      "['0', '0', '1', '1', '2', '2', '3', '3', '4', '4', '5', '5', '6', '6', '7', '7', '8', '8', '9', '9', '10', '10', '11', '11', '12', '12', '13', '13', '14', '14', '15', '15']\n"
     ]
    }
   ],
   "source": [
    "cols = []\n",
    "for i in range(L*L):\n",
    "    cols.append(str(i))\n",
    "    cols.append(str(i))\n",
    "print(cols)"
   ]
  },
  {
   "cell_type": "code",
   "execution_count": 56,
   "id": "4612d76d-381b-4ef5-840e-46d56c5ba422",
   "metadata": {},
   "outputs": [],
   "source": [
    "xy_spec = [\"x\", \"y\"] * L*L"
   ]
  },
  {
   "cell_type": "code",
   "execution_count": 58,
   "id": "fe36ab67-f046-474c-a309-40aaf766671a",
   "metadata": {},
   "outputs": [],
   "source": [
    "for i in zip(cols, xy_spec):\n",
    "    continue\n",
    "    #print(i)"
   ]
  },
  {
   "cell_type": "code",
   "execution_count": 59,
   "id": "9346e793-5b5b-405c-86e7-cb2a61320282",
   "metadata": {},
   "outputs": [],
   "source": [
    "np_angle_matrix = df_conf.drop([\"T\",\"M\"], axis=1).to_numpy()"
   ]
  },
  {
   "cell_type": "code",
   "execution_count": 63,
   "id": "3456c1a0-6edd-4feb-8b48-0f7405c4235c",
   "metadata": {},
   "outputs": [],
   "source": [
    "np_x_matrix = np.cos(np_angle_matrix)\n",
    "np_y_matrix = np.sin(np_angle_matrix)"
   ]
  },
  {
   "cell_type": "code",
   "execution_count": 67,
   "id": "24b51f07-a998-4c29-8912-2ba924bd5953",
   "metadata": {},
   "outputs": [],
   "source": [
    "#np.concatenate(np_x_matrix, np_x_matrix, axis=1)\n",
    "df = pd.DataFrame(columns=pd.MultiIndex.from_tuples(zip(cols, xy_spec)))"
   ]
  },
  {
   "cell_type": "code",
   "execution_count": null,
   "id": "538eeb58-ecc3-4b3c-ae1d-de96a257d054",
   "metadata": {},
   "outputs": [],
   "source": [
    "df.sort_index(ascending=True, inplace=True, axis=1)"
   ]
  },
  {
   "cell_type": "code",
   "execution_count": 150,
   "id": "fdc22031-788f-4cbd-98e3-b1ead8b3c1d7",
   "metadata": {},
   "outputs": [],
   "source": [
    "df.loc[:, (slice(None), slice(\"x\"))] = np_x_matrix"
   ]
  },
  {
   "cell_type": "code",
   "execution_count": 155,
   "id": "88b9ae0d-ffeb-43fa-ba92-b318743b5b14",
   "metadata": {},
   "outputs": [
    {
     "data": {
      "text/plain": [
       "array([[ 0.986867  ,  0.9523061 ,  0.98882268, ...,  0.99252601,\n",
       "         0.99864253,  0.99338439],\n",
       "       [ 0.26766423,  0.11023518, -0.0209416 , ...,  0.14702497,\n",
       "        -0.01140408,  0.28528988],\n",
       "       [-0.91537707, -0.73085744, -0.90766075, ..., -0.95699346,\n",
       "        -0.88652882, -0.91325267],\n",
       "       ...,\n",
       "       [-0.99996531, -0.78798196, -0.81200276, ..., -0.93132133,\n",
       "        -0.97910067, -0.96902602],\n",
       "       [ 0.73166437,  0.99926935,  0.68109528, ...,  0.951746  ,\n",
       "         0.93244177,  0.90483846],\n",
       "       [-0.35623912, -0.17665983, -0.22011722, ...,  0.07685637,\n",
       "         0.24162666,  0.04673386]])"
      ]
     },
     "execution_count": 155,
     "metadata": {},
     "output_type": "execute_result"
    }
   ],
   "source": [
    "np_x_matrix"
   ]
  },
  {
   "cell_type": "code",
   "execution_count": 156,
   "id": "8fbcb6a2-2cf0-4e4d-b032-c2bdffc7a5a8",
   "metadata": {},
   "outputs": [
    {
     "data": {
      "text/plain": [
       "array([[ 0.16153491, -0.30514438, -0.14909632, ..., -0.12203327,\n",
       "         0.05208737,  0.11483667],\n",
       "       [-0.96351225, -0.99390553, -0.9997807 , ..., -0.98913278,\n",
       "        -0.99993497, -0.95844128],\n",
       "       [ 0.40259759,  0.68253015,  0.41970462, ...,  0.29010949,\n",
       "         0.46267338,  0.40739362],\n",
       "       ...,\n",
       "       [ 0.00832939, -0.61569833, -0.5836536 , ..., -0.36419854,\n",
       "         0.20337621,  0.24695866],\n",
       "       [-0.68166506, -0.03821998, -0.7321948 , ..., -0.30688686,\n",
       "        -0.36132028, -0.42575505],\n",
       "       [ 0.93439482,  0.98427197,  0.97547343, ...,  0.99704218,\n",
       "         0.97036929,  0.99890738]])"
      ]
     },
     "execution_count": 156,
     "metadata": {},
     "output_type": "execute_result"
    }
   ],
   "source": [
    "np_y_matrix"
   ]
  },
  {
   "cell_type": "code",
   "execution_count": 153,
   "id": "bed360df-7264-489b-9c08-220172717927",
   "metadata": {},
   "outputs": [],
   "source": [
    "df.loc[:, (slice(None), \"y\")] = np_y_matrix"
   ]
  },
  {
   "cell_type": "code",
   "execution_count": 154,
   "id": "df974617-a978-43e2-8e85-860b95c27831",
   "metadata": {},
   "outputs": [
    {
     "data": {
      "text/html": [
       "<div>\n",
       "<style scoped>\n",
       "    .dataframe tbody tr th:only-of-type {\n",
       "        vertical-align: middle;\n",
       "    }\n",
       "\n",
       "    .dataframe tbody tr th {\n",
       "        vertical-align: top;\n",
       "    }\n",
       "\n",
       "    .dataframe thead tr th {\n",
       "        text-align: left;\n",
       "    }\n",
       "</style>\n",
       "<table border=\"1\" class=\"dataframe\">\n",
       "  <thead>\n",
       "    <tr>\n",
       "      <th></th>\n",
       "      <th colspan=\"2\" halign=\"left\">0</th>\n",
       "      <th colspan=\"2\" halign=\"left\">1</th>\n",
       "      <th colspan=\"2\" halign=\"left\">10</th>\n",
       "      <th colspan=\"2\" halign=\"left\">11</th>\n",
       "      <th colspan=\"2\" halign=\"left\">12</th>\n",
       "      <th>...</th>\n",
       "      <th colspan=\"2\" halign=\"left\">5</th>\n",
       "      <th colspan=\"2\" halign=\"left\">6</th>\n",
       "      <th colspan=\"2\" halign=\"left\">7</th>\n",
       "      <th colspan=\"2\" halign=\"left\">8</th>\n",
       "      <th colspan=\"2\" halign=\"left\">9</th>\n",
       "    </tr>\n",
       "    <tr>\n",
       "      <th></th>\n",
       "      <th>x</th>\n",
       "      <th>y</th>\n",
       "      <th>x</th>\n",
       "      <th>y</th>\n",
       "      <th>x</th>\n",
       "      <th>y</th>\n",
       "      <th>x</th>\n",
       "      <th>y</th>\n",
       "      <th>x</th>\n",
       "      <th>y</th>\n",
       "      <th>...</th>\n",
       "      <th>x</th>\n",
       "      <th>y</th>\n",
       "      <th>x</th>\n",
       "      <th>y</th>\n",
       "      <th>x</th>\n",
       "      <th>y</th>\n",
       "      <th>x</th>\n",
       "      <th>y</th>\n",
       "      <th>x</th>\n",
       "      <th>y</th>\n",
       "    </tr>\n",
       "  </thead>\n",
       "  <tbody>\n",
       "    <tr>\n",
       "      <th>0</th>\n",
       "      <td>0.986867</td>\n",
       "      <td>0.161535</td>\n",
       "      <td>0.952306</td>\n",
       "      <td>-0.305144</td>\n",
       "      <td>0.988823</td>\n",
       "      <td>-0.149096</td>\n",
       "      <td>0.992013</td>\n",
       "      <td>-0.126132</td>\n",
       "      <td>0.999686</td>\n",
       "      <td>0.025061</td>\n",
       "      <td>...</td>\n",
       "      <td>0.997336</td>\n",
       "      <td>0.072943</td>\n",
       "      <td>0.988909</td>\n",
       "      <td>-0.148520</td>\n",
       "      <td>0.992526</td>\n",
       "      <td>-0.122033</td>\n",
       "      <td>0.998643</td>\n",
       "      <td>0.052087</td>\n",
       "      <td>0.993384</td>\n",
       "      <td>0.114837</td>\n",
       "    </tr>\n",
       "    <tr>\n",
       "      <th>1</th>\n",
       "      <td>0.267664</td>\n",
       "      <td>-0.963512</td>\n",
       "      <td>0.110235</td>\n",
       "      <td>-0.993906</td>\n",
       "      <td>-0.020942</td>\n",
       "      <td>-0.999781</td>\n",
       "      <td>0.172139</td>\n",
       "      <td>-0.985073</td>\n",
       "      <td>0.399095</td>\n",
       "      <td>-0.916909</td>\n",
       "      <td>...</td>\n",
       "      <td>0.194648</td>\n",
       "      <td>-0.980873</td>\n",
       "      <td>0.221516</td>\n",
       "      <td>-0.975157</td>\n",
       "      <td>0.147025</td>\n",
       "      <td>-0.989133</td>\n",
       "      <td>-0.011404</td>\n",
       "      <td>-0.999935</td>\n",
       "      <td>0.285290</td>\n",
       "      <td>-0.958441</td>\n",
       "    </tr>\n",
       "    <tr>\n",
       "      <th>2</th>\n",
       "      <td>-0.915377</td>\n",
       "      <td>0.402598</td>\n",
       "      <td>-0.730857</td>\n",
       "      <td>0.682530</td>\n",
       "      <td>-0.907661</td>\n",
       "      <td>0.419705</td>\n",
       "      <td>-0.866484</td>\n",
       "      <td>0.499204</td>\n",
       "      <td>-0.705761</td>\n",
       "      <td>0.708450</td>\n",
       "      <td>...</td>\n",
       "      <td>-0.910830</td>\n",
       "      <td>0.412782</td>\n",
       "      <td>-0.929223</td>\n",
       "      <td>0.369519</td>\n",
       "      <td>-0.956993</td>\n",
       "      <td>0.290109</td>\n",
       "      <td>-0.886529</td>\n",
       "      <td>0.462673</td>\n",
       "      <td>-0.913253</td>\n",
       "      <td>0.407394</td>\n",
       "    </tr>\n",
       "    <tr>\n",
       "      <th>3</th>\n",
       "      <td>0.867695</td>\n",
       "      <td>-0.497097</td>\n",
       "      <td>0.903339</td>\n",
       "      <td>-0.428928</td>\n",
       "      <td>0.999731</td>\n",
       "      <td>0.023177</td>\n",
       "      <td>0.997770</td>\n",
       "      <td>-0.066742</td>\n",
       "      <td>0.986512</td>\n",
       "      <td>-0.163692</td>\n",
       "      <td>...</td>\n",
       "      <td>0.988408</td>\n",
       "      <td>0.151819</td>\n",
       "      <td>0.967549</td>\n",
       "      <td>-0.252684</td>\n",
       "      <td>0.998796</td>\n",
       "      <td>-0.049066</td>\n",
       "      <td>0.996536</td>\n",
       "      <td>0.083165</td>\n",
       "      <td>0.999734</td>\n",
       "      <td>0.023044</td>\n",
       "    </tr>\n",
       "    <tr>\n",
       "      <th>4</th>\n",
       "      <td>-0.246669</td>\n",
       "      <td>-0.969100</td>\n",
       "      <td>-0.147830</td>\n",
       "      <td>-0.989013</td>\n",
       "      <td>-0.361850</td>\n",
       "      <td>-0.932236</td>\n",
       "      <td>-0.116449</td>\n",
       "      <td>-0.993197</td>\n",
       "      <td>-0.428146</td>\n",
       "      <td>-0.903710</td>\n",
       "      <td>...</td>\n",
       "      <td>-0.181321</td>\n",
       "      <td>-0.983424</td>\n",
       "      <td>-0.207191</td>\n",
       "      <td>-0.978301</td>\n",
       "      <td>-0.273263</td>\n",
       "      <td>-0.961939</td>\n",
       "      <td>-0.455082</td>\n",
       "      <td>-0.890450</td>\n",
       "      <td>-0.257189</td>\n",
       "      <td>-0.966361</td>\n",
       "    </tr>\n",
       "    <tr>\n",
       "      <th>...</th>\n",
       "      <td>...</td>\n",
       "      <td>...</td>\n",
       "      <td>...</td>\n",
       "      <td>...</td>\n",
       "      <td>...</td>\n",
       "      <td>...</td>\n",
       "      <td>...</td>\n",
       "      <td>...</td>\n",
       "      <td>...</td>\n",
       "      <td>...</td>\n",
       "      <td>...</td>\n",
       "      <td>...</td>\n",
       "      <td>...</td>\n",
       "      <td>...</td>\n",
       "      <td>...</td>\n",
       "      <td>...</td>\n",
       "      <td>...</td>\n",
       "      <td>...</td>\n",
       "      <td>...</td>\n",
       "      <td>...</td>\n",
       "      <td>...</td>\n",
       "    </tr>\n",
       "    <tr>\n",
       "      <th>29995</th>\n",
       "      <td>0.246862</td>\n",
       "      <td>-0.969051</td>\n",
       "      <td>0.309302</td>\n",
       "      <td>-0.950964</td>\n",
       "      <td>-0.078424</td>\n",
       "      <td>-0.996920</td>\n",
       "      <td>0.407209</td>\n",
       "      <td>-0.913335</td>\n",
       "      <td>0.419934</td>\n",
       "      <td>-0.907555</td>\n",
       "      <td>...</td>\n",
       "      <td>0.273856</td>\n",
       "      <td>-0.961771</td>\n",
       "      <td>-0.245455</td>\n",
       "      <td>-0.969408</td>\n",
       "      <td>0.360687</td>\n",
       "      <td>-0.932687</td>\n",
       "      <td>0.298391</td>\n",
       "      <td>-0.954444</td>\n",
       "      <td>-0.276970</td>\n",
       "      <td>-0.960878</td>\n",
       "    </tr>\n",
       "    <tr>\n",
       "      <th>29996</th>\n",
       "      <td>-0.610500</td>\n",
       "      <td>-0.792016</td>\n",
       "      <td>-0.715634</td>\n",
       "      <td>-0.698475</td>\n",
       "      <td>-0.613806</td>\n",
       "      <td>-0.789457</td>\n",
       "      <td>-0.639160</td>\n",
       "      <td>-0.769074</td>\n",
       "      <td>-0.667019</td>\n",
       "      <td>-0.745041</td>\n",
       "      <td>...</td>\n",
       "      <td>-0.713515</td>\n",
       "      <td>-0.700640</td>\n",
       "      <td>-0.744314</td>\n",
       "      <td>-0.667830</td>\n",
       "      <td>-0.811583</td>\n",
       "      <td>-0.584237</td>\n",
       "      <td>-0.449800</td>\n",
       "      <td>-0.893129</td>\n",
       "      <td>-0.445553</td>\n",
       "      <td>-0.895256</td>\n",
       "    </tr>\n",
       "    <tr>\n",
       "      <th>29997</th>\n",
       "      <td>-0.999965</td>\n",
       "      <td>0.008329</td>\n",
       "      <td>-0.787982</td>\n",
       "      <td>-0.615698</td>\n",
       "      <td>-0.812003</td>\n",
       "      <td>-0.583654</td>\n",
       "      <td>-0.976266</td>\n",
       "      <td>-0.216573</td>\n",
       "      <td>-0.989320</td>\n",
       "      <td>0.145759</td>\n",
       "      <td>...</td>\n",
       "      <td>-0.989930</td>\n",
       "      <td>-0.141555</td>\n",
       "      <td>-0.950693</td>\n",
       "      <td>0.310133</td>\n",
       "      <td>-0.931321</td>\n",
       "      <td>-0.364199</td>\n",
       "      <td>-0.979101</td>\n",
       "      <td>0.203376</td>\n",
       "      <td>-0.969026</td>\n",
       "      <td>0.246959</td>\n",
       "    </tr>\n",
       "    <tr>\n",
       "      <th>29998</th>\n",
       "      <td>0.731664</td>\n",
       "      <td>-0.681665</td>\n",
       "      <td>0.999269</td>\n",
       "      <td>-0.038220</td>\n",
       "      <td>0.681095</td>\n",
       "      <td>-0.732195</td>\n",
       "      <td>0.549889</td>\n",
       "      <td>-0.835238</td>\n",
       "      <td>0.781016</td>\n",
       "      <td>-0.624511</td>\n",
       "      <td>...</td>\n",
       "      <td>0.851688</td>\n",
       "      <td>-0.524048</td>\n",
       "      <td>0.481699</td>\n",
       "      <td>-0.876337</td>\n",
       "      <td>0.951746</td>\n",
       "      <td>-0.306887</td>\n",
       "      <td>0.932442</td>\n",
       "      <td>-0.361320</td>\n",
       "      <td>0.904838</td>\n",
       "      <td>-0.425755</td>\n",
       "    </tr>\n",
       "    <tr>\n",
       "      <th>29999</th>\n",
       "      <td>-0.356239</td>\n",
       "      <td>0.934395</td>\n",
       "      <td>-0.176660</td>\n",
       "      <td>0.984272</td>\n",
       "      <td>-0.220117</td>\n",
       "      <td>0.975473</td>\n",
       "      <td>-0.372997</td>\n",
       "      <td>0.927833</td>\n",
       "      <td>-0.633948</td>\n",
       "      <td>0.773376</td>\n",
       "      <td>...</td>\n",
       "      <td>0.431784</td>\n",
       "      <td>0.901977</td>\n",
       "      <td>-0.301467</td>\n",
       "      <td>0.953477</td>\n",
       "      <td>0.076856</td>\n",
       "      <td>0.997042</td>\n",
       "      <td>0.241627</td>\n",
       "      <td>0.970369</td>\n",
       "      <td>0.046734</td>\n",
       "      <td>0.998907</td>\n",
       "    </tr>\n",
       "  </tbody>\n",
       "</table>\n",
       "<p>30000 rows × 32 columns</p>\n",
       "</div>"
      ],
      "text/plain": [
       "              0                   1                  10                  11  \\\n",
       "              x         y         x         y         x         y         x   \n",
       "0      0.986867  0.161535  0.952306 -0.305144  0.988823 -0.149096  0.992013   \n",
       "1      0.267664 -0.963512  0.110235 -0.993906 -0.020942 -0.999781  0.172139   \n",
       "2     -0.915377  0.402598 -0.730857  0.682530 -0.907661  0.419705 -0.866484   \n",
       "3      0.867695 -0.497097  0.903339 -0.428928  0.999731  0.023177  0.997770   \n",
       "4     -0.246669 -0.969100 -0.147830 -0.989013 -0.361850 -0.932236 -0.116449   \n",
       "...         ...       ...       ...       ...       ...       ...       ...   \n",
       "29995  0.246862 -0.969051  0.309302 -0.950964 -0.078424 -0.996920  0.407209   \n",
       "29996 -0.610500 -0.792016 -0.715634 -0.698475 -0.613806 -0.789457 -0.639160   \n",
       "29997 -0.999965  0.008329 -0.787982 -0.615698 -0.812003 -0.583654 -0.976266   \n",
       "29998  0.731664 -0.681665  0.999269 -0.038220  0.681095 -0.732195  0.549889   \n",
       "29999 -0.356239  0.934395 -0.176660  0.984272 -0.220117  0.975473 -0.372997   \n",
       "\n",
       "                       12            ...         5                   6  \\\n",
       "              y         x         y  ...         x         y         x   \n",
       "0     -0.126132  0.999686  0.025061  ...  0.997336  0.072943  0.988909   \n",
       "1     -0.985073  0.399095 -0.916909  ...  0.194648 -0.980873  0.221516   \n",
       "2      0.499204 -0.705761  0.708450  ... -0.910830  0.412782 -0.929223   \n",
       "3     -0.066742  0.986512 -0.163692  ...  0.988408  0.151819  0.967549   \n",
       "4     -0.993197 -0.428146 -0.903710  ... -0.181321 -0.983424 -0.207191   \n",
       "...         ...       ...       ...  ...       ...       ...       ...   \n",
       "29995 -0.913335  0.419934 -0.907555  ...  0.273856 -0.961771 -0.245455   \n",
       "29996 -0.769074 -0.667019 -0.745041  ... -0.713515 -0.700640 -0.744314   \n",
       "29997 -0.216573 -0.989320  0.145759  ... -0.989930 -0.141555 -0.950693   \n",
       "29998 -0.835238  0.781016 -0.624511  ...  0.851688 -0.524048  0.481699   \n",
       "29999  0.927833 -0.633948  0.773376  ...  0.431784  0.901977 -0.301467   \n",
       "\n",
       "                        7                   8                   9            \n",
       "              y         x         y         x         y         x         y  \n",
       "0     -0.148520  0.992526 -0.122033  0.998643  0.052087  0.993384  0.114837  \n",
       "1     -0.975157  0.147025 -0.989133 -0.011404 -0.999935  0.285290 -0.958441  \n",
       "2      0.369519 -0.956993  0.290109 -0.886529  0.462673 -0.913253  0.407394  \n",
       "3     -0.252684  0.998796 -0.049066  0.996536  0.083165  0.999734  0.023044  \n",
       "4     -0.978301 -0.273263 -0.961939 -0.455082 -0.890450 -0.257189 -0.966361  \n",
       "...         ...       ...       ...       ...       ...       ...       ...  \n",
       "29995 -0.969408  0.360687 -0.932687  0.298391 -0.954444 -0.276970 -0.960878  \n",
       "29996 -0.667830 -0.811583 -0.584237 -0.449800 -0.893129 -0.445553 -0.895256  \n",
       "29997  0.310133 -0.931321 -0.364199 -0.979101  0.203376 -0.969026  0.246959  \n",
       "29998 -0.876337  0.951746 -0.306887  0.932442 -0.361320  0.904838 -0.425755  \n",
       "29999  0.953477  0.076856  0.997042  0.241627  0.970369  0.046734  0.998907  \n",
       "\n",
       "[30000 rows x 32 columns]"
      ]
     },
     "execution_count": 154,
     "metadata": {},
     "output_type": "execute_result"
    }
   ],
   "source": [
    "df"
   ]
  },
  {
   "cell_type": "code",
   "execution_count": 158,
   "id": "ce511638-50a7-470d-9e94-e6a5e12378fd",
   "metadata": {},
   "outputs": [],
   "source": [
    "train_with_meta_info = df.sample(frac=TRAINING_FRACTION, axis=0)\n",
    "test_with_meta_info = df.drop(index=train_with_meta_info.index)\n",
    "#train = train_with_meta_info.drop([\"T\",\"M\"], axis=1)\n",
    "#test = test_with_meta_info.drop([\"T\",\"M\"], axis=1)\n",
    "train = train_with_meta_info\n",
    "test = test_with_meta_info"
   ]
  },
  {
   "cell_type": "code",
   "execution_count": 164,
   "id": "13f23faa-7fa6-4317-b629-1d05a489199b",
   "metadata": {},
   "outputs": [
    {
     "data": {
      "text/plain": [
       "PCA(n_components=2)"
      ]
     },
     "execution_count": 164,
     "metadata": {},
     "output_type": "execute_result"
    }
   ],
   "source": [
    "img_pca = PCA(n_components=N_DENSE)\n",
    "img_pca.fit(train.to_numpy())"
   ]
  },
  {
   "cell_type": "code",
   "execution_count": 168,
   "id": "312e6705-3138-4530-8eea-2d1f4c2fdaae",
   "metadata": {},
   "outputs": [],
   "source": [
    "components = img_pca.transform(df.to_numpy())"
   ]
  },
  {
   "cell_type": "code",
   "execution_count": 171,
   "id": "d93fddfe-2b84-4a6f-aee1-8d736e720f78",
   "metadata": {},
   "outputs": [
    {
     "data": {
      "text/plain": [
       "(30000, 32)"
      ]
     },
     "execution_count": 171,
     "metadata": {},
     "output_type": "execute_result"
    }
   ],
   "source": [
    "df.to_numpy().shape"
   ]
  },
  {
   "cell_type": "code",
   "execution_count": 166,
   "id": "ef696342-d92d-46c5-838e-bbd2a3e97a80",
   "metadata": {},
   "outputs": [
    {
     "data": {
      "text/plain": [
       "(30000, 2)"
      ]
     },
     "execution_count": 166,
     "metadata": {},
     "output_type": "execute_result"
    }
   ],
   "source": [
    "components.shape"
   ]
  },
  {
   "cell_type": "code",
   "execution_count": 167,
   "id": "401b4025-e1ad-4952-be2a-1f3c9186567d",
   "metadata": {},
   "outputs": [
    {
     "data": {
      "image/png": "[encoded data removed]",
      "text/plain": [
       "<Figure size 432x288 with 1 Axes>"
      ]
     },
     "metadata": {
      "needs_background": "light"
     },
     "output_type": "display_data"
    }
   ],
   "source": [
    "if N_DENSE > 1:\n",
    "    plt.scatter(components[:,0], components[:,1], c=pd.to_numeric(df_conf[\"T\"]), alpha=0.1)"
   ]
  },
  {
   "cell_type": "code",
   "execution_count": 172,
   "id": "c802ba15-1a6d-40e1-9d3c-e688dcfecd87",
   "metadata": {},
   "outputs": [
    {
     "data": {
      "image/png": "[encoded data removed]",
      "text/plain": [
       "<Figure size 432x288 with 1 Axes>"
      ]
     },
     "metadata": {
      "needs_background": "light"
     },
     "output_type": "display_data"
    }
   ],
   "source": [
    "if N_DENSE > 1:\n",
    "    plt.scatter(components[:,0], components[:,1], c=pd.to_numeric(df_conf[\"M\"]), alpha=0.1)"
   ]
  },
  {
   "cell_type": "markdown",
   "id": "4e8e1d82-0668-442c-98ac-373f62d4d380",
   "metadata": {},
   "source": [
    "# Dense AE"
   ]
  },
  {
   "cell_type": "code",
   "execution_count": 180,
   "id": "ff5c9a6b-76a1-470d-99fb-1b051bbe5f8b",
   "metadata": {},
   "outputs": [
    {
     "name": "stdout",
     "output_type": "stream",
     "text": [
      "Model: \"sequential_2\"\n",
      "_________________________________________________________________\n",
      " Layer (type)                Output Shape              Param #   \n",
      "=================================================================\n",
      " latent_space (Dense)        (None, 2)                 64        \n",
      "                                                                 \n",
      " dense_2 (Dense)             (None, 32)                96        \n",
      "                                                                 \n",
      "=================================================================\n",
      "Total params: 160\n",
      "Trainable params: 160\n",
      "Non-trainable params: 0\n",
      "_________________________________________________________________\n",
      "None\n"
     ]
    }
   ],
   "source": [
    "simp_ae = tf.keras.Sequential(\n",
    "    [\n",
    "        keras.layers.InputLayer(input_shape=(L*L*2,)),\n",
    "        keras.layers.Dense(N_DENSE, use_bias=False, name='latent_space'),\n",
    "        keras.layers.Dense(L*L*2),\n",
    "    ]\n",
    ")\n",
    "\n",
    "print(simp_ae.summary())"
   ]
  },
  {
   "cell_type": "code",
   "execution_count": 181,
   "id": "8b4585e0-e15f-4c73-b2e3-1a1fe08fb746",
   "metadata": {},
   "outputs": [],
   "source": [
    "tb_callback = keras.callbacks.TensorBoard(\n",
    "    log_dir=tensorboard_log_dir,\n",
    "    histogram_freq=0,  \n",
    "    write_graph=True,\n",
    "    write_images=True\n",
    ")\n",
    "\n",
    "simp_ae.compile(optimizer=\"adam\", loss=\"mse\", metrics=[\"mae\"])"
   ]
  },
  {
   "cell_type": "code",
   "execution_count": 182,
   "id": "d2ce2607-2a62-4a2a-b159-1d58e8674a6a",
   "metadata": {},
   "outputs": [
    {
     "name": "stdout",
     "output_type": "stream",
     "text": [
      "Train on 24000 samples\n",
      "Epoch 1/20\n"
     ]
    },
    {
     "name": "stderr",
     "output_type": "stream",
     "text": [
      "2022-08-24 08:47:04.156302: I tensorflow/stream_executor/cuda/cuda_gpu_executor.cc:975] successful NUMA node read from SysFS had negative value (-1), but there must be at least one NUMA node, so returning NUMA node zero\n",
      "2022-08-24 08:47:04.156558: I tensorflow/stream_executor/cuda/cuda_gpu_executor.cc:975] successful NUMA node read from SysFS had negative value (-1), but there must be at least one NUMA node, so returning NUMA node zero\n",
      "2022-08-24 08:47:04.156738: I tensorflow/stream_executor/cuda/cuda_gpu_executor.cc:975] successful NUMA node read from SysFS had negative value (-1), but there must be at least one NUMA node, so returning NUMA node zero\n",
      "2022-08-24 08:47:04.156950: I tensorflow/stream_executor/cuda/cuda_gpu_executor.cc:975] successful NUMA node read from SysFS had negative value (-1), but there must be at least one NUMA node, so returning NUMA node zero\n",
      "2022-08-24 08:47:04.157129: I tensorflow/stream_executor/cuda/cuda_gpu_executor.cc:975] successful NUMA node read from SysFS had negative value (-1), but there must be at least one NUMA node, so returning NUMA node zero\n",
      "2022-08-24 08:47:04.157279: I tensorflow/core/common_runtime/gpu/gpu_device.cc:1532] Created device /job:localhost/replica:0/task:0/device:GPU:0 with 209 MB memory:  -> device: 0, name: NVIDIA GeForce GTX 980 Ti, pci bus id: 0000:01:00.0, compute capability: 5.2\n",
      "2022-08-24 08:47:04.165324: I tensorflow/compiler/mlir/mlir_graph_optimization_pass.cc:354] MLIR V1 optimization pass is not enabled\n"
     ]
    },
    {
     "name": "stdout",
     "output_type": "stream",
     "text": [
      "   16/24000 [..............................] - ETA: 9:05 - loss: 0.5947 - mae: 0.6710"
     ]
    },
    {
     "name": "stderr",
     "output_type": "stream",
     "text": [
      "2022-08-24 08:47:04.639141: I tensorflow/core/profiler/lib/profiler_session.cc:99] Profiler session initializing.\n",
      "2022-08-24 08:47:04.639159: I tensorflow/core/profiler/lib/profiler_session.cc:114] Profiler session started.\n",
      "2022-08-24 08:47:04.639677: I tensorflow/core/profiler/internal/gpu/cupti_tracer.cc:1665] Profiler found 1 GPUs\n",
      "2022-08-24 08:47:04.640357: W tensorflow/stream_executor/platform/default/dso_loader.cc:64] Could not load dynamic library 'libcupti.so.11.2'; dlerror: libcupti.so.11.2: cannot open shared object file: No such file or directory\n",
      "2022-08-24 08:47:04.805353: I tensorflow/core/profiler/lib/profiler_session.cc:66] Profiler session collecting data.\n",
      "2022-08-24 08:47:04.805901: I tensorflow/core/profiler/internal/gpu/cupti_tracer.cc:1799] CUPTI activity buffer flushed\n"
     ]
    },
    {
     "name": "stdout",
     "output_type": "stream",
     "text": [
      " 2304/24000 [=>............................] - ETA: 8s - loss: 0.4672 - mae: 0.5971 "
     ]
    },
    {
     "name": "stderr",
     "output_type": "stream",
     "text": [
      "2022-08-24 08:47:04.973744: I tensorflow/core/profiler/internal/gpu/cupti_collector.cc:521]  GpuTracer has collected 51 callback api events and 50 activity events. \n",
      "2022-08-24 08:47:04.977442: I tensorflow/core/profiler/lib/profiler_session.cc:126] Profiler session tear down.\n",
      "2022-08-24 08:47:04.982091: I tensorflow/core/profiler/rpc/client/save_profile.cc:136] Creating directory: /home/owen//logs/fit/20220822-085531/plugins/profile/2022_08_24_08_47_04\n",
      "\n",
      "2022-08-24 08:47:04.983348: I tensorflow/core/profiler/rpc/client/save_profile.cc:142] Dumped gzipped tool data for trace.json.gz to /home/owen//logs/fit/20220822-085531/plugins/profile/2022_08_24_08_47_04/owen-PRIME-Z390-A.trace.json.gz\n",
      "2022-08-24 08:47:04.992798: I tensorflow/core/profiler/rpc/client/save_profile.cc:136] Creating directory: /home/owen//logs/fit/20220822-085531/plugins/profile/2022_08_24_08_47_04\n",
      "\n",
      "2022-08-24 08:47:04.993417: I tensorflow/core/profiler/rpc/client/save_profile.cc:142] Dumped gzipped tool data for memory_profile.json.gz to /home/owen//logs/fit/20220822-085531/plugins/profile/2022_08_24_08_47_04/owen-PRIME-Z390-A.memory_profile.json.gz\n",
      "2022-08-24 08:47:04.993635: I tensorflow/core/profiler/rpc/client/capture_profile.cc:251] Creating directory: /home/owen//logs/fit/20220822-085531/plugins/profile/2022_08_24_08_47_04\n",
      "Dumped tool data for xplane.pb to /home/owen//logs/fit/20220822-085531/plugins/profile/2022_08_24_08_47_04/owen-PRIME-Z390-A.xplane.pb\n",
      "Dumped tool data for overview_page.pb to /home/owen//logs/fit/20220822-085531/plugins/profile/2022_08_24_08_47_04/owen-PRIME-Z390-A.overview_page.pb\n",
      "Dumped tool data for input_pipeline.pb to /home/owen//logs/fit/20220822-085531/plugins/profile/2022_08_24_08_47_04/owen-PRIME-Z390-A.input_pipeline.pb\n",
      "Dumped tool data for tensorflow_stats.pb to /home/owen//logs/fit/20220822-085531/plugins/profile/2022_08_24_08_47_04/owen-PRIME-Z390-A.tensorflow_stats.pb\n",
      "Dumped tool data for kernel_stats.pb to /home/owen//logs/fit/20220822-085531/plugins/profile/2022_08_24_08_47_04/owen-PRIME-Z390-A.kernel_stats.pb\n",
      "\n"
     ]
    },
    {
     "name": "stdout",
     "output_type": "stream",
     "text": [
      "24000/24000 [==============================] - 2s 96us/sample - loss: 0.1550 - mae: 0.2758\n",
      "Epoch 2/20\n",
      "24000/24000 [==============================] - 1s 50us/sample - loss: 0.0285 - mae: 0.1215\n",
      "Epoch 3/20\n",
      "24000/24000 [==============================] - 1s 42us/sample - loss: 0.0278 - mae: 0.1193\n",
      "Epoch 4/20\n",
      "24000/24000 [==============================] - 1s 44us/sample - loss: 0.0276 - mae: 0.1189\n",
      "Epoch 5/20\n",
      "24000/24000 [==============================] - 1s 43us/sample - loss: 0.0276 - mae: 0.1188\n",
      "Epoch 6/20\n",
      "24000/24000 [==============================] - 1s 43us/sample - loss: 0.0276 - mae: 0.1188\n",
      "Epoch 7/20\n",
      "24000/24000 [==============================] - 1s 43us/sample - loss: 0.0276 - mae: 0.1188\n",
      "Epoch 8/20\n",
      "24000/24000 [==============================] - 1s 43us/sample - loss: 0.0276 - mae: 0.1188\n",
      "Epoch 9/20\n",
      "24000/24000 [==============================] - 1s 43us/sample - loss: 0.0276 - mae: 0.1188\n",
      "Epoch 10/20\n",
      "24000/24000 [==============================] - 1s 42us/sample - loss: 0.0276 - mae: 0.1188\n",
      "Epoch 11/20\n",
      "24000/24000 [==============================] - 1s 44us/sample - loss: 0.0276 - mae: 0.1188\n",
      "Epoch 12/20\n",
      "24000/24000 [==============================] - 1s 43us/sample - loss: 0.0276 - mae: 0.1188\n",
      "Epoch 13/20\n",
      "24000/24000 [==============================] - 1s 43us/sample - loss: 0.0276 - mae: 0.1188\n",
      "Epoch 14/20\n",
      "24000/24000 [==============================] - 1s 44us/sample - loss: 0.0276 - mae: 0.1188\n",
      "Epoch 15/20\n",
      "24000/24000 [==============================] - 1s 44us/sample - loss: 0.0276 - mae: 0.1188\n",
      "Epoch 16/20\n",
      "24000/24000 [==============================] - 1s 45us/sample - loss: 0.0276 - mae: 0.1188\n",
      "Epoch 17/20\n",
      "24000/24000 [==============================] - 1s 44us/sample - loss: 0.0276 - mae: 0.1188\n",
      "Epoch 18/20\n",
      "24000/24000 [==============================] - 1s 39us/sample - loss: 0.0276 - mae: 0.1188\n",
      "Epoch 19/20\n",
      "24000/24000 [==============================] - 1s 39us/sample - loss: 0.0276 - mae: 0.1188\n",
      "Epoch 20/20\n",
      "24000/24000 [==============================] - 1s 45us/sample - loss: 0.0276 - mae: 0.1188\n"
     ]
    },
    {
     "data": {
      "text/plain": [
       "<keras.callbacks.History at 0x7f693e3414f0>"
      ]
     },
     "execution_count": 182,
     "metadata": {},
     "output_type": "execute_result"
    }
   ],
   "source": [
    "simp_ae.fit(\n",
    "    batch_size=16,\n",
    "    x=train.to_numpy(),\n",
    "    y=train.to_numpy(),\n",
    "    epochs=20,\n",
    "    callbacks=[tb_callback]\n",
    ")"
   ]
  },
  {
   "cell_type": "code",
   "execution_count": 183,
   "id": "8a5f040b-3447-4611-87f0-f2fbfa0d2705",
   "metadata": {},
   "outputs": [],
   "source": [
    "mid_layer = simp_ae.get_layer('latent_space')"
   ]
  },
  {
   "cell_type": "code",
   "execution_count": 184,
   "id": "d237f824-1320-438e-84f1-fa39ae7a6ceb",
   "metadata": {},
   "outputs": [
    {
     "data": {
      "text/plain": [
       "(32, 2)"
      ]
     },
     "execution_count": 184,
     "metadata": {},
     "output_type": "execute_result"
    }
   ],
   "source": [
    "mid_layer.get_weights()[0].shape"
   ]
  },
  {
   "cell_type": "code",
   "execution_count": 185,
   "id": "07374c65-5560-4867-b94d-ea19a20a1523",
   "metadata": {},
   "outputs": [],
   "source": [
    "extractor = keras.Model(inputs=simp_ae.inputs,\n",
    "                        outputs=[layer.output for layer in simp_ae.layers])"
   ]
  },
  {
   "cell_type": "code",
   "execution_count": 187,
   "id": "a734b67b-c25c-4d09-b98a-daf08f9ee7d5",
   "metadata": {},
   "outputs": [],
   "source": [
    "features = extractor(df.to_numpy())"
   ]
  },
  {
   "cell_type": "code",
   "execution_count": 189,
   "id": "dbb6315f-501b-4f5b-9709-ffe5e47ead39",
   "metadata": {},
   "outputs": [
    {
     "data": {
      "text/plain": [
       "[<tf.Tensor 'model/latent_space/MatMul:0' shape=(30000, 2) dtype=float32>,\n",
       " <tf.Tensor 'model/dense_2/BiasAdd:0' shape=(30000, 32) dtype=float32>]"
      ]
     },
     "execution_count": 189,
     "metadata": {},
     "output_type": "execute_result"
    }
   ],
   "source": [
    "features"
   ]
  },
  {
   "cell_type": "code",
   "execution_count": 201,
   "id": "12ac3035-0028-4b3d-a3af-df494f486660",
   "metadata": {},
   "outputs": [
    {
     "ename": "AttributeError",
     "evalue": "'Tensor' object has no attribute 'asnumpy'",
     "output_type": "error",
     "traceback": [
      "\u001b[0;31m---------------------------------------------------------------------------\u001b[0m",
      "\u001b[0;31mAttributeError\u001b[0m                            Traceback (most recent call last)",
      "Input \u001b[0;32mIn [201]\u001b[0m, in \u001b[0;36m<cell line: 1>\u001b[0;34m()\u001b[0m\n\u001b[0;32m----> 1\u001b[0m \u001b[43mfeatures\u001b[49m\u001b[43m[\u001b[49m\u001b[38;5;241;43m0\u001b[39;49m\u001b[43m]\u001b[49m\u001b[43m[\u001b[49m\u001b[43m:\u001b[49m\u001b[43m,\u001b[49m\u001b[38;5;241;43m0\u001b[39;49m\u001b[43m]\u001b[49m\u001b[38;5;241;43m.\u001b[39;49m\u001b[43masnumpy\u001b[49m()\n",
      "File \u001b[0;32m~/repos/z3support/pythonenv/lib/python3.8/site-packages/tensorflow/python/framework/ops.py:446\u001b[0m, in \u001b[0;36mTensor.__getattr__\u001b[0;34m(self, name)\u001b[0m\n\u001b[1;32m    437\u001b[0m \u001b[38;5;28;01mif\u001b[39;00m name \u001b[38;5;129;01min\u001b[39;00m {\u001b[38;5;124m\"\u001b[39m\u001b[38;5;124mT\u001b[39m\u001b[38;5;124m\"\u001b[39m, \u001b[38;5;124m\"\u001b[39m\u001b[38;5;124mastype\u001b[39m\u001b[38;5;124m\"\u001b[39m, \u001b[38;5;124m\"\u001b[39m\u001b[38;5;124mravel\u001b[39m\u001b[38;5;124m\"\u001b[39m, \u001b[38;5;124m\"\u001b[39m\u001b[38;5;124mtranspose\u001b[39m\u001b[38;5;124m\"\u001b[39m, \u001b[38;5;124m\"\u001b[39m\u001b[38;5;124mreshape\u001b[39m\u001b[38;5;124m\"\u001b[39m, \u001b[38;5;124m\"\u001b[39m\u001b[38;5;124mclip\u001b[39m\u001b[38;5;124m\"\u001b[39m, \u001b[38;5;124m\"\u001b[39m\u001b[38;5;124msize\u001b[39m\u001b[38;5;124m\"\u001b[39m,\n\u001b[1;32m    438\u001b[0m             \u001b[38;5;124m\"\u001b[39m\u001b[38;5;124mtolist\u001b[39m\u001b[38;5;124m\"\u001b[39m, \u001b[38;5;124m\"\u001b[39m\u001b[38;5;124mdata\u001b[39m\u001b[38;5;124m\"\u001b[39m}:\n\u001b[1;32m    439\u001b[0m   \u001b[38;5;66;03m# TODO(wangpeng): Export the enable_numpy_behavior knob\u001b[39;00m\n\u001b[1;32m    440\u001b[0m   \u001b[38;5;28;01mraise\u001b[39;00m \u001b[38;5;167;01mAttributeError\u001b[39;00m(\n\u001b[1;32m    441\u001b[0m       \u001b[38;5;124mf\u001b[39m\u001b[38;5;124m\"\u001b[39m\u001b[38;5;132;01m{\u001b[39;00m\u001b[38;5;28mtype\u001b[39m(\u001b[38;5;28mself\u001b[39m)\u001b[38;5;241m.\u001b[39m\u001b[38;5;18m__name__\u001b[39m\u001b[38;5;132;01m}\u001b[39;00m\u001b[38;5;124m object has no attribute \u001b[39m\u001b[38;5;124m'\u001b[39m\u001b[38;5;132;01m{\u001b[39;00mname\u001b[38;5;132;01m}\u001b[39;00m\u001b[38;5;124m'\u001b[39m\u001b[38;5;124m. \u001b[39m\u001b[38;5;124m\"\u001b[39m \u001b[38;5;241m+\u001b[39m \u001b[38;5;124m\"\"\"\u001b[39m\n\u001b[1;32m    442\u001b[0m \u001b[38;5;124m    If you are looking for numpy-related methods, please run the following:\u001b[39m\n\u001b[1;32m    443\u001b[0m \u001b[38;5;124m    from tensorflow.python.ops.numpy_ops import np_config\u001b[39m\n\u001b[1;32m    444\u001b[0m \u001b[38;5;124m    np_config.enable_numpy_behavior()\u001b[39m\n\u001b[1;32m    445\u001b[0m \u001b[38;5;124m  \u001b[39m\u001b[38;5;124m\"\"\"\u001b[39m)\n\u001b[0;32m--> 446\u001b[0m \u001b[38;5;28;43mself\u001b[39;49m\u001b[38;5;241;43m.\u001b[39;49m\u001b[38;5;21;43m__getattribute__\u001b[39;49m\u001b[43m(\u001b[49m\u001b[43mname\u001b[49m\u001b[43m)\u001b[49m\n",
      "\u001b[0;31mAttributeError\u001b[0m: 'Tensor' object has no attribute 'asnumpy'"
     ]
    }
   ],
   "source": [
    "features[0][:,0].asnumpy()"
   ]
  },
  {
   "cell_type": "code",
   "execution_count": 193,
   "id": "b411c9f6-0161-4c34-a00c-a8a7b0b475b6",
   "metadata": {},
   "outputs": [
    {
     "ename": "NotImplementedError",
     "evalue": "Cannot convert a symbolic tf.Tensor (strided_slice_4:0) to a numpy array. This error may indicate that you're trying to pass a Tensor to a NumPy call, which is not supported.",
     "output_type": "error",
     "traceback": [
      "\u001b[0;31m---------------------------------------------------------------------------\u001b[0m",
      "\u001b[0;31mNotImplementedError\u001b[0m                       Traceback (most recent call last)",
      "Input \u001b[0;32mIn [193]\u001b[0m, in \u001b[0;36m<cell line: 1>\u001b[0;34m()\u001b[0m\n\u001b[0;32m----> 1\u001b[0m \u001b[43mplt\u001b[49m\u001b[38;5;241;43m.\u001b[39;49m\u001b[43mscatter\u001b[49m\u001b[43m(\u001b[49m\u001b[43mfeatures\u001b[49m\u001b[43m[\u001b[49m\u001b[38;5;241;43m0\u001b[39;49m\u001b[43m]\u001b[49m\u001b[43m[\u001b[49m\u001b[43m:\u001b[49m\u001b[43m,\u001b[49m\u001b[38;5;241;43m0\u001b[39;49m\u001b[43m]\u001b[49m\u001b[43m,\u001b[49m\u001b[43m \u001b[49m\u001b[43mfeatures\u001b[49m\u001b[43m[\u001b[49m\u001b[38;5;241;43m0\u001b[39;49m\u001b[43m]\u001b[49m\u001b[43m[\u001b[49m\u001b[43m:\u001b[49m\u001b[43m,\u001b[49m\u001b[38;5;241;43m1\u001b[39;49m\u001b[43m]\u001b[49m\u001b[43m \u001b[49m\u001b[43m)\u001b[49m\n",
      "File \u001b[0;32m~/repos/z3support/pythonenv/lib/python3.8/site-packages/matplotlib/pyplot.py:2890\u001b[0m, in \u001b[0;36mscatter\u001b[0;34m(x, y, s, c, marker, cmap, norm, vmin, vmax, alpha, linewidths, verts, edgecolors, plotnonfinite, data, **kwargs)\u001b[0m\n\u001b[1;32m   2884\u001b[0m \u001b[38;5;129m@_copy_docstring_and_deprecators\u001b[39m(Axes\u001b[38;5;241m.\u001b[39mscatter)\n\u001b[1;32m   2885\u001b[0m \u001b[38;5;28;01mdef\u001b[39;00m \u001b[38;5;21mscatter\u001b[39m(\n\u001b[1;32m   2886\u001b[0m         x, y, s\u001b[38;5;241m=\u001b[39m\u001b[38;5;28;01mNone\u001b[39;00m, c\u001b[38;5;241m=\u001b[39m\u001b[38;5;28;01mNone\u001b[39;00m, marker\u001b[38;5;241m=\u001b[39m\u001b[38;5;28;01mNone\u001b[39;00m, cmap\u001b[38;5;241m=\u001b[39m\u001b[38;5;28;01mNone\u001b[39;00m, norm\u001b[38;5;241m=\u001b[39m\u001b[38;5;28;01mNone\u001b[39;00m,\n\u001b[1;32m   2887\u001b[0m         vmin\u001b[38;5;241m=\u001b[39m\u001b[38;5;28;01mNone\u001b[39;00m, vmax\u001b[38;5;241m=\u001b[39m\u001b[38;5;28;01mNone\u001b[39;00m, alpha\u001b[38;5;241m=\u001b[39m\u001b[38;5;28;01mNone\u001b[39;00m, linewidths\u001b[38;5;241m=\u001b[39m\u001b[38;5;28;01mNone\u001b[39;00m,\n\u001b[1;32m   2888\u001b[0m         verts\u001b[38;5;241m=\u001b[39mcbook\u001b[38;5;241m.\u001b[39mdeprecation\u001b[38;5;241m.\u001b[39m_deprecated_parameter,\n\u001b[1;32m   2889\u001b[0m         edgecolors\u001b[38;5;241m=\u001b[39m\u001b[38;5;28;01mNone\u001b[39;00m, \u001b[38;5;241m*\u001b[39m, plotnonfinite\u001b[38;5;241m=\u001b[39m\u001b[38;5;28;01mFalse\u001b[39;00m, data\u001b[38;5;241m=\u001b[39m\u001b[38;5;28;01mNone\u001b[39;00m, \u001b[38;5;241m*\u001b[39m\u001b[38;5;241m*\u001b[39mkwargs):\n\u001b[0;32m-> 2890\u001b[0m     __ret \u001b[38;5;241m=\u001b[39m \u001b[43mgca\u001b[49m\u001b[43m(\u001b[49m\u001b[43m)\u001b[49m\u001b[38;5;241;43m.\u001b[39;49m\u001b[43mscatter\u001b[49m\u001b[43m(\u001b[49m\n\u001b[1;32m   2891\u001b[0m \u001b[43m        \u001b[49m\u001b[43mx\u001b[49m\u001b[43m,\u001b[49m\u001b[43m \u001b[49m\u001b[43my\u001b[49m\u001b[43m,\u001b[49m\u001b[43m \u001b[49m\u001b[43ms\u001b[49m\u001b[38;5;241;43m=\u001b[39;49m\u001b[43ms\u001b[49m\u001b[43m,\u001b[49m\u001b[43m \u001b[49m\u001b[43mc\u001b[49m\u001b[38;5;241;43m=\u001b[39;49m\u001b[43mc\u001b[49m\u001b[43m,\u001b[49m\u001b[43m \u001b[49m\u001b[43mmarker\u001b[49m\u001b[38;5;241;43m=\u001b[39;49m\u001b[43mmarker\u001b[49m\u001b[43m,\u001b[49m\u001b[43m \u001b[49m\u001b[43mcmap\u001b[49m\u001b[38;5;241;43m=\u001b[39;49m\u001b[43mcmap\u001b[49m\u001b[43m,\u001b[49m\u001b[43m \u001b[49m\u001b[43mnorm\u001b[49m\u001b[38;5;241;43m=\u001b[39;49m\u001b[43mnorm\u001b[49m\u001b[43m,\u001b[49m\n\u001b[1;32m   2892\u001b[0m \u001b[43m        \u001b[49m\u001b[43mvmin\u001b[49m\u001b[38;5;241;43m=\u001b[39;49m\u001b[43mvmin\u001b[49m\u001b[43m,\u001b[49m\u001b[43m \u001b[49m\u001b[43mvmax\u001b[49m\u001b[38;5;241;43m=\u001b[39;49m\u001b[43mvmax\u001b[49m\u001b[43m,\u001b[49m\u001b[43m \u001b[49m\u001b[43malpha\u001b[49m\u001b[38;5;241;43m=\u001b[39;49m\u001b[43malpha\u001b[49m\u001b[43m,\u001b[49m\u001b[43m \u001b[49m\u001b[43mlinewidths\u001b[49m\u001b[38;5;241;43m=\u001b[39;49m\u001b[43mlinewidths\u001b[49m\u001b[43m,\u001b[49m\n\u001b[1;32m   2893\u001b[0m \u001b[43m        \u001b[49m\u001b[43mverts\u001b[49m\u001b[38;5;241;43m=\u001b[39;49m\u001b[43mverts\u001b[49m\u001b[43m,\u001b[49m\u001b[43m \u001b[49m\u001b[43medgecolors\u001b[49m\u001b[38;5;241;43m=\u001b[39;49m\u001b[43medgecolors\u001b[49m\u001b[43m,\u001b[49m\n\u001b[1;32m   2894\u001b[0m \u001b[43m        \u001b[49m\u001b[43mplotnonfinite\u001b[49m\u001b[38;5;241;43m=\u001b[39;49m\u001b[43mplotnonfinite\u001b[49m\u001b[43m,\u001b[49m\n\u001b[1;32m   2895\u001b[0m \u001b[43m        \u001b[49m\u001b[38;5;241;43m*\u001b[39;49m\u001b[38;5;241;43m*\u001b[39;49m\u001b[43m(\u001b[49m\u001b[43m{\u001b[49m\u001b[38;5;124;43m\"\u001b[39;49m\u001b[38;5;124;43mdata\u001b[39;49m\u001b[38;5;124;43m\"\u001b[39;49m\u001b[43m:\u001b[49m\u001b[43m \u001b[49m\u001b[43mdata\u001b[49m\u001b[43m}\u001b[49m\u001b[43m \u001b[49m\u001b[38;5;28;43;01mif\u001b[39;49;00m\u001b[43m \u001b[49m\u001b[43mdata\u001b[49m\u001b[43m \u001b[49m\u001b[38;5;129;43;01mis\u001b[39;49;00m\u001b[43m \u001b[49m\u001b[38;5;129;43;01mnot\u001b[39;49;00m\u001b[43m \u001b[49m\u001b[38;5;28;43;01mNone\u001b[39;49;00m\u001b[43m \u001b[49m\u001b[38;5;28;43;01melse\u001b[39;49;00m\u001b[43m \u001b[49m\u001b[43m{\u001b[49m\u001b[43m}\u001b[49m\u001b[43m)\u001b[49m\u001b[43m,\u001b[49m\u001b[43m \u001b[49m\u001b[38;5;241;43m*\u001b[39;49m\u001b[38;5;241;43m*\u001b[39;49m\u001b[43mkwargs\u001b[49m\u001b[43m)\u001b[49m\n\u001b[1;32m   2896\u001b[0m     sci(__ret)\n\u001b[1;32m   2897\u001b[0m     \u001b[38;5;28;01mreturn\u001b[39;00m __ret\n",
      "File \u001b[0;32m~/repos/z3support/pythonenv/lib/python3.8/site-packages/matplotlib/__init__.py:1447\u001b[0m, in \u001b[0;36m_preprocess_data.<locals>.inner\u001b[0;34m(ax, data, *args, **kwargs)\u001b[0m\n\u001b[1;32m   1444\u001b[0m \u001b[38;5;129m@functools\u001b[39m\u001b[38;5;241m.\u001b[39mwraps(func)\n\u001b[1;32m   1445\u001b[0m \u001b[38;5;28;01mdef\u001b[39;00m \u001b[38;5;21minner\u001b[39m(ax, \u001b[38;5;241m*\u001b[39margs, data\u001b[38;5;241m=\u001b[39m\u001b[38;5;28;01mNone\u001b[39;00m, \u001b[38;5;241m*\u001b[39m\u001b[38;5;241m*\u001b[39mkwargs):\n\u001b[1;32m   1446\u001b[0m     \u001b[38;5;28;01mif\u001b[39;00m data \u001b[38;5;129;01mis\u001b[39;00m \u001b[38;5;28;01mNone\u001b[39;00m:\n\u001b[0;32m-> 1447\u001b[0m         \u001b[38;5;28;01mreturn\u001b[39;00m \u001b[43mfunc\u001b[49m\u001b[43m(\u001b[49m\u001b[43max\u001b[49m\u001b[43m,\u001b[49m\u001b[43m \u001b[49m\u001b[38;5;241;43m*\u001b[39;49m\u001b[38;5;28;43mmap\u001b[39;49m\u001b[43m(\u001b[49m\u001b[43msanitize_sequence\u001b[49m\u001b[43m,\u001b[49m\u001b[43m \u001b[49m\u001b[43margs\u001b[49m\u001b[43m)\u001b[49m\u001b[43m,\u001b[49m\u001b[43m \u001b[49m\u001b[38;5;241;43m*\u001b[39;49m\u001b[38;5;241;43m*\u001b[39;49m\u001b[43mkwargs\u001b[49m\u001b[43m)\u001b[49m\n\u001b[1;32m   1449\u001b[0m     bound \u001b[38;5;241m=\u001b[39m new_sig\u001b[38;5;241m.\u001b[39mbind(ax, \u001b[38;5;241m*\u001b[39margs, \u001b[38;5;241m*\u001b[39m\u001b[38;5;241m*\u001b[39mkwargs)\n\u001b[1;32m   1450\u001b[0m     auto_label \u001b[38;5;241m=\u001b[39m (bound\u001b[38;5;241m.\u001b[39marguments\u001b[38;5;241m.\u001b[39mget(label_namer)\n\u001b[1;32m   1451\u001b[0m                   \u001b[38;5;129;01mor\u001b[39;00m bound\u001b[38;5;241m.\u001b[39mkwargs\u001b[38;5;241m.\u001b[39mget(label_namer))\n",
      "File \u001b[0;32m~/repos/z3support/pythonenv/lib/python3.8/site-packages/matplotlib/cbook/deprecation.py:411\u001b[0m, in \u001b[0;36m_delete_parameter.<locals>.wrapper\u001b[0;34m(*inner_args, **inner_kwargs)\u001b[0m\n\u001b[1;32m    401\u001b[0m     deprecation_addendum \u001b[38;5;241m=\u001b[39m (\n\u001b[1;32m    402\u001b[0m         \u001b[38;5;124mf\u001b[39m\u001b[38;5;124m\"\u001b[39m\u001b[38;5;124mIf any parameter follows \u001b[39m\u001b[38;5;132;01m{\u001b[39;00mname\u001b[38;5;132;01m!r}\u001b[39;00m\u001b[38;5;124m, they should be passed as \u001b[39m\u001b[38;5;124m\"\u001b[39m\n\u001b[1;32m    403\u001b[0m         \u001b[38;5;124mf\u001b[39m\u001b[38;5;124m\"\u001b[39m\u001b[38;5;124mkeyword, not positionally.\u001b[39m\u001b[38;5;124m\"\u001b[39m)\n\u001b[1;32m    404\u001b[0m     warn_deprecated(\n\u001b[1;32m    405\u001b[0m         since,\n\u001b[1;32m    406\u001b[0m         name\u001b[38;5;241m=\u001b[39m\u001b[38;5;28mrepr\u001b[39m(name),\n\u001b[0;32m   (...)\u001b[0m\n\u001b[1;32m    409\u001b[0m                  \u001b[38;5;28;01melse\u001b[39;00m deprecation_addendum,\n\u001b[1;32m    410\u001b[0m         \u001b[38;5;241m*\u001b[39m\u001b[38;5;241m*\u001b[39mkwargs)\n\u001b[0;32m--> 411\u001b[0m \u001b[38;5;28;01mreturn\u001b[39;00m \u001b[43mfunc\u001b[49m\u001b[43m(\u001b[49m\u001b[38;5;241;43m*\u001b[39;49m\u001b[43minner_args\u001b[49m\u001b[43m,\u001b[49m\u001b[43m \u001b[49m\u001b[38;5;241;43m*\u001b[39;49m\u001b[38;5;241;43m*\u001b[39;49m\u001b[43minner_kwargs\u001b[49m\u001b[43m)\u001b[49m\n",
      "File \u001b[0;32m~/repos/z3support/pythonenv/lib/python3.8/site-packages/matplotlib/axes/_axes.py:4438\u001b[0m, in \u001b[0;36mAxes.scatter\u001b[0;34m(self, x, y, s, c, marker, cmap, norm, vmin, vmax, alpha, linewidths, verts, edgecolors, plotnonfinite, **kwargs)\u001b[0m\n\u001b[1;32m   4434\u001b[0m y \u001b[38;5;241m=\u001b[39m \u001b[38;5;28mself\u001b[39m\u001b[38;5;241m.\u001b[39mconvert_yunits(y)\n\u001b[1;32m   4436\u001b[0m \u001b[38;5;66;03m# np.ma.ravel yields an ndarray, not a masked array,\u001b[39;00m\n\u001b[1;32m   4437\u001b[0m \u001b[38;5;66;03m# unless its argument is a masked array.\u001b[39;00m\n\u001b[0;32m-> 4438\u001b[0m x \u001b[38;5;241m=\u001b[39m \u001b[43mnp\u001b[49m\u001b[38;5;241;43m.\u001b[39;49m\u001b[43mma\u001b[49m\u001b[38;5;241;43m.\u001b[39;49m\u001b[43mravel\u001b[49m\u001b[43m(\u001b[49m\u001b[43mx\u001b[49m\u001b[43m)\u001b[49m\n\u001b[1;32m   4439\u001b[0m y \u001b[38;5;241m=\u001b[39m np\u001b[38;5;241m.\u001b[39mma\u001b[38;5;241m.\u001b[39mravel(y)\n\u001b[1;32m   4440\u001b[0m \u001b[38;5;28;01mif\u001b[39;00m x\u001b[38;5;241m.\u001b[39msize \u001b[38;5;241m!=\u001b[39m y\u001b[38;5;241m.\u001b[39msize:\n",
      "File \u001b[0;32m~/repos/z3support/pythonenv/lib/python3.8/site-packages/numpy/ma/core.py:6773\u001b[0m, in \u001b[0;36m_frommethod.__call__\u001b[0;34m(self, a, *args, **params)\u001b[0m\n\u001b[1;32m   6770\u001b[0m     args \u001b[38;5;241m=\u001b[39m \u001b[38;5;28mlist\u001b[39m(args)\n\u001b[1;32m   6771\u001b[0m     a, args[\u001b[38;5;241m0\u001b[39m] \u001b[38;5;241m=\u001b[39m args[\u001b[38;5;241m0\u001b[39m], a\n\u001b[0;32m-> 6773\u001b[0m marr \u001b[38;5;241m=\u001b[39m \u001b[43masanyarray\u001b[49m\u001b[43m(\u001b[49m\u001b[43ma\u001b[49m\u001b[43m)\u001b[49m\n\u001b[1;32m   6774\u001b[0m method_name \u001b[38;5;241m=\u001b[39m \u001b[38;5;28mself\u001b[39m\u001b[38;5;241m.\u001b[39m\u001b[38;5;18m__name__\u001b[39m\n\u001b[1;32m   6775\u001b[0m method \u001b[38;5;241m=\u001b[39m \u001b[38;5;28mgetattr\u001b[39m(\u001b[38;5;28mtype\u001b[39m(marr), method_name, \u001b[38;5;28;01mNone\u001b[39;00m)\n",
      "File \u001b[0;32m~/repos/z3support/pythonenv/lib/python3.8/site-packages/numpy/ma/core.py:8005\u001b[0m, in \u001b[0;36masanyarray\u001b[0;34m(a, dtype)\u001b[0m\n\u001b[1;32m   8003\u001b[0m \u001b[38;5;28;01mif\u001b[39;00m \u001b[38;5;28misinstance\u001b[39m(a, MaskedArray) \u001b[38;5;129;01mand\u001b[39;00m (dtype \u001b[38;5;129;01mis\u001b[39;00m \u001b[38;5;28;01mNone\u001b[39;00m \u001b[38;5;129;01mor\u001b[39;00m dtype \u001b[38;5;241m==\u001b[39m a\u001b[38;5;241m.\u001b[39mdtype):\n\u001b[1;32m   8004\u001b[0m     \u001b[38;5;28;01mreturn\u001b[39;00m a\n\u001b[0;32m-> 8005\u001b[0m \u001b[38;5;28;01mreturn\u001b[39;00m \u001b[43mmasked_array\u001b[49m\u001b[43m(\u001b[49m\u001b[43ma\u001b[49m\u001b[43m,\u001b[49m\u001b[43m \u001b[49m\u001b[43mdtype\u001b[49m\u001b[38;5;241;43m=\u001b[39;49m\u001b[43mdtype\u001b[49m\u001b[43m,\u001b[49m\u001b[43m \u001b[49m\u001b[43mcopy\u001b[49m\u001b[38;5;241;43m=\u001b[39;49m\u001b[38;5;28;43;01mFalse\u001b[39;49;00m\u001b[43m,\u001b[49m\u001b[43m \u001b[49m\u001b[43mkeep_mask\u001b[49m\u001b[38;5;241;43m=\u001b[39;49m\u001b[38;5;28;43;01mTrue\u001b[39;49;00m\u001b[43m,\u001b[49m\u001b[43m \u001b[49m\u001b[43msubok\u001b[49m\u001b[38;5;241;43m=\u001b[39;49m\u001b[38;5;28;43;01mTrue\u001b[39;49;00m\u001b[43m)\u001b[49m\n",
      "File \u001b[0;32m~/repos/z3support/pythonenv/lib/python3.8/site-packages/numpy/ma/core.py:2826\u001b[0m, in \u001b[0;36mMaskedArray.__new__\u001b[0;34m(cls, data, mask, dtype, copy, subok, ndmin, fill_value, keep_mask, hard_mask, shrink, order)\u001b[0m\n\u001b[1;32m   2817\u001b[0m \u001b[38;5;124;03m\"\"\"\u001b[39;00m\n\u001b[1;32m   2818\u001b[0m \u001b[38;5;124;03mCreate a new masked array from scratch.\u001b[39;00m\n\u001b[1;32m   2819\u001b[0m \n\u001b[0;32m   (...)\u001b[0m\n\u001b[1;32m   2823\u001b[0m \n\u001b[1;32m   2824\u001b[0m \u001b[38;5;124;03m\"\"\"\u001b[39;00m\n\u001b[1;32m   2825\u001b[0m \u001b[38;5;66;03m# Process data.\u001b[39;00m\n\u001b[0;32m-> 2826\u001b[0m _data \u001b[38;5;241m=\u001b[39m \u001b[43mnp\u001b[49m\u001b[38;5;241;43m.\u001b[39;49m\u001b[43marray\u001b[49m\u001b[43m(\u001b[49m\u001b[43mdata\u001b[49m\u001b[43m,\u001b[49m\u001b[43m \u001b[49m\u001b[43mdtype\u001b[49m\u001b[38;5;241;43m=\u001b[39;49m\u001b[43mdtype\u001b[49m\u001b[43m,\u001b[49m\u001b[43m \u001b[49m\u001b[43mcopy\u001b[49m\u001b[38;5;241;43m=\u001b[39;49m\u001b[43mcopy\u001b[49m\u001b[43m,\u001b[49m\n\u001b[1;32m   2827\u001b[0m \u001b[43m                 \u001b[49m\u001b[43morder\u001b[49m\u001b[38;5;241;43m=\u001b[39;49m\u001b[43morder\u001b[49m\u001b[43m,\u001b[49m\u001b[43m \u001b[49m\u001b[43msubok\u001b[49m\u001b[38;5;241;43m=\u001b[39;49m\u001b[38;5;28;43;01mTrue\u001b[39;49;00m\u001b[43m,\u001b[49m\u001b[43m \u001b[49m\u001b[43mndmin\u001b[49m\u001b[38;5;241;43m=\u001b[39;49m\u001b[43mndmin\u001b[49m\u001b[43m)\u001b[49m\n\u001b[1;32m   2828\u001b[0m _baseclass \u001b[38;5;241m=\u001b[39m \u001b[38;5;28mgetattr\u001b[39m(data, \u001b[38;5;124m'\u001b[39m\u001b[38;5;124m_baseclass\u001b[39m\u001b[38;5;124m'\u001b[39m, \u001b[38;5;28mtype\u001b[39m(_data))\n\u001b[1;32m   2829\u001b[0m \u001b[38;5;66;03m# Check that we're not erasing the mask.\u001b[39;00m\n",
      "File \u001b[0;32m~/repos/z3support/pythonenv/lib/python3.8/site-packages/tensorflow/python/framework/ops.py:926\u001b[0m, in \u001b[0;36mTensor.__array__\u001b[0;34m(***failed resolving arguments***)\u001b[0m\n\u001b[1;32m    924\u001b[0m \u001b[38;5;28;01mdef\u001b[39;00m \u001b[38;5;21m__array__\u001b[39m(\u001b[38;5;28mself\u001b[39m, dtype\u001b[38;5;241m=\u001b[39m\u001b[38;5;28;01mNone\u001b[39;00m):\n\u001b[1;32m    925\u001b[0m   \u001b[38;5;28;01mdel\u001b[39;00m dtype\n\u001b[0;32m--> 926\u001b[0m   \u001b[38;5;28;01mraise\u001b[39;00m \u001b[38;5;167;01mNotImplementedError\u001b[39;00m(\n\u001b[1;32m    927\u001b[0m       \u001b[38;5;124mf\u001b[39m\u001b[38;5;124m\"\u001b[39m\u001b[38;5;124mCannot convert a symbolic tf.Tensor (\u001b[39m\u001b[38;5;132;01m{\u001b[39;00m\u001b[38;5;28mself\u001b[39m\u001b[38;5;241m.\u001b[39mname\u001b[38;5;132;01m}\u001b[39;00m\u001b[38;5;124m) to a numpy array.\u001b[39m\u001b[38;5;124m\"\u001b[39m\n\u001b[1;32m    928\u001b[0m       \u001b[38;5;124mf\u001b[39m\u001b[38;5;124m\"\u001b[39m\u001b[38;5;124m This error may indicate that you\u001b[39m\u001b[38;5;124m'\u001b[39m\u001b[38;5;124mre trying to pass a Tensor to\u001b[39m\u001b[38;5;124m\"\u001b[39m\n\u001b[1;32m    929\u001b[0m       \u001b[38;5;124mf\u001b[39m\u001b[38;5;124m\"\u001b[39m\u001b[38;5;124m a NumPy call, which is not supported.\u001b[39m\u001b[38;5;124m\"\u001b[39m)\n",
      "\u001b[0;31mNotImplementedError\u001b[0m: Cannot convert a symbolic tf.Tensor (strided_slice_4:0) to a numpy array. This error may indicate that you're trying to pass a Tensor to a NumPy call, which is not supported."
     ]
    },
    {
     "data": {
      "image/png": "[encoded data removed]",
      "text/plain": [
       "<Figure size 432x288 with 1 Axes>"
      ]
     },
     "metadata": {
      "needs_background": "light"
     },
     "output_type": "display_data"
    }
   ],
   "source": [
    "plt.scatter(features[0][:,0], features[0][:,1] )#, c=df_conf[\"T\"])"
   ]
  },
  {
   "cell_type": "markdown",
   "id": "ce5bba57-9bda-4659-948a-071db60c4c25",
   "metadata": {},
   "source": [
    "# Dense VAE"
   ]
  },
  {
   "cell_type": "code",
   "execution_count": null,
   "id": "5c366cb8-c048-43d0-b6fd-75f52a5e832d",
   "metadata": {},
   "outputs": [],
   "source": [
    "vae = DenseVariationalAutoencoder(\n",
    "    input_dim=(L*L,),\n",
    "    encoder_layer_sizes=[2],\n",
    "    decoder_layer_sizes=[2, L*L],\n",
    "    z_dim=N_DENSE,\n",
    "    non_linear_activation_bool=NON_LINEAR_ACTIVATION_BOOL\n",
    ")"
   ]
  }
 ],
 "metadata": {
  "kernelspec": {
   "display_name": "Python 3",
   "language": "python",
   "name": "python3"
  },
  "language_info": {
   "codemirror_mode": {
    "name": "ipython",
    "version": 3
   },
   "file_extension": ".py",
   "mimetype": "text/x-python",
   "name": "python",
   "nbconvert_exporter": "python",
   "pygments_lexer": "ipython3",
   "version": "3.8.10"
  }
 },
 "nbformat": 4,
 "nbformat_minor": 5
}
