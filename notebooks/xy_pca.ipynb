{
 "cells": [
  {
   "cell_type": "code",
   "execution_count": 8,
   "id": "946bf4a6-1051-4ee1-a055-bc79d58b116c",
   "metadata": {},
   "outputs": [],
   "source": [
    "from tensorflow import keras\n",
    "import tensorflow as tf\n",
    "from tensorflow.keras.datasets import mnist\n",
    "import pandas as pd\n",
    "from matplotlib import pyplot as plt\n",
    "import sklearn\n",
    "from sklearn.decomposition import PCA\n",
    "import numpy as np\n",
    "import datetime\n",
    "\n",
    "TRAINING_FRACTION = 0.8\n",
    "N_DENSE = 1\n",
    "L=4"
   ]
  },
  {
   "cell_type": "code",
   "execution_count": 6,
   "id": "7ea66a09-cbce-41e4-84b9-d330103b369d",
   "metadata": {},
   "outputs": [],
   "source": [
    "user = 1\n",
    "if user == 1:\n",
    "    prefix_s3 = \"/home/owen/\"\n",
    "    prefix_data = \"/home/owen/repos/\"\n",
    "elif user == 2:\n",
    "    prefix_data = \"/Users/omyers/repos/\"\n",
    "    \n",
    "tensorboard_log_dir = \"{}/logs/fit/\".format(prefix_s3) + datetime.datetime.now().strftime(\"%Y%m%d-%H%M%S\")\n"
   ]
  },
  {
   "cell_type": "code",
   "execution_count": 10,
   "id": "dd95e533-2e73-43d4-907e-388d49f5566b",
   "metadata": {},
   "outputs": [],
   "source": [
    "# Just do this so it is easier to configure arbitrary choices\n",
    "work_with_t_list = [ \"00.10\", \"00.20\",] #\"00.30\", \"00.40\", \"00.50\", \"00.60\", \"00.70\", \"00.80\", \"00.90\", \"01.00\", \"01.10\", \"01.20\", \"01.30\", \"01.40\", \"01.50\", \"01.60\", \"01.70\", \"01.80\", \"01.90\", \"02.00\"]"
   ]
  },
  {
   "cell_type": "code",
   "execution_count": 12,
   "id": "bdee7f56-48b9-4135-9bb3-6ea29329cecd",
   "metadata": {},
   "outputs": [
    {
     "name": "stdout",
     "output_type": "stream",
     "text": [
      "/home/owen/repos/z3support/data/XYMLData/2DXY-configs-L-0004/bins_2DXY-configs-L-0004-0004-00.10-0000.txt\n",
      "/home/owen/repos/z3support/data/XYMLData/2DXY-configs-L-0004/bins_2DXY-configs-L-0004-0004-00.20-0000.txt\n"
     ]
    }
   ],
   "source": [
    "df_bins = None\n",
    "df_conf = None\n",
    "for i, t_string in enumerate(work_with_t_list):\n",
    "    bins_f_name = \"{prefix_data}z3support/data/XYMLData/2DXY-configs-L-{l}/bins_2DXY-configs-L-{l}-{l}-{t}-0000.txt\".format(\n",
    "        l = str(L).zfill(4),\n",
    "        t = t_string,\n",
    "        prefix_data = prefix_data\n",
    "    )\n",
    "    if i == 0:\n",
    "        cur_df_bins = pd.read_csv(bins_f_name, sep=\"\\t\")\n",
    "        #cur_df_conf = pd.read_csv(\"{prefix_data}z3support/data/SpinMLData/2DIsing/L-{L}/L-{L}-T-1-5/spinConfigs_L-{L}-T-1-5.txt\".format(L=L,prefix_data=prefix_data), delimiter=r\"\\s+\", header=None)\n",
    "    print(bins_f_name)"
   ]
  },
  {
   "cell_type": "code",
   "execution_count": null,
   "id": "5643d93a-24a5-4be6-bdca-f28f48ade956",
   "metadata": {},
   "outputs": [],
   "source": []
  }
 ],
 "metadata": {
  "kernelspec": {
   "display_name": "Python 3",
   "language": "python",
   "name": "python3"
  },
  "language_info": {
   "codemirror_mode": {
    "name": "ipython",
    "version": 3
   },
   "file_extension": ".py",
   "mimetype": "text/x-python",
   "name": "python",
   "nbconvert_exporter": "python",
   "pygments_lexer": "ipython3",
   "version": "3.8.10"
  }
 },
 "nbformat": 4,
 "nbformat_minor": 5
}
