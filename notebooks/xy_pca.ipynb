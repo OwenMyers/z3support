{
 "cells": [
  {
   "cell_type": "code",
   "execution_count": 37,
   "id": "946bf4a6-1051-4ee1-a055-bc79d58b116c",
   "metadata": {},
   "outputs": [],
   "source": [
    "from tensorflow import keras\n",
    "import tensorflow as tf\n",
    "from tensorflow.keras.datasets import mnist\n",
    "import pandas as pd\n",
    "from matplotlib import pyplot as plt\n",
    "import sklearn\n",
    "from sklearn.decomposition import PCA\n",
    "import numpy as np\n",
    "import datetime\n",
    "\n",
    "TRAINING_FRACTION = 0.8\n",
    "N_DENSE = 2\n",
    "L=4"
   ]
  },
  {
   "cell_type": "code",
   "execution_count": 6,
   "id": "7ea66a09-cbce-41e4-84b9-d330103b369d",
   "metadata": {},
   "outputs": [],
   "source": [
    "user = 1\n",
    "if user == 1:\n",
    "    prefix_s3 = \"/home/owen/\"\n",
    "    prefix_data = \"/home/owen/repos/\"\n",
    "elif user == 2:\n",
    "    prefix_data = \"/Users/omyers/repos/\"\n",
    "    \n",
    "tensorboard_log_dir = \"{}/logs/fit/\".format(prefix_s3) + datetime.datetime.now().strftime(\"%Y%m%d-%H%M%S\")\n"
   ]
  },
  {
   "cell_type": "code",
   "execution_count": 20,
   "id": "dd95e533-2e73-43d4-907e-388d49f5566b",
   "metadata": {},
   "outputs": [],
   "source": [
    "# Just do this so it is easier to configure arbitrary choices\n",
    "work_with_t_list = [ \"00.10\", \"00.20\", \"00.30\",]# \"00.40\", \"00.50\", \"00.60\", \"00.70\", \"00.80\", \"00.90\", \"01.00\", \"01.10\", \"01.20\", \"01.30\", \"01.40\", \"01.50\", \"01.60\", \"01.70\", \"01.80\", \"01.90\", \"02.00\"]"
   ]
  },
  {
   "cell_type": "code",
   "execution_count": 23,
   "id": "bdee7f56-48b9-4135-9bb3-6ea29329cecd",
   "metadata": {},
   "outputs": [
    {
     "name": "stdout",
     "output_type": "stream",
     "text": [
      "/home/owen/repos/z3support/data/XYMLData/2DXY-configs-L-0004/bins_2DXY-configs-L-0004-0004-00.10-0000.txt\n",
      "/home/owen/repos/z3support/data/XYMLData/2DXY-configs-L-0004/bins_2DXY-configs-L-0004-0004-00.20-0000.txt\n",
      "/home/owen/repos/z3support/data/XYMLData/2DXY-configs-L-0004/bins_2DXY-configs-L-0004-0004-00.30-0000.txt\n"
     ]
    }
   ],
   "source": [
    "df_bins = None\n",
    "df_conf = None\n",
    "for i, t_string in enumerate(work_with_t_list):\n",
    "    bins_f_name = \"{prefix_data}z3support/data/XYMLData/2DXY-configs-L-{l}/bins_2DXY-configs-L-{l}-{l}-{t}-0000.txt\".format(\n",
    "        l = str(L).zfill(4),\n",
    "        t = t_string,\n",
    "        prefix_data = prefix_data\n",
    "    )\n",
    "    configs_f_name = \"{prefix_data}z3support/data/XYMLData/2DXY-configs-L-{l}/spinConfigs_2DXY-configs-L-{l}-{l}-{t}-0000.txt\".format(\n",
    "        l = str(L).zfill(4),\n",
    "        t = t_string,\n",
    "        prefix_data = prefix_data\n",
    "    )\n",
    "    if i == 0:\n",
    "        df_bins = pd.read_csv(bins_f_name, sep=\"\\t\")\n",
    "        df_conf = pd.read_csv(configs_f_name, delimiter=r\"\\s+\", header=None)\n",
    "    else:\n",
    "        cur_df_bins = pd.read_csv(bins_f_name, sep=\"\\t\")\n",
    "        cur_df_conf = pd.read_csv(configs_f_name, delimiter=r\"\\s+\", header=None)\n",
    "        df_bins = df_bins.append(cur_df_bins) \n",
    "        df_conf = df_conf.append(cur_df_conf) \n",
    "    print(bins_f_name)"
   ]
  },
  {
   "cell_type": "code",
   "execution_count": 24,
   "id": "5643d93a-24a5-4be6-bdca-f28f48ade956",
   "metadata": {},
   "outputs": [
    {
     "data": {
      "text/plain": [
       "(30000, 10)"
      ]
     },
     "execution_count": 24,
     "metadata": {},
     "output_type": "execute_result"
    }
   ],
   "source": [
    "df_bins.shape"
   ]
  },
  {
   "cell_type": "code",
   "execution_count": 26,
   "id": "ca027ebb-bbfe-4a0b-80f8-6a460319a1f6",
   "metadata": {},
   "outputs": [],
   "source": [
    "df_bins = df_bins.astype(\n",
    "    {\n",
    "        \" T \": float,\n",
    "        \" binNum\": int,\n",
    "    }\n",
    ")"
   ]
  },
  {
   "cell_type": "code",
   "execution_count": 32,
   "id": "53e10b71-173d-43fc-bcb5-44ffdbdbb4b3",
   "metadata": {},
   "outputs": [],
   "source": [
    "df_conf[\"T\"] = df_bins[\" T \"]"
   ]
  },
  {
   "cell_type": "code",
   "execution_count": 33,
   "id": "c5d67406-1112-4546-9e17-1ed4e6cc739f",
   "metadata": {},
   "outputs": [],
   "source": [
    "mean_col = df_conf[0].copy()\n",
    "for i in range(1, L):\n",
    "    mean_col += df_conf[i]\n",
    "\n",
    "mean_col /= L"
   ]
  },
  {
   "cell_type": "code",
   "execution_count": 34,
   "id": "45c28707-bc0e-48ac-9165-385a178a9b03",
   "metadata": {},
   "outputs": [],
   "source": [
    "df_conf[\"M\"] = mean_col"
   ]
  },
  {
   "cell_type": "code",
   "execution_count": 35,
   "id": "5194281f-6a72-46db-b129-1788f21421da",
   "metadata": {},
   "outputs": [
    {
     "data": {
      "text/plain": [
       "Index([0, 1, 2, 3, 4, 5, 6, 7, 8, 9, 10, 11, 12, 13, 14, 15, 'M', 'T'], dtype='object')"
      ]
     },
     "execution_count": 35,
     "metadata": {},
     "output_type": "execute_result"
    }
   ],
   "source": [
    "df_conf.columns"
   ]
  },
  {
   "cell_type": "code",
   "execution_count": 47,
   "id": "7ecf6bed-92cc-42c2-9bf1-6ee7e726612b",
   "metadata": {},
   "outputs": [
    {
     "data": {
      "text/plain": [
       "(30000, 18)"
      ]
     },
     "execution_count": 47,
     "metadata": {},
     "output_type": "execute_result"
    }
   ],
   "source": [
    "df_conf.shape"
   ]
  },
  {
   "cell_type": "code",
   "execution_count": 48,
   "id": "5aaba68a-33b2-41ca-9ab6-825a85925a05",
   "metadata": {},
   "outputs": [
    {
     "data": {
      "text/html": [
       "<div>\n",
       "<style scoped>\n",
       "    .dataframe tbody tr th:only-of-type {\n",
       "        vertical-align: middle;\n",
       "    }\n",
       "\n",
       "    .dataframe tbody tr th {\n",
       "        vertical-align: top;\n",
       "    }\n",
       "\n",
       "    .dataframe thead th {\n",
       "        text-align: right;\n",
       "    }\n",
       "</style>\n",
       "<table border=\"1\" class=\"dataframe\">\n",
       "  <thead>\n",
       "    <tr style=\"text-align: right;\">\n",
       "      <th></th>\n",
       "      <th>0</th>\n",
       "      <th>1</th>\n",
       "      <th>2</th>\n",
       "      <th>3</th>\n",
       "      <th>4</th>\n",
       "      <th>5</th>\n",
       "      <th>6</th>\n",
       "      <th>7</th>\n",
       "      <th>8</th>\n",
       "      <th>9</th>\n",
       "      <th>10</th>\n",
       "      <th>11</th>\n",
       "      <th>12</th>\n",
       "      <th>13</th>\n",
       "      <th>14</th>\n",
       "      <th>15</th>\n",
       "      <th>M</th>\n",
       "      <th>T</th>\n",
       "    </tr>\n",
       "  </thead>\n",
       "  <tbody>\n",
       "    <tr>\n",
       "      <th>0</th>\n",
       "      <td>0.162246</td>\n",
       "      <td>5.973095</td>\n",
       "      <td>6.133531</td>\n",
       "      <td>6.156717</td>\n",
       "      <td>0.025063</td>\n",
       "      <td>6.050038</td>\n",
       "      <td>6.020508</td>\n",
       "      <td>6.223365</td>\n",
       "      <td>0.067779</td>\n",
       "      <td>6.153401</td>\n",
       "      <td>6.032560</td>\n",
       "      <td>0.073008</td>\n",
       "      <td>6.134114</td>\n",
       "      <td>6.160847</td>\n",
       "      <td>0.052111</td>\n",
       "      <td>0.115091</td>\n",
       "      <td>4.606397</td>\n",
       "      <td>0.1</td>\n",
       "    </tr>\n",
       "    <tr>\n",
       "      <th>1</th>\n",
       "      <td>4.983357</td>\n",
       "      <td>4.822849</td>\n",
       "      <td>4.691446</td>\n",
       "      <td>4.885390</td>\n",
       "      <td>5.122919</td>\n",
       "      <td>4.853683</td>\n",
       "      <td>4.793827</td>\n",
       "      <td>4.921220</td>\n",
       "      <td>4.869675</td>\n",
       "      <td>5.132625</td>\n",
       "      <td>5.236716</td>\n",
       "      <td>4.908288</td>\n",
       "      <td>4.935758</td>\n",
       "      <td>4.859949</td>\n",
       "      <td>4.700985</td>\n",
       "      <td>5.001698</td>\n",
       "      <td>4.845760</td>\n",
       "      <td>0.1</td>\n",
       "    </tr>\n",
       "    <tr>\n",
       "      <th>2</th>\n",
       "      <td>2.727240</td>\n",
       "      <td>2.390374</td>\n",
       "      <td>2.708473</td>\n",
       "      <td>2.618912</td>\n",
       "      <td>2.354293</td>\n",
       "      <td>2.384652</td>\n",
       "      <td>2.535973</td>\n",
       "      <td>2.779869</td>\n",
       "      <td>2.592872</td>\n",
       "      <td>2.413333</td>\n",
       "      <td>2.715683</td>\n",
       "      <td>2.716086</td>\n",
       "      <td>2.763101</td>\n",
       "      <td>2.847251</td>\n",
       "      <td>2.660584</td>\n",
       "      <td>2.721994</td>\n",
       "      <td>2.611250</td>\n",
       "      <td>0.1</td>\n",
       "    </tr>\n",
       "    <tr>\n",
       "      <th>3</th>\n",
       "      <td>5.762936</td>\n",
       "      <td>5.839879</td>\n",
       "      <td>0.023180</td>\n",
       "      <td>6.216394</td>\n",
       "      <td>6.118754</td>\n",
       "      <td>6.144861</td>\n",
       "      <td>0.033664</td>\n",
       "      <td>0.032085</td>\n",
       "      <td>6.282960</td>\n",
       "      <td>0.085963</td>\n",
       "      <td>0.031738</td>\n",
       "      <td>0.152408</td>\n",
       "      <td>6.027732</td>\n",
       "      <td>6.234099</td>\n",
       "      <td>0.083261</td>\n",
       "      <td>0.023046</td>\n",
       "      <td>4.460597</td>\n",
       "      <td>0.1</td>\n",
       "    </tr>\n",
       "    <tr>\n",
       "      <th>4</th>\n",
       "      <td>4.463147</td>\n",
       "      <td>4.564015</td>\n",
       "      <td>4.342138</td>\n",
       "      <td>4.595675</td>\n",
       "      <td>4.269949</td>\n",
       "      <td>4.323170</td>\n",
       "      <td>4.407668</td>\n",
       "      <td>4.411044</td>\n",
       "      <td>4.368104</td>\n",
       "      <td>4.413393</td>\n",
       "      <td>4.490482</td>\n",
       "      <td>4.530060</td>\n",
       "      <td>4.503687</td>\n",
       "      <td>4.435605</td>\n",
       "      <td>4.239925</td>\n",
       "      <td>4.452277</td>\n",
       "      <td>4.491244</td>\n",
       "      <td>0.1</td>\n",
       "    </tr>\n",
       "  </tbody>\n",
       "</table>\n",
       "</div>"
      ],
      "text/plain": [
       "          0         1         2         3         4         5         6  \\\n",
       "0  0.162246  5.973095  6.133531  6.156717  0.025063  6.050038  6.020508   \n",
       "1  4.983357  4.822849  4.691446  4.885390  5.122919  4.853683  4.793827   \n",
       "2  2.727240  2.390374  2.708473  2.618912  2.354293  2.384652  2.535973   \n",
       "3  5.762936  5.839879  0.023180  6.216394  6.118754  6.144861  0.033664   \n",
       "4  4.463147  4.564015  4.342138  4.595675  4.269949  4.323170  4.407668   \n",
       "\n",
       "          7         8         9        10        11        12        13  \\\n",
       "0  6.223365  0.067779  6.153401  6.032560  0.073008  6.134114  6.160847   \n",
       "1  4.921220  4.869675  5.132625  5.236716  4.908288  4.935758  4.859949   \n",
       "2  2.779869  2.592872  2.413333  2.715683  2.716086  2.763101  2.847251   \n",
       "3  0.032085  6.282960  0.085963  0.031738  0.152408  6.027732  6.234099   \n",
       "4  4.411044  4.368104  4.413393  4.490482  4.530060  4.503687  4.435605   \n",
       "\n",
       "         14        15         M    T  \n",
       "0  0.052111  0.115091  4.606397  0.1  \n",
       "1  4.700985  5.001698  4.845760  0.1  \n",
       "2  2.660584  2.721994  2.611250  0.1  \n",
       "3  0.083261  0.023046  4.460597  0.1  \n",
       "4  4.239925  4.452277  4.491244  0.1  "
      ]
     },
     "execution_count": 48,
     "metadata": {},
     "output_type": "execute_result"
    }
   ],
   "source": [
    "df_conf.head()"
   ]
  },
  {
   "cell_type": "code",
   "execution_count": 54,
   "id": "4a3348ac-df84-4b76-b9e9-96578312422e",
   "metadata": {},
   "outputs": [
    {
     "name": "stdout",
     "output_type": "stream",
     "text": [
      "['0', '0', '1', '1', '2', '2', '3', '3', '4', '4', '5', '5', '6', '6', '7', '7', '8', '8', '9', '9', '10', '10', '11', '11', '12', '12', '13', '13', '14', '14', '15', '15']\n"
     ]
    }
   ],
   "source": [
    "cols = []\n",
    "for i in range(L*L):\n",
    "    cols.append(str(i))\n",
    "    cols.append(str(i))\n",
    "print(cols)"
   ]
  },
  {
   "cell_type": "code",
   "execution_count": 56,
   "id": "4612d76d-381b-4ef5-840e-46d56c5ba422",
   "metadata": {},
   "outputs": [],
   "source": [
    "xy_spec = [\"x\", \"y\"] * L*L"
   ]
  },
  {
   "cell_type": "code",
   "execution_count": 58,
   "id": "fe36ab67-f046-474c-a309-40aaf766671a",
   "metadata": {},
   "outputs": [],
   "source": [
    "for i in zip(cols, xy_spec):\n",
    "    continue\n",
    "    #print(i)"
   ]
  },
  {
   "cell_type": "code",
   "execution_count": 59,
   "id": "9346e793-5b5b-405c-86e7-cb2a61320282",
   "metadata": {},
   "outputs": [],
   "source": [
    "np_angle_matrix = df_conf.drop([\"T\",\"M\"], axis=1).to_numpy()"
   ]
  },
  {
   "cell_type": "code",
   "execution_count": 63,
   "id": "3456c1a0-6edd-4feb-8b48-0f7405c4235c",
   "metadata": {},
   "outputs": [],
   "source": [
    "np_x_matrix = np.cos(np_angle_matrix)\n",
    "np_y_matrix = np.sin(np_angle_matrix)"
   ]
  },
  {
   "cell_type": "code",
   "execution_count": 67,
   "id": "24b51f07-a998-4c29-8912-2ba924bd5953",
   "metadata": {},
   "outputs": [],
   "source": [
    "#np.concatenate(np_x_matrix, np_x_matrix, axis=1)\n",
    "df = pd.DataFrame(columns=pd.MultiIndex.from_tuples(zip(cols, xy_spec)))"
   ]
  },
  {
   "cell_type": "code",
   "execution_count": null,
   "id": "538eeb58-ecc3-4b3c-ae1d-de96a257d054",
   "metadata": {},
   "outputs": [],
   "source": [
    "df.sort_index(ascending=True, inplace=True, axis=1)"
   ]
  },
  {
   "cell_type": "code",
   "execution_count": 150,
   "id": "fdc22031-788f-4cbd-98e3-b1ead8b3c1d7",
   "metadata": {},
   "outputs": [],
   "source": [
    "df.loc[:, (slice(None), slice(\"x\"))] = np_x_matrix"
   ]
  },
  {
   "cell_type": "code",
   "execution_count": 155,
   "id": "88b9ae0d-ffeb-43fa-ba92-b318743b5b14",
   "metadata": {},
   "outputs": [
    {
     "data": {
      "text/plain": [
       "array([[ 0.986867  ,  0.9523061 ,  0.98882268, ...,  0.99252601,\n",
       "         0.99864253,  0.99338439],\n",
       "       [ 0.26766423,  0.11023518, -0.0209416 , ...,  0.14702497,\n",
       "        -0.01140408,  0.28528988],\n",
       "       [-0.91537707, -0.73085744, -0.90766075, ..., -0.95699346,\n",
       "        -0.88652882, -0.91325267],\n",
       "       ...,\n",
       "       [-0.99996531, -0.78798196, -0.81200276, ..., -0.93132133,\n",
       "        -0.97910067, -0.96902602],\n",
       "       [ 0.73166437,  0.99926935,  0.68109528, ...,  0.951746  ,\n",
       "         0.93244177,  0.90483846],\n",
       "       [-0.35623912, -0.17665983, -0.22011722, ...,  0.07685637,\n",
       "         0.24162666,  0.04673386]])"
      ]
     },
     "execution_count": 155,
     "metadata": {},
     "output_type": "execute_result"
    }
   ],
   "source": [
    "np_x_matrix"
   ]
  },
  {
   "cell_type": "code",
   "execution_count": 156,
   "id": "8fbcb6a2-2cf0-4e4d-b032-c2bdffc7a5a8",
   "metadata": {},
   "outputs": [
    {
     "data": {
      "text/plain": [
       "array([[ 0.16153491, -0.30514438, -0.14909632, ..., -0.12203327,\n",
       "         0.05208737,  0.11483667],\n",
       "       [-0.96351225, -0.99390553, -0.9997807 , ..., -0.98913278,\n",
       "        -0.99993497, -0.95844128],\n",
       "       [ 0.40259759,  0.68253015,  0.41970462, ...,  0.29010949,\n",
       "         0.46267338,  0.40739362],\n",
       "       ...,\n",
       "       [ 0.00832939, -0.61569833, -0.5836536 , ..., -0.36419854,\n",
       "         0.20337621,  0.24695866],\n",
       "       [-0.68166506, -0.03821998, -0.7321948 , ..., -0.30688686,\n",
       "        -0.36132028, -0.42575505],\n",
       "       [ 0.93439482,  0.98427197,  0.97547343, ...,  0.99704218,\n",
       "         0.97036929,  0.99890738]])"
      ]
     },
     "execution_count": 156,
     "metadata": {},
     "output_type": "execute_result"
    }
   ],
   "source": [
    "np_y_matrix"
   ]
  },
  {
   "cell_type": "code",
   "execution_count": 153,
   "id": "bed360df-7264-489b-9c08-220172717927",
   "metadata": {},
   "outputs": [],
   "source": [
    "df.loc[:, (slice(None), \"y\")] = np_y_matrix"
   ]
  },
  {
   "cell_type": "code",
   "execution_count": 154,
   "id": "df974617-a978-43e2-8e85-860b95c27831",
   "metadata": {},
   "outputs": [
    {
     "data": {
      "text/html": [
       "<div>\n",
       "<style scoped>\n",
       "    .dataframe tbody tr th:only-of-type {\n",
       "        vertical-align: middle;\n",
       "    }\n",
       "\n",
       "    .dataframe tbody tr th {\n",
       "        vertical-align: top;\n",
       "    }\n",
       "\n",
       "    .dataframe thead tr th {\n",
       "        text-align: left;\n",
       "    }\n",
       "</style>\n",
       "<table border=\"1\" class=\"dataframe\">\n",
       "  <thead>\n",
       "    <tr>\n",
       "      <th></th>\n",
       "      <th colspan=\"2\" halign=\"left\">0</th>\n",
       "      <th colspan=\"2\" halign=\"left\">1</th>\n",
       "      <th colspan=\"2\" halign=\"left\">10</th>\n",
       "      <th colspan=\"2\" halign=\"left\">11</th>\n",
       "      <th colspan=\"2\" halign=\"left\">12</th>\n",
       "      <th>...</th>\n",
       "      <th colspan=\"2\" halign=\"left\">5</th>\n",
       "      <th colspan=\"2\" halign=\"left\">6</th>\n",
       "      <th colspan=\"2\" halign=\"left\">7</th>\n",
       "      <th colspan=\"2\" halign=\"left\">8</th>\n",
       "      <th colspan=\"2\" halign=\"left\">9</th>\n",
       "    </tr>\n",
       "    <tr>\n",
       "      <th></th>\n",
       "      <th>x</th>\n",
       "      <th>y</th>\n",
       "      <th>x</th>\n",
       "      <th>y</th>\n",
       "      <th>x</th>\n",
       "      <th>y</th>\n",
       "      <th>x</th>\n",
       "      <th>y</th>\n",
       "      <th>x</th>\n",
       "      <th>y</th>\n",
       "      <th>...</th>\n",
       "      <th>x</th>\n",
       "      <th>y</th>\n",
       "      <th>x</th>\n",
       "      <th>y</th>\n",
       "      <th>x</th>\n",
       "      <th>y</th>\n",
       "      <th>x</th>\n",
       "      <th>y</th>\n",
       "      <th>x</th>\n",
       "      <th>y</th>\n",
       "    </tr>\n",
       "  </thead>\n",
       "  <tbody>\n",
       "    <tr>\n",
       "      <th>0</th>\n",
       "      <td>0.986867</td>\n",
       "      <td>0.161535</td>\n",
       "      <td>0.952306</td>\n",
       "      <td>-0.305144</td>\n",
       "      <td>0.988823</td>\n",
       "      <td>-0.149096</td>\n",
       "      <td>0.992013</td>\n",
       "      <td>-0.126132</td>\n",
       "      <td>0.999686</td>\n",
       "      <td>0.025061</td>\n",
       "      <td>...</td>\n",
       "      <td>0.997336</td>\n",
       "      <td>0.072943</td>\n",
       "      <td>0.988909</td>\n",
       "      <td>-0.148520</td>\n",
       "      <td>0.992526</td>\n",
       "      <td>-0.122033</td>\n",
       "      <td>0.998643</td>\n",
       "      <td>0.052087</td>\n",
       "      <td>0.993384</td>\n",
       "      <td>0.114837</td>\n",
       "    </tr>\n",
       "    <tr>\n",
       "      <th>1</th>\n",
       "      <td>0.267664</td>\n",
       "      <td>-0.963512</td>\n",
       "      <td>0.110235</td>\n",
       "      <td>-0.993906</td>\n",
       "      <td>-0.020942</td>\n",
       "      <td>-0.999781</td>\n",
       "      <td>0.172139</td>\n",
       "      <td>-0.985073</td>\n",
       "      <td>0.399095</td>\n",
       "      <td>-0.916909</td>\n",
       "      <td>...</td>\n",
       "      <td>0.194648</td>\n",
       "      <td>-0.980873</td>\n",
       "      <td>0.221516</td>\n",
       "      <td>-0.975157</td>\n",
       "      <td>0.147025</td>\n",
       "      <td>-0.989133</td>\n",
       "      <td>-0.011404</td>\n",
       "      <td>-0.999935</td>\n",
       "      <td>0.285290</td>\n",
       "      <td>-0.958441</td>\n",
       "    </tr>\n",
       "    <tr>\n",
       "      <th>2</th>\n",
       "      <td>-0.915377</td>\n",
       "      <td>0.402598</td>\n",
       "      <td>-0.730857</td>\n",
       "      <td>0.682530</td>\n",
       "      <td>-0.907661</td>\n",
       "      <td>0.419705</td>\n",
       "      <td>-0.866484</td>\n",
       "      <td>0.499204</td>\n",
       "      <td>-0.705761</td>\n",
       "      <td>0.708450</td>\n",
       "      <td>...</td>\n",
       "      <td>-0.910830</td>\n",
       "      <td>0.412782</td>\n",
       "      <td>-0.929223</td>\n",
       "      <td>0.369519</td>\n",
       "      <td>-0.956993</td>\n",
       "      <td>0.290109</td>\n",
       "      <td>-0.886529</td>\n",
       "      <td>0.462673</td>\n",
       "      <td>-0.913253</td>\n",
       "      <td>0.407394</td>\n",
       "    </tr>\n",
       "    <tr>\n",
       "      <th>3</th>\n",
       "      <td>0.867695</td>\n",
       "      <td>-0.497097</td>\n",
       "      <td>0.903339</td>\n",
       "      <td>-0.428928</td>\n",
       "      <td>0.999731</td>\n",
       "      <td>0.023177</td>\n",
       "      <td>0.997770</td>\n",
       "      <td>-0.066742</td>\n",
       "      <td>0.986512</td>\n",
       "      <td>-0.163692</td>\n",
       "      <td>...</td>\n",
       "      <td>0.988408</td>\n",
       "      <td>0.151819</td>\n",
       "      <td>0.967549</td>\n",
       "      <td>-0.252684</td>\n",
       "      <td>0.998796</td>\n",
       "      <td>-0.049066</td>\n",
       "      <td>0.996536</td>\n",
       "      <td>0.083165</td>\n",
       "      <td>0.999734</td>\n",
       "      <td>0.023044</td>\n",
       "    </tr>\n",
       "    <tr>\n",
       "      <th>4</th>\n",
       "      <td>-0.246669</td>\n",
       "      <td>-0.969100</td>\n",
       "      <td>-0.147830</td>\n",
       "      <td>-0.989013</td>\n",
       "      <td>-0.361850</td>\n",
       "      <td>-0.932236</td>\n",
       "      <td>-0.116449</td>\n",
       "      <td>-0.993197</td>\n",
       "      <td>-0.428146</td>\n",
       "      <td>-0.903710</td>\n",
       "      <td>...</td>\n",
       "      <td>-0.181321</td>\n",
       "      <td>-0.983424</td>\n",
       "      <td>-0.207191</td>\n",
       "      <td>-0.978301</td>\n",
       "      <td>-0.273263</td>\n",
       "      <td>-0.961939</td>\n",
       "      <td>-0.455082</td>\n",
       "      <td>-0.890450</td>\n",
       "      <td>-0.257189</td>\n",
       "      <td>-0.966361</td>\n",
       "    </tr>\n",
       "    <tr>\n",
       "      <th>...</th>\n",
       "      <td>...</td>\n",
       "      <td>...</td>\n",
       "      <td>...</td>\n",
       "      <td>...</td>\n",
       "      <td>...</td>\n",
       "      <td>...</td>\n",
       "      <td>...</td>\n",
       "      <td>...</td>\n",
       "      <td>...</td>\n",
       "      <td>...</td>\n",
       "      <td>...</td>\n",
       "      <td>...</td>\n",
       "      <td>...</td>\n",
       "      <td>...</td>\n",
       "      <td>...</td>\n",
       "      <td>...</td>\n",
       "      <td>...</td>\n",
       "      <td>...</td>\n",
       "      <td>...</td>\n",
       "      <td>...</td>\n",
       "      <td>...</td>\n",
       "    </tr>\n",
       "    <tr>\n",
       "      <th>29995</th>\n",
       "      <td>0.246862</td>\n",
       "      <td>-0.969051</td>\n",
       "      <td>0.309302</td>\n",
       "      <td>-0.950964</td>\n",
       "      <td>-0.078424</td>\n",
       "      <td>-0.996920</td>\n",
       "      <td>0.407209</td>\n",
       "      <td>-0.913335</td>\n",
       "      <td>0.419934</td>\n",
       "      <td>-0.907555</td>\n",
       "      <td>...</td>\n",
       "      <td>0.273856</td>\n",
       "      <td>-0.961771</td>\n",
       "      <td>-0.245455</td>\n",
       "      <td>-0.969408</td>\n",
       "      <td>0.360687</td>\n",
       "      <td>-0.932687</td>\n",
       "      <td>0.298391</td>\n",
       "      <td>-0.954444</td>\n",
       "      <td>-0.276970</td>\n",
       "      <td>-0.960878</td>\n",
       "    </tr>\n",
       "    <tr>\n",
       "      <th>29996</th>\n",
       "      <td>-0.610500</td>\n",
       "      <td>-0.792016</td>\n",
       "      <td>-0.715634</td>\n",
       "      <td>-0.698475</td>\n",
       "      <td>-0.613806</td>\n",
       "      <td>-0.789457</td>\n",
       "      <td>-0.639160</td>\n",
       "      <td>-0.769074</td>\n",
       "      <td>-0.667019</td>\n",
       "      <td>-0.745041</td>\n",
       "      <td>...</td>\n",
       "      <td>-0.713515</td>\n",
       "      <td>-0.700640</td>\n",
       "      <td>-0.744314</td>\n",
       "      <td>-0.667830</td>\n",
       "      <td>-0.811583</td>\n",
       "      <td>-0.584237</td>\n",
       "      <td>-0.449800</td>\n",
       "      <td>-0.893129</td>\n",
       "      <td>-0.445553</td>\n",
       "      <td>-0.895256</td>\n",
       "    </tr>\n",
       "    <tr>\n",
       "      <th>29997</th>\n",
       "      <td>-0.999965</td>\n",
       "      <td>0.008329</td>\n",
       "      <td>-0.787982</td>\n",
       "      <td>-0.615698</td>\n",
       "      <td>-0.812003</td>\n",
       "      <td>-0.583654</td>\n",
       "      <td>-0.976266</td>\n",
       "      <td>-0.216573</td>\n",
       "      <td>-0.989320</td>\n",
       "      <td>0.145759</td>\n",
       "      <td>...</td>\n",
       "      <td>-0.989930</td>\n",
       "      <td>-0.141555</td>\n",
       "      <td>-0.950693</td>\n",
       "      <td>0.310133</td>\n",
       "      <td>-0.931321</td>\n",
       "      <td>-0.364199</td>\n",
       "      <td>-0.979101</td>\n",
       "      <td>0.203376</td>\n",
       "      <td>-0.969026</td>\n",
       "      <td>0.246959</td>\n",
       "    </tr>\n",
       "    <tr>\n",
       "      <th>29998</th>\n",
       "      <td>0.731664</td>\n",
       "      <td>-0.681665</td>\n",
       "      <td>0.999269</td>\n",
       "      <td>-0.038220</td>\n",
       "      <td>0.681095</td>\n",
       "      <td>-0.732195</td>\n",
       "      <td>0.549889</td>\n",
       "      <td>-0.835238</td>\n",
       "      <td>0.781016</td>\n",
       "      <td>-0.624511</td>\n",
       "      <td>...</td>\n",
       "      <td>0.851688</td>\n",
       "      <td>-0.524048</td>\n",
       "      <td>0.481699</td>\n",
       "      <td>-0.876337</td>\n",
       "      <td>0.951746</td>\n",
       "      <td>-0.306887</td>\n",
       "      <td>0.932442</td>\n",
       "      <td>-0.361320</td>\n",
       "      <td>0.904838</td>\n",
       "      <td>-0.425755</td>\n",
       "    </tr>\n",
       "    <tr>\n",
       "      <th>29999</th>\n",
       "      <td>-0.356239</td>\n",
       "      <td>0.934395</td>\n",
       "      <td>-0.176660</td>\n",
       "      <td>0.984272</td>\n",
       "      <td>-0.220117</td>\n",
       "      <td>0.975473</td>\n",
       "      <td>-0.372997</td>\n",
       "      <td>0.927833</td>\n",
       "      <td>-0.633948</td>\n",
       "      <td>0.773376</td>\n",
       "      <td>...</td>\n",
       "      <td>0.431784</td>\n",
       "      <td>0.901977</td>\n",
       "      <td>-0.301467</td>\n",
       "      <td>0.953477</td>\n",
       "      <td>0.076856</td>\n",
       "      <td>0.997042</td>\n",
       "      <td>0.241627</td>\n",
       "      <td>0.970369</td>\n",
       "      <td>0.046734</td>\n",
       "      <td>0.998907</td>\n",
       "    </tr>\n",
       "  </tbody>\n",
       "</table>\n",
       "<p>30000 rows × 32 columns</p>\n",
       "</div>"
      ],
      "text/plain": [
       "              0                   1                  10                  11  \\\n",
       "              x         y         x         y         x         y         x   \n",
       "0      0.986867  0.161535  0.952306 -0.305144  0.988823 -0.149096  0.992013   \n",
       "1      0.267664 -0.963512  0.110235 -0.993906 -0.020942 -0.999781  0.172139   \n",
       "2     -0.915377  0.402598 -0.730857  0.682530 -0.907661  0.419705 -0.866484   \n",
       "3      0.867695 -0.497097  0.903339 -0.428928  0.999731  0.023177  0.997770   \n",
       "4     -0.246669 -0.969100 -0.147830 -0.989013 -0.361850 -0.932236 -0.116449   \n",
       "...         ...       ...       ...       ...       ...       ...       ...   \n",
       "29995  0.246862 -0.969051  0.309302 -0.950964 -0.078424 -0.996920  0.407209   \n",
       "29996 -0.610500 -0.792016 -0.715634 -0.698475 -0.613806 -0.789457 -0.639160   \n",
       "29997 -0.999965  0.008329 -0.787982 -0.615698 -0.812003 -0.583654 -0.976266   \n",
       "29998  0.731664 -0.681665  0.999269 -0.038220  0.681095 -0.732195  0.549889   \n",
       "29999 -0.356239  0.934395 -0.176660  0.984272 -0.220117  0.975473 -0.372997   \n",
       "\n",
       "                       12            ...         5                   6  \\\n",
       "              y         x         y  ...         x         y         x   \n",
       "0     -0.126132  0.999686  0.025061  ...  0.997336  0.072943  0.988909   \n",
       "1     -0.985073  0.399095 -0.916909  ...  0.194648 -0.980873  0.221516   \n",
       "2      0.499204 -0.705761  0.708450  ... -0.910830  0.412782 -0.929223   \n",
       "3     -0.066742  0.986512 -0.163692  ...  0.988408  0.151819  0.967549   \n",
       "4     -0.993197 -0.428146 -0.903710  ... -0.181321 -0.983424 -0.207191   \n",
       "...         ...       ...       ...  ...       ...       ...       ...   \n",
       "29995 -0.913335  0.419934 -0.907555  ...  0.273856 -0.961771 -0.245455   \n",
       "29996 -0.769074 -0.667019 -0.745041  ... -0.713515 -0.700640 -0.744314   \n",
       "29997 -0.216573 -0.989320  0.145759  ... -0.989930 -0.141555 -0.950693   \n",
       "29998 -0.835238  0.781016 -0.624511  ...  0.851688 -0.524048  0.481699   \n",
       "29999  0.927833 -0.633948  0.773376  ...  0.431784  0.901977 -0.301467   \n",
       "\n",
       "                        7                   8                   9            \n",
       "              y         x         y         x         y         x         y  \n",
       "0     -0.148520  0.992526 -0.122033  0.998643  0.052087  0.993384  0.114837  \n",
       "1     -0.975157  0.147025 -0.989133 -0.011404 -0.999935  0.285290 -0.958441  \n",
       "2      0.369519 -0.956993  0.290109 -0.886529  0.462673 -0.913253  0.407394  \n",
       "3     -0.252684  0.998796 -0.049066  0.996536  0.083165  0.999734  0.023044  \n",
       "4     -0.978301 -0.273263 -0.961939 -0.455082 -0.890450 -0.257189 -0.966361  \n",
       "...         ...       ...       ...       ...       ...       ...       ...  \n",
       "29995 -0.969408  0.360687 -0.932687  0.298391 -0.954444 -0.276970 -0.960878  \n",
       "29996 -0.667830 -0.811583 -0.584237 -0.449800 -0.893129 -0.445553 -0.895256  \n",
       "29997  0.310133 -0.931321 -0.364199 -0.979101  0.203376 -0.969026  0.246959  \n",
       "29998 -0.876337  0.951746 -0.306887  0.932442 -0.361320  0.904838 -0.425755  \n",
       "29999  0.953477  0.076856  0.997042  0.241627  0.970369  0.046734  0.998907  \n",
       "\n",
       "[30000 rows x 32 columns]"
      ]
     },
     "execution_count": 154,
     "metadata": {},
     "output_type": "execute_result"
    }
   ],
   "source": [
    "df"
   ]
  },
  {
   "cell_type": "code",
   "execution_count": 158,
   "id": "ce511638-50a7-470d-9e94-e6a5e12378fd",
   "metadata": {},
   "outputs": [],
   "source": [
    "train_with_meta_info = df.sample(frac=TRAINING_FRACTION, axis=0)\n",
    "test_with_meta_info = df.drop(index=train_with_meta_info.index)\n",
    "#train = train_with_meta_info.drop([\"T\",\"M\"], axis=1)\n",
    "#test = test_with_meta_info.drop([\"T\",\"M\"], axis=1)\n",
    "train = train_with_meta_info\n",
    "test = test_with_meta_info"
   ]
  },
  {
   "cell_type": "code",
   "execution_count": 164,
   "id": "13f23faa-7fa6-4317-b629-1d05a489199b",
   "metadata": {},
   "outputs": [
    {
     "data": {
      "text/plain": [
       "PCA(n_components=2)"
      ]
     },
     "execution_count": 164,
     "metadata": {},
     "output_type": "execute_result"
    }
   ],
   "source": [
    "img_pca = PCA(n_components=N_DENSE)\n",
    "img_pca.fit(train.to_numpy())"
   ]
  },
  {
   "cell_type": "code",
   "execution_count": 168,
   "id": "312e6705-3138-4530-8eea-2d1f4c2fdaae",
   "metadata": {},
   "outputs": [],
   "source": [
    "components = img_pca.transform(df.to_numpy())"
   ]
  },
  {
   "cell_type": "code",
   "execution_count": 171,
   "id": "d93fddfe-2b84-4a6f-aee1-8d736e720f78",
   "metadata": {},
   "outputs": [
    {
     "data": {
      "text/plain": [
       "(30000, 32)"
      ]
     },
     "execution_count": 171,
     "metadata": {},
     "output_type": "execute_result"
    }
   ],
   "source": [
    "df.to_numpy().shape"
   ]
  },
  {
   "cell_type": "code",
   "execution_count": 166,
   "id": "ef696342-d92d-46c5-838e-bbd2a3e97a80",
   "metadata": {},
   "outputs": [
    {
     "data": {
      "text/plain": [
       "(30000, 2)"
      ]
     },
     "execution_count": 166,
     "metadata": {},
     "output_type": "execute_result"
    }
   ],
   "source": [
    "components.shape"
   ]
  },
  {
   "cell_type": "code",
   "execution_count": 167,
   "id": "401b4025-e1ad-4952-be2a-1f3c9186567d",
   "metadata": {},
   "outputs": [
    {
     "data": {
      "image/png": "[encoded data removed]",
      "text/plain": [
       "<Figure size 432x288 with 1 Axes>"
      ]
     },
     "metadata": {
      "needs_background": "light"
     },
     "output_type": "display_data"
    }
   ],
   "source": [
    "if N_DENSE > 1:\n",
    "    plt.scatter(components[:,0], components[:,1], c=pd.to_numeric(df_conf[\"T\"]), alpha=0.1)"
   ]
  },
  {
   "cell_type": "code",
   "execution_count": 46,
   "id": "c802ba15-1a6d-40e1-9d3c-e688dcfecd87",
   "metadata": {},
   "outputs": [
    {
     "data": {
      "image/png": "[encoded data removed]",
      "text/plain": [
       "<Figure size 432x288 with 1 Axes>"
      ]
     },
     "metadata": {
      "needs_background": "light"
     },
     "output_type": "display_data"
    }
   ],
   "source": [
    "if N_DENSE > 1:\n",
    "    plt.scatter(components[:,0], components[:,1], c=pd.to_numeric(df_conf[\"M\"]), alpha=0.1)"
   ]
  },
  {
   "cell_type": "code",
   "execution_count": null,
   "id": "11b463b1-f0fa-4f33-bba0-c7a1fdb862ad",
   "metadata": {},
   "outputs": [],
   "source": []
  }
 ],
 "metadata": {
  "kernelspec": {
   "display_name": "Python 3",
   "language": "python",
   "name": "python3"
  },
  "language_info": {
   "codemirror_mode": {
    "name": "ipython",
    "version": 3
   },
   "file_extension": ".py",
   "mimetype": "text/x-python",
   "name": "python",
   "nbconvert_exporter": "python",
   "pygments_lexer": "ipython3",
   "version": "3.8.10"
  }
 },
 "nbformat": 4,
 "nbformat_minor": 5
}
