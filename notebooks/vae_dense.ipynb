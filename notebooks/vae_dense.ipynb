{
 "cells": [
  {
   "cell_type": "code",
   "execution_count": 68,
   "id": "a1c11071-bfbb-4177-a84f-e2444cf3e1a6",
   "metadata": {},
   "outputs": [],
   "source": [
    "import os\n",
    "\n",
    "from models.vae import DenseVariationalAutoencoder\n",
    "from models.utils.loaders import load_mnist\n",
    "import pandas as pd\n",
    "import numpy as np\n",
    "from tensorflow.python.framework.ops import disable_eager_execution\n",
    "from matplotlib import pyplot as plt\n",
    "\n",
    "disable_eager_execution()\n",
    "\n",
    "os.environ[\"CUDA_VISIBLE_DEVICES\"] = \"-1\"\n",
    "\n",
    "N_DENSE = 1\n",
    "L=8\n",
    "TRAINING_FRACTION = 0.8\n",
    "NON_LINEAR_ACTIVATION_BOOL=True"
   ]
  },
  {
   "cell_type": "code",
   "execution_count": 69,
   "id": "c2c04948-4abb-459f-b4c7-063d3ed394e4",
   "metadata": {},
   "outputs": [],
   "source": [
    "user = 1\n",
    "if user == 1:\n",
    "    prefix_s3 = \"/home/owen/\"\n",
    "    prefix_data = \"/home/owen/repos/\"\n",
    "elif user == 2:\n",
    "    prefix_data = \"/Users/omyers/repos/\""
   ]
  },
  {
   "cell_type": "code",
   "execution_count": 70,
   "id": "dac34337-c7ee-41c3-8a06-1d77200a864b",
   "metadata": {},
   "outputs": [],
   "source": [
    "# run params\n",
    "SECTION = 'vae'\n",
    "RUN_ID = '0003'\n",
    "#DATA_NAME = 'digits'\n",
    "DATA_NAME = 'ising'\n",
    "RUN_FOLDER = '{}/run/{}/'.format(os.getcwd(), SECTION)\n",
    "RUN_FOLDER += '_'.join([RUN_ID, DATA_NAME])\n",
    "\n",
    "if not os.path.exists(RUN_FOLDER):\n",
    "    os.makedirs(RUN_FOLDER)\n",
    "    os.mkdir(os.path.join(RUN_FOLDER, 'viz'))\n",
    "    os.mkdir(os.path.join(RUN_FOLDER, 'images'))\n",
    "    os.mkdir(os.path.join(RUN_FOLDER, 'weights'))\n",
    "\n",
    "mode =  'build' #'load' #\n"
   ]
  },
  {
   "cell_type": "code",
   "execution_count": 71,
   "id": "d1ba5589-1195-4b82-b3be-f28f815adcb0",
   "metadata": {},
   "outputs": [],
   "source": [
    "df_bins = pd.read_csv(\"{prefix_data}z3support/data/SpinMLData/2DIsing/L-{L}/L-{L}-T-1-5/bins_L-{L}-T-1-5.txt\".format(L=L,prefix_data=prefix_data), sep=\"\\t\")\n",
    "df_conf = pd.read_csv(\"{prefix_data}z3support/data/SpinMLData/2DIsing/L-{L}/L-{L}-T-1-5/spinConfigs_L-{L}-T-1-5.txt\".format(L=L,prefix_data=prefix_data), delimiter=r\"\\s+\", header=None)"
   ]
  },
  {
   "cell_type": "code",
   "execution_count": 72,
   "id": "c43c2d80-2e2b-4f87-acfb-74b5d4bd0b68",
   "metadata": {},
   "outputs": [],
   "source": [
    "df_bins = df_bins[df_bins[' T '] != ' T ']"
   ]
  },
  {
   "cell_type": "code",
   "execution_count": 73,
   "id": "ed5da578-d08e-404b-be6a-5b5248da0fe3",
   "metadata": {},
   "outputs": [],
   "source": [
    "df_bins = df_bins.astype(\n",
    "    {\n",
    "        \" T \": int,\n",
    "        \" binNum\": int,\n",
    "    }\n",
    ")"
   ]
  },
  {
   "cell_type": "markdown",
   "id": "e5d796dd-0cb9-462d-9c64-7ae8ddfe08cb",
   "metadata": {},
   "source": [
    "## Get the temp and magnatization into the configuration dataframe"
   ]
  },
  {
   "cell_type": "code",
   "execution_count": 74,
   "id": "e842e4e4-3f59-430a-9afc-b6d30fd60295",
   "metadata": {},
   "outputs": [],
   "source": [
    "df_conf[\"T\"] = df_bins[\" T \"]"
   ]
  },
  {
   "cell_type": "code",
   "execution_count": 75,
   "id": "f6b08978-30f5-43a3-a52e-a84d159d4da1",
   "metadata": {},
   "outputs": [],
   "source": [
    "mean_col = df_conf[0].copy()\n",
    "for i in range(1, L):\n",
    "    mean_col += df_conf[i]\n",
    "\n",
    "mean_col /= L"
   ]
  },
  {
   "cell_type": "code",
   "execution_count": 76,
   "id": "26f73eca-b06b-401e-8eaa-3e94730762c6",
   "metadata": {},
   "outputs": [],
   "source": [
    "df_conf[\"M\"] = mean_col"
   ]
  },
  {
   "cell_type": "code",
   "execution_count": 77,
   "id": "16bf92b1-af70-4128-80e9-161682a06c96",
   "metadata": {},
   "outputs": [],
   "source": [
    "#filterned_confs = df_conf\n",
    "filterned_confs = df_conf[(df_conf[\"T\"] < 1.5) | (df_conf[\"T\"] > 4.5)]"
   ]
  },
  {
   "cell_type": "code",
   "execution_count": 78,
   "id": "94d6a8cd-cec9-40b4-bdad-c9dbff035507",
   "metadata": {},
   "outputs": [
    {
     "data": {
      "text/html": [
       "<div>\n",
       "<style scoped>\n",
       "    .dataframe tbody tr th:only-of-type {\n",
       "        vertical-align: middle;\n",
       "    }\n",
       "\n",
       "    .dataframe tbody tr th {\n",
       "        vertical-align: top;\n",
       "    }\n",
       "\n",
       "    .dataframe thead th {\n",
       "        text-align: right;\n",
       "    }\n",
       "</style>\n",
       "<table border=\"1\" class=\"dataframe\">\n",
       "  <thead>\n",
       "    <tr style=\"text-align: right;\">\n",
       "      <th></th>\n",
       "      <th>0</th>\n",
       "      <th>1</th>\n",
       "      <th>2</th>\n",
       "      <th>3</th>\n",
       "      <th>4</th>\n",
       "      <th>5</th>\n",
       "      <th>6</th>\n",
       "      <th>7</th>\n",
       "      <th>8</th>\n",
       "      <th>9</th>\n",
       "      <th>...</th>\n",
       "      <th>56</th>\n",
       "      <th>57</th>\n",
       "      <th>58</th>\n",
       "      <th>59</th>\n",
       "      <th>60</th>\n",
       "      <th>61</th>\n",
       "      <th>62</th>\n",
       "      <th>63</th>\n",
       "      <th>T</th>\n",
       "      <th>M</th>\n",
       "    </tr>\n",
       "  </thead>\n",
       "  <tbody>\n",
       "    <tr>\n",
       "      <th>0</th>\n",
       "      <td>-1</td>\n",
       "      <td>-1</td>\n",
       "      <td>-1</td>\n",
       "      <td>-1</td>\n",
       "      <td>-1</td>\n",
       "      <td>-1</td>\n",
       "      <td>-1</td>\n",
       "      <td>-1</td>\n",
       "      <td>-1</td>\n",
       "      <td>-1</td>\n",
       "      <td>...</td>\n",
       "      <td>-1</td>\n",
       "      <td>-1</td>\n",
       "      <td>-1</td>\n",
       "      <td>-1</td>\n",
       "      <td>-1</td>\n",
       "      <td>-1</td>\n",
       "      <td>-1</td>\n",
       "      <td>-1</td>\n",
       "      <td>1.0</td>\n",
       "      <td>-1.0</td>\n",
       "    </tr>\n",
       "    <tr>\n",
       "      <th>1</th>\n",
       "      <td>-1</td>\n",
       "      <td>-1</td>\n",
       "      <td>-1</td>\n",
       "      <td>-1</td>\n",
       "      <td>-1</td>\n",
       "      <td>-1</td>\n",
       "      <td>-1</td>\n",
       "      <td>-1</td>\n",
       "      <td>-1</td>\n",
       "      <td>-1</td>\n",
       "      <td>...</td>\n",
       "      <td>-1</td>\n",
       "      <td>-1</td>\n",
       "      <td>-1</td>\n",
       "      <td>-1</td>\n",
       "      <td>-1</td>\n",
       "      <td>-1</td>\n",
       "      <td>-1</td>\n",
       "      <td>-1</td>\n",
       "      <td>1.0</td>\n",
       "      <td>-1.0</td>\n",
       "    </tr>\n",
       "    <tr>\n",
       "      <th>2</th>\n",
       "      <td>-1</td>\n",
       "      <td>-1</td>\n",
       "      <td>-1</td>\n",
       "      <td>-1</td>\n",
       "      <td>-1</td>\n",
       "      <td>-1</td>\n",
       "      <td>-1</td>\n",
       "      <td>-1</td>\n",
       "      <td>-1</td>\n",
       "      <td>-1</td>\n",
       "      <td>...</td>\n",
       "      <td>-1</td>\n",
       "      <td>-1</td>\n",
       "      <td>-1</td>\n",
       "      <td>-1</td>\n",
       "      <td>-1</td>\n",
       "      <td>-1</td>\n",
       "      <td>-1</td>\n",
       "      <td>-1</td>\n",
       "      <td>1.0</td>\n",
       "      <td>-1.0</td>\n",
       "    </tr>\n",
       "    <tr>\n",
       "      <th>3</th>\n",
       "      <td>-1</td>\n",
       "      <td>-1</td>\n",
       "      <td>-1</td>\n",
       "      <td>-1</td>\n",
       "      <td>-1</td>\n",
       "      <td>-1</td>\n",
       "      <td>-1</td>\n",
       "      <td>-1</td>\n",
       "      <td>-1</td>\n",
       "      <td>-1</td>\n",
       "      <td>...</td>\n",
       "      <td>-1</td>\n",
       "      <td>-1</td>\n",
       "      <td>-1</td>\n",
       "      <td>-1</td>\n",
       "      <td>-1</td>\n",
       "      <td>-1</td>\n",
       "      <td>-1</td>\n",
       "      <td>-1</td>\n",
       "      <td>1.0</td>\n",
       "      <td>-1.0</td>\n",
       "    </tr>\n",
       "    <tr>\n",
       "      <th>4</th>\n",
       "      <td>-1</td>\n",
       "      <td>-1</td>\n",
       "      <td>-1</td>\n",
       "      <td>-1</td>\n",
       "      <td>-1</td>\n",
       "      <td>-1</td>\n",
       "      <td>-1</td>\n",
       "      <td>-1</td>\n",
       "      <td>-1</td>\n",
       "      <td>-1</td>\n",
       "      <td>...</td>\n",
       "      <td>-1</td>\n",
       "      <td>-1</td>\n",
       "      <td>-1</td>\n",
       "      <td>-1</td>\n",
       "      <td>-1</td>\n",
       "      <td>-1</td>\n",
       "      <td>-1</td>\n",
       "      <td>-1</td>\n",
       "      <td>1.0</td>\n",
       "      <td>-1.0</td>\n",
       "    </tr>\n",
       "  </tbody>\n",
       "</table>\n",
       "<p>5 rows × 66 columns</p>\n",
       "</div>"
      ],
      "text/plain": [
       "   0  1  2  3  4  5  6  7  8  9  ...  56  57  58  59  60  61  62  63    T    M\n",
       "0 -1 -1 -1 -1 -1 -1 -1 -1 -1 -1  ...  -1  -1  -1  -1  -1  -1  -1  -1  1.0 -1.0\n",
       "1 -1 -1 -1 -1 -1 -1 -1 -1 -1 -1  ...  -1  -1  -1  -1  -1  -1  -1  -1  1.0 -1.0\n",
       "2 -1 -1 -1 -1 -1 -1 -1 -1 -1 -1  ...  -1  -1  -1  -1  -1  -1  -1  -1  1.0 -1.0\n",
       "3 -1 -1 -1 -1 -1 -1 -1 -1 -1 -1  ...  -1  -1  -1  -1  -1  -1  -1  -1  1.0 -1.0\n",
       "4 -1 -1 -1 -1 -1 -1 -1 -1 -1 -1  ...  -1  -1  -1  -1  -1  -1  -1  -1  1.0 -1.0\n",
       "\n",
       "[5 rows x 66 columns]"
      ]
     },
     "execution_count": 78,
     "metadata": {},
     "output_type": "execute_result"
    }
   ],
   "source": [
    "filterned_confs.head()"
   ]
  },
  {
   "cell_type": "markdown",
   "id": "40df009f-5410-4a8c-9492-835b75e2bb52",
   "metadata": {},
   "source": [
    "We need the data in the format: `(x_train, y_train), (x_test, y_test)`"
   ]
  },
  {
   "cell_type": "code",
   "execution_count": 79,
   "id": "f09c54bc-5efc-4ecc-becd-73dbbf2770bd",
   "metadata": {},
   "outputs": [],
   "source": [
    "train_with_meta_info = filterned_confs.sample(frac=TRAINING_FRACTION, axis=0)\n",
    "test_with_meta_info = filterned_confs.drop(index=train_with_meta_info.index)"
   ]
  },
  {
   "cell_type": "code",
   "execution_count": 80,
   "id": "7e93b711-9411-4425-84c6-c24f5edd3041",
   "metadata": {},
   "outputs": [],
   "source": [
    "train = train_with_meta_info.drop([\"T\",\"M\"], axis=1)\n",
    "test = test_with_meta_info.drop([\"T\",\"M\"], axis=1)"
   ]
  },
  {
   "cell_type": "markdown",
   "id": "c7f72822-bb76-46e6-81ab-5357884d393a",
   "metadata": {},
   "source": [
    "# Check what MNIST data looked like"
   ]
  },
  {
   "cell_type": "code",
   "execution_count": 81,
   "id": "7376500b-18b4-4a75-87b3-aabc02ca3f72",
   "metadata": {},
   "outputs": [],
   "source": [
    "(x_train, y_train), (x_test, y_test) = load_mnist()"
   ]
  },
  {
   "cell_type": "code",
   "execution_count": 82,
   "id": "8bfab992-117f-47ba-8fa9-0ba8a5fb1a8d",
   "metadata": {},
   "outputs": [
    {
     "data": {
      "text/plain": [
       "(60000, 28, 28, 1)"
      ]
     },
     "execution_count": 82,
     "metadata": {},
     "output_type": "execute_result"
    }
   ],
   "source": [
    "np.shape(x_train)"
   ]
  },
  {
   "cell_type": "code",
   "execution_count": 83,
   "id": "1b841a29-058d-490b-8794-1cf07d54eeb4",
   "metadata": {},
   "outputs": [
    {
     "data": {
      "text/plain": [
       "(60000, 28, 28, 1)"
      ]
     },
     "execution_count": 83,
     "metadata": {},
     "output_type": "execute_result"
    }
   ],
   "source": [
    "np.shape(x_train)"
   ]
  },
  {
   "cell_type": "markdown",
   "id": "09301a8c-93cc-4c46-b03f-07f0b9342ae9",
   "metadata": {},
   "source": [
    "## Make our data the same"
   ]
  },
  {
   "cell_type": "code",
   "execution_count": 84,
   "id": "db6cc810-4352-453f-87f5-c5dd420fb76a",
   "metadata": {},
   "outputs": [
    {
     "data": {
      "text/plain": [
       "(4000, 64)"
      ]
     },
     "execution_count": 84,
     "metadata": {},
     "output_type": "execute_result"
    }
   ],
   "source": [
    "train.to_numpy().shape"
   ]
  },
  {
   "cell_type": "code",
   "execution_count": 85,
   "id": "cd006420-3b2e-4361-bbc2-46b437787711",
   "metadata": {},
   "outputs": [],
   "source": [
    "x = train.to_numpy().reshape(-1,L*L)\n",
    "x_test = test.to_numpy().reshape(-1,L*L)"
   ]
  },
  {
   "cell_type": "code",
   "execution_count": 86,
   "id": "b87ceff0-9c8c-42b9-bae7-25a8dc037353",
   "metadata": {},
   "outputs": [
    {
     "data": {
      "text/plain": [
       "array([[1, 1],\n",
       "       [1, 1],\n",
       "       [2, 2],\n",
       "       [3, 3],\n",
       "       [4, 4],\n",
       "       [5, 5]])"
      ]
     },
     "execution_count": 86,
     "metadata": {},
     "output_type": "execute_result"
    }
   ],
   "source": [
    "np.array([[1,1,1,1], [2,2,3,3], [4,4,5,5]]).reshape(-1,2)"
   ]
  },
  {
   "cell_type": "code",
   "execution_count": 87,
   "id": "f3191ceb-d996-45c5-b28d-5f36d7882c7f",
   "metadata": {
    "tags": []
   },
   "outputs": [],
   "source": [
    "x = x.astype(float)"
   ]
  },
  {
   "cell_type": "code",
   "execution_count": 88,
   "id": "3fd9a373-fdfa-48e9-b120-e1bd02790347",
   "metadata": {},
   "outputs": [
    {
     "data": {
      "text/plain": [
       "(4000, 64)"
      ]
     },
     "execution_count": 88,
     "metadata": {},
     "output_type": "execute_result"
    }
   ],
   "source": [
    "x.shape"
   ]
  },
  {
   "cell_type": "code",
   "execution_count": null,
   "id": "c6a44c80-fad2-49f5-b045-a8af428ff036",
   "metadata": {},
   "outputs": [],
   "source": []
  },
  {
   "cell_type": "markdown",
   "id": "e559cb77-1ac0-40ce-8a11-0ef84aeeabf6",
   "metadata": {},
   "source": [
    "## Run Convolutional VAE"
   ]
  },
  {
   "cell_type": "code",
   "execution_count": 89,
   "id": "e06961ee-cb27-40b7-b0f5-b24cdd184d32",
   "metadata": {},
   "outputs": [],
   "source": [
    "vae = DenseVariationalAutoencoder(\n",
    "    input_dim=(L*L,),\n",
    "    encoder_layer_sizes=[2],\n",
    "    decoder_layer_sizes=[2, L*L],\n",
    "    z_dim=2,\n",
    "    non_linear_activation_bool=NON_LINEAR_ACTIVATION_BOOL\n",
    ")"
   ]
  },
  {
   "cell_type": "code",
   "execution_count": 90,
   "id": "6e04dcc7-42c7-4bea-918d-1f90df979de2",
   "metadata": {
    "tags": []
   },
   "outputs": [],
   "source": [
    "LEARNING_RATE = 0.0005\n",
    "R_LOSS_FACTOR = 1000"
   ]
  },
  {
   "cell_type": "code",
   "execution_count": 91,
   "id": "28180c06-bdf7-4760-b504-c21eb9137193",
   "metadata": {},
   "outputs": [],
   "source": [
    "vae.compile(LEARNING_RATE, R_LOSS_FACTOR)"
   ]
  },
  {
   "cell_type": "code",
   "execution_count": 99,
   "id": "5af6bfe8-39b6-4416-aad5-7e9ad059331a",
   "metadata": {},
   "outputs": [],
   "source": [
    "BATCH_SIZE = 16\n",
    "EPOCHS = 50\n",
    "PRINT_EVERY_N_BATCHES = 100\n",
    "INITIAL_EPOCH = 0"
   ]
  },
  {
   "cell_type": "code",
   "execution_count": null,
   "id": "9d74d26b-150d-4b2f-ae5e-7d2a0b0f199f",
   "metadata": {},
   "outputs": [],
   "source": []
  },
  {
   "cell_type": "code",
   "execution_count": 100,
   "id": "bec03bfb-b4a2-42ae-a2a3-05fd5c781507",
   "metadata": {},
   "outputs": [
    {
     "name": "stdout",
     "output_type": "stream",
     "text": [
      "Train on 4000 samples\n",
      "Epoch 1/50\n",
      "4000/4000 [==============================] - 0s 41us/sample - loss: 810.7530 - vae_r_loss: 802.1075 - vae_kl_loss: 8.6455\n",
      "Epoch 2/50\n",
      "4000/4000 [==============================] - 0s 34us/sample - loss: 809.5769 - vae_r_loss: 801.4417 - vae_kl_loss: 8.1352\n",
      "Epoch 3/50\n",
      "4000/4000 [==============================] - 0s 35us/sample - loss: 809.6876 - vae_r_loss: 801.9957 - vae_kl_loss: 7.6915\n",
      "Epoch 4/50\n",
      "4000/4000 [==============================] - 0s 35us/sample - loss: 808.6457 - vae_r_loss: 801.1702 - vae_kl_loss: 7.4753\n",
      "Epoch 5/50\n",
      "4000/4000 [==============================] - 0s 35us/sample - loss: 808.6688 - vae_r_loss: 801.5764 - vae_kl_loss: 7.0925\n",
      "Epoch 6/50\n",
      "4000/4000 [==============================] - 0s 35us/sample - loss: 807.5166 - vae_r_loss: 800.6476 - vae_kl_loss: 6.8689\n",
      "Epoch 7/50\n",
      "4000/4000 [==============================] - 0s 35us/sample - loss: 807.3456 - vae_r_loss: 800.7061 - vae_kl_loss: 6.6397\n",
      "Epoch 8/50\n",
      "4000/4000 [==============================] - 0s 37us/sample - loss: 806.8891 - vae_r_loss: 800.3139 - vae_kl_loss: 6.5750\n",
      "Epoch 9/50\n",
      "4000/4000 [==============================] - 0s 36us/sample - loss: 805.9996 - vae_r_loss: 799.7423 - vae_kl_loss: 6.2574\n",
      "Epoch 10/50\n",
      "4000/4000 [==============================] - 0s 35us/sample - loss: 805.9864 - vae_r_loss: 799.9413 - vae_kl_loss: 6.0455\n",
      "Epoch 11/50\n",
      "4000/4000 [==============================] - 0s 35us/sample - loss: 805.3112 - vae_r_loss: 799.4748 - vae_kl_loss: 5.8363\n",
      "Epoch 12/50\n",
      "4000/4000 [==============================] - 0s 39us/sample - loss: 805.9134 - vae_r_loss: 800.4227 - vae_kl_loss: 5.4906\n",
      "Epoch 13/50\n",
      "4000/4000 [==============================] - 0s 39us/sample - loss: 804.9062 - vae_r_loss: 799.3676 - vae_kl_loss: 5.5385\n",
      "Epoch 14/50\n",
      "4000/4000 [==============================] - 0s 35us/sample - loss: 805.0060 - vae_r_loss: 799.5322 - vae_kl_loss: 5.4736\n",
      "Epoch 15/50\n",
      "4000/4000 [==============================] - 0s 35us/sample - loss: 804.9368 - vae_r_loss: 799.3984 - vae_kl_loss: 5.5385\n",
      "Epoch 16/50\n",
      "4000/4000 [==============================] - 0s 36us/sample - loss: 804.7833 - vae_r_loss: 799.3348 - vae_kl_loss: 5.4482\n",
      "Epoch 17/50\n",
      "4000/4000 [==============================] - 0s 34us/sample - loss: 804.5635 - vae_r_loss: 799.0962 - vae_kl_loss: 5.4674\n",
      "Epoch 18/50\n",
      "4000/4000 [==============================] - 0s 34us/sample - loss: 804.2376 - vae_r_loss: 798.9581 - vae_kl_loss: 5.2796\n",
      "Epoch 19/50\n",
      "4000/4000 [==============================] - 0s 34us/sample - loss: 803.9092 - vae_r_loss: 798.6948 - vae_kl_loss: 5.2145\n",
      "Epoch 20/50\n",
      "4000/4000 [==============================] - 0s 34us/sample - loss: 803.5486 - vae_r_loss: 798.4205 - vae_kl_loss: 5.1283\n",
      "Epoch 21/50\n",
      "4000/4000 [==============================] - 0s 34us/sample - loss: 803.5796 - vae_r_loss: 798.5578 - vae_kl_loss: 5.0218\n",
      "Epoch 22/50\n",
      "4000/4000 [==============================] - 0s 34us/sample - loss: 803.7373 - vae_r_loss: 798.6681 - vae_kl_loss: 5.0691\n",
      "Epoch 23/50\n",
      "4000/4000 [==============================] - 0s 34us/sample - loss: 803.1039 - vae_r_loss: 798.1155 - vae_kl_loss: 4.9879\n",
      "Epoch 24/50\n",
      "4000/4000 [==============================] - 0s 34us/sample - loss: 802.9503 - vae_r_loss: 798.0907 - vae_kl_loss: 4.8600\n",
      "Epoch 25/50\n",
      "4000/4000 [==============================] - 0s 34us/sample - loss: 802.1281 - vae_r_loss: 797.3262 - vae_kl_loss: 4.8021\n",
      "Epoch 26/50\n",
      "4000/4000 [==============================] - 0s 35us/sample - loss: 802.2877 - vae_r_loss: 797.5206 - vae_kl_loss: 4.7676\n",
      "Epoch 27/50\n",
      "4000/4000 [==============================] - 0s 36us/sample - loss: 802.2837 - vae_r_loss: 797.6908 - vae_kl_loss: 4.5927\n",
      "Epoch 28/50\n",
      "4000/4000 [==============================] - 0s 35us/sample - loss: 801.7727 - vae_r_loss: 797.3282 - vae_kl_loss: 4.4445\n",
      "Epoch 29/50\n",
      "4000/4000 [==============================] - 0s 35us/sample - loss: 801.3703 - vae_r_loss: 796.8546 - vae_kl_loss: 4.5153\n",
      "Epoch 30/50\n",
      "4000/4000 [==============================] - 0s 34us/sample - loss: 801.6715 - vae_r_loss: 797.1567 - vae_kl_loss: 4.5150\n",
      "Epoch 31/50\n",
      "4000/4000 [==============================] - 0s 34us/sample - loss: 801.0541 - vae_r_loss: 796.5808 - vae_kl_loss: 4.4733\n",
      "Epoch 32/50\n",
      "4000/4000 [==============================] - 0s 34us/sample - loss: 801.2842 - vae_r_loss: 796.8333 - vae_kl_loss: 4.4507\n",
      "Epoch 33/50\n",
      "4000/4000 [==============================] - 0s 33us/sample - loss: 800.9876 - vae_r_loss: 796.5170 - vae_kl_loss: 4.4705\n",
      "Epoch 34/50\n",
      "4000/4000 [==============================] - 0s 35us/sample - loss: 800.9370 - vae_r_loss: 796.4535 - vae_kl_loss: 4.4834\n",
      "Epoch 35/50\n",
      "4000/4000 [==============================] - 0s 36us/sample - loss: 800.5950 - vae_r_loss: 796.1065 - vae_kl_loss: 4.4885\n",
      "Epoch 36/50\n",
      "4000/4000 [==============================] - 0s 38us/sample - loss: 800.6852 - vae_r_loss: 796.2412 - vae_kl_loss: 4.4437\n",
      "Epoch 37/50\n",
      "4000/4000 [==============================] - 0s 37us/sample - loss: 800.5095 - vae_r_loss: 796.0654 - vae_kl_loss: 4.4440\n",
      "Epoch 38/50\n",
      "4000/4000 [==============================] - 0s 38us/sample - loss: 800.1791 - vae_r_loss: 795.7593 - vae_kl_loss: 4.4199\n",
      "Epoch 39/50\n",
      "4000/4000 [==============================] - 0s 37us/sample - loss: 800.3430 - vae_r_loss: 795.9476 - vae_kl_loss: 4.3954\n",
      "Epoch 40/50\n",
      "4000/4000 [==============================] - 0s 34us/sample - loss: 800.0955 - vae_r_loss: 795.7145 - vae_kl_loss: 4.3807\n",
      "Epoch 41/50\n",
      "4000/4000 [==============================] - 0s 36us/sample - loss: 800.1934 - vae_r_loss: 795.8337 - vae_kl_loss: 4.3598\n",
      "Epoch 42/50\n",
      "4000/4000 [==============================] - 0s 36us/sample - loss: 800.2094 - vae_r_loss: 795.8494 - vae_kl_loss: 4.3604\n",
      "Epoch 43/50\n",
      "4000/4000 [==============================] - 0s 37us/sample - loss: 800.0155 - vae_r_loss: 795.6360 - vae_kl_loss: 4.3797\n",
      "Epoch 44/50\n",
      "4000/4000 [==============================] - 0s 36us/sample - loss: 799.8974 - vae_r_loss: 795.4921 - vae_kl_loss: 4.4053\n",
      "Epoch 45/50\n",
      "4000/4000 [==============================] - 0s 34us/sample - loss: 799.9159 - vae_r_loss: 795.5134 - vae_kl_loss: 4.4026\n",
      "Epoch 46/50\n",
      "4000/4000 [==============================] - 0s 34us/sample - loss: 799.7121 - vae_r_loss: 795.3166 - vae_kl_loss: 4.3954\n",
      "Epoch 47/50\n",
      "4000/4000 [==============================] - 0s 34us/sample - loss: 799.6239 - vae_r_loss: 795.2568 - vae_kl_loss: 4.3671\n",
      "Epoch 48/50\n",
      "4000/4000 [==============================] - 0s 35us/sample - loss: 799.7635 - vae_r_loss: 795.3946 - vae_kl_loss: 4.3692\n",
      "Epoch 49/50\n",
      "4000/4000 [==============================] - 0s 35us/sample - loss: 799.6699 - vae_r_loss: 795.2917 - vae_kl_loss: 4.3779\n",
      "Epoch 50/50\n",
      "4000/4000 [==============================] - 0s 37us/sample - loss: 799.5916 - vae_r_loss: 795.2212 - vae_kl_loss: 4.3705\n"
     ]
    }
   ],
   "source": [
    "vae.train(     \n",
    "    x,\n",
    "    batch_size = BATCH_SIZE,\n",
    "    epochs = EPOCHS,\n",
    "    run_folder = RUN_FOLDER,\n",
    "    print_every_n_batches = PRINT_EVERY_N_BATCHES,\n",
    "    initial_epoch = INITIAL_EPOCH,\n",
    ")"
   ]
  },
  {
   "cell_type": "code",
   "execution_count": 27,
   "id": "e95cc24c-1ebf-4408-96c5-e32b61abe1a1",
   "metadata": {},
   "outputs": [
    {
     "name": "stderr",
     "output_type": "stream",
     "text": [
      "/home/owen/repos/z3support/pythonenv/lib/python3.8/site-packages/keras/engine/training_v1.py:2067: UserWarning: `Model.state_updates` will be removed in a future version. This property should not be used in TensorFlow 2.0, as `updates` are applied automatically.\n",
      "  updates=self.state_updates,\n"
     ]
    },
    {
     "data": {
      "image/png": "[encoded data removed]",
      "text/plain": [
       "<Figure size 576x576 with 1 Axes>"
      ]
     },
     "metadata": {
      "needs_background": "light"
     },
     "output_type": "display_data"
    }
   ],
   "source": [
    "figsize = 8\n",
    "\n",
    "z_points = vae.encoder.predict(x_test)\n",
    "\n",
    "min_x = min(z_points[:, 0])\n",
    "max_x = max(z_points[:, 0])\n",
    "min_y = min(z_points[:, 1])\n",
    "max_y = max(z_points[:, 1])\n",
    "\n",
    "plt.figure(figsize=(figsize, figsize))\n",
    "#plt.scatter(z_points[:, 0] , z_points[:, 1], c='black', alpha=0.5, s=2)\n",
    "plt.scatter(z_points[:, 0] , z_points[:, 1], c=test_with_meta_info['T'], alpha=0.5, s=3)\n",
    "plt.xlabel(\"latent_param_0\")\n",
    "plt.ylabel(\"latent_param_1\")\n",
    "plt.show()"
   ]
  },
  {
   "cell_type": "code",
   "execution_count": 101,
   "id": "ead0847c-66b6-4279-98b8-e4207d68d6b6",
   "metadata": {},
   "outputs": [
    {
     "data": {
      "text/html": [
       "<div>\n",
       "<style scoped>\n",
       "    .dataframe tbody tr th:only-of-type {\n",
       "        vertical-align: middle;\n",
       "    }\n",
       "\n",
       "    .dataframe tbody tr th {\n",
       "        vertical-align: top;\n",
       "    }\n",
       "\n",
       "    .dataframe thead th {\n",
       "        text-align: right;\n",
       "    }\n",
       "</style>\n",
       "<table border=\"1\" class=\"dataframe\">\n",
       "  <thead>\n",
       "    <tr style=\"text-align: right;\">\n",
       "      <th></th>\n",
       "      <th>index</th>\n",
       "      <th>0</th>\n",
       "      <th>1</th>\n",
       "      <th>2</th>\n",
       "      <th>3</th>\n",
       "      <th>4</th>\n",
       "      <th>5</th>\n",
       "      <th>6</th>\n",
       "      <th>7</th>\n",
       "      <th>8</th>\n",
       "      <th>...</th>\n",
       "      <th>56</th>\n",
       "      <th>57</th>\n",
       "      <th>58</th>\n",
       "      <th>59</th>\n",
       "      <th>60</th>\n",
       "      <th>61</th>\n",
       "      <th>62</th>\n",
       "      <th>63</th>\n",
       "      <th>T</th>\n",
       "      <th>M</th>\n",
       "    </tr>\n",
       "  </thead>\n",
       "  <tbody>\n",
       "    <tr>\n",
       "      <th>0</th>\n",
       "      <td>0</td>\n",
       "      <td>-1</td>\n",
       "      <td>-1</td>\n",
       "      <td>-1</td>\n",
       "      <td>-1</td>\n",
       "      <td>-1</td>\n",
       "      <td>-1</td>\n",
       "      <td>-1</td>\n",
       "      <td>-1</td>\n",
       "      <td>-1</td>\n",
       "      <td>...</td>\n",
       "      <td>-1</td>\n",
       "      <td>-1</td>\n",
       "      <td>-1</td>\n",
       "      <td>-1</td>\n",
       "      <td>-1</td>\n",
       "      <td>-1</td>\n",
       "      <td>-1</td>\n",
       "      <td>-1</td>\n",
       "      <td>1.0</td>\n",
       "      <td>-1.0</td>\n",
       "    </tr>\n",
       "    <tr>\n",
       "      <th>1</th>\n",
       "      <td>1</td>\n",
       "      <td>-1</td>\n",
       "      <td>-1</td>\n",
       "      <td>-1</td>\n",
       "      <td>-1</td>\n",
       "      <td>-1</td>\n",
       "      <td>-1</td>\n",
       "      <td>-1</td>\n",
       "      <td>-1</td>\n",
       "      <td>-1</td>\n",
       "      <td>...</td>\n",
       "      <td>-1</td>\n",
       "      <td>-1</td>\n",
       "      <td>-1</td>\n",
       "      <td>-1</td>\n",
       "      <td>-1</td>\n",
       "      <td>-1</td>\n",
       "      <td>-1</td>\n",
       "      <td>-1</td>\n",
       "      <td>1.0</td>\n",
       "      <td>-1.0</td>\n",
       "    </tr>\n",
       "    <tr>\n",
       "      <th>2</th>\n",
       "      <td>4</td>\n",
       "      <td>-1</td>\n",
       "      <td>-1</td>\n",
       "      <td>-1</td>\n",
       "      <td>-1</td>\n",
       "      <td>-1</td>\n",
       "      <td>-1</td>\n",
       "      <td>-1</td>\n",
       "      <td>-1</td>\n",
       "      <td>-1</td>\n",
       "      <td>...</td>\n",
       "      <td>-1</td>\n",
       "      <td>-1</td>\n",
       "      <td>-1</td>\n",
       "      <td>-1</td>\n",
       "      <td>-1</td>\n",
       "      <td>-1</td>\n",
       "      <td>-1</td>\n",
       "      <td>-1</td>\n",
       "      <td>1.0</td>\n",
       "      <td>-1.0</td>\n",
       "    </tr>\n",
       "    <tr>\n",
       "      <th>3</th>\n",
       "      <td>9</td>\n",
       "      <td>-1</td>\n",
       "      <td>-1</td>\n",
       "      <td>-1</td>\n",
       "      <td>-1</td>\n",
       "      <td>-1</td>\n",
       "      <td>-1</td>\n",
       "      <td>-1</td>\n",
       "      <td>-1</td>\n",
       "      <td>-1</td>\n",
       "      <td>...</td>\n",
       "      <td>-1</td>\n",
       "      <td>-1</td>\n",
       "      <td>-1</td>\n",
       "      <td>-1</td>\n",
       "      <td>-1</td>\n",
       "      <td>-1</td>\n",
       "      <td>-1</td>\n",
       "      <td>-1</td>\n",
       "      <td>1.0</td>\n",
       "      <td>-1.0</td>\n",
       "    </tr>\n",
       "    <tr>\n",
       "      <th>4</th>\n",
       "      <td>10</td>\n",
       "      <td>1</td>\n",
       "      <td>1</td>\n",
       "      <td>1</td>\n",
       "      <td>1</td>\n",
       "      <td>1</td>\n",
       "      <td>1</td>\n",
       "      <td>1</td>\n",
       "      <td>1</td>\n",
       "      <td>1</td>\n",
       "      <td>...</td>\n",
       "      <td>1</td>\n",
       "      <td>1</td>\n",
       "      <td>1</td>\n",
       "      <td>1</td>\n",
       "      <td>1</td>\n",
       "      <td>1</td>\n",
       "      <td>1</td>\n",
       "      <td>1</td>\n",
       "      <td>1.0</td>\n",
       "      <td>1.0</td>\n",
       "    </tr>\n",
       "    <tr>\n",
       "      <th>...</th>\n",
       "      <td>...</td>\n",
       "      <td>...</td>\n",
       "      <td>...</td>\n",
       "      <td>...</td>\n",
       "      <td>...</td>\n",
       "      <td>...</td>\n",
       "      <td>...</td>\n",
       "      <td>...</td>\n",
       "      <td>...</td>\n",
       "      <td>...</td>\n",
       "      <td>...</td>\n",
       "      <td>...</td>\n",
       "      <td>...</td>\n",
       "      <td>...</td>\n",
       "      <td>...</td>\n",
       "      <td>...</td>\n",
       "      <td>...</td>\n",
       "      <td>...</td>\n",
       "      <td>...</td>\n",
       "      <td>...</td>\n",
       "      <td>...</td>\n",
       "    </tr>\n",
       "    <tr>\n",
       "      <th>205</th>\n",
       "      <td>989</td>\n",
       "      <td>1</td>\n",
       "      <td>1</td>\n",
       "      <td>1</td>\n",
       "      <td>1</td>\n",
       "      <td>1</td>\n",
       "      <td>1</td>\n",
       "      <td>1</td>\n",
       "      <td>1</td>\n",
       "      <td>1</td>\n",
       "      <td>...</td>\n",
       "      <td>1</td>\n",
       "      <td>1</td>\n",
       "      <td>1</td>\n",
       "      <td>1</td>\n",
       "      <td>1</td>\n",
       "      <td>1</td>\n",
       "      <td>1</td>\n",
       "      <td>1</td>\n",
       "      <td>1.0</td>\n",
       "      <td>1.0</td>\n",
       "    </tr>\n",
       "    <tr>\n",
       "      <th>206</th>\n",
       "      <td>991</td>\n",
       "      <td>-1</td>\n",
       "      <td>-1</td>\n",
       "      <td>-1</td>\n",
       "      <td>-1</td>\n",
       "      <td>-1</td>\n",
       "      <td>-1</td>\n",
       "      <td>-1</td>\n",
       "      <td>-1</td>\n",
       "      <td>-1</td>\n",
       "      <td>...</td>\n",
       "      <td>-1</td>\n",
       "      <td>-1</td>\n",
       "      <td>-1</td>\n",
       "      <td>-1</td>\n",
       "      <td>-1</td>\n",
       "      <td>-1</td>\n",
       "      <td>-1</td>\n",
       "      <td>-1</td>\n",
       "      <td>1.0</td>\n",
       "      <td>-1.0</td>\n",
       "    </tr>\n",
       "    <tr>\n",
       "      <th>207</th>\n",
       "      <td>995</td>\n",
       "      <td>-1</td>\n",
       "      <td>-1</td>\n",
       "      <td>-1</td>\n",
       "      <td>-1</td>\n",
       "      <td>-1</td>\n",
       "      <td>-1</td>\n",
       "      <td>-1</td>\n",
       "      <td>-1</td>\n",
       "      <td>-1</td>\n",
       "      <td>...</td>\n",
       "      <td>-1</td>\n",
       "      <td>-1</td>\n",
       "      <td>-1</td>\n",
       "      <td>-1</td>\n",
       "      <td>-1</td>\n",
       "      <td>-1</td>\n",
       "      <td>-1</td>\n",
       "      <td>-1</td>\n",
       "      <td>1.0</td>\n",
       "      <td>-1.0</td>\n",
       "    </tr>\n",
       "    <tr>\n",
       "      <th>208</th>\n",
       "      <td>996</td>\n",
       "      <td>-1</td>\n",
       "      <td>-1</td>\n",
       "      <td>-1</td>\n",
       "      <td>-1</td>\n",
       "      <td>-1</td>\n",
       "      <td>-1</td>\n",
       "      <td>-1</td>\n",
       "      <td>-1</td>\n",
       "      <td>-1</td>\n",
       "      <td>...</td>\n",
       "      <td>-1</td>\n",
       "      <td>-1</td>\n",
       "      <td>-1</td>\n",
       "      <td>-1</td>\n",
       "      <td>-1</td>\n",
       "      <td>-1</td>\n",
       "      <td>-1</td>\n",
       "      <td>-1</td>\n",
       "      <td>1.0</td>\n",
       "      <td>-1.0</td>\n",
       "    </tr>\n",
       "    <tr>\n",
       "      <th>209</th>\n",
       "      <td>998</td>\n",
       "      <td>-1</td>\n",
       "      <td>-1</td>\n",
       "      <td>-1</td>\n",
       "      <td>-1</td>\n",
       "      <td>-1</td>\n",
       "      <td>-1</td>\n",
       "      <td>-1</td>\n",
       "      <td>-1</td>\n",
       "      <td>-1</td>\n",
       "      <td>...</td>\n",
       "      <td>-1</td>\n",
       "      <td>-1</td>\n",
       "      <td>-1</td>\n",
       "      <td>-1</td>\n",
       "      <td>-1</td>\n",
       "      <td>-1</td>\n",
       "      <td>-1</td>\n",
       "      <td>-1</td>\n",
       "      <td>1.0</td>\n",
       "      <td>-1.0</td>\n",
       "    </tr>\n",
       "  </tbody>\n",
       "</table>\n",
       "<p>210 rows × 67 columns</p>\n",
       "</div>"
      ],
      "text/plain": [
       "     index  0  1  2  3  4  5  6  7  8  ...  56  57  58  59  60  61  62  63  \\\n",
       "0        0 -1 -1 -1 -1 -1 -1 -1 -1 -1  ...  -1  -1  -1  -1  -1  -1  -1  -1   \n",
       "1        1 -1 -1 -1 -1 -1 -1 -1 -1 -1  ...  -1  -1  -1  -1  -1  -1  -1  -1   \n",
       "2        4 -1 -1 -1 -1 -1 -1 -1 -1 -1  ...  -1  -1  -1  -1  -1  -1  -1  -1   \n",
       "3        9 -1 -1 -1 -1 -1 -1 -1 -1 -1  ...  -1  -1  -1  -1  -1  -1  -1  -1   \n",
       "4       10  1  1  1  1  1  1  1  1  1  ...   1   1   1   1   1   1   1   1   \n",
       "..     ... .. .. .. .. .. .. .. .. ..  ...  ..  ..  ..  ..  ..  ..  ..  ..   \n",
       "205    989  1  1  1  1  1  1  1  1  1  ...   1   1   1   1   1   1   1   1   \n",
       "206    991 -1 -1 -1 -1 -1 -1 -1 -1 -1  ...  -1  -1  -1  -1  -1  -1  -1  -1   \n",
       "207    995 -1 -1 -1 -1 -1 -1 -1 -1 -1  ...  -1  -1  -1  -1  -1  -1  -1  -1   \n",
       "208    996 -1 -1 -1 -1 -1 -1 -1 -1 -1  ...  -1  -1  -1  -1  -1  -1  -1  -1   \n",
       "209    998 -1 -1 -1 -1 -1 -1 -1 -1 -1  ...  -1  -1  -1  -1  -1  -1  -1  -1   \n",
       "\n",
       "       T    M  \n",
       "0    1.0 -1.0  \n",
       "1    1.0 -1.0  \n",
       "2    1.0 -1.0  \n",
       "3    1.0 -1.0  \n",
       "4    1.0  1.0  \n",
       "..   ...  ...  \n",
       "205  1.0  1.0  \n",
       "206  1.0 -1.0  \n",
       "207  1.0 -1.0  \n",
       "208  1.0 -1.0  \n",
       "209  1.0 -1.0  \n",
       "\n",
       "[210 rows x 67 columns]"
      ]
     },
     "execution_count": 101,
     "metadata": {},
     "output_type": "execute_result"
    }
   ],
   "source": [
    "test_with_meta_info[test_with_meta_info['T'] < 2]"
   ]
  },
  {
   "cell_type": "code",
   "execution_count": 102,
   "id": "dbd3de29-942d-4771-83b2-25e53d49649f",
   "metadata": {},
   "outputs": [
    {
     "data": {
      "text/plain": [
       "Int64Index([  0,   1,   2,   3,   4,   5,   6,   7,   8,   9,\n",
       "            ...\n",
       "            200, 201, 202, 203, 204, 205, 206, 207, 208, 209],\n",
       "           dtype='int64', length=210)"
      ]
     },
     "execution_count": 102,
     "metadata": {},
     "output_type": "execute_result"
    }
   ],
   "source": [
    "test_with_meta_info[test_with_meta_info['T'] < 2].index"
   ]
  },
  {
   "cell_type": "code",
   "execution_count": 103,
   "id": "0ffe616e-dee5-4a79-b121-f6c40e135006",
   "metadata": {},
   "outputs": [],
   "source": [
    "#len(x_test)\n",
    "test_with_meta_info = test_with_meta_info.reset_index()"
   ]
  },
  {
   "cell_type": "code",
   "execution_count": 104,
   "id": "75861648-a661-4837-842c-d323ac39b557",
   "metadata": {},
   "outputs": [
    {
     "data": {
      "text/plain": [
       "Text(0.5, 0, 'latent_param')"
      ]
     },
     "execution_count": 104,
     "metadata": {},
     "output_type": "execute_result"
    },
    {
     "data": {
      "image/png": "[encoded data removed]",
      "text/plain": [
       "<Figure size 576x576 with 1 Axes>"
      ]
     },
     "metadata": {
      "needs_background": "light"
     },
     "output_type": "display_data"
    }
   ],
   "source": [
    "plt.figure(figsize=(figsize, figsize))\n",
    "plt.hist(z_points[:, 0][test_with_meta_info[test_with_meta_info['T'] > 4].index], color='r', bins=20)\n",
    "plt.hist(z_points[:, 0][test_with_meta_info[test_with_meta_info['T'] < 2].index], color='y', bins=20)\n",
    "plt.xlabel(\"latent_param\")"
   ]
  },
  {
   "cell_type": "code",
   "execution_count": 105,
   "id": "c9f8cc9b-b356-40ee-841b-9c713f9bbd67",
   "metadata": {},
   "outputs": [
    {
     "data": {
      "text/plain": [
       "Text(0, 0.5, 'latent parameter')"
      ]
     },
     "execution_count": 105,
     "metadata": {},
     "output_type": "execute_result"
    },
    {
     "data": {
      "image/png": "[encoded data removed]",
      "text/plain": [
       "<Figure size 576x576 with 1 Axes>"
      ]
     },
     "metadata": {
      "needs_background": "light"
     },
     "output_type": "display_data"
    }
   ],
   "source": [
    "plt.figure(figsize=(figsize, figsize))\n",
    "plt.scatter(test_with_meta_info['M'], z_points[:,0], c=test_with_meta_info['T'])\n",
    "plt.xlabel(\"magnetization\")\n",
    "plt.ylabel(\"latent parameter\")"
   ]
  },
  {
   "cell_type": "code",
   "execution_count": null,
   "id": "48011473-fedb-45be-8604-db6efed3c33f",
   "metadata": {},
   "outputs": [],
   "source": []
  }
 ],
 "metadata": {
  "kernelspec": {
   "display_name": "Python 3",
   "language": "python",
   "name": "python3"
  },
  "language_info": {
   "codemirror_mode": {
    "name": "ipython",
    "version": 3
   },
   "file_extension": ".py",
   "mimetype": "text/x-python",
   "name": "python",
   "nbconvert_exporter": "python",
   "pygments_lexer": "ipython3",
   "version": "3.8.10"
  }
 },
 "nbformat": 4,
 "nbformat_minor": 5
}
