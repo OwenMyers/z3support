{
 "cells": [
  {
   "cell_type": "code",
   "execution_count": 1,
   "id": "a1c11071-bfbb-4177-a84f-e2444cf3e1a6",
   "metadata": {},
   "outputs": [],
   "source": [
    "import os\n",
    "\n",
    "from models.vae import DenseVariationalAutoencoder\n",
    "from models.utils.loaders import load_mnist\n",
    "import pandas as pd\n",
    "import numpy as np\n",
    "from tensorflow.python.framework.ops import disable_eager_execution\n",
    "from matplotlib import pyplot as plt\n",
    "import tensorflow as tf\n",
    "\n",
    "disable_eager_execution()\n",
    "\n",
    "os.environ[\"CUDA_VISIBLE_DEVICES\"] = \"-1\"\n",
    "\n",
    "N_DENSE = 2\n",
    "L=16\n",
    "TRAINING_FRACTION = 0.8\n",
    "NON_LINEAR_ACTIVATION_BOOL=True"
   ]
  },
  {
   "cell_type": "code",
   "execution_count": 2,
   "id": "c2c04948-4abb-459f-b4c7-063d3ed394e4",
   "metadata": {},
   "outputs": [],
   "source": [
    "user = 1\n",
    "if user == 1:\n",
    "    prefix_s3 = \"/home/owen/\"\n",
    "    prefix_data = \"/home/owen/repos/\"\n",
    "elif user == 2:\n",
    "    prefix_data = \"/Users/omyers/repos/\""
   ]
  },
  {
   "cell_type": "code",
   "execution_count": 3,
   "id": "dac34337-c7ee-41c3-8a06-1d77200a864b",
   "metadata": {},
   "outputs": [],
   "source": [
    "# run params\n",
    "SECTION = 'vae'\n",
    "RUN_ID = '0003'\n",
    "#DATA_NAME = 'digits'\n",
    "DATA_NAME = 'ising'\n",
    "RUN_FOLDER = '{}/run/{}/'.format(os.getcwd(), SECTION)\n",
    "RUN_FOLDER += '_'.join([RUN_ID, DATA_NAME])\n",
    "\n",
    "if not os.path.exists(RUN_FOLDER):\n",
    "    os.makedirs(RUN_FOLDER)\n",
    "    os.mkdir(os.path.join(RUN_FOLDER, 'viz'))\n",
    "    os.mkdir(os.path.join(RUN_FOLDER, 'images'))\n",
    "    os.mkdir(os.path.join(RUN_FOLDER, 'weights'))\n",
    "\n",
    "mode =  'build' #'load' #\n"
   ]
  },
  {
   "cell_type": "code",
   "execution_count": 4,
   "id": "d1ba5589-1195-4b82-b3be-f28f815adcb0",
   "metadata": {},
   "outputs": [],
   "source": [
    "df_bins = pd.read_csv(\"{prefix_data}z3support/data/SpinMLData/2DIsing/L-{L}/L-{L}-T-1-5/bins_L-{L}-T-1-5.txt\".format(L=L,prefix_data=prefix_data), sep=\"\\t\")\n",
    "df_conf = pd.read_csv(\"{prefix_data}z3support/data/SpinMLData/2DIsing/L-{L}/L-{L}-T-1-5/spinConfigs_L-{L}-T-1-5.txt\".format(L=L,prefix_data=prefix_data), delimiter=r\"\\s+\", header=None)"
   ]
  },
  {
   "cell_type": "code",
   "execution_count": 5,
   "id": "c43c2d80-2e2b-4f87-acfb-74b5d4bd0b68",
   "metadata": {},
   "outputs": [],
   "source": [
    "df_bins = df_bins[df_bins[' T '] != ' T ']"
   ]
  },
  {
   "cell_type": "code",
   "execution_count": 6,
   "id": "ed5da578-d08e-404b-be6a-5b5248da0fe3",
   "metadata": {},
   "outputs": [],
   "source": [
    "df_bins = df_bins.astype(\n",
    "    {\n",
    "        \" T \": int,\n",
    "        \" binNum\": int,\n",
    "    }\n",
    ")"
   ]
  },
  {
   "cell_type": "markdown",
   "id": "e5d796dd-0cb9-462d-9c64-7ae8ddfe08cb",
   "metadata": {},
   "source": [
    "## Get the temp and magnatization into the configuration dataframe"
   ]
  },
  {
   "cell_type": "code",
   "execution_count": 7,
   "id": "e842e4e4-3f59-430a-9afc-b6d30fd60295",
   "metadata": {},
   "outputs": [],
   "source": [
    "df_conf[\"T\"] = df_bins[\" T \"]"
   ]
  },
  {
   "cell_type": "code",
   "execution_count": 8,
   "id": "f6b08978-30f5-43a3-a52e-a84d159d4da1",
   "metadata": {},
   "outputs": [],
   "source": [
    "mean_col = df_conf[0].copy()\n",
    "for i in range(1, L):\n",
    "    mean_col += df_conf[i]\n",
    "\n",
    "mean_col /= L"
   ]
  },
  {
   "cell_type": "code",
   "execution_count": 9,
   "id": "26f73eca-b06b-401e-8eaa-3e94730762c6",
   "metadata": {},
   "outputs": [],
   "source": [
    "df_conf[\"M\"] = mean_col"
   ]
  },
  {
   "cell_type": "code",
   "execution_count": 10,
   "id": "16bf92b1-af70-4128-80e9-161682a06c96",
   "metadata": {},
   "outputs": [],
   "source": [
    "filterned_confs = df_conf\n",
    "#filterned_confs = df_conf[(df_conf[\"T\"] < 1.5) | (df_conf[\"T\"] > 4.5)]\n",
    "#filterned_confs = df_conf[df_conf[\"T\"] > 0.5]"
   ]
  },
  {
   "cell_type": "code",
   "execution_count": 11,
   "id": "94d6a8cd-cec9-40b4-bdad-c9dbff035507",
   "metadata": {},
   "outputs": [
    {
     "data": {
      "text/html": [
       "<div>\n",
       "<style scoped>\n",
       "    .dataframe tbody tr th:only-of-type {\n",
       "        vertical-align: middle;\n",
       "    }\n",
       "\n",
       "    .dataframe tbody tr th {\n",
       "        vertical-align: top;\n",
       "    }\n",
       "\n",
       "    .dataframe thead th {\n",
       "        text-align: right;\n",
       "    }\n",
       "</style>\n",
       "<table border=\"1\" class=\"dataframe\">\n",
       "  <thead>\n",
       "    <tr style=\"text-align: right;\">\n",
       "      <th></th>\n",
       "      <th>0</th>\n",
       "      <th>1</th>\n",
       "      <th>2</th>\n",
       "      <th>3</th>\n",
       "      <th>4</th>\n",
       "      <th>5</th>\n",
       "      <th>6</th>\n",
       "      <th>7</th>\n",
       "      <th>8</th>\n",
       "      <th>9</th>\n",
       "      <th>...</th>\n",
       "      <th>248</th>\n",
       "      <th>249</th>\n",
       "      <th>250</th>\n",
       "      <th>251</th>\n",
       "      <th>252</th>\n",
       "      <th>253</th>\n",
       "      <th>254</th>\n",
       "      <th>255</th>\n",
       "      <th>T</th>\n",
       "      <th>M</th>\n",
       "    </tr>\n",
       "  </thead>\n",
       "  <tbody>\n",
       "    <tr>\n",
       "      <th>0</th>\n",
       "      <td>-1</td>\n",
       "      <td>-1</td>\n",
       "      <td>-1</td>\n",
       "      <td>-1</td>\n",
       "      <td>-1</td>\n",
       "      <td>-1</td>\n",
       "      <td>-1</td>\n",
       "      <td>-1</td>\n",
       "      <td>-1</td>\n",
       "      <td>-1</td>\n",
       "      <td>...</td>\n",
       "      <td>-1</td>\n",
       "      <td>-1</td>\n",
       "      <td>-1</td>\n",
       "      <td>-1</td>\n",
       "      <td>-1</td>\n",
       "      <td>-1</td>\n",
       "      <td>-1</td>\n",
       "      <td>-1</td>\n",
       "      <td>1.0</td>\n",
       "      <td>-1.0</td>\n",
       "    </tr>\n",
       "    <tr>\n",
       "      <th>1</th>\n",
       "      <td>-1</td>\n",
       "      <td>-1</td>\n",
       "      <td>-1</td>\n",
       "      <td>-1</td>\n",
       "      <td>-1</td>\n",
       "      <td>-1</td>\n",
       "      <td>-1</td>\n",
       "      <td>-1</td>\n",
       "      <td>-1</td>\n",
       "      <td>-1</td>\n",
       "      <td>...</td>\n",
       "      <td>-1</td>\n",
       "      <td>-1</td>\n",
       "      <td>-1</td>\n",
       "      <td>-1</td>\n",
       "      <td>-1</td>\n",
       "      <td>-1</td>\n",
       "      <td>-1</td>\n",
       "      <td>-1</td>\n",
       "      <td>1.0</td>\n",
       "      <td>-1.0</td>\n",
       "    </tr>\n",
       "    <tr>\n",
       "      <th>2</th>\n",
       "      <td>-1</td>\n",
       "      <td>-1</td>\n",
       "      <td>-1</td>\n",
       "      <td>-1</td>\n",
       "      <td>-1</td>\n",
       "      <td>-1</td>\n",
       "      <td>-1</td>\n",
       "      <td>-1</td>\n",
       "      <td>-1</td>\n",
       "      <td>-1</td>\n",
       "      <td>...</td>\n",
       "      <td>-1</td>\n",
       "      <td>-1</td>\n",
       "      <td>-1</td>\n",
       "      <td>-1</td>\n",
       "      <td>-1</td>\n",
       "      <td>-1</td>\n",
       "      <td>-1</td>\n",
       "      <td>-1</td>\n",
       "      <td>1.0</td>\n",
       "      <td>-1.0</td>\n",
       "    </tr>\n",
       "    <tr>\n",
       "      <th>3</th>\n",
       "      <td>1</td>\n",
       "      <td>1</td>\n",
       "      <td>1</td>\n",
       "      <td>1</td>\n",
       "      <td>1</td>\n",
       "      <td>1</td>\n",
       "      <td>1</td>\n",
       "      <td>1</td>\n",
       "      <td>1</td>\n",
       "      <td>1</td>\n",
       "      <td>...</td>\n",
       "      <td>1</td>\n",
       "      <td>1</td>\n",
       "      <td>1</td>\n",
       "      <td>1</td>\n",
       "      <td>1</td>\n",
       "      <td>1</td>\n",
       "      <td>1</td>\n",
       "      <td>1</td>\n",
       "      <td>1.0</td>\n",
       "      <td>1.0</td>\n",
       "    </tr>\n",
       "    <tr>\n",
       "      <th>4</th>\n",
       "      <td>1</td>\n",
       "      <td>1</td>\n",
       "      <td>1</td>\n",
       "      <td>1</td>\n",
       "      <td>1</td>\n",
       "      <td>1</td>\n",
       "      <td>1</td>\n",
       "      <td>1</td>\n",
       "      <td>1</td>\n",
       "      <td>1</td>\n",
       "      <td>...</td>\n",
       "      <td>1</td>\n",
       "      <td>1</td>\n",
       "      <td>1</td>\n",
       "      <td>1</td>\n",
       "      <td>1</td>\n",
       "      <td>1</td>\n",
       "      <td>1</td>\n",
       "      <td>1</td>\n",
       "      <td>1.0</td>\n",
       "      <td>1.0</td>\n",
       "    </tr>\n",
       "  </tbody>\n",
       "</table>\n",
       "<p>5 rows × 258 columns</p>\n",
       "</div>"
      ],
      "text/plain": [
       "   0  1  2  3  4  5  6  7  8  9  ...  248  249  250  251  252  253  254  255  \\\n",
       "0 -1 -1 -1 -1 -1 -1 -1 -1 -1 -1  ...   -1   -1   -1   -1   -1   -1   -1   -1   \n",
       "1 -1 -1 -1 -1 -1 -1 -1 -1 -1 -1  ...   -1   -1   -1   -1   -1   -1   -1   -1   \n",
       "2 -1 -1 -1 -1 -1 -1 -1 -1 -1 -1  ...   -1   -1   -1   -1   -1   -1   -1   -1   \n",
       "3  1  1  1  1  1  1  1  1  1  1  ...    1    1    1    1    1    1    1    1   \n",
       "4  1  1  1  1  1  1  1  1  1  1  ...    1    1    1    1    1    1    1    1   \n",
       "\n",
       "     T    M  \n",
       "0  1.0 -1.0  \n",
       "1  1.0 -1.0  \n",
       "2  1.0 -1.0  \n",
       "3  1.0  1.0  \n",
       "4  1.0  1.0  \n",
       "\n",
       "[5 rows x 258 columns]"
      ]
     },
     "execution_count": 11,
     "metadata": {},
     "output_type": "execute_result"
    }
   ],
   "source": [
    "filterned_confs.head()"
   ]
  },
  {
   "cell_type": "markdown",
   "id": "40df009f-5410-4a8c-9492-835b75e2bb52",
   "metadata": {},
   "source": [
    "We need the data in the format: `(x_train, y_train), (x_test, y_test)`"
   ]
  },
  {
   "cell_type": "code",
   "execution_count": 12,
   "id": "f09c54bc-5efc-4ecc-becd-73dbbf2770bd",
   "metadata": {},
   "outputs": [],
   "source": [
    "train_with_meta_info = filterned_confs.sample(frac=TRAINING_FRACTION, axis=0)\n",
    "test_with_meta_info = filterned_confs.drop(index=train_with_meta_info.index)"
   ]
  },
  {
   "cell_type": "code",
   "execution_count": 13,
   "id": "7e93b711-9411-4425-84c6-c24f5edd3041",
   "metadata": {},
   "outputs": [],
   "source": [
    "train = train_with_meta_info.drop([\"T\",\"M\"], axis=1)\n",
    "test = test_with_meta_info.drop([\"T\",\"M\"], axis=1)"
   ]
  },
  {
   "cell_type": "markdown",
   "id": "09301a8c-93cc-4c46-b03f-07f0b9342ae9",
   "metadata": {},
   "source": [
    "## Shape our data"
   ]
  },
  {
   "cell_type": "code",
   "execution_count": 14,
   "id": "db6cc810-4352-453f-87f5-c5dd420fb76a",
   "metadata": {},
   "outputs": [
    {
     "data": {
      "text/plain": [
       "(4000, 256)"
      ]
     },
     "execution_count": 14,
     "metadata": {},
     "output_type": "execute_result"
    }
   ],
   "source": [
    "train.to_numpy().shape"
   ]
  },
  {
   "cell_type": "code",
   "execution_count": 15,
   "id": "cd006420-3b2e-4361-bbc2-46b437787711",
   "metadata": {},
   "outputs": [],
   "source": [
    "x = train.to_numpy().reshape(-1,L*L)\n",
    "x_test = test.to_numpy().reshape(-1,L*L)"
   ]
  },
  {
   "cell_type": "code",
   "execution_count": 16,
   "id": "b87ceff0-9c8c-42b9-bae7-25a8dc037353",
   "metadata": {},
   "outputs": [
    {
     "data": {
      "text/plain": [
       "array([[1, 1],\n",
       "       [1, 1],\n",
       "       [2, 2],\n",
       "       [3, 3],\n",
       "       [4, 4],\n",
       "       [5, 5]])"
      ]
     },
     "execution_count": 16,
     "metadata": {},
     "output_type": "execute_result"
    }
   ],
   "source": [
    "np.array([[1,1,1,1], [2,2,3,3], [4,4,5,5]]).reshape(-1,2)"
   ]
  },
  {
   "cell_type": "code",
   "execution_count": 17,
   "id": "f3191ceb-d996-45c5-b28d-5f36d7882c7f",
   "metadata": {
    "tags": []
   },
   "outputs": [],
   "source": [
    "x = x.astype(float)\n",
    "x_test = x_test.astype(float)"
   ]
  },
  {
   "cell_type": "code",
   "execution_count": 18,
   "id": "3fd9a373-fdfa-48e9-b120-e1bd02790347",
   "metadata": {},
   "outputs": [
    {
     "data": {
      "text/plain": [
       "(4000, 256)"
      ]
     },
     "execution_count": 18,
     "metadata": {},
     "output_type": "execute_result"
    }
   ],
   "source": [
    "x.shape"
   ]
  },
  {
   "cell_type": "code",
   "execution_count": 19,
   "id": "c6a44c80-fad2-49f5-b045-a8af428ff036",
   "metadata": {},
   "outputs": [
    {
     "data": {
      "text/plain": [
       "(1000, 256)"
      ]
     },
     "execution_count": 19,
     "metadata": {},
     "output_type": "execute_result"
    }
   ],
   "source": [
    "x_test.shape"
   ]
  },
  {
   "cell_type": "code",
   "execution_count": 20,
   "id": "4e1b5a39-28c8-44a0-9fc3-c65fa617cb22",
   "metadata": {},
   "outputs": [
    {
     "data": {
      "text/plain": [
       "<TensorSliceDataset element_spec=(TensorSpec(shape=(256,), dtype=tf.float64, name=None), TensorSpec(shape=(256,), dtype=tf.float64, name=None))>"
      ]
     },
     "execution_count": 20,
     "metadata": {},
     "output_type": "execute_result"
    }
   ],
   "source": [
    "tf.data.Dataset.from_tensor_slices((x_test, x_test))"
   ]
  },
  {
   "cell_type": "markdown",
   "id": "e559cb77-1ac0-40ce-8a11-0ef84aeeabf6",
   "metadata": {},
   "source": [
    "## Run VAE"
   ]
  },
  {
   "cell_type": "code",
   "execution_count": 21,
   "id": "e06961ee-cb27-40b7-b0f5-b24cdd184d32",
   "metadata": {},
   "outputs": [],
   "source": [
    "vae = DenseVariationalAutoencoder(\n",
    "    input_dim=(L*L,),\n",
    "    encoder_layer_sizes=[2],\n",
    "    decoder_layer_sizes=[2, L*L],\n",
    "    z_dim=N_DENSE,\n",
    "    non_linear_activation_bool=NON_LINEAR_ACTIVATION_BOOL\n",
    ")"
   ]
  },
  {
   "cell_type": "code",
   "execution_count": 22,
   "id": "6e04dcc7-42c7-4bea-918d-1f90df979de2",
   "metadata": {
    "tags": []
   },
   "outputs": [],
   "source": [
    "LEARNING_RATE = 0.0005\n",
    "#R_LOSS_FACTOR = 1000\n",
    "R_LOSS_FACTOR = 1000"
   ]
  },
  {
   "cell_type": "code",
   "execution_count": 23,
   "id": "28180c06-bdf7-4760-b504-c21eb9137193",
   "metadata": {},
   "outputs": [],
   "source": [
    "vae.compile(LEARNING_RATE, R_LOSS_FACTOR)"
   ]
  },
  {
   "cell_type": "code",
   "execution_count": 24,
   "id": "5af6bfe8-39b6-4416-aad5-7e9ad059331a",
   "metadata": {},
   "outputs": [],
   "source": [
    "BATCH_SIZE = 16\n",
    "EPOCHS = 50\n",
    "PRINT_EVERY_N_BATCHES = 100\n",
    "INITIAL_EPOCH = 0"
   ]
  },
  {
   "cell_type": "code",
   "execution_count": null,
   "id": "9d74d26b-150d-4b2f-ae5e-7d2a0b0f199f",
   "metadata": {},
   "outputs": [],
   "source": []
  },
  {
   "cell_type": "code",
   "execution_count": 25,
   "id": "bec03bfb-b4a2-42ae-a2a3-05fd5c781507",
   "metadata": {},
   "outputs": [
    {
     "name": "stdout",
     "output_type": "stream",
     "text": [
      "Train on 2000 samples, validate on 2000 samples\n",
      "Epoch 1/50\n",
      "  16/2000 [..............................] - ETA: 8s - loss: 1224.2347 - vae_r_loss: 1223.0966 - vae_kl_loss: 1.1382"
     ]
    },
    {
     "name": "stderr",
     "output_type": "stream",
     "text": [
      "2022-08-11 20:15:28.886482: E tensorflow/stream_executor/cuda/cuda_driver.cc:271] failed call to cuInit: CUDA_ERROR_NO_DEVICE: no CUDA-capable device is detected\n",
      "2022-08-11 20:15:28.886504: I tensorflow/stream_executor/cuda/cuda_diagnostics.cc:169] retrieving CUDA diagnostic information for host: owen-PRIME-Z390-A\n",
      "2022-08-11 20:15:28.886508: I tensorflow/stream_executor/cuda/cuda_diagnostics.cc:176] hostname: owen-PRIME-Z390-A\n",
      "2022-08-11 20:15:28.886551: I tensorflow/stream_executor/cuda/cuda_diagnostics.cc:200] libcuda reported version is: 470.141.3\n",
      "2022-08-11 20:15:28.886567: I tensorflow/stream_executor/cuda/cuda_diagnostics.cc:204] kernel reported version is: 470.141.3\n",
      "2022-08-11 20:15:28.886571: I tensorflow/stream_executor/cuda/cuda_diagnostics.cc:310] kernel version seems to match DSO: 470.141.3\n",
      "2022-08-11 20:15:28.886772: I tensorflow/core/platform/cpu_feature_guard.cc:193] This TensorFlow binary is optimized with oneAPI Deep Neural Network Library (oneDNN) to use the following CPU instructions in performance-critical operations:  AVX2 FMA\n",
      "To enable them in other operations, rebuild TensorFlow with the appropriate compiler flags.\n",
      "2022-08-11 20:15:28.906003: I tensorflow/compiler/mlir/mlir_graph_optimization_pass.cc:354] MLIR V1 optimization pass is not enabled\n",
      "2022-08-11 20:15:29.074025: I tensorflow/core/profiler/lib/profiler_session.cc:99] Profiler session initializing.\n",
      "2022-08-11 20:15:29.074042: I tensorflow/core/profiler/lib/profiler_session.cc:114] Profiler session started.\n",
      "2022-08-11 20:15:29.076925: I tensorflow/core/profiler/lib/profiler_session.cc:66] Profiler session collecting data.\n",
      "2022-08-11 20:15:29.077653: I tensorflow/core/profiler/lib/profiler_session.cc:126] Profiler session tear down.\n",
      "2022-08-11 20:15:29.078783: I tensorflow/core/profiler/rpc/client/save_profile.cc:136] Creating directory: /home/owen/logs/fit/20220811-201528/plugins/profile/2022_08_11_20_15_29\n",
      "\n",
      "2022-08-11 20:15:29.079224: I tensorflow/core/profiler/rpc/client/save_profile.cc:142] Dumped gzipped tool data for trace.json.gz to /home/owen/logs/fit/20220811-201528/plugins/profile/2022_08_11_20_15_29/owen-PRIME-Z390-A.trace.json.gz\n",
      "2022-08-11 20:15:29.080865: I tensorflow/core/profiler/rpc/client/save_profile.cc:136] Creating directory: /home/owen/logs/fit/20220811-201528/plugins/profile/2022_08_11_20_15_29\n",
      "\n",
      "2022-08-11 20:15:29.080921: I tensorflow/core/profiler/rpc/client/save_profile.cc:142] Dumped gzipped tool data for memory_profile.json.gz to /home/owen/logs/fit/20220811-201528/plugins/profile/2022_08_11_20_15_29/owen-PRIME-Z390-A.memory_profile.json.gz\n",
      "2022-08-11 20:15:29.081051: I tensorflow/core/profiler/rpc/client/capture_profile.cc:251] Creating directory: /home/owen/logs/fit/20220811-201528/plugins/profile/2022_08_11_20_15_29\n",
      "Dumped tool data for xplane.pb to /home/owen/logs/fit/20220811-201528/plugins/profile/2022_08_11_20_15_29/owen-PRIME-Z390-A.xplane.pb\n",
      "Dumped tool data for overview_page.pb to /home/owen/logs/fit/20220811-201528/plugins/profile/2022_08_11_20_15_29/owen-PRIME-Z390-A.overview_page.pb\n",
      "Dumped tool data for input_pipeline.pb to /home/owen/logs/fit/20220811-201528/plugins/profile/2022_08_11_20_15_29/owen-PRIME-Z390-A.input_pipeline.pb\n",
      "Dumped tool data for tensorflow_stats.pb to /home/owen/logs/fit/20220811-201528/plugins/profile/2022_08_11_20_15_29/owen-PRIME-Z390-A.tensorflow_stats.pb\n",
      "Dumped tool data for kernel_stats.pb to /home/owen/logs/fit/20220811-201528/plugins/profile/2022_08_11_20_15_29/owen-PRIME-Z390-A.kernel_stats.pb\n",
      "\n"
     ]
    },
    {
     "name": "stdout",
     "output_type": "stream",
     "text": [
      "2000/2000 [==============================] - 0s 112us/sample - loss: 1247.3126 - vae_r_loss: 1246.0011 - vae_kl_loss: 1.3111 - val_loss: 1236.9608 - val_vae_r_loss: 1234.7336 - val_vae_kl_loss: 2.2268\n",
      "Epoch 2/50\n",
      "2000/2000 [==============================] - 0s 59us/sample - loss: 1168.5659 - vae_r_loss: 1160.3839 - vae_kl_loss: 8.1820 - val_loss: 1075.4118 - val_vae_r_loss: 1061.4307 - val_vae_kl_loss: 13.9809\n",
      "Epoch 3/50\n",
      "  16/2000 [..............................] - ETA: 0s - loss: 938.3035 - vae_r_loss: 923.1547 - vae_kl_loss: 15.1489"
     ]
    },
    {
     "name": "stderr",
     "output_type": "stream",
     "text": [
      "/home/owen/repos/z3support/pythonenv/lib/python3.8/site-packages/keras/engine/training_v1.py:2045: UserWarning: `Model.state_updates` will be removed in a future version. This property should not be used in TensorFlow 2.0, as `updates` are applied automatically.\n",
      "  updates = self.state_updates\n"
     ]
    },
    {
     "name": "stdout",
     "output_type": "stream",
     "text": [
      "2000/2000 [==============================] - 0s 62us/sample - loss: 1024.5398 - vae_r_loss: 1010.7537 - vae_kl_loss: 13.7861 - val_loss: 971.6418 - val_vae_r_loss: 955.7754 - val_vae_kl_loss: 15.8664\n",
      "Epoch 4/50\n",
      "2000/2000 [==============================] - 0s 63us/sample - loss: 956.4481 - vae_r_loss: 942.5215 - vae_kl_loss: 13.9268 - val_loss: 926.5620 - val_vae_r_loss: 913.4865 - val_vae_kl_loss: 13.0755\n",
      "Epoch 5/50\n",
      "2000/2000 [==============================] - 0s 60us/sample - loss: 921.7846 - vae_r_loss: 909.5278 - vae_kl_loss: 12.2566 - val_loss: 897.4179 - val_vae_r_loss: 885.1529 - val_vae_kl_loss: 12.2647\n",
      "Epoch 6/50\n",
      "2000/2000 [==============================] - 0s 64us/sample - loss: 893.8373 - vae_r_loss: 882.5424 - vae_kl_loss: 11.2948 - val_loss: 869.8176 - val_vae_r_loss: 857.3251 - val_vae_kl_loss: 12.4924\n",
      "Epoch 7/50\n",
      "2000/2000 [==============================] - 0s 66us/sample - loss: 870.7058 - vae_r_loss: 859.4365 - vae_kl_loss: 11.2694 - val_loss: 853.0533 - val_vae_r_loss: 840.6614 - val_vae_kl_loss: 12.3919\n",
      "Epoch 8/50\n",
      "2000/2000 [==============================] - 0s 66us/sample - loss: 855.2550 - vae_r_loss: 844.3668 - vae_kl_loss: 10.8883 - val_loss: 840.8472 - val_vae_r_loss: 829.7895 - val_vae_kl_loss: 11.0578\n",
      "Epoch 9/50\n",
      "2000/2000 [==============================] - 0s 65us/sample - loss: 848.4401 - vae_r_loss: 838.3978 - vae_kl_loss: 10.0423 - val_loss: 832.8667 - val_vae_r_loss: 822.6788 - val_vae_kl_loss: 10.1880\n",
      "Epoch 10/50\n",
      "2000/2000 [==============================] - 0s 70us/sample - loss: 839.4483 - vae_r_loss: 829.9429 - vae_kl_loss: 9.5049 - val_loss: 829.4244 - val_vae_r_loss: 819.4356 - val_vae_kl_loss: 9.9890\n",
      "Epoch 11/50\n",
      "2000/2000 [==============================] - 0s 67us/sample - loss: 835.0673 - vae_r_loss: 826.1188 - vae_kl_loss: 8.9485 - val_loss: 825.6818 - val_vae_r_loss: 816.6292 - val_vae_kl_loss: 9.0527\n",
      "Epoch 12/50\n",
      "2000/2000 [==============================] - 0s 65us/sample - loss: 833.0189 - vae_r_loss: 824.7162 - vae_kl_loss: 8.3025 - val_loss: 822.7848 - val_vae_r_loss: 814.2514 - val_vae_kl_loss: 8.5331\n",
      "Epoch 13/50\n",
      "2000/2000 [==============================] - 0s 66us/sample - loss: 831.5337 - vae_r_loss: 823.6494 - vae_kl_loss: 7.8844 - val_loss: 821.1795 - val_vae_r_loss: 813.0783 - val_vae_kl_loss: 8.1014\n",
      "Epoch 14/50\n",
      "2000/2000 [==============================] - 0s 67us/sample - loss: 830.0829 - vae_r_loss: 822.4569 - vae_kl_loss: 7.6261 - val_loss: 819.0104 - val_vae_r_loss: 811.2646 - val_vae_kl_loss: 7.7457\n",
      "Epoch 15/50\n",
      "2000/2000 [==============================] - 0s 65us/sample - loss: 828.9571 - vae_r_loss: 821.7559 - vae_kl_loss: 7.2010 - val_loss: 818.0000 - val_vae_r_loss: 810.7636 - val_vae_kl_loss: 7.2364\n",
      "Epoch 16/50\n",
      "2000/2000 [==============================] - 0s 67us/sample - loss: 827.6853 - vae_r_loss: 820.8230 - vae_kl_loss: 6.8624 - val_loss: 817.2133 - val_vae_r_loss: 810.3515 - val_vae_kl_loss: 6.8616\n",
      "Epoch 17/50\n",
      "2000/2000 [==============================] - 0s 65us/sample - loss: 827.1233 - vae_r_loss: 820.5237 - vae_kl_loss: 6.5995 - val_loss: 817.0225 - val_vae_r_loss: 809.9954 - val_vae_kl_loss: 7.0270\n",
      "Epoch 18/50\n",
      "2000/2000 [==============================] - 0s 63us/sample - loss: 826.2985 - vae_r_loss: 819.8754 - vae_kl_loss: 6.4231 - val_loss: 815.7145 - val_vae_r_loss: 809.2307 - val_vae_kl_loss: 6.4837\n",
      "Epoch 19/50\n",
      "2000/2000 [==============================] - 0s 63us/sample - loss: 825.9028 - vae_r_loss: 819.8735 - vae_kl_loss: 6.0290 - val_loss: 815.4547 - val_vae_r_loss: 809.6995 - val_vae_kl_loss: 5.7554\n",
      "Epoch 20/50\n",
      "2000/2000 [==============================] - 0s 84us/sample - loss: 825.6160 - vae_r_loss: 819.6956 - vae_kl_loss: 5.9203 - val_loss: 815.0711 - val_vae_r_loss: 808.7751 - val_vae_kl_loss: 6.2962\n",
      "Epoch 21/50\n",
      "2000/2000 [==============================] - 0s 125us/sample - loss: 825.7604 - vae_r_loss: 820.0897 - vae_kl_loss: 5.6705 - val_loss: 814.3003 - val_vae_r_loss: 808.4978 - val_vae_kl_loss: 5.8024\n",
      "Epoch 22/50\n",
      "2000/2000 [==============================] - 0s 99us/sample - loss: 825.5014 - vae_r_loss: 819.9840 - vae_kl_loss: 5.5173 - val_loss: 814.2371 - val_vae_r_loss: 808.4794 - val_vae_kl_loss: 5.7577\n",
      "Epoch 23/50\n",
      "2000/2000 [==============================] - 0s 89us/sample - loss: 825.0328 - vae_r_loss: 819.6786 - vae_kl_loss: 5.3541 - val_loss: 814.1288 - val_vae_r_loss: 808.9131 - val_vae_kl_loss: 5.2157\n",
      "Epoch 24/50\n",
      "2000/2000 [==============================] - 0s 87us/sample - loss: 825.1764 - vae_r_loss: 819.8336 - vae_kl_loss: 5.3429 - val_loss: 814.3070 - val_vae_r_loss: 808.7662 - val_vae_kl_loss: 5.5405\n",
      "Epoch 25/50\n",
      "2000/2000 [==============================] - 0s 81us/sample - loss: 824.3659 - vae_r_loss: 819.3676 - vae_kl_loss: 4.9983 - val_loss: 813.3032 - val_vae_r_loss: 807.7531 - val_vae_kl_loss: 5.5501\n",
      "Epoch 26/50\n",
      "2000/2000 [==============================] - 0s 77us/sample - loss: 823.8462 - vae_r_loss: 818.9996 - vae_kl_loss: 4.8463 - val_loss: 813.2094 - val_vae_r_loss: 808.1384 - val_vae_kl_loss: 5.0710\n",
      "Epoch 27/50\n",
      "2000/2000 [==============================] - 0s 73us/sample - loss: 823.8205 - vae_r_loss: 819.0987 - vae_kl_loss: 4.7216 - val_loss: 812.9317 - val_vae_r_loss: 808.4066 - val_vae_kl_loss: 4.5251\n",
      "Epoch 28/50\n",
      "2000/2000 [==============================] - 0s 62us/sample - loss: 824.1532 - vae_r_loss: 819.5130 - vae_kl_loss: 4.6400 - val_loss: 812.9906 - val_vae_r_loss: 807.8459 - val_vae_kl_loss: 5.1447\n",
      "Epoch 29/50\n",
      "2000/2000 [==============================] - 0s 62us/sample - loss: 823.2769 - vae_r_loss: 818.7880 - vae_kl_loss: 4.4888 - val_loss: 812.9788 - val_vae_r_loss: 808.4066 - val_vae_kl_loss: 4.5722\n",
      "Epoch 30/50\n",
      "2000/2000 [==============================] - 0s 62us/sample - loss: 823.7483 - vae_r_loss: 819.3691 - vae_kl_loss: 4.3793 - val_loss: 812.7187 - val_vae_r_loss: 807.9853 - val_vae_kl_loss: 4.7335\n",
      "Epoch 31/50\n",
      "2000/2000 [==============================] - 0s 76us/sample - loss: 823.6223 - vae_r_loss: 819.2157 - vae_kl_loss: 4.4065 - val_loss: 812.4607 - val_vae_r_loss: 807.8934 - val_vae_kl_loss: 4.5673\n",
      "Epoch 32/50\n",
      "2000/2000 [==============================] - 0s 73us/sample - loss: 822.9662 - vae_r_loss: 818.7661 - vae_kl_loss: 4.2002 - val_loss: 812.4290 - val_vae_r_loss: 808.1407 - val_vae_kl_loss: 4.2886\n",
      "Epoch 33/50\n",
      "2000/2000 [==============================] - 0s 96us/sample - loss: 822.8314 - vae_r_loss: 818.7537 - vae_kl_loss: 4.0777 - val_loss: 812.2390 - val_vae_r_loss: 807.9247 - val_vae_kl_loss: 4.3143\n",
      "Epoch 34/50\n",
      "2000/2000 [==============================] - 0s 75us/sample - loss: 823.1193 - vae_r_loss: 819.1781 - vae_kl_loss: 3.9413 - val_loss: 812.3895 - val_vae_r_loss: 808.4587 - val_vae_kl_loss: 3.9305\n",
      "Epoch 35/50\n",
      "2000/2000 [==============================] - 0s 65us/sample - loss: 822.9553 - vae_r_loss: 818.9579 - vae_kl_loss: 3.9974 - val_loss: 812.1951 - val_vae_r_loss: 808.1909 - val_vae_kl_loss: 4.0044\n",
      "Epoch 36/50\n",
      "2000/2000 [==============================] - 0s 65us/sample - loss: 822.7892 - vae_r_loss: 818.9313 - vae_kl_loss: 3.8577 - val_loss: 811.8414 - val_vae_r_loss: 807.7902 - val_vae_kl_loss: 4.0513\n",
      "Epoch 37/50\n",
      "2000/2000 [==============================] - 0s 62us/sample - loss: 823.0747 - vae_r_loss: 819.1523 - vae_kl_loss: 3.9220 - val_loss: 811.9113 - val_vae_r_loss: 807.8674 - val_vae_kl_loss: 4.0441\n",
      "Epoch 38/50\n",
      "2000/2000 [==============================] - 0s 65us/sample - loss: 822.4777 - vae_r_loss: 818.6928 - vae_kl_loss: 3.7849 - val_loss: 812.0264 - val_vae_r_loss: 808.1438 - val_vae_kl_loss: 3.8823\n",
      "Epoch 39/50\n",
      "2000/2000 [==============================] - 0s 66us/sample - loss: 822.7363 - vae_r_loss: 819.0129 - vae_kl_loss: 3.7232 - val_loss: 811.6495 - val_vae_r_loss: 807.6039 - val_vae_kl_loss: 4.0460\n",
      "Epoch 40/50\n",
      "2000/2000 [==============================] - 0s 62us/sample - loss: 822.3122 - vae_r_loss: 818.7155 - vae_kl_loss: 3.5967 - val_loss: 811.3727 - val_vae_r_loss: 807.4579 - val_vae_kl_loss: 3.9149\n",
      "Epoch 41/50\n",
      "2000/2000 [==============================] - 0s 66us/sample - loss: 822.4293 - vae_r_loss: 818.8383 - vae_kl_loss: 3.5908 - val_loss: 811.4445 - val_vae_r_loss: 807.5012 - val_vae_kl_loss: 3.9433\n",
      "Epoch 42/50\n",
      "2000/2000 [==============================] - 0s 65us/sample - loss: 822.3137 - vae_r_loss: 818.8156 - vae_kl_loss: 3.4983 - val_loss: 811.5999 - val_vae_r_loss: 807.8584 - val_vae_kl_loss: 3.7415\n",
      "Epoch 43/50\n",
      "2000/2000 [==============================] - 0s 61us/sample - loss: 822.1887 - vae_r_loss: 818.7380 - vae_kl_loss: 3.4506 - val_loss: 811.7667 - val_vae_r_loss: 808.3994 - val_vae_kl_loss: 3.3672\n",
      "Epoch 44/50\n",
      "2000/2000 [==============================] - 0s 61us/sample - loss: 822.1774 - vae_r_loss: 818.6520 - vae_kl_loss: 3.5255 - val_loss: 811.4310 - val_vae_r_loss: 807.7389 - val_vae_kl_loss: 3.6920\n",
      "Epoch 45/50\n",
      "2000/2000 [==============================] - 0s 80us/sample - loss: 821.9078 - vae_r_loss: 818.5107 - vae_kl_loss: 3.3972 - val_loss: 811.6111 - val_vae_r_loss: 808.1631 - val_vae_kl_loss: 3.4480\n",
      "Epoch 46/50\n",
      "2000/2000 [==============================] - 0s 69us/sample - loss: 821.9175 - vae_r_loss: 818.6243 - vae_kl_loss: 3.2934 - val_loss: 811.1679 - val_vae_r_loss: 807.5462 - val_vae_kl_loss: 3.6218\n",
      "Epoch 47/50\n",
      "2000/2000 [==============================] - 0s 62us/sample - loss: 821.5519 - vae_r_loss: 818.2860 - vae_kl_loss: 3.2658 - val_loss: 811.6986 - val_vae_r_loss: 808.4824 - val_vae_kl_loss: 3.2163\n",
      "Epoch 48/50\n",
      "2000/2000 [==============================] - 0s 96us/sample - loss: 821.3959 - vae_r_loss: 818.1618 - vae_kl_loss: 3.2341 - val_loss: 811.5059 - val_vae_r_loss: 808.0613 - val_vae_kl_loss: 3.4449\n",
      "Epoch 49/50\n",
      "2000/2000 [==============================] - 0s 88us/sample - loss: 821.7050 - vae_r_loss: 818.4797 - vae_kl_loss: 3.2253 - val_loss: 811.2510 - val_vae_r_loss: 808.0973 - val_vae_kl_loss: 3.1537\n",
      "Epoch 50/50\n",
      "2000/2000 [==============================] - 0s 87us/sample - loss: 821.3987 - vae_r_loss: 818.3144 - vae_kl_loss: 3.0842 - val_loss: 811.0111 - val_vae_r_loss: 807.9051 - val_vae_kl_loss: 3.1061\n"
     ]
    }
   ],
   "source": [
    "r = vae.train(     \n",
    "    x,\n",
    "    batch_size = BATCH_SIZE,\n",
    "    epochs = EPOCHS,\n",
    "    run_folder = RUN_FOLDER,\n",
    "    print_every_n_batches = PRINT_EVERY_N_BATCHES,\n",
    "    initial_epoch = INITIAL_EPOCH,\n",
    "    x_test=tf.data.Dataset.from_tensor_slices(x_test)\n",
    ")"
   ]
  },
  {
   "cell_type": "code",
   "execution_count": 26,
   "id": "a642e7d5-9067-446f-8521-62d939dc8625",
   "metadata": {},
   "outputs": [],
   "source": [
    "val_loss = r.history['val_loss']"
   ]
  },
  {
   "cell_type": "code",
   "execution_count": 27,
   "id": "e95cc24c-1ebf-4408-96c5-e32b61abe1a1",
   "metadata": {},
   "outputs": [
    {
     "name": "stderr",
     "output_type": "stream",
     "text": [
      "/home/owen/repos/z3support/pythonenv/lib/python3.8/site-packages/keras/engine/training_v1.py:2067: UserWarning: `Model.state_updates` will be removed in a future version. This property should not be used in TensorFlow 2.0, as `updates` are applied automatically.\n",
      "  updates=self.state_updates,\n"
     ]
    },
    {
     "data": {
      "image/png": "[encoded data removed]",
      "text/plain": [
       "<Figure size 720x720 with 1 Axes>"
      ]
     },
     "metadata": {
      "needs_background": "light"
     },
     "output_type": "display_data"
    }
   ],
   "source": [
    "figsize = 10\n",
    "\n",
    "z_points = vae.encoder.predict(x_test)\n",
    "\n",
    "min_x = min(z_points[:, 0])\n",
    "max_x = max(z_points[:, 0])\n",
    "min_y = min(z_points[:, 1])\n",
    "max_y = max(z_points[:, 1])\n",
    "\n",
    "plt.figure(figsize=(figsize, figsize))\n",
    "#plt.scatter(z_points[:, 0] , z_points[:, 1], c='black', alpha=0.5, s=2)\n",
    "plt.scatter(z_points[:, 0] , z_points[:, 1], c=test_with_meta_info['T'], alpha=0.5, s=3)\n",
    "plt.xlabel(\"latent_param_0\")\n",
    "plt.ylabel(\"latent_param_1\")\n",
    "plt.show()"
   ]
  },
  {
   "cell_type": "code",
   "execution_count": null,
   "id": "2c640522-2e85-4896-b643-bc1aa09f2e2f",
   "metadata": {},
   "outputs": [],
   "source": []
  },
  {
   "cell_type": "code",
   "execution_count": 28,
   "id": "ead0847c-66b6-4279-98b8-e4207d68d6b6",
   "metadata": {},
   "outputs": [
    {
     "data": {
      "text/html": [
       "<div>\n",
       "<style scoped>\n",
       "    .dataframe tbody tr th:only-of-type {\n",
       "        vertical-align: middle;\n",
       "    }\n",
       "\n",
       "    .dataframe tbody tr th {\n",
       "        vertical-align: top;\n",
       "    }\n",
       "\n",
       "    .dataframe thead th {\n",
       "        text-align: right;\n",
       "    }\n",
       "</style>\n",
       "<table border=\"1\" class=\"dataframe\">\n",
       "  <thead>\n",
       "    <tr style=\"text-align: right;\">\n",
       "      <th></th>\n",
       "      <th>0</th>\n",
       "      <th>1</th>\n",
       "      <th>2</th>\n",
       "      <th>3</th>\n",
       "      <th>4</th>\n",
       "      <th>5</th>\n",
       "      <th>6</th>\n",
       "      <th>7</th>\n",
       "      <th>8</th>\n",
       "      <th>9</th>\n",
       "      <th>...</th>\n",
       "      <th>248</th>\n",
       "      <th>249</th>\n",
       "      <th>250</th>\n",
       "      <th>251</th>\n",
       "      <th>252</th>\n",
       "      <th>253</th>\n",
       "      <th>254</th>\n",
       "      <th>255</th>\n",
       "      <th>T</th>\n",
       "      <th>M</th>\n",
       "    </tr>\n",
       "  </thead>\n",
       "  <tbody>\n",
       "    <tr>\n",
       "      <th>2</th>\n",
       "      <td>-1</td>\n",
       "      <td>-1</td>\n",
       "      <td>-1</td>\n",
       "      <td>-1</td>\n",
       "      <td>-1</td>\n",
       "      <td>-1</td>\n",
       "      <td>-1</td>\n",
       "      <td>-1</td>\n",
       "      <td>-1</td>\n",
       "      <td>-1</td>\n",
       "      <td>...</td>\n",
       "      <td>-1</td>\n",
       "      <td>-1</td>\n",
       "      <td>-1</td>\n",
       "      <td>-1</td>\n",
       "      <td>-1</td>\n",
       "      <td>-1</td>\n",
       "      <td>-1</td>\n",
       "      <td>-1</td>\n",
       "      <td>1.0</td>\n",
       "      <td>-1.0</td>\n",
       "    </tr>\n",
       "    <tr>\n",
       "      <th>5</th>\n",
       "      <td>1</td>\n",
       "      <td>1</td>\n",
       "      <td>1</td>\n",
       "      <td>1</td>\n",
       "      <td>1</td>\n",
       "      <td>1</td>\n",
       "      <td>1</td>\n",
       "      <td>1</td>\n",
       "      <td>1</td>\n",
       "      <td>1</td>\n",
       "      <td>...</td>\n",
       "      <td>1</td>\n",
       "      <td>1</td>\n",
       "      <td>1</td>\n",
       "      <td>1</td>\n",
       "      <td>1</td>\n",
       "      <td>1</td>\n",
       "      <td>1</td>\n",
       "      <td>1</td>\n",
       "      <td>1.0</td>\n",
       "      <td>1.0</td>\n",
       "    </tr>\n",
       "    <tr>\n",
       "      <th>7</th>\n",
       "      <td>1</td>\n",
       "      <td>1</td>\n",
       "      <td>1</td>\n",
       "      <td>1</td>\n",
       "      <td>1</td>\n",
       "      <td>1</td>\n",
       "      <td>1</td>\n",
       "      <td>1</td>\n",
       "      <td>1</td>\n",
       "      <td>1</td>\n",
       "      <td>...</td>\n",
       "      <td>1</td>\n",
       "      <td>1</td>\n",
       "      <td>1</td>\n",
       "      <td>1</td>\n",
       "      <td>1</td>\n",
       "      <td>1</td>\n",
       "      <td>1</td>\n",
       "      <td>1</td>\n",
       "      <td>1.0</td>\n",
       "      <td>1.0</td>\n",
       "    </tr>\n",
       "    <tr>\n",
       "      <th>20</th>\n",
       "      <td>-1</td>\n",
       "      <td>-1</td>\n",
       "      <td>-1</td>\n",
       "      <td>-1</td>\n",
       "      <td>-1</td>\n",
       "      <td>-1</td>\n",
       "      <td>-1</td>\n",
       "      <td>-1</td>\n",
       "      <td>-1</td>\n",
       "      <td>-1</td>\n",
       "      <td>...</td>\n",
       "      <td>-1</td>\n",
       "      <td>-1</td>\n",
       "      <td>-1</td>\n",
       "      <td>-1</td>\n",
       "      <td>-1</td>\n",
       "      <td>-1</td>\n",
       "      <td>-1</td>\n",
       "      <td>-1</td>\n",
       "      <td>1.0</td>\n",
       "      <td>-1.0</td>\n",
       "    </tr>\n",
       "    <tr>\n",
       "      <th>25</th>\n",
       "      <td>-1</td>\n",
       "      <td>-1</td>\n",
       "      <td>-1</td>\n",
       "      <td>-1</td>\n",
       "      <td>-1</td>\n",
       "      <td>-1</td>\n",
       "      <td>-1</td>\n",
       "      <td>-1</td>\n",
       "      <td>-1</td>\n",
       "      <td>-1</td>\n",
       "      <td>...</td>\n",
       "      <td>-1</td>\n",
       "      <td>-1</td>\n",
       "      <td>-1</td>\n",
       "      <td>-1</td>\n",
       "      <td>-1</td>\n",
       "      <td>-1</td>\n",
       "      <td>-1</td>\n",
       "      <td>-1</td>\n",
       "      <td>1.0</td>\n",
       "      <td>-1.0</td>\n",
       "    </tr>\n",
       "    <tr>\n",
       "      <th>...</th>\n",
       "      <td>...</td>\n",
       "      <td>...</td>\n",
       "      <td>...</td>\n",
       "      <td>...</td>\n",
       "      <td>...</td>\n",
       "      <td>...</td>\n",
       "      <td>...</td>\n",
       "      <td>...</td>\n",
       "      <td>...</td>\n",
       "      <td>...</td>\n",
       "      <td>...</td>\n",
       "      <td>...</td>\n",
       "      <td>...</td>\n",
       "      <td>...</td>\n",
       "      <td>...</td>\n",
       "      <td>...</td>\n",
       "      <td>...</td>\n",
       "      <td>...</td>\n",
       "      <td>...</td>\n",
       "      <td>...</td>\n",
       "      <td>...</td>\n",
       "    </tr>\n",
       "    <tr>\n",
       "      <th>954</th>\n",
       "      <td>-1</td>\n",
       "      <td>-1</td>\n",
       "      <td>-1</td>\n",
       "      <td>-1</td>\n",
       "      <td>-1</td>\n",
       "      <td>-1</td>\n",
       "      <td>-1</td>\n",
       "      <td>-1</td>\n",
       "      <td>-1</td>\n",
       "      <td>-1</td>\n",
       "      <td>...</td>\n",
       "      <td>-1</td>\n",
       "      <td>-1</td>\n",
       "      <td>-1</td>\n",
       "      <td>-1</td>\n",
       "      <td>-1</td>\n",
       "      <td>-1</td>\n",
       "      <td>-1</td>\n",
       "      <td>-1</td>\n",
       "      <td>1.0</td>\n",
       "      <td>-1.0</td>\n",
       "    </tr>\n",
       "    <tr>\n",
       "      <th>957</th>\n",
       "      <td>1</td>\n",
       "      <td>1</td>\n",
       "      <td>1</td>\n",
       "      <td>1</td>\n",
       "      <td>1</td>\n",
       "      <td>1</td>\n",
       "      <td>1</td>\n",
       "      <td>1</td>\n",
       "      <td>1</td>\n",
       "      <td>1</td>\n",
       "      <td>...</td>\n",
       "      <td>1</td>\n",
       "      <td>1</td>\n",
       "      <td>1</td>\n",
       "      <td>1</td>\n",
       "      <td>1</td>\n",
       "      <td>1</td>\n",
       "      <td>1</td>\n",
       "      <td>1</td>\n",
       "      <td>1.0</td>\n",
       "      <td>1.0</td>\n",
       "    </tr>\n",
       "    <tr>\n",
       "      <th>964</th>\n",
       "      <td>1</td>\n",
       "      <td>1</td>\n",
       "      <td>1</td>\n",
       "      <td>1</td>\n",
       "      <td>1</td>\n",
       "      <td>1</td>\n",
       "      <td>1</td>\n",
       "      <td>1</td>\n",
       "      <td>1</td>\n",
       "      <td>1</td>\n",
       "      <td>...</td>\n",
       "      <td>1</td>\n",
       "      <td>1</td>\n",
       "      <td>1</td>\n",
       "      <td>1</td>\n",
       "      <td>1</td>\n",
       "      <td>1</td>\n",
       "      <td>1</td>\n",
       "      <td>1</td>\n",
       "      <td>1.0</td>\n",
       "      <td>1.0</td>\n",
       "    </tr>\n",
       "    <tr>\n",
       "      <th>980</th>\n",
       "      <td>1</td>\n",
       "      <td>1</td>\n",
       "      <td>1</td>\n",
       "      <td>1</td>\n",
       "      <td>1</td>\n",
       "      <td>1</td>\n",
       "      <td>1</td>\n",
       "      <td>1</td>\n",
       "      <td>1</td>\n",
       "      <td>1</td>\n",
       "      <td>...</td>\n",
       "      <td>1</td>\n",
       "      <td>1</td>\n",
       "      <td>1</td>\n",
       "      <td>1</td>\n",
       "      <td>1</td>\n",
       "      <td>1</td>\n",
       "      <td>1</td>\n",
       "      <td>1</td>\n",
       "      <td>1.0</td>\n",
       "      <td>1.0</td>\n",
       "    </tr>\n",
       "    <tr>\n",
       "      <th>989</th>\n",
       "      <td>1</td>\n",
       "      <td>1</td>\n",
       "      <td>1</td>\n",
       "      <td>1</td>\n",
       "      <td>1</td>\n",
       "      <td>1</td>\n",
       "      <td>1</td>\n",
       "      <td>1</td>\n",
       "      <td>1</td>\n",
       "      <td>1</td>\n",
       "      <td>...</td>\n",
       "      <td>1</td>\n",
       "      <td>1</td>\n",
       "      <td>1</td>\n",
       "      <td>1</td>\n",
       "      <td>1</td>\n",
       "      <td>1</td>\n",
       "      <td>1</td>\n",
       "      <td>1</td>\n",
       "      <td>1.0</td>\n",
       "      <td>1.0</td>\n",
       "    </tr>\n",
       "  </tbody>\n",
       "</table>\n",
       "<p>179 rows × 258 columns</p>\n",
       "</div>"
      ],
      "text/plain": [
       "     0  1  2  3  4  5  6  7  8  9  ...  248  249  250  251  252  253  254  \\\n",
       "2   -1 -1 -1 -1 -1 -1 -1 -1 -1 -1  ...   -1   -1   -1   -1   -1   -1   -1   \n",
       "5    1  1  1  1  1  1  1  1  1  1  ...    1    1    1    1    1    1    1   \n",
       "7    1  1  1  1  1  1  1  1  1  1  ...    1    1    1    1    1    1    1   \n",
       "20  -1 -1 -1 -1 -1 -1 -1 -1 -1 -1  ...   -1   -1   -1   -1   -1   -1   -1   \n",
       "25  -1 -1 -1 -1 -1 -1 -1 -1 -1 -1  ...   -1   -1   -1   -1   -1   -1   -1   \n",
       "..  .. .. .. .. .. .. .. .. .. ..  ...  ...  ...  ...  ...  ...  ...  ...   \n",
       "954 -1 -1 -1 -1 -1 -1 -1 -1 -1 -1  ...   -1   -1   -1   -1   -1   -1   -1   \n",
       "957  1  1  1  1  1  1  1  1  1  1  ...    1    1    1    1    1    1    1   \n",
       "964  1  1  1  1  1  1  1  1  1  1  ...    1    1    1    1    1    1    1   \n",
       "980  1  1  1  1  1  1  1  1  1  1  ...    1    1    1    1    1    1    1   \n",
       "989  1  1  1  1  1  1  1  1  1  1  ...    1    1    1    1    1    1    1   \n",
       "\n",
       "     255    T    M  \n",
       "2     -1  1.0 -1.0  \n",
       "5      1  1.0  1.0  \n",
       "7      1  1.0  1.0  \n",
       "20    -1  1.0 -1.0  \n",
       "25    -1  1.0 -1.0  \n",
       "..   ...  ...  ...  \n",
       "954   -1  1.0 -1.0  \n",
       "957    1  1.0  1.0  \n",
       "964    1  1.0  1.0  \n",
       "980    1  1.0  1.0  \n",
       "989    1  1.0  1.0  \n",
       "\n",
       "[179 rows x 258 columns]"
      ]
     },
     "execution_count": 28,
     "metadata": {},
     "output_type": "execute_result"
    }
   ],
   "source": [
    "test_with_meta_info[test_with_meta_info['T'] < 2]"
   ]
  },
  {
   "cell_type": "code",
   "execution_count": 29,
   "id": "dbd3de29-942d-4771-83b2-25e53d49649f",
   "metadata": {},
   "outputs": [
    {
     "data": {
      "text/plain": [
       "Int64Index([  2,   5,   7,  20,  25,  29,  31,  34,  40,  42,\n",
       "            ...\n",
       "            907, 927, 935, 949, 950, 954, 957, 964, 980, 989],\n",
       "           dtype='int64', length=179)"
      ]
     },
     "execution_count": 29,
     "metadata": {},
     "output_type": "execute_result"
    }
   ],
   "source": [
    "test_with_meta_info[test_with_meta_info['T'] < 2].index"
   ]
  },
  {
   "cell_type": "code",
   "execution_count": 30,
   "id": "0ffe616e-dee5-4a79-b121-f6c40e135006",
   "metadata": {},
   "outputs": [],
   "source": [
    "#len(x_test)\n",
    "test_with_meta_info = test_with_meta_info.reset_index()"
   ]
  },
  {
   "cell_type": "code",
   "execution_count": 31,
   "id": "75861648-a661-4837-842c-d323ac39b557",
   "metadata": {},
   "outputs": [
    {
     "data": {
      "image/png": "[encoded data removed]",
      "text/plain": [
       "<Figure size 720x720 with 1 Axes>"
      ]
     },
     "metadata": {
      "needs_background": "light"
     },
     "output_type": "display_data"
    }
   ],
   "source": [
    "plt.figure(figsize=(figsize, figsize))\n",
    "plt.hist(z_points[:, 0][test_with_meta_info[test_with_meta_info['T'] > 4].index], color='r', bins=20)\n",
    "plt.hist(z_points[:, 0][test_with_meta_info[test_with_meta_info['T'] < 2].index], color='y', bins=20)\n",
    "plt.xlabel(\"latent_param\")\n",
    "plt.savefig(\"{}/s3-bucket/reproduction/fig_2/vae_dense_latent_param_hist_l{}.png\".format(prefix_s3, L))"
   ]
  },
  {
   "cell_type": "code",
   "execution_count": 32,
   "id": "c9f8cc9b-b356-40ee-841b-9c713f9bbd67",
   "metadata": {},
   "outputs": [
    {
     "data": {
      "image/png": "[encoded data removed]",
      "text/plain": [
       "<Figure size 720x720 with 1 Axes>"
      ]
     },
     "metadata": {
      "needs_background": "light"
     },
     "output_type": "display_data"
    }
   ],
   "source": [
    "plt.figure(figsize=(figsize, figsize))\n",
    "plt.scatter(test_with_meta_info['M'], z_points[:,0], c=test_with_meta_info['T'])\n",
    "plt.xlabel(\"magnetization\")\n",
    "plt.ylabel(\"latent parameter\")\n",
    "plt.savefig(\"{}/s3-bucket/reproduction/fig_2/vae_dense_scatter_latent_vs_mag_color_by_t_l{}.png\".format(prefix_s3, L))"
   ]
  },
  {
   "cell_type": "code",
   "execution_count": 33,
   "id": "3369f2bc-d7f4-4dae-aa9a-14a7a27802f6",
   "metadata": {},
   "outputs": [
    {
     "name": "stdout",
     "output_type": "stream",
     "text": [
      "Model: \"model_3\"\n",
      "__________________________________________________________________________________________________\n",
      " Layer (type)                   Output Shape         Param #     Connected to                     \n",
      "==================================================================================================\n",
      " encoder_input (InputLayer)     [(None, 256)]        0           []                               \n",
      "                                                                                                  \n",
      " dense (Dense)                  (None, 2)            514         ['encoder_input[0][0]']          \n",
      "                                                                                                  \n",
      " leaky_re_lu (LeakyReLU)        (None, 2)            0           ['dense[0][0]']                  \n",
      "                                                                                                  \n",
      " mu (Dense)                     (None, 2)            6           ['leaky_re_lu[0][0]']            \n",
      "                                                                                                  \n",
      " log_var (Dense)                (None, 2)            6           ['leaky_re_lu[0][0]']            \n",
      "                                                                                                  \n",
      " encoder_output (Lambda)        (None, 2)            0           ['mu[0][0]',                     \n",
      "                                                                  'log_var[0][0]']                \n",
      "                                                                                                  \n",
      " model_2 (Functional)           (None, 256)          780         ['encoder_output[0][0]']         \n",
      "                                                                                                  \n",
      "==================================================================================================\n",
      "Total params: 1,306\n",
      "Trainable params: 1,306\n",
      "Non-trainable params: 0\n",
      "__________________________________________________________________________________________________\n"
     ]
    }
   ],
   "source": [
    "vae.model.summary()\n"
   ]
  },
  {
   "cell_type": "code",
   "execution_count": 34,
   "id": "ab829185-5cdf-442f-856c-5956bfb7e546",
   "metadata": {},
   "outputs": [],
   "source": [
    "mid_layer = vae.encoder.get_layer('dense')\n",
    "#mid_layer = vae.decoder.get_layer('dense_3')\n",
    "#mid_layer = vae.encoder.get_layer('mu')"
   ]
  },
  {
   "cell_type": "code",
   "execution_count": 35,
   "id": "800c0ca1-c4a9-480e-93b5-c2e636524ef6",
   "metadata": {},
   "outputs": [
    {
     "data": {
      "text/plain": [
       "(256, 2)"
      ]
     },
     "execution_count": 35,
     "metadata": {},
     "output_type": "execute_result"
    }
   ],
   "source": [
    "mid_layer.get_weights()[0].shape"
   ]
  },
  {
   "cell_type": "code",
   "execution_count": 36,
   "id": "56e8deb2-fa9d-41d8-9516-440fe080ad6b",
   "metadata": {},
   "outputs": [],
   "source": [
    "#mid_layer.weights\n",
    "#mid_layer.get_weights()"
   ]
  },
  {
   "cell_type": "code",
   "execution_count": 37,
   "id": "f1ea7ef7-4194-44c3-be0f-7befb0939940",
   "metadata": {},
   "outputs": [
    {
     "ename": "ValueError",
     "evalue": "cannot reshape array of size 2 into shape (16,16)",
     "output_type": "error",
     "traceback": [
      "\u001b[0;31m---------------------------------------------------------------------------\u001b[0m",
      "\u001b[0;31mValueError\u001b[0m                                Traceback (most recent call last)",
      "Input \u001b[0;32mIn [37]\u001b[0m, in \u001b[0;36m<cell line: 21>\u001b[0;34m()\u001b[0m\n\u001b[1;32m     24\u001b[0m     im \u001b[38;5;241m=\u001b[39m ax\u001b[38;5;241m.\u001b[39mimshow(mid_layer\u001b[38;5;241m.\u001b[39mget_weights()[\u001b[38;5;241m0\u001b[39m][:,\u001b[38;5;241m-\u001b[39m(i\u001b[38;5;241m+\u001b[39m\u001b[38;5;241m1\u001b[39m)]\u001b[38;5;241m.\u001b[39mreshape(L,L), vmin\u001b[38;5;241m=\u001b[39mvmin, vmax\u001b[38;5;241m=\u001b[39mvmax)\n\u001b[1;32m     25\u001b[0m \u001b[38;5;28;01melif\u001b[39;00m shape_style \u001b[38;5;241m==\u001b[39m \u001b[38;5;241m2\u001b[39m:\n\u001b[0;32m---> 26\u001b[0m     im \u001b[38;5;241m=\u001b[39m ax\u001b[38;5;241m.\u001b[39mimshow(\u001b[43mmid_layer\u001b[49m\u001b[38;5;241;43m.\u001b[39;49m\u001b[43mget_weights\u001b[49m\u001b[43m(\u001b[49m\u001b[43m)\u001b[49m\u001b[43m[\u001b[49m\u001b[38;5;241;43m0\u001b[39;49m\u001b[43m]\u001b[49m\u001b[43m[\u001b[49m\u001b[43mi\u001b[49m\u001b[43m]\u001b[49m\u001b[38;5;241;43m.\u001b[39;49m\u001b[43mreshape\u001b[49m\u001b[43m(\u001b[49m\u001b[43mL\u001b[49m\u001b[43m,\u001b[49m\u001b[43mL\u001b[49m\u001b[43m)\u001b[49m, vmin\u001b[38;5;241m=\u001b[39mvmin, vmax\u001b[38;5;241m=\u001b[39mvmax)\n\u001b[1;32m     27\u001b[0m \u001b[38;5;28;01melse\u001b[39;00m:\n\u001b[1;32m     28\u001b[0m     \u001b[38;5;28;01mraise\u001b[39;00m \u001b[38;5;167;01mValueError\u001b[39;00m(\u001b[38;5;124m\"\u001b[39m\u001b[38;5;124minvalid shape style\u001b[39m\u001b[38;5;124m\"\u001b[39m)\n",
      "\u001b[0;31mValueError\u001b[0m: cannot reshape array of size 2 into shape (16,16)"
     ]
    },
    {
     "data": {
      "image/png": "[encoded data removed]",
      "text/plain": [
       "<Figure size 432x288 with 4 Axes>"
      ]
     },
     "metadata": {
      "needs_background": "light"
     },
     "output_type": "display_data"
    }
   ],
   "source": [
    "# There are a couple of different places to get the weights and they have different shapes\n",
    "# IN the second above cell you can see different ways/places but here is a flag so you can\n",
    "# create this plot depending on the choice\n",
    "shape_style = 2\n",
    "\n",
    "\n",
    "vmax = 0.0\n",
    "vmin = 0.0\n",
    "for i in range(N_DENSE):\n",
    "    cur_w = mid_layer.get_weights()[0][:,-(i+1)]\n",
    "    if max(cur_w) > vmax:\n",
    "        vmax = max(cur_w)\n",
    "    \n",
    "    if min(cur_w) < vmin:\n",
    "        vmin = min(cur_w)\n",
    "        \n",
    "\n",
    "fig, (axes, ax_color) = plt.subplots(2,N_DENSE, gridspec_kw={\"height_ratios\":[1, 0.05]})\n",
    "im_list = []\n",
    "\n",
    "if N_DENSE > 1:\n",
    "    for i, ax in enumerate(axes.flat):\n",
    "        if shape_style == 1:\n",
    "            im = ax.imshow(mid_layer.get_weights()[0][:,-(i+1)].reshape(L,L), vmin=vmin, vmax=vmax)\n",
    "        elif shape_style == 2:\n",
    "            im = ax.imshow(mid_layer.get_weights()[0][i].reshape(L,L), vmin=vmin, vmax=vmax)\n",
    "        else:\n",
    "            raise ValueError(\"invalid shape style\")\n",
    "        im_list.append(im)\n",
    "    for i, ax in enumerate(ax_color.flat):\n",
    "    #for i, ax in enumerate(ax_color):\n",
    "        fig.colorbar(im_list[i], cax=ax, orientation=\"horizontal\")\n",
    "else: \n",
    "    im = axes.imshow(mid_layer.get_weights()[0][:,-(i+1)].reshape(L,L), vmin=vmin, vmax=vmax)\n",
    "    im_list.append(im)\n",
    "    fig.colorbar(im, cax=ax_color, orientation=\"horizontal\")\n",
    "\n",
    "plt.savefig(\"{}/s3-bucket/ising/vae_dense_weights_as_image_l{}\".format(prefix_s3, L))"
   ]
  },
  {
   "cell_type": "code",
   "execution_count": null,
   "id": "eaf1b312-c08a-47bf-a1f2-af06ce8cfa1d",
   "metadata": {},
   "outputs": [],
   "source": [
    "#mid_layer_2 = vae.encoder.get_layer('dense')\n",
    "mid_layer_2 = vae.decoder.get_layer('dense_3')"
   ]
  },
  {
   "cell_type": "code",
   "execution_count": null,
   "id": "c6bbcca3-b2f3-42e7-a4cd-d2a4e9d0c1be",
   "metadata": {},
   "outputs": [],
   "source": [
    "plt.imshow(mid_layer_2.get_weights()[0][0].reshape(L,L))\n",
    "plt.colorbar()"
   ]
  },
  {
   "cell_type": "markdown",
   "id": "64bb2624-775d-4347-ba3c-410a42aadc9d",
   "metadata": {},
   "source": [
    "# Fig. 2.c"
   ]
  },
  {
   "cell_type": "code",
   "execution_count": null,
   "id": "3f38e10c-1771-4005-b86b-896b783cbd7d",
   "metadata": {},
   "outputs": [],
   "source": [
    "#full_latent_out = vae.encoder.predict(filterned_confs.drop([\"T\",\"M\"], axis=1))\n",
    "test_with_meta_info"
   ]
  },
  {
   "cell_type": "code",
   "execution_count": null,
   "id": "1dc56ac2-970b-4662-bc59-b2e41ed234bf",
   "metadata": {},
   "outputs": [],
   "source": [
    "test_with_meta_info[\"latent_1\"] = z_points[:, 0]"
   ]
  },
  {
   "cell_type": "code",
   "execution_count": null,
   "id": "c4af19df-65b5-4b08-b5ba-9a0f76065a36",
   "metadata": {},
   "outputs": [],
   "source": [
    "from sqlalchemy import create_engine\n",
    "engine = create_engine('sqlite://', echo=False)"
   ]
  },
  {
   "cell_type": "code",
   "execution_count": null,
   "id": "20077467-bdf1-4bf0-847b-59dee4b9b62a",
   "metadata": {},
   "outputs": [],
   "source": [
    "test_with_meta_info.to_sql('filtered_confs', con=engine, if_exists='append')"
   ]
  },
  {
   "cell_type": "code",
   "execution_count": null,
   "id": "471b6f00-8cc3-45a2-b625-a2604f7f3579",
   "metadata": {},
   "outputs": [],
   "source": [
    "avg_m_out = engine.execute(\n",
    "\"\"\"\n",
    "    select \n",
    "        t,\n",
    "        avg(abs(m)),\n",
    "        avg(abs(latent_1))\n",
    "    from filtered_confs\n",
    "    group by t\n",
    "\"\"\").fetchall()"
   ]
  },
  {
   "cell_type": "code",
   "execution_count": null,
   "id": "d19edc2a-b1a3-4098-81a3-245f11408c22",
   "metadata": {},
   "outputs": [],
   "source": [
    "plt.plot(\n",
    "    [i[0] for i in avg_m_out[0:]],\n",
    "    [i[1] for i in avg_m_out[0:]],\n",
    "    c='r',\n",
    "    label=\"magnetization\"\n",
    ")\n",
    "plt.plot(\n",
    "    [i[0] for i in avg_m_out[0:]],\n",
    "    [i[2] for i in avg_m_out[0:]],\n",
    "    c='b',\n",
    "    label=\"latent param.\"\n",
    ")\n",
    "plt.xlabel(\"Temperature\")\n",
    "plt.legend()\n",
    "plt.savefig(\"{}/s3-bucket/reproduction/fig_2/vae_dense_magnitization_and_latent_param_vs_temp_l{}_r_loss_factor_{}_epocs_{}.png\".format(prefix_s3, L, R_LOSS_FACTOR, EPOCHS))"
   ]
  },
  {
   "cell_type": "markdown",
   "id": "1fab6126-cfd5-44ab-b901-b2b38028d64c",
   "metadata": {},
   "source": [
    "# Simple AE Recreate from Latent Space"
   ]
  },
  {
   "cell_type": "code",
   "execution_count": null,
   "id": "bb30a1fe-d830-4ef2-bdbc-67b74e3c4d7f",
   "metadata": {},
   "outputs": [],
   "source": [
    "recreate_sample_size = 10\n",
    "\n",
    "plt.figure(figsize=(3, recreate_sample_size*2))\n",
    "\n",
    "sampled_look = filterned_confs.drop([\"T\",\"M\"], axis=1).sample(recreate_sample_size)\n",
    "sampled_latent_out = simp_ae.predict(sampled_look)\n",
    "\n",
    "for i in range(recreate_sample_size):\n",
    "    \n",
    "    plt1 = plt.subplot2grid((recreate_sample_size,2), (i,0), colspan=1)\n",
    "    plt2 = plt.subplot2grid((recreate_sample_size,2), (i,1), colspan=1)\n",
    "    \n",
    "    plt1.imshow(\n",
    "        sampled_look.iloc[i].to_numpy().reshape(L,L)\n",
    "    )\n",
    "    plt2.imshow(\n",
    "        sampled_latent_out[i].reshape(L,L)\n",
    "    )"
   ]
  }
 ],
 "metadata": {
  "kernelspec": {
   "display_name": "Python 3",
   "language": "python",
   "name": "python3"
  },
  "language_info": {
   "codemirror_mode": {
    "name": "ipython",
    "version": 3
   },
   "file_extension": ".py",
   "mimetype": "text/x-python",
   "name": "python",
   "nbconvert_exporter": "python",
   "pygments_lexer": "ipython3",
   "version": "3.8.10"
  }
 },
 "nbformat": 4,
 "nbformat_minor": 5
}
