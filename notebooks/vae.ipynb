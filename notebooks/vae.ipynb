{
 "cells": [
  {
   "cell_type": "code",
   "execution_count": 28,
   "id": "a1c11071-bfbb-4177-a84f-e2444cf3e1a6",
   "metadata": {},
   "outputs": [],
   "source": [
    "import os\n",
    "\n",
    "from models.vae import VariationalAutoencoder\n",
    "from models.utils.loaders import load_mnist\n",
    "import pandas as pd\n",
    "import numpy as np\n",
    "from tensorflow.python.framework.ops import disable_eager_execution\n",
    "from matplotlib import pyplot as plt\n",
    "\n",
    "disable_eager_execution()\n",
    "\n",
    "os.environ[\"CUDA_VISIBLE_DEVICES\"] = \"-1\"\n",
    "\n",
    "N_DENSE = 2\n",
    "L=8\n",
    "TRAINING_FRACTION = 0.8"
   ]
  },
  {
   "cell_type": "code",
   "execution_count": 2,
   "id": "c2c04948-4abb-459f-b4c7-063d3ed394e4",
   "metadata": {},
   "outputs": [],
   "source": [
    "user = 1\n",
    "if user == 1:\n",
    "    prefix_s3 = \"/home/owen/\"\n",
    "    prefix_data = \"/home/owen/repos/\"\n",
    "elif user == 2:\n",
    "    prefix_data = \"/Users/omyers/repos/\""
   ]
  },
  {
   "cell_type": "code",
   "execution_count": 3,
   "id": "dac34337-c7ee-41c3-8a06-1d77200a864b",
   "metadata": {},
   "outputs": [],
   "source": [
    "# run params\n",
    "SECTION = 'vae'\n",
    "RUN_ID = '0002'\n",
    "#DATA_NAME = 'digits'\n",
    "DATA_NAME = 'ising'\n",
    "RUN_FOLDER = '{}/run/{}/'.format(os.getcwd(), SECTION)\n",
    "RUN_FOLDER += '_'.join([RUN_ID, DATA_NAME])\n",
    "\n",
    "if not os.path.exists(RUN_FOLDER):\n",
    "    os.makedirs(RUN_FOLDER)\n",
    "    os.mkdir(os.path.join(RUN_FOLDER, 'viz'))\n",
    "    os.mkdir(os.path.join(RUN_FOLDER, 'images'))\n",
    "    os.mkdir(os.path.join(RUN_FOLDER, 'weights'))\n",
    "\n",
    "mode =  'build' #'load' #\n"
   ]
  },
  {
   "cell_type": "code",
   "execution_count": 4,
   "id": "d1ba5589-1195-4b82-b3be-f28f815adcb0",
   "metadata": {},
   "outputs": [],
   "source": [
    "df_bins = pd.read_csv(\"{prefix_data}z3support/data/SpinMLData/2DIsing/L-{L}/L-{L}-T-1-5/bins_L-{L}-T-1-5.txt\".format(L=L,prefix_data=prefix_data), sep=\"\\t\")\n",
    "df_conf = pd.read_csv(\"{prefix_data}z3support/data/SpinMLData/2DIsing/L-{L}/L-{L}-T-1-5/spinConfigs_L-{L}-T-1-5.txt\".format(L=L,prefix_data=prefix_data), delimiter=r\"\\s+\", header=None)"
   ]
  },
  {
   "cell_type": "code",
   "execution_count": 5,
   "id": "c43c2d80-2e2b-4f87-acfb-74b5d4bd0b68",
   "metadata": {},
   "outputs": [],
   "source": [
    "df_bins = df_bins[df_bins[' T '] != ' T ']"
   ]
  },
  {
   "cell_type": "code",
   "execution_count": 6,
   "id": "ed5da578-d08e-404b-be6a-5b5248da0fe3",
   "metadata": {},
   "outputs": [],
   "source": [
    "df_bins = df_bins.astype(\n",
    "    {\n",
    "        \" T \": int,\n",
    "        \" binNum\": int,\n",
    "    }\n",
    ")"
   ]
  },
  {
   "cell_type": "markdown",
   "id": "e5d796dd-0cb9-462d-9c64-7ae8ddfe08cb",
   "metadata": {},
   "source": [
    "## Get the temp and magnatization into the configuration dataframe"
   ]
  },
  {
   "cell_type": "code",
   "execution_count": 7,
   "id": "e842e4e4-3f59-430a-9afc-b6d30fd60295",
   "metadata": {},
   "outputs": [],
   "source": [
    "df_conf[\"T\"] = df_bins[\" T \"]"
   ]
  },
  {
   "cell_type": "code",
   "execution_count": 8,
   "id": "f6b08978-30f5-43a3-a52e-a84d159d4da1",
   "metadata": {},
   "outputs": [],
   "source": [
    "mean_col = df_conf[0].copy()\n",
    "for i in range(1, L):\n",
    "    mean_col += df_conf[i]\n",
    "\n",
    "mean_col /= L"
   ]
  },
  {
   "cell_type": "code",
   "execution_count": 9,
   "id": "26f73eca-b06b-401e-8eaa-3e94730762c6",
   "metadata": {},
   "outputs": [],
   "source": [
    "df_conf[\"M\"] = mean_col"
   ]
  },
  {
   "cell_type": "code",
   "execution_count": 10,
   "id": "16bf92b1-af70-4128-80e9-161682a06c96",
   "metadata": {},
   "outputs": [],
   "source": [
    "filterned_confs = df_conf"
   ]
  },
  {
   "cell_type": "code",
   "execution_count": 11,
   "id": "94d6a8cd-cec9-40b4-bdad-c9dbff035507",
   "metadata": {},
   "outputs": [
    {
     "data": {
      "text/html": [
       "<div>\n",
       "<style scoped>\n",
       "    .dataframe tbody tr th:only-of-type {\n",
       "        vertical-align: middle;\n",
       "    }\n",
       "\n",
       "    .dataframe tbody tr th {\n",
       "        vertical-align: top;\n",
       "    }\n",
       "\n",
       "    .dataframe thead th {\n",
       "        text-align: right;\n",
       "    }\n",
       "</style>\n",
       "<table border=\"1\" class=\"dataframe\">\n",
       "  <thead>\n",
       "    <tr style=\"text-align: right;\">\n",
       "      <th></th>\n",
       "      <th>0</th>\n",
       "      <th>1</th>\n",
       "      <th>2</th>\n",
       "      <th>3</th>\n",
       "      <th>4</th>\n",
       "      <th>5</th>\n",
       "      <th>6</th>\n",
       "      <th>7</th>\n",
       "      <th>8</th>\n",
       "      <th>9</th>\n",
       "      <th>...</th>\n",
       "      <th>56</th>\n",
       "      <th>57</th>\n",
       "      <th>58</th>\n",
       "      <th>59</th>\n",
       "      <th>60</th>\n",
       "      <th>61</th>\n",
       "      <th>62</th>\n",
       "      <th>63</th>\n",
       "      <th>T</th>\n",
       "      <th>M</th>\n",
       "    </tr>\n",
       "  </thead>\n",
       "  <tbody>\n",
       "    <tr>\n",
       "      <th>0</th>\n",
       "      <td>-1</td>\n",
       "      <td>-1</td>\n",
       "      <td>-1</td>\n",
       "      <td>-1</td>\n",
       "      <td>-1</td>\n",
       "      <td>-1</td>\n",
       "      <td>-1</td>\n",
       "      <td>-1</td>\n",
       "      <td>-1</td>\n",
       "      <td>-1</td>\n",
       "      <td>...</td>\n",
       "      <td>-1</td>\n",
       "      <td>-1</td>\n",
       "      <td>-1</td>\n",
       "      <td>-1</td>\n",
       "      <td>-1</td>\n",
       "      <td>-1</td>\n",
       "      <td>-1</td>\n",
       "      <td>-1</td>\n",
       "      <td>1.0</td>\n",
       "      <td>-1.0</td>\n",
       "    </tr>\n",
       "    <tr>\n",
       "      <th>1</th>\n",
       "      <td>-1</td>\n",
       "      <td>-1</td>\n",
       "      <td>-1</td>\n",
       "      <td>-1</td>\n",
       "      <td>-1</td>\n",
       "      <td>-1</td>\n",
       "      <td>-1</td>\n",
       "      <td>-1</td>\n",
       "      <td>-1</td>\n",
       "      <td>-1</td>\n",
       "      <td>...</td>\n",
       "      <td>-1</td>\n",
       "      <td>-1</td>\n",
       "      <td>-1</td>\n",
       "      <td>-1</td>\n",
       "      <td>-1</td>\n",
       "      <td>-1</td>\n",
       "      <td>-1</td>\n",
       "      <td>-1</td>\n",
       "      <td>1.0</td>\n",
       "      <td>-1.0</td>\n",
       "    </tr>\n",
       "    <tr>\n",
       "      <th>2</th>\n",
       "      <td>-1</td>\n",
       "      <td>-1</td>\n",
       "      <td>-1</td>\n",
       "      <td>-1</td>\n",
       "      <td>-1</td>\n",
       "      <td>-1</td>\n",
       "      <td>-1</td>\n",
       "      <td>-1</td>\n",
       "      <td>-1</td>\n",
       "      <td>-1</td>\n",
       "      <td>...</td>\n",
       "      <td>-1</td>\n",
       "      <td>-1</td>\n",
       "      <td>-1</td>\n",
       "      <td>-1</td>\n",
       "      <td>-1</td>\n",
       "      <td>-1</td>\n",
       "      <td>-1</td>\n",
       "      <td>-1</td>\n",
       "      <td>1.0</td>\n",
       "      <td>-1.0</td>\n",
       "    </tr>\n",
       "    <tr>\n",
       "      <th>3</th>\n",
       "      <td>-1</td>\n",
       "      <td>-1</td>\n",
       "      <td>-1</td>\n",
       "      <td>-1</td>\n",
       "      <td>-1</td>\n",
       "      <td>-1</td>\n",
       "      <td>-1</td>\n",
       "      <td>-1</td>\n",
       "      <td>-1</td>\n",
       "      <td>-1</td>\n",
       "      <td>...</td>\n",
       "      <td>-1</td>\n",
       "      <td>-1</td>\n",
       "      <td>-1</td>\n",
       "      <td>-1</td>\n",
       "      <td>-1</td>\n",
       "      <td>-1</td>\n",
       "      <td>-1</td>\n",
       "      <td>-1</td>\n",
       "      <td>1.0</td>\n",
       "      <td>-1.0</td>\n",
       "    </tr>\n",
       "    <tr>\n",
       "      <th>4</th>\n",
       "      <td>-1</td>\n",
       "      <td>-1</td>\n",
       "      <td>-1</td>\n",
       "      <td>-1</td>\n",
       "      <td>-1</td>\n",
       "      <td>-1</td>\n",
       "      <td>-1</td>\n",
       "      <td>-1</td>\n",
       "      <td>-1</td>\n",
       "      <td>-1</td>\n",
       "      <td>...</td>\n",
       "      <td>-1</td>\n",
       "      <td>-1</td>\n",
       "      <td>-1</td>\n",
       "      <td>-1</td>\n",
       "      <td>-1</td>\n",
       "      <td>-1</td>\n",
       "      <td>-1</td>\n",
       "      <td>-1</td>\n",
       "      <td>1.0</td>\n",
       "      <td>-1.0</td>\n",
       "    </tr>\n",
       "  </tbody>\n",
       "</table>\n",
       "<p>5 rows × 66 columns</p>\n",
       "</div>"
      ],
      "text/plain": [
       "   0  1  2  3  4  5  6  7  8  9  ...  56  57  58  59  60  61  62  63    T    M\n",
       "0 -1 -1 -1 -1 -1 -1 -1 -1 -1 -1  ...  -1  -1  -1  -1  -1  -1  -1  -1  1.0 -1.0\n",
       "1 -1 -1 -1 -1 -1 -1 -1 -1 -1 -1  ...  -1  -1  -1  -1  -1  -1  -1  -1  1.0 -1.0\n",
       "2 -1 -1 -1 -1 -1 -1 -1 -1 -1 -1  ...  -1  -1  -1  -1  -1  -1  -1  -1  1.0 -1.0\n",
       "3 -1 -1 -1 -1 -1 -1 -1 -1 -1 -1  ...  -1  -1  -1  -1  -1  -1  -1  -1  1.0 -1.0\n",
       "4 -1 -1 -1 -1 -1 -1 -1 -1 -1 -1  ...  -1  -1  -1  -1  -1  -1  -1  -1  1.0 -1.0\n",
       "\n",
       "[5 rows x 66 columns]"
      ]
     },
     "execution_count": 11,
     "metadata": {},
     "output_type": "execute_result"
    }
   ],
   "source": [
    "filterned_confs.head()"
   ]
  },
  {
   "cell_type": "markdown",
   "id": "40df009f-5410-4a8c-9492-835b75e2bb52",
   "metadata": {},
   "source": [
    "We need the data in the format: `(x_train, y_train), (x_test, y_test)`"
   ]
  },
  {
   "cell_type": "code",
   "execution_count": 35,
   "id": "f09c54bc-5efc-4ecc-becd-73dbbf2770bd",
   "metadata": {},
   "outputs": [],
   "source": [
    "train_with_meta_info = filterned_confs.sample(frac=TRAINING_FRACTION, axis=0)\n",
    "test_with_meta_info = filterned_confs.drop(index=train.index)"
   ]
  },
  {
   "cell_type": "code",
   "execution_count": 36,
   "id": "7e93b711-9411-4425-84c6-c24f5edd3041",
   "metadata": {},
   "outputs": [],
   "source": [
    "train = train_with_meta_info.drop([\"T\",\"M\"], axis=1)\n",
    "test = test_with_meta_info.drop([\"T\",\"M\"], axis=1)"
   ]
  },
  {
   "cell_type": "markdown",
   "id": "c7f72822-bb76-46e6-81ab-5357884d393a",
   "metadata": {},
   "source": [
    "# Check what MNIST data looked like"
   ]
  },
  {
   "cell_type": "code",
   "execution_count": 13,
   "id": "7376500b-18b4-4a75-87b3-aabc02ca3f72",
   "metadata": {},
   "outputs": [],
   "source": [
    "(x_train, y_train), (x_test, y_test) = load_mnist()"
   ]
  },
  {
   "cell_type": "code",
   "execution_count": 14,
   "id": "8bfab992-117f-47ba-8fa9-0ba8a5fb1a8d",
   "metadata": {},
   "outputs": [
    {
     "data": {
      "text/plain": [
       "(60000, 28, 28, 1)"
      ]
     },
     "execution_count": 14,
     "metadata": {},
     "output_type": "execute_result"
    }
   ],
   "source": [
    "np.shape(x_train)"
   ]
  },
  {
   "cell_type": "code",
   "execution_count": 15,
   "id": "1b841a29-058d-490b-8794-1cf07d54eeb4",
   "metadata": {},
   "outputs": [
    {
     "data": {
      "text/plain": [
       "(60000, 28, 28, 1)"
      ]
     },
     "execution_count": 15,
     "metadata": {},
     "output_type": "execute_result"
    }
   ],
   "source": [
    "np.shape(x_train)"
   ]
  },
  {
   "cell_type": "markdown",
   "id": "09301a8c-93cc-4c46-b03f-07f0b9342ae9",
   "metadata": {},
   "source": [
    "## Make our data the same"
   ]
  },
  {
   "cell_type": "code",
   "execution_count": 37,
   "id": "db6cc810-4352-453f-87f5-c5dd420fb76a",
   "metadata": {},
   "outputs": [
    {
     "data": {
      "text/plain": [
       "(4000, 64)"
      ]
     },
     "execution_count": 37,
     "metadata": {},
     "output_type": "execute_result"
    }
   ],
   "source": [
    "train.to_numpy().shape"
   ]
  },
  {
   "cell_type": "code",
   "execution_count": 38,
   "id": "cd006420-3b2e-4361-bbc2-46b437787711",
   "metadata": {},
   "outputs": [],
   "source": [
    "x = train.to_numpy().reshape(-1,L,L,1)\n",
    "x_test = test.to_numpy().reshape(-1,L,L,1)"
   ]
  },
  {
   "cell_type": "code",
   "execution_count": 39,
   "id": "b87ceff0-9c8c-42b9-bae7-25a8dc037353",
   "metadata": {},
   "outputs": [
    {
     "data": {
      "text/plain": [
       "array([[[[1],\n",
       "         [1]],\n",
       "\n",
       "        [[1],\n",
       "         [1]]],\n",
       "\n",
       "\n",
       "       [[[2],\n",
       "         [2]],\n",
       "\n",
       "        [[3],\n",
       "         [3]]],\n",
       "\n",
       "\n",
       "       [[[4],\n",
       "         [4]],\n",
       "\n",
       "        [[5],\n",
       "         [5]]]])"
      ]
     },
     "execution_count": 39,
     "metadata": {},
     "output_type": "execute_result"
    }
   ],
   "source": [
    "np.array([[1,1,1,1], [2,2,3,3], [4,4,5,5]]).reshape(-1,2,2,1)"
   ]
  },
  {
   "cell_type": "code",
   "execution_count": 40,
   "id": "f3191ceb-d996-45c5-b28d-5f36d7882c7f",
   "metadata": {},
   "outputs": [],
   "source": [
    "x = x.astype(float)"
   ]
  },
  {
   "cell_type": "code",
   "execution_count": 41,
   "id": "3fd9a373-fdfa-48e9-b120-e1bd02790347",
   "metadata": {},
   "outputs": [
    {
     "data": {
      "text/plain": [
       "(4000, 8, 8, 1)"
      ]
     },
     "execution_count": 41,
     "metadata": {},
     "output_type": "execute_result"
    }
   ],
   "source": [
    "x.shape"
   ]
  },
  {
   "cell_type": "code",
   "execution_count": null,
   "id": "c6a44c80-fad2-49f5-b045-a8af428ff036",
   "metadata": {},
   "outputs": [],
   "source": []
  },
  {
   "cell_type": "markdown",
   "id": "e559cb77-1ac0-40ce-8a11-0ef84aeeabf6",
   "metadata": {},
   "source": [
    "## Run Convolutional VAE"
   ]
  },
  {
   "cell_type": "code",
   "execution_count": 42,
   "id": "e06961ee-cb27-40b7-b0f5-b24cdd184d32",
   "metadata": {},
   "outputs": [],
   "source": [
    "vae = VariationalAutoencoder(\n",
    "    input_dim = (L,L,1)\n",
    "    , encoder_conv_filters = [8,8,16]\n",
    "    , encoder_conv_kernel_size = [3,3,3]\n",
    "    , encoder_conv_strides = [1,2,1]\n",
    "    , decoder_conv_t_filters = [16,8,1]\n",
    "    , decoder_conv_t_kernel_size = [3,3,3]\n",
    "    , decoder_conv_t_strides = [1,2,1]\n",
    "    , z_dim = 2\n",
    ")"
   ]
  },
  {
   "cell_type": "code",
   "execution_count": 43,
   "id": "6e04dcc7-42c7-4bea-918d-1f90df979de2",
   "metadata": {},
   "outputs": [],
   "source": [
    "LEARNING_RATE = 0.0005\n",
    "R_LOSS_FACTOR = 1000"
   ]
  },
  {
   "cell_type": "code",
   "execution_count": 44,
   "id": "28180c06-bdf7-4760-b504-c21eb9137193",
   "metadata": {},
   "outputs": [],
   "source": [
    "vae.compile(LEARNING_RATE, R_LOSS_FACTOR)"
   ]
  },
  {
   "cell_type": "code",
   "execution_count": 45,
   "id": "5af6bfe8-39b6-4416-aad5-7e9ad059331a",
   "metadata": {},
   "outputs": [],
   "source": [
    "BATCH_SIZE = 16\n",
    "EPOCHS = 20\n",
    "PRINT_EVERY_N_BATCHES = 100\n",
    "INITIAL_EPOCH = 0"
   ]
  },
  {
   "cell_type": "code",
   "execution_count": null,
   "id": "9d74d26b-150d-4b2f-ae5e-7d2a0b0f199f",
   "metadata": {},
   "outputs": [],
   "source": []
  },
  {
   "cell_type": "code",
   "execution_count": 46,
   "id": "bec03bfb-b4a2-42ae-a2a3-05fd5c781507",
   "metadata": {},
   "outputs": [
    {
     "name": "stdout",
     "output_type": "stream",
     "text": [
      "Train on 4000 samples\n",
      "Epoch 1/20\n",
      "  16/4000 [..............................] - ETA: 30s - loss: 1036.4816 - vae_r_loss: 1036.4640 - vae_kl_loss: 0.0175WARNING:tensorflow:Callback method `on_train_batch_end` is slow compared to the batch time (batch time: 0.0015s vs `on_train_batch_end` time: 0.0062s). Check your callbacks.\n",
      "1696/4000 [===========>..................] - ETA: 0s - loss: 1106.5449 - vae_r_loss: 1093.5992 - vae_kl_loss: 12.9455"
     ]
    },
    {
     "name": "stderr",
     "output_type": "stream",
     "text": [
      "/home/owen/repos/z3support/pythonenv/lib/python3.8/site-packages/keras/engine/training_v1.py:2067: UserWarning: `Model.state_updates` will be removed in a future version. This property should not be used in TensorFlow 2.0, as `updates` are applied automatically.\n",
      "  updates=self.state_updates,\n"
     ]
    },
    {
     "name": "stdout",
     "output_type": "stream",
     "text": [
      "3440/4000 [========================>.....] - ETA: 0s - loss: 998.8228 - vae_r_loss: 985.5740 - vae_kl_loss: 13.2489  \n",
      "Epoch 1: saving model to /home/owen/repos/z3support/notebooks/run/vae/0002_ising/weights/weights-001-973.74.h5\n",
      "\n",
      "Epoch 1: saving model to /home/owen/repos/z3support/notebooks/run/vae/0002_ising/weights/weights.h5\n",
      "4000/4000 [==============================] - 1s 135us/sample - loss: 973.7382 - vae_r_loss: 960.7895 - vae_kl_loss: 12.9486 - lr: 5.0000e-04\n",
      "Epoch 2/20\n",
      "3568/4000 [=========================>....] - ETA: 0s - loss: 807.5687 - vae_r_loss: 801.6429 - vae_kl_loss: 5.9252\n",
      "Epoch 2: saving model to /home/owen/repos/z3support/notebooks/run/vae/0002_ising/weights/weights-002-807.31.h5\n",
      "\n",
      "Epoch 2: saving model to /home/owen/repos/z3support/notebooks/run/vae/0002_ising/weights/weights.h5\n",
      "4000/4000 [==============================] - 0s 91us/sample - loss: 807.3146 - vae_r_loss: 801.4774 - vae_kl_loss: 5.8368 - lr: 5.0000e-04\n",
      "Epoch 3/20\n",
      "3568/4000 [=========================>....] - ETA: 0s - loss: 799.1755 - vae_r_loss: 794.1196 - vae_kl_loss: 5.0559\n",
      "Epoch 3: saving model to /home/owen/repos/z3support/notebooks/run/vae/0002_ising/weights/weights-003-797.14.h5\n",
      "\n",
      "Epoch 3: saving model to /home/owen/repos/z3support/notebooks/run/vae/0002_ising/weights/weights.h5\n",
      "4000/4000 [==============================] - 0s 91us/sample - loss: 797.1355 - vae_r_loss: 792.0925 - vae_kl_loss: 5.0428 - lr: 5.0000e-04\n",
      "Epoch 4/20\n",
      "3488/4000 [=========================>....] - ETA: 0s - loss: 796.7564 - vae_r_loss: 792.1378 - vae_kl_loss: 4.6186\n",
      "Epoch 4: saving model to /home/owen/repos/z3support/notebooks/run/vae/0002_ising/weights/weights-004-792.54.h5\n",
      "\n",
      "Epoch 4: saving model to /home/owen/repos/z3support/notebooks/run/vae/0002_ising/weights/weights.h5\n",
      "4000/4000 [==============================] - 0s 93us/sample - loss: 792.5380 - vae_r_loss: 787.9272 - vae_kl_loss: 4.6107 - lr: 5.0000e-04\n",
      "Epoch 5/20\n",
      "3568/4000 [=========================>....] - ETA: 0s - loss: 790.2587 - vae_r_loss: 785.9574 - vae_kl_loss: 4.3014\n",
      "Epoch 5: saving model to /home/owen/repos/z3support/notebooks/run/vae/0002_ising/weights/weights-005-791.24.h5\n",
      "\n",
      "Epoch 5: saving model to /home/owen/repos/z3support/notebooks/run/vae/0002_ising/weights/weights.h5\n",
      "4000/4000 [==============================] - 0s 91us/sample - loss: 791.2428 - vae_r_loss: 786.9440 - vae_kl_loss: 4.2989 - lr: 5.0000e-04\n",
      "Epoch 6/20\n",
      "3552/4000 [=========================>....] - ETA: 0s - loss: 785.6161 - vae_r_loss: 781.3535 - vae_kl_loss: 4.2624\n",
      "Epoch 6: saving model to /home/owen/repos/z3support/notebooks/run/vae/0002_ising/weights/weights-006-790.18.h5\n",
      "\n",
      "Epoch 6: saving model to /home/owen/repos/z3support/notebooks/run/vae/0002_ising/weights/weights.h5\n",
      "4000/4000 [==============================] - 0s 92us/sample - loss: 790.1772 - vae_r_loss: 785.9425 - vae_kl_loss: 4.2346 - lr: 5.0000e-04\n",
      "Epoch 7/20\n",
      "3472/4000 [=========================>....] - ETA: 0s - loss: 791.0055 - vae_r_loss: 786.8737 - vae_kl_loss: 4.1322\n",
      "Epoch 7: saving model to /home/owen/repos/z3support/notebooks/run/vae/0002_ising/weights/weights-007-789.47.h5\n",
      "\n",
      "Epoch 7: saving model to /home/owen/repos/z3support/notebooks/run/vae/0002_ising/weights/weights.h5\n",
      "4000/4000 [==============================] - 0s 93us/sample - loss: 789.4655 - vae_r_loss: 785.3170 - vae_kl_loss: 4.1486 - lr: 5.0000e-04\n",
      "Epoch 8/20\n",
      "3568/4000 [=========================>....] - ETA: 0s - loss: 786.9509 - vae_r_loss: 782.8682 - vae_kl_loss: 4.0829\n",
      "Epoch 8: saving model to /home/owen/repos/z3support/notebooks/run/vae/0002_ising/weights/weights-008-788.97.h5\n",
      "\n",
      "Epoch 8: saving model to /home/owen/repos/z3support/notebooks/run/vae/0002_ising/weights/weights.h5\n",
      "4000/4000 [==============================] - 0s 91us/sample - loss: 788.9719 - vae_r_loss: 784.8757 - vae_kl_loss: 4.0961 - lr: 5.0000e-04\n",
      "Epoch 9/20\n",
      "3440/4000 [========================>.....] - ETA: 0s - loss: 785.7751 - vae_r_loss: 781.7306 - vae_kl_loss: 4.0442\n",
      "Epoch 9: saving model to /home/owen/repos/z3support/notebooks/run/vae/0002_ising/weights/weights-009-788.46.h5\n",
      "\n",
      "Epoch 9: saving model to /home/owen/repos/z3support/notebooks/run/vae/0002_ising/weights/weights.h5\n",
      "4000/4000 [==============================] - 0s 94us/sample - loss: 788.4620 - vae_r_loss: 784.4269 - vae_kl_loss: 4.0348 - lr: 5.0000e-04\n",
      "Epoch 10/20\n",
      "3600/4000 [==========================>...] - ETA: 0s - loss: 786.2977 - vae_r_loss: 782.2668 - vae_kl_loss: 4.0307\n",
      "Epoch 10: saving model to /home/owen/repos/z3support/notebooks/run/vae/0002_ising/weights/weights-010-787.97.h5\n",
      "\n",
      "Epoch 10: saving model to /home/owen/repos/z3support/notebooks/run/vae/0002_ising/weights/weights.h5\n",
      "4000/4000 [==============================] - 0s 90us/sample - loss: 787.9674 - vae_r_loss: 783.9548 - vae_kl_loss: 4.0125 - lr: 5.0000e-04\n",
      "Epoch 11/20\n",
      "3680/4000 [==========================>...] - ETA: 0s - loss: 786.4376 - vae_r_loss: 782.4788 - vae_kl_loss: 3.9590\n",
      "Epoch 11: saving model to /home/owen/repos/z3support/notebooks/run/vae/0002_ising/weights/weights-011-787.55.h5\n",
      "\n",
      "Epoch 11: saving model to /home/owen/repos/z3support/notebooks/run/vae/0002_ising/weights/weights.h5\n",
      "4000/4000 [==============================] - 0s 89us/sample - loss: 787.5492 - vae_r_loss: 783.5887 - vae_kl_loss: 3.9609 - lr: 5.0000e-04\n",
      "Epoch 12/20\n",
      "3600/4000 [==========================>...] - ETA: 0s - loss: 791.2292 - vae_r_loss: 787.2693 - vae_kl_loss: 3.9599\n",
      "Epoch 12: saving model to /home/owen/repos/z3support/notebooks/run/vae/0002_ising/weights/weights-012-787.28.h5\n",
      "\n",
      "Epoch 12: saving model to /home/owen/repos/z3support/notebooks/run/vae/0002_ising/weights/weights.h5\n",
      "4000/4000 [==============================] - 0s 90us/sample - loss: 787.2800 - vae_r_loss: 783.3119 - vae_kl_loss: 3.9684 - lr: 5.0000e-04\n",
      "Epoch 13/20\n",
      "3536/4000 [=========================>....] - ETA: 0s - loss: 787.6133 - vae_r_loss: 783.6018 - vae_kl_loss: 4.0113\n",
      "Epoch 13: saving model to /home/owen/repos/z3support/notebooks/run/vae/0002_ising/weights/weights-013-786.94.h5\n",
      "\n",
      "Epoch 13: saving model to /home/owen/repos/z3support/notebooks/run/vae/0002_ising/weights/weights.h5\n",
      "4000/4000 [==============================] - 0s 92us/sample - loss: 786.9371 - vae_r_loss: 782.9276 - vae_kl_loss: 4.0096 - lr: 5.0000e-04\n",
      "Epoch 14/20\n",
      "3536/4000 [=========================>....] - ETA: 0s - loss: 792.0875 - vae_r_loss: 788.0917 - vae_kl_loss: 3.9956\n",
      "Epoch 14: saving model to /home/owen/repos/z3support/notebooks/run/vae/0002_ising/weights/weights-014-786.63.h5\n",
      "\n",
      "Epoch 14: saving model to /home/owen/repos/z3support/notebooks/run/vae/0002_ising/weights/weights.h5\n",
      "4000/4000 [==============================] - 0s 92us/sample - loss: 786.6334 - vae_r_loss: 782.6258 - vae_kl_loss: 4.0075 - lr: 5.0000e-04\n",
      "Epoch 15/20\n",
      "3568/4000 [=========================>....] - ETA: 0s - loss: 786.8767 - vae_r_loss: 782.8699 - vae_kl_loss: 4.0066\n",
      "Epoch 15: saving model to /home/owen/repos/z3support/notebooks/run/vae/0002_ising/weights/weights-015-786.41.h5\n",
      "\n",
      "Epoch 15: saving model to /home/owen/repos/z3support/notebooks/run/vae/0002_ising/weights/weights.h5\n",
      "4000/4000 [==============================] - 0s 91us/sample - loss: 786.4055 - vae_r_loss: 782.4155 - vae_kl_loss: 3.9898 - lr: 5.0000e-04\n",
      "Epoch 16/20\n",
      "3552/4000 [=========================>....] - ETA: 0s - loss: 785.0989 - vae_r_loss: 781.1562 - vae_kl_loss: 3.9430\n",
      "Epoch 16: saving model to /home/owen/repos/z3support/notebooks/run/vae/0002_ising/weights/weights-016-786.01.h5\n",
      "\n",
      "Epoch 16: saving model to /home/owen/repos/z3support/notebooks/run/vae/0002_ising/weights/weights.h5\n",
      "4000/4000 [==============================] - 0s 91us/sample - loss: 786.0110 - vae_r_loss: 782.0717 - vae_kl_loss: 3.9395 - lr: 5.0000e-04\n",
      "Epoch 17/20\n",
      "3600/4000 [==========================>...] - ETA: 0s - loss: 786.6705 - vae_r_loss: 782.6641 - vae_kl_loss: 4.0063\n",
      "Epoch 17: saving model to /home/owen/repos/z3support/notebooks/run/vae/0002_ising/weights/weights-017-785.85.h5\n",
      "\n",
      "Epoch 17: saving model to /home/owen/repos/z3support/notebooks/run/vae/0002_ising/weights/weights.h5\n",
      "4000/4000 [==============================] - 0s 90us/sample - loss: 785.8499 - vae_r_loss: 781.8384 - vae_kl_loss: 4.0114 - lr: 5.0000e-04\n",
      "Epoch 18/20\n",
      "3600/4000 [==========================>...] - ETA: 0s - loss: 784.6727 - vae_r_loss: 780.6306 - vae_kl_loss: 4.0420\n",
      "Epoch 18: saving model to /home/owen/repos/z3support/notebooks/run/vae/0002_ising/weights/weights-018-785.59.h5\n",
      "\n",
      "Epoch 18: saving model to /home/owen/repos/z3support/notebooks/run/vae/0002_ising/weights/weights.h5\n",
      "4000/4000 [==============================] - 0s 91us/sample - loss: 785.5894 - vae_r_loss: 781.5682 - vae_kl_loss: 4.0213 - lr: 5.0000e-04\n",
      "Epoch 19/20\n",
      "3680/4000 [==========================>...] - ETA: 0s - loss: 785.7527 - vae_r_loss: 781.7264 - vae_kl_loss: 4.0265\n",
      "Epoch 19: saving model to /home/owen/repos/z3support/notebooks/run/vae/0002_ising/weights/weights-019-785.39.h5\n",
      "\n",
      "Epoch 19: saving model to /home/owen/repos/z3support/notebooks/run/vae/0002_ising/weights/weights.h5\n",
      "4000/4000 [==============================] - 0s 89us/sample - loss: 785.3855 - vae_r_loss: 781.3679 - vae_kl_loss: 4.0175 - lr: 5.0000e-04\n",
      "Epoch 20/20\n",
      "3552/4000 [=========================>....] - ETA: 0s - loss: 786.4434 - vae_r_loss: 782.3981 - vae_kl_loss: 4.0450\n",
      "Epoch 20: saving model to /home/owen/repos/z3support/notebooks/run/vae/0002_ising/weights/weights-020-785.31.h5\n",
      "\n",
      "Epoch 20: saving model to /home/owen/repos/z3support/notebooks/run/vae/0002_ising/weights/weights.h5\n",
      "4000/4000 [==============================] - 0s 92us/sample - loss: 785.3138 - vae_r_loss: 781.2895 - vae_kl_loss: 4.0240 - lr: 5.0000e-04\n"
     ]
    }
   ],
   "source": [
    "vae.train(     \n",
    "    x\n",
    "    , batch_size = BATCH_SIZE\n",
    "    , epochs = EPOCHS\n",
    "    , run_folder = RUN_FOLDER\n",
    "    , print_every_n_batches = PRINT_EVERY_N_BATCHES\n",
    "    , initial_epoch = INITIAL_EPOCH\n",
    ")"
   ]
  },
  {
   "cell_type": "code",
   "execution_count": 84,
   "id": "e95cc24c-1ebf-4408-96c5-e32b61abe1a1",
   "metadata": {},
   "outputs": [
    {
     "data": {
      "image/png": "[encoded data removed]",
      "text/plain": [
       "<Figure size 576x576 with 1 Axes>"
      ]
     },
     "metadata": {
      "needs_background": "light"
     },
     "output_type": "display_data"
    }
   ],
   "source": [
    "figsize = 8\n",
    "\n",
    "z_points = vae.encoder.predict(x_test)\n",
    "\n",
    "min_x = min(z_points[:, 0])\n",
    "max_x = max(z_points[:, 0])\n",
    "min_y = min(z_points[:, 1])\n",
    "max_y = max(z_points[:, 1])\n",
    "\n",
    "plt.figure(figsize=(figsize, figsize))\n",
    "#plt.scatter(z_points[:, 0] , z_points[:, 1], c='black', alpha=0.5, s=2)\n",
    "plt.scatter(z_points[:, 0] , z_points[:, 1], c=test_with_meta_info['T'], alpha=0.5, s=3)\n",
    "plt.xlabel(\"latent_param_0\")\n",
    "plt.ylabel(\"latent_param_1\")\n",
    "plt.show()"
   ]
  },
  {
   "cell_type": "code",
   "execution_count": 54,
   "id": "ead0847c-66b6-4279-98b8-e4207d68d6b6",
   "metadata": {},
   "outputs": [
    {
     "data": {
      "text/html": [
       "<div>\n",
       "<style scoped>\n",
       "    .dataframe tbody tr th:only-of-type {\n",
       "        vertical-align: middle;\n",
       "    }\n",
       "\n",
       "    .dataframe tbody tr th {\n",
       "        vertical-align: top;\n",
       "    }\n",
       "\n",
       "    .dataframe thead th {\n",
       "        text-align: right;\n",
       "    }\n",
       "</style>\n",
       "<table border=\"1\" class=\"dataframe\">\n",
       "  <thead>\n",
       "    <tr style=\"text-align: right;\">\n",
       "      <th></th>\n",
       "      <th>0</th>\n",
       "      <th>1</th>\n",
       "      <th>2</th>\n",
       "      <th>3</th>\n",
       "      <th>4</th>\n",
       "      <th>5</th>\n",
       "      <th>6</th>\n",
       "      <th>7</th>\n",
       "      <th>8</th>\n",
       "      <th>9</th>\n",
       "      <th>...</th>\n",
       "      <th>56</th>\n",
       "      <th>57</th>\n",
       "      <th>58</th>\n",
       "      <th>59</th>\n",
       "      <th>60</th>\n",
       "      <th>61</th>\n",
       "      <th>62</th>\n",
       "      <th>63</th>\n",
       "      <th>T</th>\n",
       "      <th>M</th>\n",
       "    </tr>\n",
       "  </thead>\n",
       "  <tbody>\n",
       "    <tr>\n",
       "      <th>6</th>\n",
       "      <td>-1</td>\n",
       "      <td>-1</td>\n",
       "      <td>-1</td>\n",
       "      <td>-1</td>\n",
       "      <td>-1</td>\n",
       "      <td>-1</td>\n",
       "      <td>-1</td>\n",
       "      <td>-1</td>\n",
       "      <td>-1</td>\n",
       "      <td>-1</td>\n",
       "      <td>...</td>\n",
       "      <td>-1</td>\n",
       "      <td>-1</td>\n",
       "      <td>-1</td>\n",
       "      <td>-1</td>\n",
       "      <td>-1</td>\n",
       "      <td>-1</td>\n",
       "      <td>-1</td>\n",
       "      <td>-1</td>\n",
       "      <td>1.0</td>\n",
       "      <td>-1.0</td>\n",
       "    </tr>\n",
       "    <tr>\n",
       "      <th>12</th>\n",
       "      <td>1</td>\n",
       "      <td>1</td>\n",
       "      <td>1</td>\n",
       "      <td>1</td>\n",
       "      <td>1</td>\n",
       "      <td>1</td>\n",
       "      <td>1</td>\n",
       "      <td>1</td>\n",
       "      <td>1</td>\n",
       "      <td>1</td>\n",
       "      <td>...</td>\n",
       "      <td>1</td>\n",
       "      <td>1</td>\n",
       "      <td>1</td>\n",
       "      <td>1</td>\n",
       "      <td>1</td>\n",
       "      <td>1</td>\n",
       "      <td>1</td>\n",
       "      <td>1</td>\n",
       "      <td>1.0</td>\n",
       "      <td>1.0</td>\n",
       "    </tr>\n",
       "    <tr>\n",
       "      <th>23</th>\n",
       "      <td>1</td>\n",
       "      <td>1</td>\n",
       "      <td>1</td>\n",
       "      <td>1</td>\n",
       "      <td>1</td>\n",
       "      <td>1</td>\n",
       "      <td>1</td>\n",
       "      <td>1</td>\n",
       "      <td>1</td>\n",
       "      <td>1</td>\n",
       "      <td>...</td>\n",
       "      <td>1</td>\n",
       "      <td>1</td>\n",
       "      <td>1</td>\n",
       "      <td>1</td>\n",
       "      <td>1</td>\n",
       "      <td>1</td>\n",
       "      <td>1</td>\n",
       "      <td>1</td>\n",
       "      <td>1.0</td>\n",
       "      <td>1.0</td>\n",
       "    </tr>\n",
       "    <tr>\n",
       "      <th>28</th>\n",
       "      <td>-1</td>\n",
       "      <td>-1</td>\n",
       "      <td>-1</td>\n",
       "      <td>-1</td>\n",
       "      <td>-1</td>\n",
       "      <td>-1</td>\n",
       "      <td>-1</td>\n",
       "      <td>-1</td>\n",
       "      <td>-1</td>\n",
       "      <td>-1</td>\n",
       "      <td>...</td>\n",
       "      <td>-1</td>\n",
       "      <td>-1</td>\n",
       "      <td>-1</td>\n",
       "      <td>-1</td>\n",
       "      <td>-1</td>\n",
       "      <td>-1</td>\n",
       "      <td>-1</td>\n",
       "      <td>-1</td>\n",
       "      <td>1.0</td>\n",
       "      <td>-1.0</td>\n",
       "    </tr>\n",
       "    <tr>\n",
       "      <th>31</th>\n",
       "      <td>1</td>\n",
       "      <td>1</td>\n",
       "      <td>1</td>\n",
       "      <td>1</td>\n",
       "      <td>1</td>\n",
       "      <td>1</td>\n",
       "      <td>1</td>\n",
       "      <td>1</td>\n",
       "      <td>1</td>\n",
       "      <td>1</td>\n",
       "      <td>...</td>\n",
       "      <td>1</td>\n",
       "      <td>1</td>\n",
       "      <td>1</td>\n",
       "      <td>1</td>\n",
       "      <td>1</td>\n",
       "      <td>1</td>\n",
       "      <td>1</td>\n",
       "      <td>1</td>\n",
       "      <td>1.0</td>\n",
       "      <td>1.0</td>\n",
       "    </tr>\n",
       "    <tr>\n",
       "      <th>...</th>\n",
       "      <td>...</td>\n",
       "      <td>...</td>\n",
       "      <td>...</td>\n",
       "      <td>...</td>\n",
       "      <td>...</td>\n",
       "      <td>...</td>\n",
       "      <td>...</td>\n",
       "      <td>...</td>\n",
       "      <td>...</td>\n",
       "      <td>...</td>\n",
       "      <td>...</td>\n",
       "      <td>...</td>\n",
       "      <td>...</td>\n",
       "      <td>...</td>\n",
       "      <td>...</td>\n",
       "      <td>...</td>\n",
       "      <td>...</td>\n",
       "      <td>...</td>\n",
       "      <td>...</td>\n",
       "      <td>...</td>\n",
       "      <td>...</td>\n",
       "    </tr>\n",
       "    <tr>\n",
       "      <th>969</th>\n",
       "      <td>1</td>\n",
       "      <td>1</td>\n",
       "      <td>1</td>\n",
       "      <td>1</td>\n",
       "      <td>1</td>\n",
       "      <td>1</td>\n",
       "      <td>1</td>\n",
       "      <td>1</td>\n",
       "      <td>1</td>\n",
       "      <td>1</td>\n",
       "      <td>...</td>\n",
       "      <td>1</td>\n",
       "      <td>1</td>\n",
       "      <td>1</td>\n",
       "      <td>1</td>\n",
       "      <td>1</td>\n",
       "      <td>1</td>\n",
       "      <td>1</td>\n",
       "      <td>1</td>\n",
       "      <td>1.0</td>\n",
       "      <td>1.0</td>\n",
       "    </tr>\n",
       "    <tr>\n",
       "      <th>979</th>\n",
       "      <td>-1</td>\n",
       "      <td>-1</td>\n",
       "      <td>-1</td>\n",
       "      <td>-1</td>\n",
       "      <td>-1</td>\n",
       "      <td>-1</td>\n",
       "      <td>-1</td>\n",
       "      <td>-1</td>\n",
       "      <td>-1</td>\n",
       "      <td>-1</td>\n",
       "      <td>...</td>\n",
       "      <td>-1</td>\n",
       "      <td>-1</td>\n",
       "      <td>-1</td>\n",
       "      <td>-1</td>\n",
       "      <td>-1</td>\n",
       "      <td>-1</td>\n",
       "      <td>-1</td>\n",
       "      <td>-1</td>\n",
       "      <td>1.0</td>\n",
       "      <td>-1.0</td>\n",
       "    </tr>\n",
       "    <tr>\n",
       "      <th>982</th>\n",
       "      <td>-1</td>\n",
       "      <td>-1</td>\n",
       "      <td>-1</td>\n",
       "      <td>-1</td>\n",
       "      <td>-1</td>\n",
       "      <td>-1</td>\n",
       "      <td>-1</td>\n",
       "      <td>-1</td>\n",
       "      <td>-1</td>\n",
       "      <td>-1</td>\n",
       "      <td>...</td>\n",
       "      <td>-1</td>\n",
       "      <td>-1</td>\n",
       "      <td>-1</td>\n",
       "      <td>-1</td>\n",
       "      <td>-1</td>\n",
       "      <td>-1</td>\n",
       "      <td>-1</td>\n",
       "      <td>-1</td>\n",
       "      <td>1.0</td>\n",
       "      <td>-1.0</td>\n",
       "    </tr>\n",
       "    <tr>\n",
       "      <th>986</th>\n",
       "      <td>1</td>\n",
       "      <td>1</td>\n",
       "      <td>1</td>\n",
       "      <td>1</td>\n",
       "      <td>1</td>\n",
       "      <td>1</td>\n",
       "      <td>1</td>\n",
       "      <td>1</td>\n",
       "      <td>1</td>\n",
       "      <td>1</td>\n",
       "      <td>...</td>\n",
       "      <td>1</td>\n",
       "      <td>1</td>\n",
       "      <td>1</td>\n",
       "      <td>1</td>\n",
       "      <td>1</td>\n",
       "      <td>1</td>\n",
       "      <td>1</td>\n",
       "      <td>1</td>\n",
       "      <td>1.0</td>\n",
       "      <td>1.0</td>\n",
       "    </tr>\n",
       "    <tr>\n",
       "      <th>992</th>\n",
       "      <td>-1</td>\n",
       "      <td>-1</td>\n",
       "      <td>-1</td>\n",
       "      <td>-1</td>\n",
       "      <td>-1</td>\n",
       "      <td>-1</td>\n",
       "      <td>-1</td>\n",
       "      <td>-1</td>\n",
       "      <td>-1</td>\n",
       "      <td>-1</td>\n",
       "      <td>...</td>\n",
       "      <td>-1</td>\n",
       "      <td>-1</td>\n",
       "      <td>-1</td>\n",
       "      <td>-1</td>\n",
       "      <td>-1</td>\n",
       "      <td>-1</td>\n",
       "      <td>-1</td>\n",
       "      <td>-1</td>\n",
       "      <td>1.0</td>\n",
       "      <td>-1.0</td>\n",
       "    </tr>\n",
       "  </tbody>\n",
       "</table>\n",
       "<p>187 rows × 66 columns</p>\n",
       "</div>"
      ],
      "text/plain": [
       "     0  1  2  3  4  5  6  7  8  9  ...  56  57  58  59  60  61  62  63    T  \\\n",
       "6   -1 -1 -1 -1 -1 -1 -1 -1 -1 -1  ...  -1  -1  -1  -1  -1  -1  -1  -1  1.0   \n",
       "12   1  1  1  1  1  1  1  1  1  1  ...   1   1   1   1   1   1   1   1  1.0   \n",
       "23   1  1  1  1  1  1  1  1  1  1  ...   1   1   1   1   1   1   1   1  1.0   \n",
       "28  -1 -1 -1 -1 -1 -1 -1 -1 -1 -1  ...  -1  -1  -1  -1  -1  -1  -1  -1  1.0   \n",
       "31   1  1  1  1  1  1  1  1  1  1  ...   1   1   1   1   1   1   1   1  1.0   \n",
       "..  .. .. .. .. .. .. .. .. .. ..  ...  ..  ..  ..  ..  ..  ..  ..  ..  ...   \n",
       "969  1  1  1  1  1  1  1  1  1  1  ...   1   1   1   1   1   1   1   1  1.0   \n",
       "979 -1 -1 -1 -1 -1 -1 -1 -1 -1 -1  ...  -1  -1  -1  -1  -1  -1  -1  -1  1.0   \n",
       "982 -1 -1 -1 -1 -1 -1 -1 -1 -1 -1  ...  -1  -1  -1  -1  -1  -1  -1  -1  1.0   \n",
       "986  1  1  1  1  1  1  1  1  1  1  ...   1   1   1   1   1   1   1   1  1.0   \n",
       "992 -1 -1 -1 -1 -1 -1 -1 -1 -1 -1  ...  -1  -1  -1  -1  -1  -1  -1  -1  1.0   \n",
       "\n",
       "       M  \n",
       "6   -1.0  \n",
       "12   1.0  \n",
       "23   1.0  \n",
       "28  -1.0  \n",
       "31   1.0  \n",
       "..   ...  \n",
       "969  1.0  \n",
       "979 -1.0  \n",
       "982 -1.0  \n",
       "986  1.0  \n",
       "992 -1.0  \n",
       "\n",
       "[187 rows x 66 columns]"
      ]
     },
     "execution_count": 54,
     "metadata": {},
     "output_type": "execute_result"
    }
   ],
   "source": [
    "test_with_meta_info[test_with_meta_info['T'] < 2]"
   ]
  },
  {
   "cell_type": "code",
   "execution_count": 56,
   "id": "dbd3de29-942d-4771-83b2-25e53d49649f",
   "metadata": {},
   "outputs": [
    {
     "data": {
      "text/plain": [
       "Int64Index([  6,  12,  23,  28,  31,  32,  35,  38,  41,  53,\n",
       "            ...\n",
       "            933, 947, 956, 961, 968, 969, 979, 982, 986, 992],\n",
       "           dtype='int64', length=187)"
      ]
     },
     "execution_count": 56,
     "metadata": {},
     "output_type": "execute_result"
    }
   ],
   "source": [
    "test_with_meta_info[test_with_meta_info['T'] < 2].index"
   ]
  },
  {
   "cell_type": "code",
   "execution_count": 78,
   "id": "0ffe616e-dee5-4a79-b121-f6c40e135006",
   "metadata": {},
   "outputs": [],
   "source": [
    "#len(x_test)\n",
    "test_with_meta_info = test_with_meta_info.reset_index()"
   ]
  },
  {
   "cell_type": "code",
   "execution_count": 89,
   "id": "75861648-a661-4837-842c-d323ac39b557",
   "metadata": {},
   "outputs": [
    {
     "data": {
      "text/plain": [
       "Text(0.5, 0, 'latent_param')"
      ]
     },
     "execution_count": 89,
     "metadata": {},
     "output_type": "execute_result"
    },
    {
     "data": {
      "image/png": "[encoded data removed]",
      "text/plain": [
       "<Figure size 576x576 with 1 Axes>"
      ]
     },
     "metadata": {
      "needs_background": "light"
     },
     "output_type": "display_data"
    }
   ],
   "source": [
    "plt.figure(figsize=(figsize, figsize))\n",
    "plt.hist(z_points[:, 1][test_with_meta_info[test_with_meta_info['T'] > 4].index], color='r')\n",
    "plt.hist(z_points[:, 1][test_with_meta_info[test_with_meta_info['T'] < 2].index], color='y')\n",
    "plt.xlabel(\"latent_param\")"
   ]
  },
  {
   "cell_type": "code",
   "execution_count": 90,
   "id": "c9f8cc9b-b356-40ee-841b-9c713f9bbd67",
   "metadata": {},
   "outputs": [
    {
     "data": {
      "text/plain": [
       "Text(0, 0.5, 'latent parameter')"
      ]
     },
     "execution_count": 90,
     "metadata": {},
     "output_type": "execute_result"
    },
    {
     "data": {
      "image/png": "[encoded data removed]",
      "text/plain": [
       "<Figure size 576x576 with 1 Axes>"
      ]
     },
     "metadata": {
      "needs_background": "light"
     },
     "output_type": "display_data"
    }
   ],
   "source": [
    "plt.figure(figsize=(figsize, figsize))\n",
    "plt.scatter(z_points[:,1], test_with_meta_info['M'], c=test_with_meta_info['T'])\n",
    "plt.xlabel(\"magnetization\")\n",
    "plt.ylabel(\"latent parameter\")"
   ]
  },
  {
   "cell_type": "code",
   "execution_count": null,
   "id": "48011473-fedb-45be-8604-db6efed3c33f",
   "metadata": {},
   "outputs": [],
   "source": []
  }
 ],
 "metadata": {
  "kernelspec": {
   "display_name": "Python 3",
   "language": "python",
   "name": "python3"
  },
  "language_info": {
   "codemirror_mode": {
    "name": "ipython",
    "version": 3
   },
   "file_extension": ".py",
   "mimetype": "text/x-python",
   "name": "python",
   "nbconvert_exporter": "python",
   "pygments_lexer": "ipython3",
   "version": "3.8.10"
  }
 },
 "nbformat": 4,
 "nbformat_minor": 5
}
