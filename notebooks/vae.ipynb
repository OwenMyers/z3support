{
 "cells": [
  {
   "cell_type": "code",
   "execution_count": 31,
   "id": "a1c11071-bfbb-4177-a84f-e2444cf3e1a6",
   "metadata": {},
   "outputs": [],
   "source": [
    "import os\n",
    "\n",
    "from models.vae import VariationalAutoencoder\n",
    "from models.utils.loaders import load_mnist\n",
    "import pandas as pd\n",
    "\n",
    "N_DENSE = 2\n",
    "L=8\n",
    "TRAINING_FRACTION = 0.8"
   ]
  },
  {
   "cell_type": "code",
   "execution_count": 21,
   "id": "c2c04948-4abb-459f-b4c7-063d3ed394e4",
   "metadata": {},
   "outputs": [],
   "source": [
    "user = 1\n",
    "if user == 1:\n",
    "    prefix_s3 = \"/home/owen/\"\n",
    "    prefix_data = \"/home/owen/repos/\"\n",
    "elif user == 2:\n",
    "    prefix_data = \"/Users/omyers/repos/\""
   ]
  },
  {
   "cell_type": "code",
   "execution_count": 19,
   "id": "dac34337-c7ee-41c3-8a06-1d77200a864b",
   "metadata": {},
   "outputs": [],
   "source": [
    "# run params\n",
    "SECTION = 'vae'\n",
    "RUN_ID = '0002'\n",
    "#DATA_NAME = 'digits'\n",
    "DATA_NAME = 'ising'\n",
    "RUN_FOLDER = '{}/run/{}/'.format(os.getcwd(), SECTION)\n",
    "RUN_FOLDER += '_'.join([RUN_ID, DATA_NAME])\n",
    "\n",
    "if not os.path.exists(RUN_FOLDER):\n",
    "    os.makedirs(RUN_FOLDER)\n",
    "    os.mkdir(os.path.join(RUN_FOLDER, 'viz'))\n",
    "    os.mkdir(os.path.join(RUN_FOLDER, 'images'))\n",
    "    os.mkdir(os.path.join(RUN_FOLDER, 'weights'))\n",
    "\n",
    "mode =  'build' #'load' #\n"
   ]
  },
  {
   "cell_type": "code",
   "execution_count": 23,
   "id": "d1ba5589-1195-4b82-b3be-f28f815adcb0",
   "metadata": {},
   "outputs": [],
   "source": [
    "df_bins = pd.read_csv(\"{prefix_data}z3support/data/SpinMLData/2DIsing/L-{L}/L-{L}-T-1-5/bins_L-{L}-T-1-5.txt\".format(L=L,prefix_data=prefix_data), sep=\"\\t\")\n",
    "df_conf = pd.read_csv(\"{prefix_data}z3support/data/SpinMLData/2DIsing/L-{L}/L-{L}-T-1-5/spinConfigs_L-{L}-T-1-5.txt\".format(L=L,prefix_data=prefix_data), delimiter=r\"\\s+\", header=None)"
   ]
  },
  {
   "cell_type": "code",
   "execution_count": 24,
   "id": "c43c2d80-2e2b-4f87-acfb-74b5d4bd0b68",
   "metadata": {},
   "outputs": [],
   "source": [
    "df_bins = df_bins[df_bins[' T '] != ' T ']"
   ]
  },
  {
   "cell_type": "code",
   "execution_count": 25,
   "id": "ed5da578-d08e-404b-be6a-5b5248da0fe3",
   "metadata": {},
   "outputs": [],
   "source": [
    "df_bins = df_bins.astype(\n",
    "    {\n",
    "        \" T \": int,\n",
    "        \" binNum\": int,\n",
    "    }\n",
    ")"
   ]
  },
  {
   "cell_type": "markdown",
   "id": "e5d796dd-0cb9-462d-9c64-7ae8ddfe08cb",
   "metadata": {},
   "source": [
    "## Get the temp and magnatization into the configuration dataframe"
   ]
  },
  {
   "cell_type": "code",
   "execution_count": 26,
   "id": "e842e4e4-3f59-430a-9afc-b6d30fd60295",
   "metadata": {},
   "outputs": [],
   "source": [
    "df_conf[\"T\"] = df_bins[\" T \"]"
   ]
  },
  {
   "cell_type": "code",
   "execution_count": 27,
   "id": "f6b08978-30f5-43a3-a52e-a84d159d4da1",
   "metadata": {},
   "outputs": [],
   "source": [
    "mean_col = df_conf[0].copy()\n",
    "for i in range(1, L):\n",
    "    mean_col += df_conf[i]\n",
    "\n",
    "mean_col /= L"
   ]
  },
  {
   "cell_type": "code",
   "execution_count": 28,
   "id": "26f73eca-b06b-401e-8eaa-3e94730762c6",
   "metadata": {},
   "outputs": [],
   "source": [
    "df_conf[\"M\"] = mean_col"
   ]
  },
  {
   "cell_type": "code",
   "execution_count": 29,
   "id": "16bf92b1-af70-4128-80e9-161682a06c96",
   "metadata": {},
   "outputs": [],
   "source": [
    "filterned_confs = df_conf"
   ]
  },
  {
   "cell_type": "code",
   "execution_count": 30,
   "id": "94d6a8cd-cec9-40b4-bdad-c9dbff035507",
   "metadata": {},
   "outputs": [
    {
     "data": {
      "text/html": [
       "<div>\n",
       "<style scoped>\n",
       "    .dataframe tbody tr th:only-of-type {\n",
       "        vertical-align: middle;\n",
       "    }\n",
       "\n",
       "    .dataframe tbody tr th {\n",
       "        vertical-align: top;\n",
       "    }\n",
       "\n",
       "    .dataframe thead th {\n",
       "        text-align: right;\n",
       "    }\n",
       "</style>\n",
       "<table border=\"1\" class=\"dataframe\">\n",
       "  <thead>\n",
       "    <tr style=\"text-align: right;\">\n",
       "      <th></th>\n",
       "      <th>0</th>\n",
       "      <th>1</th>\n",
       "      <th>2</th>\n",
       "      <th>3</th>\n",
       "      <th>4</th>\n",
       "      <th>5</th>\n",
       "      <th>6</th>\n",
       "      <th>7</th>\n",
       "      <th>8</th>\n",
       "      <th>9</th>\n",
       "      <th>...</th>\n",
       "      <th>56</th>\n",
       "      <th>57</th>\n",
       "      <th>58</th>\n",
       "      <th>59</th>\n",
       "      <th>60</th>\n",
       "      <th>61</th>\n",
       "      <th>62</th>\n",
       "      <th>63</th>\n",
       "      <th>T</th>\n",
       "      <th>M</th>\n",
       "    </tr>\n",
       "  </thead>\n",
       "  <tbody>\n",
       "    <tr>\n",
       "      <th>0</th>\n",
       "      <td>-1</td>\n",
       "      <td>-1</td>\n",
       "      <td>-1</td>\n",
       "      <td>-1</td>\n",
       "      <td>-1</td>\n",
       "      <td>-1</td>\n",
       "      <td>-1</td>\n",
       "      <td>-1</td>\n",
       "      <td>-1</td>\n",
       "      <td>-1</td>\n",
       "      <td>...</td>\n",
       "      <td>-1</td>\n",
       "      <td>-1</td>\n",
       "      <td>-1</td>\n",
       "      <td>-1</td>\n",
       "      <td>-1</td>\n",
       "      <td>-1</td>\n",
       "      <td>-1</td>\n",
       "      <td>-1</td>\n",
       "      <td>1.0</td>\n",
       "      <td>-1.0</td>\n",
       "    </tr>\n",
       "    <tr>\n",
       "      <th>1</th>\n",
       "      <td>-1</td>\n",
       "      <td>-1</td>\n",
       "      <td>-1</td>\n",
       "      <td>-1</td>\n",
       "      <td>-1</td>\n",
       "      <td>-1</td>\n",
       "      <td>-1</td>\n",
       "      <td>-1</td>\n",
       "      <td>-1</td>\n",
       "      <td>-1</td>\n",
       "      <td>...</td>\n",
       "      <td>-1</td>\n",
       "      <td>-1</td>\n",
       "      <td>-1</td>\n",
       "      <td>-1</td>\n",
       "      <td>-1</td>\n",
       "      <td>-1</td>\n",
       "      <td>-1</td>\n",
       "      <td>-1</td>\n",
       "      <td>1.0</td>\n",
       "      <td>-1.0</td>\n",
       "    </tr>\n",
       "    <tr>\n",
       "      <th>2</th>\n",
       "      <td>-1</td>\n",
       "      <td>-1</td>\n",
       "      <td>-1</td>\n",
       "      <td>-1</td>\n",
       "      <td>-1</td>\n",
       "      <td>-1</td>\n",
       "      <td>-1</td>\n",
       "      <td>-1</td>\n",
       "      <td>-1</td>\n",
       "      <td>-1</td>\n",
       "      <td>...</td>\n",
       "      <td>-1</td>\n",
       "      <td>-1</td>\n",
       "      <td>-1</td>\n",
       "      <td>-1</td>\n",
       "      <td>-1</td>\n",
       "      <td>-1</td>\n",
       "      <td>-1</td>\n",
       "      <td>-1</td>\n",
       "      <td>1.0</td>\n",
       "      <td>-1.0</td>\n",
       "    </tr>\n",
       "    <tr>\n",
       "      <th>3</th>\n",
       "      <td>-1</td>\n",
       "      <td>-1</td>\n",
       "      <td>-1</td>\n",
       "      <td>-1</td>\n",
       "      <td>-1</td>\n",
       "      <td>-1</td>\n",
       "      <td>-1</td>\n",
       "      <td>-1</td>\n",
       "      <td>-1</td>\n",
       "      <td>-1</td>\n",
       "      <td>...</td>\n",
       "      <td>-1</td>\n",
       "      <td>-1</td>\n",
       "      <td>-1</td>\n",
       "      <td>-1</td>\n",
       "      <td>-1</td>\n",
       "      <td>-1</td>\n",
       "      <td>-1</td>\n",
       "      <td>-1</td>\n",
       "      <td>1.0</td>\n",
       "      <td>-1.0</td>\n",
       "    </tr>\n",
       "    <tr>\n",
       "      <th>4</th>\n",
       "      <td>-1</td>\n",
       "      <td>-1</td>\n",
       "      <td>-1</td>\n",
       "      <td>-1</td>\n",
       "      <td>-1</td>\n",
       "      <td>-1</td>\n",
       "      <td>-1</td>\n",
       "      <td>-1</td>\n",
       "      <td>-1</td>\n",
       "      <td>-1</td>\n",
       "      <td>...</td>\n",
       "      <td>-1</td>\n",
       "      <td>-1</td>\n",
       "      <td>-1</td>\n",
       "      <td>-1</td>\n",
       "      <td>-1</td>\n",
       "      <td>-1</td>\n",
       "      <td>-1</td>\n",
       "      <td>-1</td>\n",
       "      <td>1.0</td>\n",
       "      <td>-1.0</td>\n",
       "    </tr>\n",
       "  </tbody>\n",
       "</table>\n",
       "<p>5 rows × 66 columns</p>\n",
       "</div>"
      ],
      "text/plain": [
       "   0  1  2  3  4  5  6  7  8  9  ...  56  57  58  59  60  61  62  63    T    M\n",
       "0 -1 -1 -1 -1 -1 -1 -1 -1 -1 -1  ...  -1  -1  -1  -1  -1  -1  -1  -1  1.0 -1.0\n",
       "1 -1 -1 -1 -1 -1 -1 -1 -1 -1 -1  ...  -1  -1  -1  -1  -1  -1  -1  -1  1.0 -1.0\n",
       "2 -1 -1 -1 -1 -1 -1 -1 -1 -1 -1  ...  -1  -1  -1  -1  -1  -1  -1  -1  1.0 -1.0\n",
       "3 -1 -1 -1 -1 -1 -1 -1 -1 -1 -1  ...  -1  -1  -1  -1  -1  -1  -1  -1  1.0 -1.0\n",
       "4 -1 -1 -1 -1 -1 -1 -1 -1 -1 -1  ...  -1  -1  -1  -1  -1  -1  -1  -1  1.0 -1.0\n",
       "\n",
       "[5 rows x 66 columns]"
      ]
     },
     "execution_count": 30,
     "metadata": {},
     "output_type": "execute_result"
    }
   ],
   "source": [
    "filterned_confs.head()"
   ]
  },
  {
   "cell_type": "markdown",
   "id": "40df009f-5410-4a8c-9492-835b75e2bb52",
   "metadata": {},
   "source": [
    "We need the data in the format: `(x_train, y_train), (x_test, y_test)`"
   ]
  },
  {
   "cell_type": "code",
   "execution_count": 32,
   "id": "7e93b711-9411-4425-84c6-c24f5edd3041",
   "metadata": {},
   "outputs": [],
   "source": [
    "train = filterned_confs.drop([\"T\",\"M\"], axis=1).sample(frac=TRAINING_FRACTION, axis=0)\n",
    "test = filterned_confs.drop([\"T\",\"M\"], axis=1).drop(index=train.index)"
   ]
  }
 ],
 "metadata": {
  "kernelspec": {
   "display_name": "Python 3",
   "language": "python",
   "name": "python3"
  },
  "language_info": {
   "codemirror_mode": {
    "name": "ipython",
    "version": 3
   },
   "file_extension": ".py",
   "mimetype": "text/x-python",
   "name": "python",
   "nbconvert_exporter": "python",
   "pygments_lexer": "ipython3",
   "version": "3.8.10"
  }
 },
 "nbformat": 4,
 "nbformat_minor": 5
}
