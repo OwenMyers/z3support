{
 "cells": [
  {
   "cell_type": "code",
   "execution_count": 1,
   "id": "a1c11071-bfbb-4177-a84f-e2444cf3e1a6",
   "metadata": {},
   "outputs": [],
   "source": [
    "import os\n",
    "\n",
    "from models.vae import VariationalAutoencoder\n",
    "from models.utils.loaders import load_mnist\n",
    "import pandas as pd\n",
    "import numpy as np\n",
    "from tensorflow.python.framework.ops import disable_eager_execution\n",
    "from matplotlib import pyplot as plt\n",
    "\n",
    "disable_eager_execution()\n",
    "\n",
    "os.environ[\"CUDA_VISIBLE_DEVICES\"] = \"-1\"\n",
    "\n",
    "N_DENSE = 2\n",
    "L=16\n",
    "TRAINING_FRACTION = 0.8"
   ]
  },
  {
   "cell_type": "code",
   "execution_count": 2,
   "id": "c2c04948-4abb-459f-b4c7-063d3ed394e4",
   "metadata": {},
   "outputs": [],
   "source": [
    "user = 1\n",
    "if user == 1:\n",
    "    prefix_s3 = \"/home/owen/\"\n",
    "    prefix_data = \"/home/owen/repos/\"\n",
    "elif user == 2:\n",
    "    prefix_data = \"/Users/omyers/repos/\""
   ]
  },
  {
   "cell_type": "code",
   "execution_count": 3,
   "id": "dac34337-c7ee-41c3-8a06-1d77200a864b",
   "metadata": {},
   "outputs": [],
   "source": [
    "# run params\n",
    "SECTION = 'vae'\n",
    "RUN_ID = '0002'\n",
    "#DATA_NAME = 'digits'\n",
    "DATA_NAME = 'ising'\n",
    "RUN_FOLDER = '{}/run/{}/'.format(os.getcwd(), SECTION)\n",
    "RUN_FOLDER += '_'.join([RUN_ID, DATA_NAME])\n",
    "\n",
    "if not os.path.exists(RUN_FOLDER):\n",
    "    os.makedirs(RUN_FOLDER)\n",
    "    os.mkdir(os.path.join(RUN_FOLDER, 'viz'))\n",
    "    os.mkdir(os.path.join(RUN_FOLDER, 'images'))\n",
    "    os.mkdir(os.path.join(RUN_FOLDER, 'weights'))\n",
    "\n",
    "mode =  'build' #'load' #\n"
   ]
  },
  {
   "cell_type": "code",
   "execution_count": 4,
   "id": "d1ba5589-1195-4b82-b3be-f28f815adcb0",
   "metadata": {},
   "outputs": [],
   "source": [
    "df_bins = pd.read_csv(\"{prefix_data}z3support/data/SpinMLData/2DIsing/L-{L}/L-{L}-T-1-5/bins_L-{L}-T-1-5.txt\".format(L=L,prefix_data=prefix_data), sep=\"\\t\")\n",
    "df_conf = pd.read_csv(\"{prefix_data}z3support/data/SpinMLData/2DIsing/L-{L}/L-{L}-T-1-5/spinConfigs_L-{L}-T-1-5.txt\".format(L=L,prefix_data=prefix_data), delimiter=r\"\\s+\", header=None)"
   ]
  },
  {
   "cell_type": "code",
   "execution_count": 5,
   "id": "c43c2d80-2e2b-4f87-acfb-74b5d4bd0b68",
   "metadata": {},
   "outputs": [],
   "source": [
    "df_bins = df_bins[df_bins[' T '] != ' T ']"
   ]
  },
  {
   "cell_type": "code",
   "execution_count": 6,
   "id": "ed5da578-d08e-404b-be6a-5b5248da0fe3",
   "metadata": {},
   "outputs": [],
   "source": [
    "df_bins = df_bins.astype(\n",
    "    {\n",
    "        \" T \": int,\n",
    "        \" binNum\": int,\n",
    "    }\n",
    ")"
   ]
  },
  {
   "cell_type": "markdown",
   "id": "e5d796dd-0cb9-462d-9c64-7ae8ddfe08cb",
   "metadata": {},
   "source": [
    "## Get the temp and magnatization into the configuration dataframe"
   ]
  },
  {
   "cell_type": "code",
   "execution_count": 7,
   "id": "e842e4e4-3f59-430a-9afc-b6d30fd60295",
   "metadata": {},
   "outputs": [],
   "source": [
    "df_conf[\"T\"] = df_bins[\" T \"]"
   ]
  },
  {
   "cell_type": "code",
   "execution_count": 8,
   "id": "f6b08978-30f5-43a3-a52e-a84d159d4da1",
   "metadata": {},
   "outputs": [],
   "source": [
    "mean_col = df_conf[0].copy()\n",
    "for i in range(1, L):\n",
    "    mean_col += df_conf[i]\n",
    "\n",
    "mean_col /= L"
   ]
  },
  {
   "cell_type": "code",
   "execution_count": 9,
   "id": "26f73eca-b06b-401e-8eaa-3e94730762c6",
   "metadata": {},
   "outputs": [],
   "source": [
    "df_conf[\"M\"] = mean_col"
   ]
  },
  {
   "cell_type": "code",
   "execution_count": 10,
   "id": "d2e7851f-01ed-4ddb-8c9c-e5c17021f36e",
   "metadata": {},
   "outputs": [],
   "source": [
    "#filterned_confs = df_conf\n",
    "#filterned_confs = df_conf[(df_conf[\"T\"] < 1.5) | (df_conf[\"T\"] > 4.5)]\n",
    "filterned_confs = df_conf[df_conf[\"T\"] > 0.5]"
   ]
  },
  {
   "cell_type": "code",
   "execution_count": null,
   "id": "16bf92b1-af70-4128-80e9-161682a06c96",
   "metadata": {},
   "outputs": [],
   "source": []
  },
  {
   "cell_type": "code",
   "execution_count": 11,
   "id": "94d6a8cd-cec9-40b4-bdad-c9dbff035507",
   "metadata": {},
   "outputs": [
    {
     "data": {
      "text/html": [
       "<div>\n",
       "<style scoped>\n",
       "    .dataframe tbody tr th:only-of-type {\n",
       "        vertical-align: middle;\n",
       "    }\n",
       "\n",
       "    .dataframe tbody tr th {\n",
       "        vertical-align: top;\n",
       "    }\n",
       "\n",
       "    .dataframe thead th {\n",
       "        text-align: right;\n",
       "    }\n",
       "</style>\n",
       "<table border=\"1\" class=\"dataframe\">\n",
       "  <thead>\n",
       "    <tr style=\"text-align: right;\">\n",
       "      <th></th>\n",
       "      <th>0</th>\n",
       "      <th>1</th>\n",
       "      <th>2</th>\n",
       "      <th>3</th>\n",
       "      <th>4</th>\n",
       "      <th>5</th>\n",
       "      <th>6</th>\n",
       "      <th>7</th>\n",
       "      <th>8</th>\n",
       "      <th>9</th>\n",
       "      <th>...</th>\n",
       "      <th>248</th>\n",
       "      <th>249</th>\n",
       "      <th>250</th>\n",
       "      <th>251</th>\n",
       "      <th>252</th>\n",
       "      <th>253</th>\n",
       "      <th>254</th>\n",
       "      <th>255</th>\n",
       "      <th>T</th>\n",
       "      <th>M</th>\n",
       "    </tr>\n",
       "  </thead>\n",
       "  <tbody>\n",
       "    <tr>\n",
       "      <th>0</th>\n",
       "      <td>-1</td>\n",
       "      <td>-1</td>\n",
       "      <td>-1</td>\n",
       "      <td>-1</td>\n",
       "      <td>-1</td>\n",
       "      <td>-1</td>\n",
       "      <td>-1</td>\n",
       "      <td>-1</td>\n",
       "      <td>-1</td>\n",
       "      <td>-1</td>\n",
       "      <td>...</td>\n",
       "      <td>-1</td>\n",
       "      <td>-1</td>\n",
       "      <td>-1</td>\n",
       "      <td>-1</td>\n",
       "      <td>-1</td>\n",
       "      <td>-1</td>\n",
       "      <td>-1</td>\n",
       "      <td>-1</td>\n",
       "      <td>1.0</td>\n",
       "      <td>-1.0</td>\n",
       "    </tr>\n",
       "    <tr>\n",
       "      <th>1</th>\n",
       "      <td>-1</td>\n",
       "      <td>-1</td>\n",
       "      <td>-1</td>\n",
       "      <td>-1</td>\n",
       "      <td>-1</td>\n",
       "      <td>-1</td>\n",
       "      <td>-1</td>\n",
       "      <td>-1</td>\n",
       "      <td>-1</td>\n",
       "      <td>-1</td>\n",
       "      <td>...</td>\n",
       "      <td>-1</td>\n",
       "      <td>-1</td>\n",
       "      <td>-1</td>\n",
       "      <td>-1</td>\n",
       "      <td>-1</td>\n",
       "      <td>-1</td>\n",
       "      <td>-1</td>\n",
       "      <td>-1</td>\n",
       "      <td>1.0</td>\n",
       "      <td>-1.0</td>\n",
       "    </tr>\n",
       "    <tr>\n",
       "      <th>2</th>\n",
       "      <td>-1</td>\n",
       "      <td>-1</td>\n",
       "      <td>-1</td>\n",
       "      <td>-1</td>\n",
       "      <td>-1</td>\n",
       "      <td>-1</td>\n",
       "      <td>-1</td>\n",
       "      <td>-1</td>\n",
       "      <td>-1</td>\n",
       "      <td>-1</td>\n",
       "      <td>...</td>\n",
       "      <td>-1</td>\n",
       "      <td>-1</td>\n",
       "      <td>-1</td>\n",
       "      <td>-1</td>\n",
       "      <td>-1</td>\n",
       "      <td>-1</td>\n",
       "      <td>-1</td>\n",
       "      <td>-1</td>\n",
       "      <td>1.0</td>\n",
       "      <td>-1.0</td>\n",
       "    </tr>\n",
       "    <tr>\n",
       "      <th>3</th>\n",
       "      <td>1</td>\n",
       "      <td>1</td>\n",
       "      <td>1</td>\n",
       "      <td>1</td>\n",
       "      <td>1</td>\n",
       "      <td>1</td>\n",
       "      <td>1</td>\n",
       "      <td>1</td>\n",
       "      <td>1</td>\n",
       "      <td>1</td>\n",
       "      <td>...</td>\n",
       "      <td>1</td>\n",
       "      <td>1</td>\n",
       "      <td>1</td>\n",
       "      <td>1</td>\n",
       "      <td>1</td>\n",
       "      <td>1</td>\n",
       "      <td>1</td>\n",
       "      <td>1</td>\n",
       "      <td>1.0</td>\n",
       "      <td>1.0</td>\n",
       "    </tr>\n",
       "    <tr>\n",
       "      <th>4</th>\n",
       "      <td>1</td>\n",
       "      <td>1</td>\n",
       "      <td>1</td>\n",
       "      <td>1</td>\n",
       "      <td>1</td>\n",
       "      <td>1</td>\n",
       "      <td>1</td>\n",
       "      <td>1</td>\n",
       "      <td>1</td>\n",
       "      <td>1</td>\n",
       "      <td>...</td>\n",
       "      <td>1</td>\n",
       "      <td>1</td>\n",
       "      <td>1</td>\n",
       "      <td>1</td>\n",
       "      <td>1</td>\n",
       "      <td>1</td>\n",
       "      <td>1</td>\n",
       "      <td>1</td>\n",
       "      <td>1.0</td>\n",
       "      <td>1.0</td>\n",
       "    </tr>\n",
       "  </tbody>\n",
       "</table>\n",
       "<p>5 rows × 258 columns</p>\n",
       "</div>"
      ],
      "text/plain": [
       "   0  1  2  3  4  5  6  7  8  9  ...  248  249  250  251  252  253  254  255  \\\n",
       "0 -1 -1 -1 -1 -1 -1 -1 -1 -1 -1  ...   -1   -1   -1   -1   -1   -1   -1   -1   \n",
       "1 -1 -1 -1 -1 -1 -1 -1 -1 -1 -1  ...   -1   -1   -1   -1   -1   -1   -1   -1   \n",
       "2 -1 -1 -1 -1 -1 -1 -1 -1 -1 -1  ...   -1   -1   -1   -1   -1   -1   -1   -1   \n",
       "3  1  1  1  1  1  1  1  1  1  1  ...    1    1    1    1    1    1    1    1   \n",
       "4  1  1  1  1  1  1  1  1  1  1  ...    1    1    1    1    1    1    1    1   \n",
       "\n",
       "     T    M  \n",
       "0  1.0 -1.0  \n",
       "1  1.0 -1.0  \n",
       "2  1.0 -1.0  \n",
       "3  1.0  1.0  \n",
       "4  1.0  1.0  \n",
       "\n",
       "[5 rows x 258 columns]"
      ]
     },
     "execution_count": 11,
     "metadata": {},
     "output_type": "execute_result"
    }
   ],
   "source": [
    "filterned_confs.head()"
   ]
  },
  {
   "cell_type": "markdown",
   "id": "40df009f-5410-4a8c-9492-835b75e2bb52",
   "metadata": {},
   "source": [
    "We need the data in the format: `(x_train, y_train), (x_test, y_test)`"
   ]
  },
  {
   "cell_type": "code",
   "execution_count": 12,
   "id": "f09c54bc-5efc-4ecc-becd-73dbbf2770bd",
   "metadata": {},
   "outputs": [],
   "source": [
    "train_with_meta_info = filterned_confs.sample(frac=TRAINING_FRACTION, axis=0)\n",
    "test_with_meta_info = filterned_confs.drop(index=train_with_meta_info.index)"
   ]
  },
  {
   "cell_type": "code",
   "execution_count": 13,
   "id": "7e93b711-9411-4425-84c6-c24f5edd3041",
   "metadata": {},
   "outputs": [],
   "source": [
    "train = train_with_meta_info.drop([\"T\",\"M\"], axis=1)\n",
    "test = test_with_meta_info.drop([\"T\",\"M\"], axis=1)"
   ]
  },
  {
   "cell_type": "markdown",
   "id": "c7f72822-bb76-46e6-81ab-5357884d393a",
   "metadata": {},
   "source": [
    "# Check what MNIST data looked like"
   ]
  },
  {
   "cell_type": "code",
   "execution_count": 14,
   "id": "7376500b-18b4-4a75-87b3-aabc02ca3f72",
   "metadata": {},
   "outputs": [],
   "source": [
    "(x_train, y_train), (x_test, y_test) = load_mnist()"
   ]
  },
  {
   "cell_type": "code",
   "execution_count": 15,
   "id": "8bfab992-117f-47ba-8fa9-0ba8a5fb1a8d",
   "metadata": {},
   "outputs": [
    {
     "data": {
      "text/plain": [
       "(60000, 28, 28, 1)"
      ]
     },
     "execution_count": 15,
     "metadata": {},
     "output_type": "execute_result"
    }
   ],
   "source": [
    "np.shape(x_train)"
   ]
  },
  {
   "cell_type": "code",
   "execution_count": 16,
   "id": "1b841a29-058d-490b-8794-1cf07d54eeb4",
   "metadata": {},
   "outputs": [
    {
     "data": {
      "text/plain": [
       "(60000, 28, 28, 1)"
      ]
     },
     "execution_count": 16,
     "metadata": {},
     "output_type": "execute_result"
    }
   ],
   "source": [
    "np.shape(x_train)"
   ]
  },
  {
   "cell_type": "markdown",
   "id": "09301a8c-93cc-4c46-b03f-07f0b9342ae9",
   "metadata": {},
   "source": [
    "## Make our data the same"
   ]
  },
  {
   "cell_type": "code",
   "execution_count": 17,
   "id": "db6cc810-4352-453f-87f5-c5dd420fb76a",
   "metadata": {},
   "outputs": [
    {
     "data": {
      "text/plain": [
       "(3997, 256)"
      ]
     },
     "execution_count": 17,
     "metadata": {},
     "output_type": "execute_result"
    }
   ],
   "source": [
    "train.to_numpy().shape"
   ]
  },
  {
   "cell_type": "code",
   "execution_count": 18,
   "id": "cd006420-3b2e-4361-bbc2-46b437787711",
   "metadata": {},
   "outputs": [],
   "source": [
    "x = train.to_numpy().reshape(-1,L,L,1)\n",
    "x_test = test.to_numpy().reshape(-1,L,L,1)"
   ]
  },
  {
   "cell_type": "code",
   "execution_count": 19,
   "id": "b87ceff0-9c8c-42b9-bae7-25a8dc037353",
   "metadata": {},
   "outputs": [
    {
     "data": {
      "text/plain": [
       "array([[[[1],\n",
       "         [1]],\n",
       "\n",
       "        [[1],\n",
       "         [1]]],\n",
       "\n",
       "\n",
       "       [[[2],\n",
       "         [2]],\n",
       "\n",
       "        [[3],\n",
       "         [3]]],\n",
       "\n",
       "\n",
       "       [[[4],\n",
       "         [4]],\n",
       "\n",
       "        [[5],\n",
       "         [5]]]])"
      ]
     },
     "execution_count": 19,
     "metadata": {},
     "output_type": "execute_result"
    }
   ],
   "source": [
    "np.array([[1,1,1,1], [2,2,3,3], [4,4,5,5]]).reshape(-1,2,2,1)"
   ]
  },
  {
   "cell_type": "code",
   "execution_count": 20,
   "id": "f3191ceb-d996-45c5-b28d-5f36d7882c7f",
   "metadata": {},
   "outputs": [],
   "source": [
    "x = x.astype(float)"
   ]
  },
  {
   "cell_type": "code",
   "execution_count": 21,
   "id": "3fd9a373-fdfa-48e9-b120-e1bd02790347",
   "metadata": {},
   "outputs": [
    {
     "data": {
      "text/plain": [
       "(3997, 16, 16, 1)"
      ]
     },
     "execution_count": 21,
     "metadata": {},
     "output_type": "execute_result"
    }
   ],
   "source": [
    "x.shape"
   ]
  },
  {
   "cell_type": "code",
   "execution_count": null,
   "id": "c6a44c80-fad2-49f5-b045-a8af428ff036",
   "metadata": {},
   "outputs": [],
   "source": []
  },
  {
   "cell_type": "markdown",
   "id": "e559cb77-1ac0-40ce-8a11-0ef84aeeabf6",
   "metadata": {},
   "source": [
    "## Run Convolutional VAE"
   ]
  },
  {
   "cell_type": "code",
   "execution_count": 22,
   "id": "e06961ee-cb27-40b7-b0f5-b24cdd184d32",
   "metadata": {},
   "outputs": [],
   "source": [
    "vae = VariationalAutoencoder(\n",
    "    input_dim = (L,L,1)\n",
    "    , encoder_conv_filters = [8,8,16]\n",
    "    , encoder_conv_kernel_size = [3,3,3]\n",
    "    , encoder_conv_strides = [1,2,1]\n",
    "    , decoder_conv_t_filters = [16,8,1]\n",
    "    , decoder_conv_t_kernel_size = [3,3,3]\n",
    "    , decoder_conv_t_strides = [1,2,1]\n",
    "    , z_dim = 2\n",
    ")"
   ]
  },
  {
   "cell_type": "code",
   "execution_count": 23,
   "id": "6e04dcc7-42c7-4bea-918d-1f90df979de2",
   "metadata": {},
   "outputs": [],
   "source": [
    "LEARNING_RATE = 0.0005\n",
    "#R_LOSS_FACTOR = 1000\n",
    "R_LOSS_FACTOR = 1000"
   ]
  },
  {
   "cell_type": "code",
   "execution_count": 24,
   "id": "28180c06-bdf7-4760-b504-c21eb9137193",
   "metadata": {},
   "outputs": [],
   "source": [
    "vae.compile(LEARNING_RATE, R_LOSS_FACTOR)"
   ]
  },
  {
   "cell_type": "code",
   "execution_count": 25,
   "id": "5af6bfe8-39b6-4416-aad5-7e9ad059331a",
   "metadata": {},
   "outputs": [],
   "source": [
    "BATCH_SIZE = 16\n",
    "EPOCHS = 20\n",
    "PRINT_EVERY_N_BATCHES = 100\n",
    "INITIAL_EPOCH = 0"
   ]
  },
  {
   "cell_type": "code",
   "execution_count": null,
   "id": "9d74d26b-150d-4b2f-ae5e-7d2a0b0f199f",
   "metadata": {},
   "outputs": [],
   "source": []
  },
  {
   "cell_type": "code",
   "execution_count": 26,
   "id": "bec03bfb-b4a2-42ae-a2a3-05fd5c781507",
   "metadata": {},
   "outputs": [
    {
     "name": "stdout",
     "output_type": "stream",
     "text": [
      "Train on 3997 samples\n",
      "Epoch 1/20\n"
     ]
    },
    {
     "name": "stderr",
     "output_type": "stream",
     "text": [
      "2022-08-06 11:20:25.769180: E tensorflow/stream_executor/cuda/cuda_driver.cc:271] failed call to cuInit: CUDA_ERROR_NO_DEVICE: no CUDA-capable device is detected\n",
      "2022-08-06 11:20:25.769200: I tensorflow/stream_executor/cuda/cuda_diagnostics.cc:169] retrieving CUDA diagnostic information for host: owen-PRIME-Z390-A\n",
      "2022-08-06 11:20:25.769205: I tensorflow/stream_executor/cuda/cuda_diagnostics.cc:176] hostname: owen-PRIME-Z390-A\n",
      "2022-08-06 11:20:25.769246: I tensorflow/stream_executor/cuda/cuda_diagnostics.cc:200] libcuda reported version is: 470.141.3\n",
      "2022-08-06 11:20:25.769261: I tensorflow/stream_executor/cuda/cuda_diagnostics.cc:204] kernel reported version is: 470.129.6\n",
      "2022-08-06 11:20:25.769265: E tensorflow/stream_executor/cuda/cuda_diagnostics.cc:313] kernel version 470.129.6 does not match DSO version 470.141.3 -- cannot find working devices in this configuration\n",
      "2022-08-06 11:20:25.769440: I tensorflow/core/platform/cpu_feature_guard.cc:193] This TensorFlow binary is optimized with oneAPI Deep Neural Network Library (oneDNN) to use the following CPU instructions in performance-critical operations:  AVX2 FMA\n",
      "To enable them in other operations, rebuild TensorFlow with the appropriate compiler flags.\n",
      "2022-08-06 11:20:25.789445: I tensorflow/compiler/mlir/mlir_graph_optimization_pass.cc:354] MLIR V1 optimization pass is not enabled\n",
      "/home/owen/repos/z3support/pythonenv/lib/python3.8/site-packages/keras/engine/training_v1.py:2045: UserWarning: `Model.state_updates` will be removed in a future version. This property should not be used in TensorFlow 2.0, as `updates` are applied automatically.\n",
      "  updates = self.state_updates\n"
     ]
    },
    {
     "name": "stdout",
     "output_type": "stream",
     "text": [
      "  16/3997 [..............................] - ETA: 34s - loss: 1476.3157 - vae_r_loss: 1476.2788 - vae_kl_loss: 0.0369WARNING:tensorflow:Callback method `on_train_batch_end` is slow compared to the batch time (batch time: 0.0029s vs `on_train_batch_end` time: 0.0059s). Check your callbacks.\n",
      " 896/3997 [=====>........................] - ETA: 1s - loss: 1167.0716 - vae_r_loss: 1158.8129 - vae_kl_loss: 8.2588"
     ]
    },
    {
     "name": "stderr",
     "output_type": "stream",
     "text": [
      "/home/owen/repos/z3support/pythonenv/lib/python3.8/site-packages/keras/engine/training_v1.py:2067: UserWarning: `Model.state_updates` will be removed in a future version. This property should not be used in TensorFlow 2.0, as `updates` are applied automatically.\n",
      "  updates=self.state_updates,\n",
      "2022-08-06 11:20:26.074797: I tensorflow/core/profiler/lib/profiler_session.cc:99] Profiler session initializing.\n",
      "2022-08-06 11:20:26.074811: I tensorflow/core/profiler/lib/profiler_session.cc:114] Profiler session started.\n",
      "2022-08-06 11:20:26.080694: I tensorflow/core/profiler/lib/profiler_session.cc:66] Profiler session collecting data.\n",
      "2022-08-06 11:20:26.081527: I tensorflow/core/profiler/lib/profiler_session.cc:126] Profiler session tear down.\n",
      "2022-08-06 11:20:26.082821: I tensorflow/core/profiler/rpc/client/save_profile.cc:136] Creating directory: /home/owen/repos/z3support/logs/fit/20220806-112025/plugins/profile/2022_08_06_11_20_26\n",
      "\n",
      "2022-08-06 11:20:26.083492: I tensorflow/core/profiler/rpc/client/save_profile.cc:142] Dumped gzipped tool data for trace.json.gz to /home/owen/repos/z3support/logs/fit/20220806-112025/plugins/profile/2022_08_06_11_20_26/owen-PRIME-Z390-A.trace.json.gz\n",
      "2022-08-06 11:20:26.085477: I tensorflow/core/profiler/rpc/client/save_profile.cc:136] Creating directory: /home/owen/repos/z3support/logs/fit/20220806-112025/plugins/profile/2022_08_06_11_20_26\n",
      "\n",
      "2022-08-06 11:20:26.085541: I tensorflow/core/profiler/rpc/client/save_profile.cc:142] Dumped gzipped tool data for memory_profile.json.gz to /home/owen/repos/z3support/logs/fit/20220806-112025/plugins/profile/2022_08_06_11_20_26/owen-PRIME-Z390-A.memory_profile.json.gz\n",
      "2022-08-06 11:20:26.085685: I tensorflow/core/profiler/rpc/client/capture_profile.cc:251] Creating directory: /home/owen/repos/z3support/logs/fit/20220806-112025/plugins/profile/2022_08_06_11_20_26\n",
      "Dumped tool data for xplane.pb to /home/owen/repos/z3support/logs/fit/20220806-112025/plugins/profile/2022_08_06_11_20_26/owen-PRIME-Z390-A.xplane.pb\n",
      "Dumped tool data for overview_page.pb to /home/owen/repos/z3support/logs/fit/20220806-112025/plugins/profile/2022_08_06_11_20_26/owen-PRIME-Z390-A.overview_page.pb\n",
      "Dumped tool data for input_pipeline.pb to /home/owen/repos/z3support/logs/fit/20220806-112025/plugins/profile/2022_08_06_11_20_26/owen-PRIME-Z390-A.input_pipeline.pb\n",
      "Dumped tool data for tensorflow_stats.pb to /home/owen/repos/z3support/logs/fit/20220806-112025/plugins/profile/2022_08_06_11_20_26/owen-PRIME-Z390-A.tensorflow_stats.pb\n",
      "Dumped tool data for kernel_stats.pb to /home/owen/repos/z3support/logs/fit/20220806-112025/plugins/profile/2022_08_06_11_20_26/owen-PRIME-Z390-A.kernel_stats.pb\n",
      "\n"
     ]
    },
    {
     "name": "stdout",
     "output_type": "stream",
     "text": [
      "3920/3997 [============================>.] - ETA: 0s - loss: 911.8540 - vae_r_loss: 901.9937 - vae_kl_loss: 9.8602 \n",
      "Epoch 1: saving model to /home/owen/repos/z3support/notebooks/run/vae/0002_ising/weights/weights-001-910.69.h5\n",
      "\n",
      "Epoch 1: saving model to /home/owen/repos/z3support/notebooks/run/vae/0002_ising/weights/weights.h5\n",
      "3997/3997 [==============================] - 1s 218us/sample - loss: 910.6929 - vae_r_loss: 900.9263 - vae_kl_loss: 9.7665 - lr: 5.0000e-04\n",
      "Epoch 2/20\n",
      "3968/3997 [============================>.] - ETA: 0s - loss: 821.2787 - vae_r_loss: 817.6512 - vae_kl_loss: 3.6280\n",
      "Epoch 2: saving model to /home/owen/repos/z3support/notebooks/run/vae/0002_ising/weights/weights-002-821.08.h5\n",
      "\n",
      "Epoch 2: saving model to /home/owen/repos/z3support/notebooks/run/vae/0002_ising/weights/weights.h5\n",
      "3997/3997 [==============================] - 1s 175us/sample - loss: 821.0845 - vae_r_loss: 817.4540 - vae_kl_loss: 3.6312 - lr: 5.0000e-04\n",
      "Epoch 3/20\n",
      "3997/3997 [==============================] - ETA: 0s - loss: 819.1148 - vae_r_loss: 815.7000 - vae_kl_loss: 3.4147\n",
      "Epoch 3: saving model to /home/owen/repos/z3support/notebooks/run/vae/0002_ising/weights/weights-003-819.11.h5\n",
      "\n",
      "Epoch 3: saving model to /home/owen/repos/z3support/notebooks/run/vae/0002_ising/weights/weights.h5\n",
      "3997/3997 [==============================] - 1s 174us/sample - loss: 819.1148 - vae_r_loss: 815.7000 - vae_kl_loss: 3.4147 - lr: 5.0000e-04\n",
      "Epoch 4/20\n",
      "3776/3997 [===========================>..] - ETA: 0s - loss: 813.7092 - vae_r_loss: 810.1046 - vae_kl_loss: 3.6046\n",
      "Epoch 4: saving model to /home/owen/repos/z3support/notebooks/run/vae/0002_ising/weights/weights-004-815.63.h5\n",
      "\n",
      "Epoch 4: saving model to /home/owen/repos/z3support/notebooks/run/vae/0002_ising/weights/weights.h5\n",
      "3997/3997 [==============================] - 1s 171us/sample - loss: 815.6307 - vae_r_loss: 812.0334 - vae_kl_loss: 3.5971 - lr: 5.0000e-04\n",
      "Epoch 5/20\n",
      "3712/3997 [==========================>...] - ETA: 0s - loss: 813.8369 - vae_r_loss: 810.1915 - vae_kl_loss: 3.6455\n",
      "Epoch 5: saving model to /home/owen/repos/z3support/notebooks/run/vae/0002_ising/weights/weights-005-814.27.h5\n",
      "\n",
      "Epoch 5: saving model to /home/owen/repos/z3support/notebooks/run/vae/0002_ising/weights/weights.h5\n",
      "3997/3997 [==============================] - 1s 172us/sample - loss: 814.2672 - vae_r_loss: 810.6158 - vae_kl_loss: 3.6515 - lr: 5.0000e-04\n",
      "Epoch 6/20\n",
      "3997/3997 [==============================] - ETA: 0s - loss: 813.4821 - vae_r_loss: 809.9333 - vae_kl_loss: 3.5486\n",
      "Epoch 6: saving model to /home/owen/repos/z3support/notebooks/run/vae/0002_ising/weights/weights-006-813.48.h5\n",
      "\n",
      "Epoch 6: saving model to /home/owen/repos/z3support/notebooks/run/vae/0002_ising/weights/weights.h5\n",
      "3997/3997 [==============================] - 1s 174us/sample - loss: 813.4821 - vae_r_loss: 809.9333 - vae_kl_loss: 3.5486 - lr: 5.0000e-04\n",
      "Epoch 7/20\n",
      "3728/3997 [==========================>...] - ETA: 0s - loss: 811.9434 - vae_r_loss: 808.4104 - vae_kl_loss: 3.5331\n",
      "Epoch 7: saving model to /home/owen/repos/z3support/notebooks/run/vae/0002_ising/weights/weights-007-812.88.h5\n",
      "\n",
      "Epoch 7: saving model to /home/owen/repos/z3support/notebooks/run/vae/0002_ising/weights/weights.h5\n",
      "3997/3997 [==============================] - 1s 172us/sample - loss: 812.8795 - vae_r_loss: 809.3480 - vae_kl_loss: 3.5317 - lr: 5.0000e-04\n",
      "Epoch 8/20\n",
      "3984/3997 [============================>.] - ETA: 0s - loss: 812.2265 - vae_r_loss: 808.6765 - vae_kl_loss: 3.5500\n",
      "Epoch 8: saving model to /home/owen/repos/z3support/notebooks/run/vae/0002_ising/weights/weights-008-812.59.h5\n",
      "\n",
      "Epoch 8: saving model to /home/owen/repos/z3support/notebooks/run/vae/0002_ising/weights/weights.h5\n",
      "3997/3997 [==============================] - 1s 174us/sample - loss: 812.5927 - vae_r_loss: 809.0446 - vae_kl_loss: 3.5480 - lr: 5.0000e-04\n",
      "Epoch 9/20\n",
      "3696/3997 [==========================>...] - ETA: 0s - loss: 810.3671 - vae_r_loss: 806.8626 - vae_kl_loss: 3.5040\n",
      "Epoch 9: saving model to /home/owen/repos/z3support/notebooks/run/vae/0002_ising/weights/weights-009-812.38.h5\n",
      "\n",
      "Epoch 9: saving model to /home/owen/repos/z3support/notebooks/run/vae/0002_ising/weights/weights.h5\n",
      "3997/3997 [==============================] - 1s 172us/sample - loss: 812.3755 - vae_r_loss: 808.8822 - vae_kl_loss: 3.4929 - lr: 5.0000e-04\n",
      "Epoch 10/20\n",
      "3856/3997 [===========================>..] - ETA: 0s - loss: 811.2882 - vae_r_loss: 807.8376 - vae_kl_loss: 3.4508\n",
      "Epoch 10: saving model to /home/owen/repos/z3support/notebooks/run/vae/0002_ising/weights/weights-010-811.88.h5\n",
      "\n",
      "Epoch 10: saving model to /home/owen/repos/z3support/notebooks/run/vae/0002_ising/weights/weights.h5\n",
      "3997/3997 [==============================] - 1s 208us/sample - loss: 811.8846 - vae_r_loss: 808.4354 - vae_kl_loss: 3.4492 - lr: 5.0000e-04\n",
      "Epoch 11/20\n",
      "3712/3997 [==========================>...] - ETA: 0s - loss: 810.8693 - vae_r_loss: 807.4243 - vae_kl_loss: 3.4451\n",
      "Epoch 11: saving model to /home/owen/repos/z3support/notebooks/run/vae/0002_ising/weights/weights-011-811.85.h5\n",
      "\n",
      "Epoch 11: saving model to /home/owen/repos/z3support/notebooks/run/vae/0002_ising/weights/weights.h5\n",
      "3997/3997 [==============================] - 1s 172us/sample - loss: 811.8453 - vae_r_loss: 808.3900 - vae_kl_loss: 3.4554 - lr: 5.0000e-04\n",
      "Epoch 12/20\n",
      "3997/3997 [==============================] - ETA: 0s - loss: 811.9570 - vae_r_loss: 808.3307 - vae_kl_loss: 3.6264\n",
      "Epoch 12: saving model to /home/owen/repos/z3support/notebooks/run/vae/0002_ising/weights/weights-012-811.96.h5\n",
      "\n",
      "Epoch 12: saving model to /home/owen/repos/z3support/notebooks/run/vae/0002_ising/weights/weights.h5\n",
      "3997/3997 [==============================] - 1s 172us/sample - loss: 811.9570 - vae_r_loss: 808.3307 - vae_kl_loss: 3.6264 - lr: 5.0000e-04\n",
      "Epoch 13/20\n",
      "3728/3997 [==========================>...] - ETA: 0s - loss: 814.9831 - vae_r_loss: 811.5724 - vae_kl_loss: 3.4107\n",
      "Epoch 13: saving model to /home/owen/repos/z3support/notebooks/run/vae/0002_ising/weights/weights-013-811.41.h5\n",
      "\n",
      "Epoch 13: saving model to /home/owen/repos/z3support/notebooks/run/vae/0002_ising/weights/weights.h5\n",
      "3997/3997 [==============================] - 1s 174us/sample - loss: 811.4127 - vae_r_loss: 808.0060 - vae_kl_loss: 3.4066 - lr: 5.0000e-04\n",
      "Epoch 14/20\n",
      "3968/3997 [============================>.] - ETA: 0s - loss: 811.5508 - vae_r_loss: 808.1156 - vae_kl_loss: 3.4352\n",
      "Epoch 14: saving model to /home/owen/repos/z3support/notebooks/run/vae/0002_ising/weights/weights-014-811.38.h5\n",
      "\n",
      "Epoch 14: saving model to /home/owen/repos/z3support/notebooks/run/vae/0002_ising/weights/weights.h5\n",
      "3997/3997 [==============================] - 1s 175us/sample - loss: 811.3780 - vae_r_loss: 807.9423 - vae_kl_loss: 3.4357 - lr: 5.0000e-04\n",
      "Epoch 15/20\n",
      "3744/3997 [===========================>..] - ETA: 0s - loss: 811.8780 - vae_r_loss: 808.4576 - vae_kl_loss: 3.4201\n",
      "Epoch 15: saving model to /home/owen/repos/z3support/notebooks/run/vae/0002_ising/weights/weights-015-811.21.h5\n",
      "\n",
      "Epoch 15: saving model to /home/owen/repos/z3support/notebooks/run/vae/0002_ising/weights/weights.h5\n",
      "3997/3997 [==============================] - 1s 171us/sample - loss: 811.2092 - vae_r_loss: 807.7456 - vae_kl_loss: 3.4633 - lr: 5.0000e-04\n",
      "Epoch 16/20\n",
      "3984/3997 [============================>.] - ETA: 0s - loss: 811.3261 - vae_r_loss: 807.8003 - vae_kl_loss: 3.5261\n",
      "Epoch 16: saving model to /home/owen/repos/z3support/notebooks/run/vae/0002_ising/weights/weights-016-811.25.h5\n",
      "\n",
      "Epoch 16: saving model to /home/owen/repos/z3support/notebooks/run/vae/0002_ising/weights/weights.h5\n",
      "3997/3997 [==============================] - 1s 175us/sample - loss: 811.2500 - vae_r_loss: 807.7249 - vae_kl_loss: 3.5254 - lr: 5.0000e-04\n",
      "Epoch 17/20\n",
      "3968/3997 [============================>.] - ETA: 0s - loss: 810.8987 - vae_r_loss: 807.2849 - vae_kl_loss: 3.6142\n",
      "Epoch 17: saving model to /home/owen/repos/z3support/notebooks/run/vae/0002_ising/weights/weights-017-811.26.h5\n",
      "\n",
      "Epoch 17: saving model to /home/owen/repos/z3support/notebooks/run/vae/0002_ising/weights/weights.h5\n",
      "3997/3997 [==============================] - 1s 174us/sample - loss: 811.2597 - vae_r_loss: 807.6482 - vae_kl_loss: 3.6118 - lr: 5.0000e-04\n",
      "Epoch 18/20\n",
      "3696/3997 [==========================>...] - ETA: 0s - loss: 809.6402 - vae_r_loss: 806.2024 - vae_kl_loss: 3.4377\n",
      "Epoch 18: saving model to /home/owen/repos/z3support/notebooks/run/vae/0002_ising/weights/weights-018-810.83.h5\n",
      "\n",
      "Epoch 18: saving model to /home/owen/repos/z3support/notebooks/run/vae/0002_ising/weights/weights.h5\n",
      "3997/3997 [==============================] - 1s 174us/sample - loss: 810.8327 - vae_r_loss: 807.3995 - vae_kl_loss: 3.4330 - lr: 5.0000e-04\n",
      "Epoch 19/20\n",
      "3824/3997 [===========================>..] - ETA: 0s - loss: 810.4110 - vae_r_loss: 807.0220 - vae_kl_loss: 3.3887\n",
      "Epoch 19: saving model to /home/owen/repos/z3support/notebooks/run/vae/0002_ising/weights/weights-019-810.84.h5\n",
      "\n",
      "Epoch 19: saving model to /home/owen/repos/z3support/notebooks/run/vae/0002_ising/weights/weights.h5\n",
      "3997/3997 [==============================] - 1s 182us/sample - loss: 810.8446 - vae_r_loss: 807.4388 - vae_kl_loss: 3.4055 - lr: 5.0000e-04\n",
      "Epoch 20/20\n",
      "3792/3997 [===========================>..] - ETA: 0s - loss: 811.6565 - vae_r_loss: 808.2892 - vae_kl_loss: 3.3675\n",
      "Epoch 20: saving model to /home/owen/repos/z3support/notebooks/run/vae/0002_ising/weights/weights-020-810.58.h5\n",
      "\n",
      "Epoch 20: saving model to /home/owen/repos/z3support/notebooks/run/vae/0002_ising/weights/weights.h5\n",
      "3997/3997 [==============================] - 1s 183us/sample - loss: 810.5779 - vae_r_loss: 807.2167 - vae_kl_loss: 3.3615 - lr: 5.0000e-04\n"
     ]
    }
   ],
   "source": [
    "vae.train(     \n",
    "    x\n",
    "    , batch_size = BATCH_SIZE\n",
    "    , epochs = EPOCHS\n",
    "    , run_folder = RUN_FOLDER\n",
    "    , print_every_n_batches = PRINT_EVERY_N_BATCHES\n",
    "    , initial_epoch = INITIAL_EPOCH\n",
    ")"
   ]
  },
  {
   "cell_type": "code",
   "execution_count": 27,
   "id": "e95cc24c-1ebf-4408-96c5-e32b61abe1a1",
   "metadata": {},
   "outputs": [
    {
     "data": {
      "image/png": "[encoded data removed]",
      "text/plain": [
       "<Figure size 576x576 with 1 Axes>"
      ]
     },
     "metadata": {
      "needs_background": "light"
     },
     "output_type": "display_data"
    }
   ],
   "source": [
    "figsize = 8\n",
    "\n",
    "z_points = vae.encoder.predict(x_test)\n",
    "\n",
    "min_x = min(z_points[:, 0])\n",
    "max_x = max(z_points[:, 0])\n",
    "min_y = min(z_points[:, 1])\n",
    "max_y = max(z_points[:, 1])\n",
    "\n",
    "plt.figure(figsize=(figsize, figsize))\n",
    "#plt.scatter(z_points[:, 0] , z_points[:, 1], c='black', alpha=0.5, s=2)\n",
    "plt.scatter(z_points[:, 0] , z_points[:, 1], c=test_with_meta_info['T'], alpha=0.5, s=3)\n",
    "plt.xlabel(\"latent_param_0\")\n",
    "plt.ylabel(\"latent_param_1\")\n",
    "plt.show()"
   ]
  },
  {
   "cell_type": "code",
   "execution_count": 28,
   "id": "ead0847c-66b6-4279-98b8-e4207d68d6b6",
   "metadata": {},
   "outputs": [
    {
     "data": {
      "text/html": [
       "<div>\n",
       "<style scoped>\n",
       "    .dataframe tbody tr th:only-of-type {\n",
       "        vertical-align: middle;\n",
       "    }\n",
       "\n",
       "    .dataframe tbody tr th {\n",
       "        vertical-align: top;\n",
       "    }\n",
       "\n",
       "    .dataframe thead th {\n",
       "        text-align: right;\n",
       "    }\n",
       "</style>\n",
       "<table border=\"1\" class=\"dataframe\">\n",
       "  <thead>\n",
       "    <tr style=\"text-align: right;\">\n",
       "      <th></th>\n",
       "      <th>0</th>\n",
       "      <th>1</th>\n",
       "      <th>2</th>\n",
       "      <th>3</th>\n",
       "      <th>4</th>\n",
       "      <th>5</th>\n",
       "      <th>6</th>\n",
       "      <th>7</th>\n",
       "      <th>8</th>\n",
       "      <th>9</th>\n",
       "      <th>...</th>\n",
       "      <th>248</th>\n",
       "      <th>249</th>\n",
       "      <th>250</th>\n",
       "      <th>251</th>\n",
       "      <th>252</th>\n",
       "      <th>253</th>\n",
       "      <th>254</th>\n",
       "      <th>255</th>\n",
       "      <th>T</th>\n",
       "      <th>M</th>\n",
       "    </tr>\n",
       "  </thead>\n",
       "  <tbody>\n",
       "    <tr>\n",
       "      <th>0</th>\n",
       "      <td>-1</td>\n",
       "      <td>-1</td>\n",
       "      <td>-1</td>\n",
       "      <td>-1</td>\n",
       "      <td>-1</td>\n",
       "      <td>-1</td>\n",
       "      <td>-1</td>\n",
       "      <td>-1</td>\n",
       "      <td>-1</td>\n",
       "      <td>-1</td>\n",
       "      <td>...</td>\n",
       "      <td>-1</td>\n",
       "      <td>-1</td>\n",
       "      <td>-1</td>\n",
       "      <td>-1</td>\n",
       "      <td>-1</td>\n",
       "      <td>-1</td>\n",
       "      <td>-1</td>\n",
       "      <td>-1</td>\n",
       "      <td>1.0</td>\n",
       "      <td>-1.0</td>\n",
       "    </tr>\n",
       "    <tr>\n",
       "      <th>9</th>\n",
       "      <td>-1</td>\n",
       "      <td>-1</td>\n",
       "      <td>-1</td>\n",
       "      <td>-1</td>\n",
       "      <td>-1</td>\n",
       "      <td>-1</td>\n",
       "      <td>-1</td>\n",
       "      <td>-1</td>\n",
       "      <td>-1</td>\n",
       "      <td>-1</td>\n",
       "      <td>...</td>\n",
       "      <td>-1</td>\n",
       "      <td>-1</td>\n",
       "      <td>-1</td>\n",
       "      <td>-1</td>\n",
       "      <td>-1</td>\n",
       "      <td>-1</td>\n",
       "      <td>-1</td>\n",
       "      <td>-1</td>\n",
       "      <td>1.0</td>\n",
       "      <td>-1.0</td>\n",
       "    </tr>\n",
       "    <tr>\n",
       "      <th>10</th>\n",
       "      <td>-1</td>\n",
       "      <td>-1</td>\n",
       "      <td>-1</td>\n",
       "      <td>-1</td>\n",
       "      <td>-1</td>\n",
       "      <td>-1</td>\n",
       "      <td>-1</td>\n",
       "      <td>-1</td>\n",
       "      <td>-1</td>\n",
       "      <td>-1</td>\n",
       "      <td>...</td>\n",
       "      <td>-1</td>\n",
       "      <td>-1</td>\n",
       "      <td>-1</td>\n",
       "      <td>-1</td>\n",
       "      <td>-1</td>\n",
       "      <td>-1</td>\n",
       "      <td>-1</td>\n",
       "      <td>-1</td>\n",
       "      <td>1.0</td>\n",
       "      <td>-1.0</td>\n",
       "    </tr>\n",
       "    <tr>\n",
       "      <th>13</th>\n",
       "      <td>1</td>\n",
       "      <td>1</td>\n",
       "      <td>1</td>\n",
       "      <td>1</td>\n",
       "      <td>1</td>\n",
       "      <td>1</td>\n",
       "      <td>1</td>\n",
       "      <td>1</td>\n",
       "      <td>1</td>\n",
       "      <td>1</td>\n",
       "      <td>...</td>\n",
       "      <td>1</td>\n",
       "      <td>1</td>\n",
       "      <td>1</td>\n",
       "      <td>1</td>\n",
       "      <td>1</td>\n",
       "      <td>1</td>\n",
       "      <td>1</td>\n",
       "      <td>1</td>\n",
       "      <td>1.0</td>\n",
       "      <td>1.0</td>\n",
       "    </tr>\n",
       "    <tr>\n",
       "      <th>16</th>\n",
       "      <td>-1</td>\n",
       "      <td>-1</td>\n",
       "      <td>-1</td>\n",
       "      <td>-1</td>\n",
       "      <td>-1</td>\n",
       "      <td>-1</td>\n",
       "      <td>-1</td>\n",
       "      <td>-1</td>\n",
       "      <td>-1</td>\n",
       "      <td>-1</td>\n",
       "      <td>...</td>\n",
       "      <td>-1</td>\n",
       "      <td>-1</td>\n",
       "      <td>-1</td>\n",
       "      <td>-1</td>\n",
       "      <td>-1</td>\n",
       "      <td>-1</td>\n",
       "      <td>-1</td>\n",
       "      <td>-1</td>\n",
       "      <td>1.0</td>\n",
       "      <td>-1.0</td>\n",
       "    </tr>\n",
       "    <tr>\n",
       "      <th>...</th>\n",
       "      <td>...</td>\n",
       "      <td>...</td>\n",
       "      <td>...</td>\n",
       "      <td>...</td>\n",
       "      <td>...</td>\n",
       "      <td>...</td>\n",
       "      <td>...</td>\n",
       "      <td>...</td>\n",
       "      <td>...</td>\n",
       "      <td>...</td>\n",
       "      <td>...</td>\n",
       "      <td>...</td>\n",
       "      <td>...</td>\n",
       "      <td>...</td>\n",
       "      <td>...</td>\n",
       "      <td>...</td>\n",
       "      <td>...</td>\n",
       "      <td>...</td>\n",
       "      <td>...</td>\n",
       "      <td>...</td>\n",
       "      <td>...</td>\n",
       "    </tr>\n",
       "    <tr>\n",
       "      <th>976</th>\n",
       "      <td>-1</td>\n",
       "      <td>-1</td>\n",
       "      <td>-1</td>\n",
       "      <td>-1</td>\n",
       "      <td>-1</td>\n",
       "      <td>-1</td>\n",
       "      <td>-1</td>\n",
       "      <td>-1</td>\n",
       "      <td>-1</td>\n",
       "      <td>-1</td>\n",
       "      <td>...</td>\n",
       "      <td>-1</td>\n",
       "      <td>-1</td>\n",
       "      <td>-1</td>\n",
       "      <td>-1</td>\n",
       "      <td>-1</td>\n",
       "      <td>-1</td>\n",
       "      <td>-1</td>\n",
       "      <td>-1</td>\n",
       "      <td>1.0</td>\n",
       "      <td>-1.0</td>\n",
       "    </tr>\n",
       "    <tr>\n",
       "      <th>977</th>\n",
       "      <td>-1</td>\n",
       "      <td>-1</td>\n",
       "      <td>-1</td>\n",
       "      <td>-1</td>\n",
       "      <td>-1</td>\n",
       "      <td>-1</td>\n",
       "      <td>-1</td>\n",
       "      <td>-1</td>\n",
       "      <td>-1</td>\n",
       "      <td>-1</td>\n",
       "      <td>...</td>\n",
       "      <td>-1</td>\n",
       "      <td>-1</td>\n",
       "      <td>-1</td>\n",
       "      <td>-1</td>\n",
       "      <td>-1</td>\n",
       "      <td>-1</td>\n",
       "      <td>-1</td>\n",
       "      <td>-1</td>\n",
       "      <td>1.0</td>\n",
       "      <td>-1.0</td>\n",
       "    </tr>\n",
       "    <tr>\n",
       "      <th>984</th>\n",
       "      <td>1</td>\n",
       "      <td>1</td>\n",
       "      <td>1</td>\n",
       "      <td>1</td>\n",
       "      <td>1</td>\n",
       "      <td>1</td>\n",
       "      <td>1</td>\n",
       "      <td>1</td>\n",
       "      <td>1</td>\n",
       "      <td>1</td>\n",
       "      <td>...</td>\n",
       "      <td>1</td>\n",
       "      <td>1</td>\n",
       "      <td>1</td>\n",
       "      <td>1</td>\n",
       "      <td>1</td>\n",
       "      <td>1</td>\n",
       "      <td>1</td>\n",
       "      <td>1</td>\n",
       "      <td>1.0</td>\n",
       "      <td>1.0</td>\n",
       "    </tr>\n",
       "    <tr>\n",
       "      <th>986</th>\n",
       "      <td>1</td>\n",
       "      <td>1</td>\n",
       "      <td>1</td>\n",
       "      <td>1</td>\n",
       "      <td>1</td>\n",
       "      <td>1</td>\n",
       "      <td>1</td>\n",
       "      <td>1</td>\n",
       "      <td>1</td>\n",
       "      <td>1</td>\n",
       "      <td>...</td>\n",
       "      <td>1</td>\n",
       "      <td>1</td>\n",
       "      <td>1</td>\n",
       "      <td>1</td>\n",
       "      <td>1</td>\n",
       "      <td>1</td>\n",
       "      <td>1</td>\n",
       "      <td>1</td>\n",
       "      <td>1.0</td>\n",
       "      <td>1.0</td>\n",
       "    </tr>\n",
       "    <tr>\n",
       "      <th>996</th>\n",
       "      <td>-1</td>\n",
       "      <td>-1</td>\n",
       "      <td>-1</td>\n",
       "      <td>-1</td>\n",
       "      <td>-1</td>\n",
       "      <td>-1</td>\n",
       "      <td>-1</td>\n",
       "      <td>-1</td>\n",
       "      <td>-1</td>\n",
       "      <td>-1</td>\n",
       "      <td>...</td>\n",
       "      <td>-1</td>\n",
       "      <td>-1</td>\n",
       "      <td>-1</td>\n",
       "      <td>-1</td>\n",
       "      <td>-1</td>\n",
       "      <td>-1</td>\n",
       "      <td>-1</td>\n",
       "      <td>-1</td>\n",
       "      <td>1.0</td>\n",
       "      <td>-1.0</td>\n",
       "    </tr>\n",
       "  </tbody>\n",
       "</table>\n",
       "<p>195 rows × 258 columns</p>\n",
       "</div>"
      ],
      "text/plain": [
       "     0  1  2  3  4  5  6  7  8  9  ...  248  249  250  251  252  253  254  \\\n",
       "0   -1 -1 -1 -1 -1 -1 -1 -1 -1 -1  ...   -1   -1   -1   -1   -1   -1   -1   \n",
       "9   -1 -1 -1 -1 -1 -1 -1 -1 -1 -1  ...   -1   -1   -1   -1   -1   -1   -1   \n",
       "10  -1 -1 -1 -1 -1 -1 -1 -1 -1 -1  ...   -1   -1   -1   -1   -1   -1   -1   \n",
       "13   1  1  1  1  1  1  1  1  1  1  ...    1    1    1    1    1    1    1   \n",
       "16  -1 -1 -1 -1 -1 -1 -1 -1 -1 -1  ...   -1   -1   -1   -1   -1   -1   -1   \n",
       "..  .. .. .. .. .. .. .. .. .. ..  ...  ...  ...  ...  ...  ...  ...  ...   \n",
       "976 -1 -1 -1 -1 -1 -1 -1 -1 -1 -1  ...   -1   -1   -1   -1   -1   -1   -1   \n",
       "977 -1 -1 -1 -1 -1 -1 -1 -1 -1 -1  ...   -1   -1   -1   -1   -1   -1   -1   \n",
       "984  1  1  1  1  1  1  1  1  1  1  ...    1    1    1    1    1    1    1   \n",
       "986  1  1  1  1  1  1  1  1  1  1  ...    1    1    1    1    1    1    1   \n",
       "996 -1 -1 -1 -1 -1 -1 -1 -1 -1 -1  ...   -1   -1   -1   -1   -1   -1   -1   \n",
       "\n",
       "     255    T    M  \n",
       "0     -1  1.0 -1.0  \n",
       "9     -1  1.0 -1.0  \n",
       "10    -1  1.0 -1.0  \n",
       "13     1  1.0  1.0  \n",
       "16    -1  1.0 -1.0  \n",
       "..   ...  ...  ...  \n",
       "976   -1  1.0 -1.0  \n",
       "977   -1  1.0 -1.0  \n",
       "984    1  1.0  1.0  \n",
       "986    1  1.0  1.0  \n",
       "996   -1  1.0 -1.0  \n",
       "\n",
       "[195 rows x 258 columns]"
      ]
     },
     "execution_count": 28,
     "metadata": {},
     "output_type": "execute_result"
    }
   ],
   "source": [
    "test_with_meta_info[test_with_meta_info['T'] < 2]"
   ]
  },
  {
   "cell_type": "code",
   "execution_count": 29,
   "id": "dbd3de29-942d-4771-83b2-25e53d49649f",
   "metadata": {},
   "outputs": [
    {
     "data": {
      "text/plain": [
       "Int64Index([  0,   9,  10,  13,  16,  18,  24,  33,  44,  50,\n",
       "            ...\n",
       "            963, 964, 965, 969, 970, 976, 977, 984, 986, 996],\n",
       "           dtype='int64', length=195)"
      ]
     },
     "execution_count": 29,
     "metadata": {},
     "output_type": "execute_result"
    }
   ],
   "source": [
    "test_with_meta_info[test_with_meta_info['T'] < 2].index"
   ]
  },
  {
   "cell_type": "code",
   "execution_count": 30,
   "id": "0ffe616e-dee5-4a79-b121-f6c40e135006",
   "metadata": {},
   "outputs": [],
   "source": [
    "#len(x_test)\n",
    "test_with_meta_info = test_with_meta_info.reset_index()"
   ]
  },
  {
   "cell_type": "code",
   "execution_count": 31,
   "id": "75861648-a661-4837-842c-d323ac39b557",
   "metadata": {},
   "outputs": [
    {
     "data": {
      "image/png": "[encoded data removed]",
      "text/plain": [
       "<Figure size 576x576 with 1 Axes>"
      ]
     },
     "metadata": {
      "needs_background": "light"
     },
     "output_type": "display_data"
    }
   ],
   "source": [
    "plt.figure(figsize=(figsize, figsize))\n",
    "plt.hist(z_points[:, 1][test_with_meta_info[test_with_meta_info['T'] > 4].index], color='r', bins=20)\n",
    "plt.hist(z_points[:, 1][test_with_meta_info[test_with_meta_info['T'] < 2].index], color='y', bins=20)\n",
    "plt.xlabel(\"latent_param\")\n",
    "plt.savefig(\"{}/s3-bucket/reproduction/fig_2/vae_cnn_latent_param_hist_l{}.png\".format(prefix_s3, L))"
   ]
  },
  {
   "cell_type": "code",
   "execution_count": 32,
   "id": "c9f8cc9b-b356-40ee-841b-9c713f9bbd67",
   "metadata": {},
   "outputs": [
    {
     "data": {
      "image/png": "[encoded data removed]",
      "text/plain": [
       "<Figure size 576x576 with 1 Axes>"
      ]
     },
     "metadata": {
      "needs_background": "light"
     },
     "output_type": "display_data"
    }
   ],
   "source": [
    "plt.figure(figsize=(figsize, figsize))\n",
    "plt.scatter(test_with_meta_info['M'], z_points[:,1], c=test_with_meta_info['T'])\n",
    "plt.xlabel(\"magnetization\")\n",
    "plt.ylabel(\"latent parameter\")\n",
    "plt.savefig(\"{}/s3-bucket/reproduction/fig_2/vae_cnn_scatter_latent_vs_mag_color_by_t_l{}.png\".format(prefix_s3, L))"
   ]
  },
  {
   "cell_type": "markdown",
   "id": "e98d94b2-79c4-4fec-831c-1eeb41ed8bbc",
   "metadata": {},
   "source": [
    "# Check Recreate Input Output"
   ]
  },
  {
   "cell_type": "code",
   "execution_count": null,
   "id": "37be0c9e-8ad5-4fa5-8f6e-8d459232a7ee",
   "metadata": {},
   "outputs": [],
   "source": []
  },
  {
   "cell_type": "code",
   "execution_count": 33,
   "id": "5491524e-3ab3-47a1-a642-8829ed2657fc",
   "metadata": {},
   "outputs": [
    {
     "name": "stderr",
     "output_type": "stream",
     "text": [
      "/home/owen/repos/z3support/pythonenv/lib/python3.8/site-packages/keras/engine/training_v1.py:2067: UserWarning: `Model.state_updates` will be removed in a future version. This property should not be used in TensorFlow 2.0, as `updates` are applied automatically.\n",
      "  updates=self.state_updates,\n"
     ]
    },
    {
     "data": {
      "image/png": "[encoded data removed]",
      "text/plain": [
       "<Figure size 216x1440 with 20 Axes>"
      ]
     },
     "metadata": {
      "needs_background": "light"
     },
     "output_type": "display_data"
    }
   ],
   "source": [
    "recreate_sample_size = 10\n",
    "\n",
    "plt.figure(figsize=(3, recreate_sample_size*2))\n",
    "    \n",
    "rand_samp_idx = np.random.choice(range(len(x_test)), recreate_sample_size)\n",
    "sampled_look = x_test[rand_samp_idx] \n",
    "sampled_latent_out = vae.model.predict(sampled_look)\n",
    "\n",
    "for i in range(recreate_sample_size):\n",
    "    \n",
    "    plt1 = plt.subplot2grid((recreate_sample_size,2), (i,0), colspan=1)\n",
    "    plt2 = plt.subplot2grid((recreate_sample_size,2), (i,1), colspan=1)\n",
    "    \n",
    "    plt1.imshow(\n",
    "        sampled_look[i].reshape(L,L)\n",
    "    )\n",
    "    plt2.imshow(\n",
    "        sampled_latent_out[i].reshape(L,L)\n",
    "    )\n"
   ]
  },
  {
   "cell_type": "code",
   "execution_count": null,
   "id": "5ab73001-3a8d-48bb-8d32-8dc25a0525ae",
   "metadata": {},
   "outputs": [],
   "source": []
  }
 ],
 "metadata": {
  "kernelspec": {
   "display_name": "Python 3",
   "language": "python",
   "name": "python3"
  },
  "language_info": {
   "codemirror_mode": {
    "name": "ipython",
    "version": 3
   },
   "file_extension": ".py",
   "mimetype": "text/x-python",
   "name": "python",
   "nbconvert_exporter": "python",
   "pygments_lexer": "ipython3",
   "version": "3.8.10"
  }
 },
 "nbformat": 4,
 "nbformat_minor": 5
}
