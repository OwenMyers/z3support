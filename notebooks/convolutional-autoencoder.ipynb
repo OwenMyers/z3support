{
 "cells": [
  {
   "cell_type": "code",
   "execution_count": 1,
   "metadata": {},
   "outputs": [],
   "source": [
    "%matplotlib inline\n",
    "\n",
    "from keras.layers import Input, Dense, Conv2D, Conv2DTranspose, MaxPooling2D, UpSampling2D\n",
    "from keras.models import Model\n",
    "from keras import backend as K\n",
    "from keras.datasets import mnist\n",
    "from keras.callbacks import TensorBoard\n",
    "import numpy as np\n",
    "import pickle\n",
    "from datetime import datetime\n",
    "from keras.callbacks import ModelCheckpoint\n",
    "from keras import models\n",
    "from matplotlib import pyplot as plt\n",
    "\n",
    "(x_train, _), (x_test, _) = mnist.load_data()"
   ]
  },
  {
   "cell_type": "code",
   "execution_count": 2,
   "metadata": {},
   "outputs": [],
   "source": [
    "RUN_ON_MNIST = True\n",
    "L = 4"
   ]
  },
  {
   "cell_type": "code",
   "execution_count": 3,
   "metadata": {},
   "outputs": [],
   "source": [
    "CHECKPOINTER = ModelCheckpoint(filepath='model_checkpoit.hdf5', \n",
    "                               monitor='val_loss',\n",
    "                               verbose=1, \n",
    "                               save_best_only=True,\n",
    "                               mode='auto')"
   ]
  },
  {
   "cell_type": "markdown",
   "metadata": {},
   "source": [
    "# Notes:\n",
    "* Add `Input` argument `channels_first` when using Z3 data and \n",
    "  change the input dimensions.\n",
    "* You will have to manualy add periodic edges for periodic padding before real runn\n",
    "* **requires** running the transform notebook to get the data into a format for the auto encoder"
   ]
  },
  {
   "cell_type": "code",
   "execution_count": 4,
   "metadata": {},
   "outputs": [],
   "source": [
    "if RUN_ON_MNIST:\n",
    "    input_obj = Input(shape=(28, 28, 1))\n",
    "    x = Conv2D(16, (3, 3), activation='relu', padding='same')(input_obj)\n",
    "    x = MaxPooling2D((2, 2), padding='same')(x)\n",
    "    x = Conv2D(8, (3, 3), activation='relu', padding='same')(x)\n",
    "    x = MaxPooling2D((2, 2), padding='same')(x)\n",
    "    x = Conv2D(8, (3, 3), activation='relu', padding='same')(x)\n",
    "    encoded = MaxPooling2D((2, 2), padding='same')(x)\n",
    "    \n",
    "    x = Conv2D(8, (3, 3), activation='relu', padding='same')(encoded)\n",
    "    x = UpSampling2D((2, 2))(x)\n",
    "    x = Conv2D(8, (3, 3), activation='relu', padding='same')(x)\n",
    "    x = UpSampling2D((2, 2))(x)\n",
    "    x = Conv2D(16, (3, 3), activation='relu')(x)\n",
    "    x = UpSampling2D((2, 2))(x)\n",
    "    decoded = Conv2D(1, (3, 3), activation='sigmoid', padding='same')(x)  \n",
    "\n",
    "else:\n",
    "    input_obj = Input(shape=(L*2, L*2, 1))\n",
    "    x = Conv2D(16, (3, 3), strides=2, activation='relu', padding='same', use_bias=True)(input_obj)\n",
    "    encoded = Conv2D(32, (3, 3), strides=2, activation='relu', padding='same', use_bias=True)(x)\n",
    "    x = Conv2DTranspose(16, (3, 3), strides=2, activation='relu', padding='same', use_bias=True)(encoded)\n",
    "    decoded = Conv2DTranspose(1, (3, 3), strides=2, activation='relu', padding='same', use_bias=True)(x)\n",
    "\n",
    "autoencoder = Model(input_obj, decoded)\n",
    "autoencoder.compile(optimizer='adadelta', loss='binary_crossentropy')"
   ]
  },
  {
   "cell_type": "code",
   "execution_count": 5,
   "metadata": {},
   "outputs": [
    {
     "name": "stdout",
     "output_type": "stream",
     "text": [
      "Model: \"model\"\n",
      "_________________________________________________________________\n",
      "Layer (type)                 Output Shape              Param #   \n",
      "=================================================================\n",
      "input_1 (InputLayer)         [(None, 28, 28, 1)]       0         \n",
      "_________________________________________________________________\n",
      "conv2d (Conv2D)              (None, 28, 28, 16)        160       \n",
      "_________________________________________________________________\n",
      "max_pooling2d (MaxPooling2D) (None, 14, 14, 16)        0         \n",
      "_________________________________________________________________\n",
      "conv2d_1 (Conv2D)            (None, 14, 14, 8)         1160      \n",
      "_________________________________________________________________\n",
      "max_pooling2d_1 (MaxPooling2 (None, 7, 7, 8)           0         \n",
      "_________________________________________________________________\n",
      "conv2d_2 (Conv2D)            (None, 7, 7, 8)           584       \n",
      "_________________________________________________________________\n",
      "max_pooling2d_2 (MaxPooling2 (None, 4, 4, 8)           0         \n",
      "_________________________________________________________________\n",
      "conv2d_3 (Conv2D)            (None, 4, 4, 8)           584       \n",
      "_________________________________________________________________\n",
      "up_sampling2d (UpSampling2D) (None, 8, 8, 8)           0         \n",
      "_________________________________________________________________\n",
      "conv2d_4 (Conv2D)            (None, 8, 8, 8)           584       \n",
      "_________________________________________________________________\n",
      "up_sampling2d_1 (UpSampling2 (None, 16, 16, 8)         0         \n",
      "_________________________________________________________________\n",
      "conv2d_5 (Conv2D)            (None, 14, 14, 16)        1168      \n",
      "_________________________________________________________________\n",
      "up_sampling2d_2 (UpSampling2 (None, 28, 28, 16)        0         \n",
      "_________________________________________________________________\n",
      "conv2d_6 (Conv2D)            (None, 28, 28, 1)         145       \n",
      "=================================================================\n",
      "Total params: 4,385\n",
      "Trainable params: 4,385\n",
      "Non-trainable params: 0\n",
      "_________________________________________________________________\n"
     ]
    }
   ],
   "source": [
    "autoencoder.summary()"
   ]
  },
  {
   "cell_type": "code",
   "execution_count": 6,
   "metadata": {},
   "outputs": [],
   "source": [
    "if RUN_ON_MNIST:\n",
    "    x_train = x_train.astype('float32') / 255.\n",
    "    x_test = x_test.astype('float32') / 255.\n",
    "    x_train = np.reshape(x_train, (len(x_train), 28, 28, 1))  # adapt this if using `channels_first` image data format\n",
    "    x_test = np.reshape(x_test, (len(x_test), 28, 28, 1))  # adapt this if using `channels_first` image data format\n",
    "else:\n",
    "    with open('pickle_data.pkl', 'rb') as f:\n",
    "        all_data = pickle.load(f)\n",
    "    all_data = all_data.astype('float32') / 5.0\n",
    "    n_records = len(all_data)\n",
    "    x_train = all_data[: n_records - int(n_records/4)]\n",
    "    x_test = all_data[int(n_records/4) :]\n",
    "    x_train = np.reshape(x_train, (len(x_train), L * 2, L * 2, 1))\n",
    "    x_test = np.reshape(x_test, (len(x_test), L * 2, L * 2, 1))"
   ]
  },
  {
   "cell_type": "code",
   "execution_count": 7,
   "metadata": {},
   "outputs": [
    {
     "data": {
      "text/plain": [
       "(60000, 28, 28, 1)"
      ]
     },
     "execution_count": 7,
     "metadata": {},
     "output_type": "execute_result"
    }
   ],
   "source": [
    "x_train.shape"
   ]
  },
  {
   "cell_type": "code",
   "execution_count": 8,
   "metadata": {},
   "outputs": [
    {
     "name": "stdout",
     "output_type": "stream",
     "text": [
      "Epoch 1/20\n",
      "399/400 [============================>.] - ETA: 0s - loss: 0.6989\n",
      "Epoch 00001: val_loss improved from inf to 0.69734, saving model to model_checkpoit.hdf5\n",
      "400/400 [==============================] - 11s 27ms/step - loss: 0.6989 - val_loss: 0.6973\n",
      "Epoch 2/20\n",
      "400/400 [==============================] - ETA: 0s - loss: 0.6958\n",
      "Epoch 00002: val_loss improved from 0.69734 to 0.69406, saving model to model_checkpoit.hdf5\n",
      "400/400 [==============================] - 11s 27ms/step - loss: 0.6958 - val_loss: 0.6941\n",
      "Epoch 3/20\n",
      "399/400 [============================>.] - ETA: 0s - loss: 0.6923\n",
      "Epoch 00003: val_loss improved from 0.69406 to 0.69017, saving model to model_checkpoit.hdf5\n",
      "400/400 [==============================] - 11s 26ms/step - loss: 0.6923 - val_loss: 0.6902\n",
      "Epoch 4/20\n",
      "398/400 [============================>.] - ETA: 0s - loss: 0.6877\n",
      "Epoch 00004: val_loss improved from 0.69017 to 0.68473, saving model to model_checkpoit.hdf5\n",
      "400/400 [==============================] - 10s 24ms/step - loss: 0.6877 - val_loss: 0.6847\n",
      "Epoch 5/20\n",
      "399/400 [============================>.] - ETA: 0s - loss: 0.6805\n",
      "Epoch 00005: val_loss improved from 0.68473 to 0.67530, saving model to model_checkpoit.hdf5\n",
      "400/400 [==============================] - 10s 24ms/step - loss: 0.6805 - val_loss: 0.6753\n",
      "Epoch 6/20\n",
      "399/400 [============================>.] - ETA: 0s - loss: 0.6672\n",
      "Epoch 00006: val_loss improved from 0.67530 to 0.65678, saving model to model_checkpoit.hdf5\n",
      "400/400 [==============================] - 10s 25ms/step - loss: 0.6672 - val_loss: 0.6568\n",
      "Epoch 7/20\n",
      "399/400 [============================>.] - ETA: 0s - loss: 0.6378\n",
      "Epoch 00007: val_loss improved from 0.65678 to 0.61106, saving model to model_checkpoit.hdf5\n",
      "400/400 [==============================] - 11s 28ms/step - loss: 0.6377 - val_loss: 0.6111\n",
      "Epoch 8/20\n",
      "398/400 [============================>.] - ETA: 0s - loss: 0.5582\n",
      "Epoch 00008: val_loss improved from 0.61106 to 0.49489, saving model to model_checkpoit.hdf5\n",
      "400/400 [==============================] - 10s 25ms/step - loss: 0.5578 - val_loss: 0.4949\n",
      "Epoch 9/20\n",
      "398/400 [============================>.] - ETA: 0s - loss: 0.4605\n",
      "Epoch 00009: val_loss improved from 0.49489 to 0.44702, saving model to model_checkpoit.hdf5\n",
      "400/400 [==============================] - 10s 25ms/step - loss: 0.4604 - val_loss: 0.4470\n",
      "Epoch 10/20\n",
      "398/400 [============================>.] - ETA: 0s - loss: 0.4400\n",
      "Epoch 00010: val_loss improved from 0.44702 to 0.43683, saving model to model_checkpoit.hdf5\n",
      "400/400 [==============================] - 10s 25ms/step - loss: 0.4399 - val_loss: 0.4368\n",
      "Epoch 11/20\n",
      "399/400 [============================>.] - ETA: 0s - loss: 0.4305\n",
      "Epoch 00011: val_loss improved from 0.43683 to 0.42783, saving model to model_checkpoit.hdf5\n",
      "400/400 [==============================] - 10s 25ms/step - loss: 0.4305 - val_loss: 0.4278\n",
      "Epoch 12/20\n",
      "398/400 [============================>.] - ETA: 0s - loss: 0.4216\n",
      "Epoch 00012: val_loss improved from 0.42783 to 0.41879, saving model to model_checkpoit.hdf5\n",
      "400/400 [==============================] - 10s 25ms/step - loss: 0.4216 - val_loss: 0.4188\n",
      "Epoch 13/20\n",
      "400/400 [==============================] - ETA: 0s - loss: 0.4124\n",
      "Epoch 00013: val_loss improved from 0.41879 to 0.40927, saving model to model_checkpoit.hdf5\n",
      "400/400 [==============================] - 10s 25ms/step - loss: 0.4124 - val_loss: 0.4093\n",
      "Epoch 14/20\n",
      "398/400 [============================>.] - ETA: 0s - loss: 0.4025\n",
      "Epoch 00014: val_loss improved from 0.40927 to 0.39891, saving model to model_checkpoit.hdf5\n",
      "400/400 [==============================] - 10s 25ms/step - loss: 0.4026 - val_loss: 0.3989\n",
      "Epoch 15/20\n",
      "399/400 [============================>.] - ETA: 0s - loss: 0.3917\n",
      "Epoch 00015: val_loss improved from 0.39891 to 0.38746, saving model to model_checkpoit.hdf5\n",
      "400/400 [==============================] - 10s 25ms/step - loss: 0.3918 - val_loss: 0.3875\n",
      "Epoch 16/20\n",
      "399/400 [============================>.] - ETA: 0s - loss: 0.3798\n",
      "Epoch 00016: val_loss improved from 0.38746 to 0.37476, saving model to model_checkpoit.hdf5\n",
      "400/400 [==============================] - 10s 25ms/step - loss: 0.3798 - val_loss: 0.3748\n",
      "Epoch 17/20\n",
      "399/400 [============================>.] - ETA: 0s - loss: 0.3667\n",
      "Epoch 00017: val_loss improved from 0.37476 to 0.36091, saving model to model_checkpoit.hdf5\n",
      "400/400 [==============================] - 10s 25ms/step - loss: 0.3666 - val_loss: 0.3609\n",
      "Epoch 18/20\n",
      "398/400 [============================>.] - ETA: 0s - loss: 0.3526\n",
      "Epoch 00018: val_loss improved from 0.36091 to 0.34638, saving model to model_checkpoit.hdf5\n",
      "400/400 [==============================] - 10s 25ms/step - loss: 0.3525 - val_loss: 0.3464\n",
      "Epoch 19/20\n",
      "398/400 [============================>.] - ETA: 0s - loss: 0.3381\n",
      "Epoch 00019: val_loss improved from 0.34638 to 0.33165, saving model to model_checkpoit.hdf5\n",
      "400/400 [==============================] - 10s 25ms/step - loss: 0.3380 - val_loss: 0.3317\n",
      "Epoch 20/20\n",
      "400/400 [==============================] - ETA: 0s - loss: 0.3238\n",
      "Epoch 00020: val_loss improved from 0.33165 to 0.31761, saving model to model_checkpoit.hdf5\n",
      "400/400 [==============================] - 10s 25ms/step - loss: 0.3238 - val_loss: 0.3176\n"
     ]
    }
   ],
   "source": [
    "history = autoencoder.fit(\n",
    "    x_train[: 20000], x_train[: 20000],\n",
    "    epochs=20,\n",
    "    batch_size=50,\n",
    "    shuffle=True,\n",
    "    validation_data=(x_test, x_test),\n",
    "    callbacks=[\n",
    "        TensorBoard(log_dir='/tmp/autoencoder/{}'.format(datetime.now())),\n",
    "        CHECKPOINTER\n",
    "    ]\n",
    ")"
   ]
  },
  {
   "cell_type": "code",
   "execution_count": 9,
   "metadata": {},
   "outputs": [
    {
     "name": "stdout",
     "output_type": "stream",
     "text": [
      "loss\n",
      "val_loss\n"
     ]
    }
   ],
   "source": [
    "for key in history.history:\n",
    "    print(key)"
   ]
  },
  {
   "cell_type": "code",
   "execution_count": 10,
   "metadata": {},
   "outputs": [],
   "source": [
    "autoencoder.load_weights('model_checkpoit.hdf5')"
   ]
  },
  {
   "cell_type": "code",
   "execution_count": 11,
   "metadata": {},
   "outputs": [],
   "source": [
    "autoencoder.save('models/best_non_hparam_autoencoder.h5')"
   ]
  },
  {
   "cell_type": "markdown",
   "metadata": {},
   "source": [
    "# Make a specific model for the activation tensors "
   ]
  },
  {
   "cell_type": "code",
   "execution_count": 12,
   "metadata": {},
   "outputs": [],
   "source": [
    "layers_to_encoded = int(len(autoencoder.layers)/2)"
   ]
  },
  {
   "cell_type": "code",
   "execution_count": 13,
   "metadata": {},
   "outputs": [
    {
     "data": {
      "text/plain": [
       "[<tensorflow.python.keras.engine.input_layer.InputLayer at 0x7faed5f2d100>,\n",
       " <tensorflow.python.keras.layers.convolutional.Conv2D at 0x7faed5f2e730>,\n",
       " <tensorflow.python.keras.layers.pooling.MaxPooling2D at 0x7faed5f2ef70>,\n",
       " <tensorflow.python.keras.layers.convolutional.Conv2D at 0x7faed5f2efa0>,\n",
       " <tensorflow.python.keras.layers.pooling.MaxPooling2D at 0x7faed5f2ec40>,\n",
       " <tensorflow.python.keras.layers.convolutional.Conv2D at 0x7faed56ab700>,\n",
       " <tensorflow.python.keras.layers.pooling.MaxPooling2D at 0x7faed5679b20>,\n",
       " <tensorflow.python.keras.layers.convolutional.Conv2D at 0x7faed56b2d90>,\n",
       " <tensorflow.python.keras.layers.convolutional.UpSampling2D at 0x7faed56b2ac0>,\n",
       " <tensorflow.python.keras.layers.convolutional.Conv2D at 0x7faed4642970>,\n",
       " <tensorflow.python.keras.layers.convolutional.UpSampling2D at 0x7faed46423d0>,\n",
       " <tensorflow.python.keras.layers.convolutional.Conv2D at 0x7faed4645dc0>,\n",
       " <tensorflow.python.keras.layers.convolutional.UpSampling2D at 0x7faed464d5e0>,\n",
       " <tensorflow.python.keras.layers.convolutional.Conv2D at 0x7faed4653b50>]"
      ]
     },
     "execution_count": 13,
     "metadata": {},
     "output_type": "execute_result"
    }
   ],
   "source": [
    "autoencoder.layers"
   ]
  },
  {
   "cell_type": "code",
   "execution_count": 14,
   "metadata": {},
   "outputs": [],
   "source": [
    "layer_activations = [layer.output for layer in autoencoder.layers[:layers_to_encoded]]"
   ]
  },
  {
   "cell_type": "code",
   "execution_count": 15,
   "metadata": {},
   "outputs": [],
   "source": [
    "activation_model = models.Model(\n",
    "    inputs=autoencoder.input,\n",
    "    outputs=layer_activations\n",
    ")"
   ]
  },
  {
   "cell_type": "code",
   "execution_count": 16,
   "metadata": {},
   "outputs": [
    {
     "data": {
      "text/plain": [
       "(10000, 28, 28, 1)"
      ]
     },
     "execution_count": 16,
     "metadata": {},
     "output_type": "execute_result"
    }
   ],
   "source": [
    "x_test.shape"
   ]
  },
  {
   "cell_type": "code",
   "execution_count": 17,
   "metadata": {},
   "outputs": [],
   "source": [
    "single_image = x_test[20]\n",
    "activations = activation_model.predict(x_test[:50])"
   ]
  },
  {
   "cell_type": "code",
   "execution_count": 18,
   "metadata": {},
   "outputs": [
    {
     "data": {
      "text/plain": [
       "<matplotlib.image.AxesImage at 0x7faedb1ae910>"
      ]
     },
     "execution_count": 18,
     "metadata": {},
     "output_type": "execute_result"
    },
    {
     "data": {
      "image/png": "[encoded data removed]",
      "text/plain": [
       "<Figure size 288x288 with 1 Axes>"
      ]
     },
     "metadata": {
      "needs_background": "light"
     },
     "output_type": "display_data"
    }
   ],
   "source": [
    "plt.matshow(single_image[:, :, 0])"
   ]
  },
  {
   "cell_type": "code",
   "execution_count": 19,
   "metadata": {},
   "outputs": [
    {
     "data": {
      "text/plain": [
       "7"
      ]
     },
     "execution_count": 19,
     "metadata": {},
     "output_type": "execute_result"
    }
   ],
   "source": [
    "len(activations)"
   ]
  },
  {
   "cell_type": "code",
   "execution_count": 44,
   "metadata": {},
   "outputs": [],
   "source": [
    "first_layer_activation = activations[0]"
   ]
  },
  {
   "cell_type": "code",
   "execution_count": 45,
   "metadata": {},
   "outputs": [
    {
     "data": {
      "text/plain": [
       "(50, 28, 28, 1)"
      ]
     },
     "execution_count": 45,
     "metadata": {},
     "output_type": "execute_result"
    }
   ],
   "source": [
    "first_layer_activation.shape"
   ]
  },
  {
   "cell_type": "code",
   "execution_count": 46,
   "metadata": {},
   "outputs": [
    {
     "data": {
      "text/plain": [
       "<matplotlib.image.AxesImage at 0x7fae743d5970>"
      ]
     },
     "execution_count": 46,
     "metadata": {},
     "output_type": "execute_result"
    },
    {
     "data": {
      "image/png": "[encoded data removed]",
      "text/plain": [
       "<Figure size 288x288 with 1 Axes>"
      ]
     },
     "metadata": {
      "needs_background": "light"
     },
     "output_type": "display_data"
    }
   ],
   "source": [
    "plt.matshow(first_layer_activation[1, :, :, 0], cmap='viridis')"
   ]
  },
  {
   "cell_type": "code",
   "execution_count": 47,
   "metadata": {},
   "outputs": [],
   "source": [
    "def get_current_layer_display_grid_size(images_per_row, matrix_in):\n",
    "    print(f'Layer shape {matrix_in.shape}')\n",
    "    # Number of features in the feature map\n",
    "    n_features = matrix_in.shape[-1]\n",
    "    print(f'n_features {n_features}')\n",
    "    # The feature map has shape (1, size, size, n_features).\n",
    "    size = matrix_in.shape[1]\n",
    "    print(f'size {size}')\n",
    "    # Tiles the activation channels in this matrix\n",
    "    n_cols = max([n_features // images_per_row, 1])\n",
    "    print(f'n_cols {n_cols}')\n",
    "    \n",
    "    return size, n_cols, (size * n_cols, min(images_per_row, n_features) * size)"
   ]
  },
  {
   "cell_type": "code",
   "execution_count": 59,
   "metadata": {},
   "outputs": [],
   "source": [
    "def fill_display_grid(to_fill, cur_image, cur_col, cur_row, cur_size):\n",
    "    \"\"\"Will modify data in reference ``to_fill``\"\"\"\n",
    "    cur_image -= cur_image.mean() # Post-processes the feature to make it visually palatable\n",
    "    cur_image /= cur_image.std()\n",
    "    cur_image *= 64\n",
    "    cur_image += 128\n",
    "    cur_image = np.clip(cur_image, 0, 255).astype('uint8')\n",
    "    print(f'cur_col * cur_size {cur_col * cur_size}')\n",
    "    print(f'(cur_col + 1) * cur_size {(cur_col + 1) * cur_size}')\n",
    "    print(f'cur_row * cur_size {cur_row * cur_size }')\n",
    "    print(f'(cur_row + 1) * cur_size {(cur_row + 1) * cur_size}')\n",
    "    print(f'cur_image.shape {cur_image.shape}')\n",
    "    try:\n",
    "        to_fill[\n",
    "            cur_col * cur_size : (cur_col + 1) * cur_size, # Displays the grid\n",
    "            cur_row * cur_size : (cur_row + 1) * cur_size\n",
    "        ] = cur_image\n",
    "    except ValueError:\n",
    "        to_fill[\n",
    "            cur_col * cur_size : (cur_col + 1) * cur_size, # Displays the grid\n",
    "            cur_row * cur_size : (cur_row + 1) * cur_size\n",
    "        ] = cur_image       "
   ]
  },
  {
   "cell_type": "code",
   "execution_count": 60,
   "metadata": {},
   "outputs": [],
   "source": [
    "images_per_row = 16\n",
    "layer_names = []\n",
    "for layer in autoencoder.layers[:layers_to_encoded]:\n",
    "    layer_names.append(layer.name) # Names of the layers, so you can have them as part of your plot"
   ]
  },
  {
   "cell_type": "code",
   "execution_count": 61,
   "metadata": {},
   "outputs": [
    {
     "name": "stdout",
     "output_type": "stream",
     "text": [
      "Layer shape (50, 28, 28, 16)\n",
      "n_features 16\n",
      "size 28\n",
      "n_cols 1\n",
      "cur_col * cur_size 0\n",
      "(cur_col + 1) * cur_size 28\n",
      "cur_row * cur_size 0\n",
      "(cur_row + 1) * cur_size 28\n",
      "cur_image.shape (28, 28)\n",
      "cur_col * cur_size 0\n",
      "(cur_col + 1) * cur_size 28\n",
      "cur_row * cur_size 28\n",
      "(cur_row + 1) * cur_size 56\n",
      "cur_image.shape (28, 28)\n",
      "cur_col * cur_size 0\n",
      "(cur_col + 1) * cur_size 28\n",
      "cur_row * cur_size 56\n",
      "(cur_row + 1) * cur_size 84\n",
      "cur_image.shape (28, 28)\n",
      "cur_col * cur_size 0\n",
      "(cur_col + 1) * cur_size 28\n",
      "cur_row * cur_size 84\n",
      "(cur_row + 1) * cur_size 112\n",
      "cur_image.shape (28, 28)\n",
      "cur_col * cur_size 0\n",
      "(cur_col + 1) * cur_size 28\n",
      "cur_row * cur_size 112\n",
      "(cur_row + 1) * cur_size 140\n",
      "cur_image.shape (28, 28)\n",
      "cur_col * cur_size 0\n",
      "(cur_col + 1) * cur_size 28\n",
      "cur_row * cur_size 140\n",
      "(cur_row + 1) * cur_size 168\n",
      "cur_image.shape (28, 28)\n",
      "cur_col * cur_size 0\n",
      "(cur_col + 1) * cur_size 28\n",
      "cur_row * cur_size 168\n",
      "(cur_row + 1) * cur_size 196\n",
      "cur_image.shape (28, 28)\n",
      "cur_col * cur_size 0\n",
      "(cur_col + 1) * cur_size 28\n",
      "cur_row * cur_size 196\n",
      "(cur_row + 1) * cur_size 224\n",
      "cur_image.shape (28, 28)\n",
      "cur_col * cur_size 0\n",
      "(cur_col + 1) * cur_size 28\n",
      "cur_row * cur_size 224\n",
      "(cur_row + 1) * cur_size 252\n",
      "cur_image.shape (28, 28)\n",
      "cur_col * cur_size 0\n",
      "(cur_col + 1) * cur_size 28\n",
      "cur_row * cur_size 252\n",
      "(cur_row + 1) * cur_size 280\n",
      "cur_image.shape (28, 28)\n",
      "cur_col * cur_size 0\n",
      "(cur_col + 1) * cur_size 28\n",
      "cur_row * cur_size 280\n",
      "(cur_row + 1) * cur_size 308\n",
      "cur_image.shape (28, 28)\n",
      "cur_col * cur_size 0\n",
      "(cur_col + 1) * cur_size 28\n",
      "cur_row * cur_size 308\n",
      "(cur_row + 1) * cur_size 336\n",
      "cur_image.shape (28, 28)\n",
      "cur_col * cur_size 0\n",
      "(cur_col + 1) * cur_size 28\n",
      "cur_row * cur_size 336\n",
      "(cur_row + 1) * cur_size 364\n",
      "cur_image.shape (28, 28)\n",
      "cur_col * cur_size 0\n",
      "(cur_col + 1) * cur_size 28\n",
      "cur_row * cur_size 364\n",
      "(cur_row + 1) * cur_size 392\n",
      "cur_image.shape (28, 28)\n",
      "cur_col * cur_size 0\n",
      "(cur_col + 1) * cur_size 28\n",
      "cur_row * cur_size 392\n",
      "(cur_row + 1) * cur_size 420\n",
      "cur_image.shape (28, 28)\n",
      "cur_col * cur_size 0\n",
      "(cur_col + 1) * cur_size 28\n",
      "cur_row * cur_size 420\n",
      "(cur_row + 1) * cur_size 448\n",
      "cur_image.shape (28, 28)\n",
      "Layer shape (50, 14, 14, 16)\n",
      "n_features 16\n",
      "size 14\n",
      "n_cols 1\n",
      "cur_col * cur_size 0\n",
      "(cur_col + 1) * cur_size 14\n",
      "cur_row * cur_size 0\n",
      "(cur_row + 1) * cur_size 14\n",
      "cur_image.shape (14, 14)\n",
      "cur_col * cur_size 0\n",
      "(cur_col + 1) * cur_size 14\n",
      "cur_row * cur_size 14\n",
      "(cur_row + 1) * cur_size 28\n",
      "cur_image.shape (14, 14)\n",
      "cur_col * cur_size 0\n",
      "(cur_col + 1) * cur_size 14\n",
      "cur_row * cur_size 28\n",
      "(cur_row + 1) * cur_size 42\n",
      "cur_image.shape (14, 14)\n",
      "cur_col * cur_size 0\n",
      "(cur_col + 1) * cur_size 14\n",
      "cur_row * cur_size 42\n",
      "(cur_row + 1) * cur_size 56\n",
      "cur_image.shape (14, 14)\n",
      "cur_col * cur_size 0\n",
      "(cur_col + 1) * cur_size 14\n",
      "cur_row * cur_size 56\n",
      "(cur_row + 1) * cur_size 70\n",
      "cur_image.shape (14, 14)\n",
      "cur_col * cur_size 0\n",
      "(cur_col + 1) * cur_size 14\n",
      "cur_row * cur_size 70\n",
      "(cur_row + 1) * cur_size 84\n",
      "cur_image.shape (14, 14)\n",
      "cur_col * cur_size 0\n",
      "(cur_col + 1) * cur_size 14\n",
      "cur_row * cur_size 84\n",
      "(cur_row + 1) * cur_size 98\n",
      "cur_image.shape (14, 14)\n",
      "cur_col * cur_size 0\n",
      "(cur_col + 1) * cur_size 14\n",
      "cur_row * cur_size 98\n",
      "(cur_row + 1) * cur_size 112\n",
      "cur_image.shape (14, 14)\n",
      "cur_col * cur_size 0\n",
      "(cur_col + 1) * cur_size 14\n",
      "cur_row * cur_size 112\n",
      "(cur_row + 1) * cur_size 126\n",
      "cur_image.shape (14, 14)\n",
      "cur_col * cur_size 0\n",
      "(cur_col + 1) * cur_size 14\n",
      "cur_row * cur_size 126\n",
      "(cur_row + 1) * cur_size 140\n",
      "cur_image.shape (14, 14)\n",
      "cur_col * cur_size 0\n",
      "(cur_col + 1) * cur_size 14\n",
      "cur_row * cur_size 140\n",
      "(cur_row + 1) * cur_size 154\n",
      "cur_image.shape (14, 14)\n",
      "cur_col * cur_size 0\n",
      "(cur_col + 1) * cur_size 14\n",
      "cur_row * cur_size 154\n",
      "(cur_row + 1) * cur_size 168\n",
      "cur_image.shape (14, 14)\n",
      "cur_col * cur_size 0\n",
      "(cur_col + 1) * cur_size 14\n",
      "cur_row * cur_size 168\n",
      "(cur_row + 1) * cur_size 182\n",
      "cur_image.shape (14, 14)\n",
      "cur_col * cur_size 0\n",
      "(cur_col + 1) * cur_size 14\n",
      "cur_row * cur_size 182\n",
      "(cur_row + 1) * cur_size 196\n",
      "cur_image.shape (14, 14)\n",
      "cur_col * cur_size 0\n",
      "(cur_col + 1) * cur_size 14\n",
      "cur_row * cur_size 196\n",
      "(cur_row + 1) * cur_size 210\n",
      "cur_image.shape (14, 14)\n",
      "cur_col * cur_size 0\n",
      "(cur_col + 1) * cur_size 14\n",
      "cur_row * cur_size 210\n",
      "(cur_row + 1) * cur_size 224\n",
      "cur_image.shape (14, 14)\n",
      "Layer shape (50, 14, 14, 8)\n",
      "n_features 8\n",
      "size 14\n",
      "n_cols 1\n",
      "cur_col * cur_size 0\n",
      "(cur_col + 1) * cur_size 14\n",
      "cur_row * cur_size 0\n",
      "(cur_row + 1) * cur_size 14\n",
      "cur_image.shape (14, 14)\n",
      "cur_col * cur_size 0\n",
      "(cur_col + 1) * cur_size 14\n",
      "cur_row * cur_size 14\n",
      "(cur_row + 1) * cur_size 28\n",
      "cur_image.shape (14, 14)\n",
      "cur_col * cur_size 0\n",
      "(cur_col + 1) * cur_size 14\n",
      "cur_row * cur_size 28\n",
      "(cur_row + 1) * cur_size 42\n",
      "cur_image.shape (14, 14)\n",
      "cur_col * cur_size 0\n",
      "(cur_col + 1) * cur_size 14\n",
      "cur_row * cur_size 42\n",
      "(cur_row + 1) * cur_size 56\n",
      "cur_image.shape (14, 14)\n",
      "cur_col * cur_size 0\n",
      "(cur_col + 1) * cur_size 14\n",
      "cur_row * cur_size 56\n",
      "(cur_row + 1) * cur_size 70\n",
      "cur_image.shape (14, 14)\n",
      "cur_col * cur_size 0\n",
      "(cur_col + 1) * cur_size 14\n",
      "cur_row * cur_size 70\n",
      "(cur_row + 1) * cur_size 84\n",
      "cur_image.shape (14, 14)\n",
      "cur_col * cur_size 0\n",
      "(cur_col + 1) * cur_size 14\n",
      "cur_row * cur_size 84\n",
      "(cur_row + 1) * cur_size 98\n",
      "cur_image.shape (14, 14)\n",
      "cur_col * cur_size 0\n",
      "(cur_col + 1) * cur_size 14\n",
      "cur_row * cur_size 98\n",
      "(cur_row + 1) * cur_size 112\n",
      "cur_image.shape (14, 14)\n",
      "Layer shape (50, 7, 7, 8)\n",
      "n_features 8\n",
      "size 7\n",
      "n_cols 1\n",
      "cur_col * cur_size 0\n",
      "(cur_col + 1) * cur_size 7\n",
      "cur_row * cur_size 0\n",
      "(cur_row + 1) * cur_size 7\n",
      "cur_image.shape (7, 7)\n",
      "cur_col * cur_size 0\n",
      "(cur_col + 1) * cur_size 7\n",
      "cur_row * cur_size 7\n",
      "(cur_row + 1) * cur_size 14\n",
      "cur_image.shape (7, 7)\n",
      "cur_col * cur_size 0\n",
      "(cur_col + 1) * cur_size 7\n",
      "cur_row * cur_size 14\n",
      "(cur_row + 1) * cur_size 21\n",
      "cur_image.shape (7, 7)\n",
      "cur_col * cur_size 0\n",
      "(cur_col + 1) * cur_size 7\n",
      "cur_row * cur_size 21\n",
      "(cur_row + 1) * cur_size 28\n",
      "cur_image.shape (7, 7)\n",
      "cur_col * cur_size 0\n",
      "(cur_col + 1) * cur_size 7\n",
      "cur_row * cur_size 28\n",
      "(cur_row + 1) * cur_size 35\n",
      "cur_image.shape (7, 7)\n",
      "cur_col * cur_size 0\n",
      "(cur_col + 1) * cur_size 7\n",
      "cur_row * cur_size 35\n",
      "(cur_row + 1) * cur_size 42\n",
      "cur_image.shape (7, 7)\n",
      "cur_col * cur_size 0\n",
      "(cur_col + 1) * cur_size 7\n",
      "cur_row * cur_size 42\n",
      "(cur_row + 1) * cur_size 49\n",
      "cur_image.shape (7, 7)\n",
      "cur_col * cur_size 0\n",
      "(cur_col + 1) * cur_size 7\n",
      "cur_row * cur_size 49\n",
      "(cur_row + 1) * cur_size 56\n",
      "cur_image.shape (7, 7)\n",
      "Layer shape (50, 7, 7, 8)\n",
      "n_features 8\n",
      "size 7\n",
      "n_cols 1\n",
      "cur_col * cur_size 0\n",
      "(cur_col + 1) * cur_size 7\n",
      "cur_row * cur_size 0\n",
      "(cur_row + 1) * cur_size 7\n",
      "cur_image.shape (7, 7)\n",
      "cur_col * cur_size 0\n",
      "(cur_col + 1) * cur_size 7\n",
      "cur_row * cur_size 7\n",
      "(cur_row + 1) * cur_size 14\n",
      "cur_image.shape (7, 7)\n",
      "cur_col * cur_size 0\n",
      "(cur_col + 1) * cur_size 7\n",
      "cur_row * cur_size 14\n",
      "(cur_row + 1) * cur_size 21\n",
      "cur_image.shape (7, 7)\n",
      "cur_col * cur_size 0\n",
      "(cur_col + 1) * cur_size 7\n",
      "cur_row * cur_size 21\n",
      "(cur_row + 1) * cur_size 28\n",
      "cur_image.shape (7, 7)\n",
      "cur_col * cur_size 0\n",
      "(cur_col + 1) * cur_size 7\n",
      "cur_row * cur_size 28\n",
      "(cur_row + 1) * cur_size 35\n",
      "cur_image.shape (7, 7)\n",
      "cur_col * cur_size 0\n",
      "(cur_col + 1) * cur_size 7\n",
      "cur_row * cur_size 35\n",
      "(cur_row + 1) * cur_size 42\n",
      "cur_image.shape (7, 7)\n",
      "cur_col * cur_size 0\n",
      "(cur_col + 1) * cur_size 7\n",
      "cur_row * cur_size 42\n",
      "(cur_row + 1) * cur_size 49\n",
      "cur_image.shape (7, 7)\n",
      "cur_col * cur_size 0\n",
      "(cur_col + 1) * cur_size 7\n",
      "cur_row * cur_size 49\n",
      "(cur_row + 1) * cur_size 56\n",
      "cur_image.shape (7, 7)\n",
      "Layer shape (50, 4, 4, 8)\n",
      "n_features 8\n",
      "size 4\n",
      "n_cols 1\n",
      "cur_col * cur_size 0\n",
      "(cur_col + 1) * cur_size 4\n",
      "cur_row * cur_size 0\n",
      "(cur_row + 1) * cur_size 4\n",
      "cur_image.shape (4, 4)\n",
      "cur_col * cur_size 0\n",
      "(cur_col + 1) * cur_size 4\n",
      "cur_row * cur_size 4\n",
      "(cur_row + 1) * cur_size 8\n",
      "cur_image.shape (4, 4)\n",
      "cur_col * cur_size 0\n",
      "(cur_col + 1) * cur_size 4\n",
      "cur_row * cur_size 8\n",
      "(cur_row + 1) * cur_size 12\n",
      "cur_image.shape (4, 4)\n",
      "cur_col * cur_size 0\n",
      "(cur_col + 1) * cur_size 4\n",
      "cur_row * cur_size 12\n",
      "(cur_row + 1) * cur_size 16\n",
      "cur_image.shape (4, 4)\n",
      "cur_col * cur_size 0\n",
      "(cur_col + 1) * cur_size 4\n",
      "cur_row * cur_size 16\n",
      "(cur_row + 1) * cur_size 20\n",
      "cur_image.shape (4, 4)\n",
      "cur_col * cur_size 0\n",
      "(cur_col + 1) * cur_size 4\n",
      "cur_row * cur_size 20\n",
      "(cur_row + 1) * cur_size 24\n",
      "cur_image.shape (4, 4)\n",
      "cur_col * cur_size 0\n",
      "(cur_col + 1) * cur_size 4\n",
      "cur_row * cur_size 24\n",
      "(cur_row + 1) * cur_size 28\n",
      "cur_image.shape (4, 4)\n",
      "cur_col * cur_size 0\n",
      "(cur_col + 1) * cur_size 4\n",
      "cur_row * cur_size 28\n",
      "(cur_row + 1) * cur_size 32\n",
      "cur_image.shape (4, 4)\n"
     ]
    },
    {
     "data": {
      "image/png": "[encoded data removed]",
      "text/plain": [
       "<Figure size 1152x72 with 1 Axes>"
      ]
     },
     "metadata": {
      "needs_background": "light"
     },
     "output_type": "display_data"
    },
    {
     "data": {
      "image/png": "[encoded data removed]",
      "text/plain": [
       "<Figure size 1152x72 with 1 Axes>"
      ]
     },
     "metadata": {
      "needs_background": "light"
     },
     "output_type": "display_data"
    },
    {
     "data": {
      "image/png": "[encoded data removed]",
      "text/plain": [
       "<Figure size 576x72 with 1 Axes>"
      ]
     },
     "metadata": {
      "needs_background": "light"
     },
     "output_type": "display_data"
    },
    {
     "data": {
      "image/png": "[encoded data removed]",
      "text/plain": [
       "<Figure size 576x72 with 1 Axes>"
      ]
     },
     "metadata": {
      "needs_background": "light"
     },
     "output_type": "display_data"
    },
    {
     "data": {
      "image/png": "[encoded data removed]",
      "text/plain": [
       "<Figure size 576x72 with 1 Axes>"
      ]
     },
     "metadata": {
      "needs_background": "light"
     },
     "output_type": "display_data"
    },
    {
     "data": {
      "image/png": "[encoded data removed]",
      "text/plain": [
       "<Figure size 576x72 with 1 Axes>"
      ]
     },
     "metadata": {
      "needs_background": "light"
     },
     "output_type": "display_data"
    }
   ],
   "source": [
    "for layer_name, layer_activation in zip(layer_names, activations): # Displays the feature maps\n",
    "    if 'input' in layer_name:\n",
    "        continue\n",
    "    size, n_cols, grid_dimensions = get_current_layer_display_grid_size(images_per_row, layer_activation)\n",
    "    display_grid = np.zeros(grid_dimensions)\n",
    "    for col in range(n_cols): # Tiles each filter into a big horizontal grid\n",
    "        for row in range(images_per_row):\n",
    "            try:\n",
    "                channel_image = layer_activation[0, :, :, col * images_per_row + row]\n",
    "            except IndexError:\n",
    "                continue\n",
    "            fill_display_grid(display_grid, channel_image, col, row, size)\n",
    "    scale = 1. / size\n",
    "    plt.figure(figsize=(scale * display_grid.shape[1],\n",
    "                        scale * display_grid.shape[0]))\n",
    "    plt.title(layer_name)\n",
    "    plt.grid(False)\n",
    "    plt.imshow(display_grid, aspect='auto', cmap='viridis')"
   ]
  },
  {
   "cell_type": "code",
   "execution_count": 72,
   "metadata": {},
   "outputs": [],
   "source": [
    "def get_plottable_weights(raw_weights_from_get_layer):\n",
    "    # short name\n",
    "    w = raw_weights_from_get_layer\n",
    "    print('in w.shape')\n",
    "    print(w.shape)\n",
    "    if len(w.shape) != 4:\n",
    "        raise ValueError('Unexpected shape of weights')\n",
    "    #w = w.reshape((w.shape[0], w.shape[1], w.shape[2]*w.shape[3])) \n",
    "    #print('shape after reshape')\n",
    "    #print(w.shape)\n",
    "    return w"
   ]
  },
  {
   "cell_type": "code",
   "execution_count": 73,
   "metadata": {},
   "outputs": [
    {
     "name": "stdout",
     "output_type": "stream",
     "text": [
      "input_1\n",
      "conv2d\n",
      "in w.shape\n",
      "(3, 3, 1, 16)\n",
      "Layer shape (3, 3, 1, 16)\n",
      "n_features 16\n",
      "size 3\n",
      "n_cols 1\n",
      "display_grid shape (3, 48)\n",
      "col 0\n",
      "row 0\n",
      "cur_col * cur_size 0\n",
      "(cur_col + 1) * cur_size 3\n",
      "cur_row * cur_size 0\n",
      "(cur_row + 1) * cur_size 3\n",
      "cur_image.shape (3, 3)\n",
      "col 0\n",
      "row 1\n",
      "cur_col * cur_size 0\n",
      "(cur_col + 1) * cur_size 3\n",
      "cur_row * cur_size 3\n",
      "(cur_row + 1) * cur_size 6\n",
      "cur_image.shape (3, 3)\n",
      "col 0\n",
      "row 2\n",
      "cur_col * cur_size 0\n",
      "(cur_col + 1) * cur_size 3\n",
      "cur_row * cur_size 6\n",
      "(cur_row + 1) * cur_size 9\n",
      "cur_image.shape (3, 3)\n",
      "col 0\n",
      "row 3\n",
      "cur_col * cur_size 0\n",
      "(cur_col + 1) * cur_size 3\n",
      "cur_row * cur_size 9\n",
      "(cur_row + 1) * cur_size 12\n",
      "cur_image.shape (3, 3)\n",
      "col 0\n",
      "row 4\n",
      "cur_col * cur_size 0\n",
      "(cur_col + 1) * cur_size 3\n",
      "cur_row * cur_size 12\n",
      "(cur_row + 1) * cur_size 15\n",
      "cur_image.shape (3, 3)\n",
      "col 0\n",
      "row 5\n",
      "cur_col * cur_size 0\n",
      "(cur_col + 1) * cur_size 3\n",
      "cur_row * cur_size 15\n",
      "(cur_row + 1) * cur_size 18\n",
      "cur_image.shape (3, 3)\n",
      "col 0\n",
      "row 6\n",
      "cur_col * cur_size 0\n",
      "(cur_col + 1) * cur_size 3\n",
      "cur_row * cur_size 18\n",
      "(cur_row + 1) * cur_size 21\n",
      "cur_image.shape (3, 3)\n",
      "col 0\n",
      "row 7\n",
      "cur_col * cur_size 0\n",
      "(cur_col + 1) * cur_size 3\n",
      "cur_row * cur_size 21\n",
      "(cur_row + 1) * cur_size 24\n",
      "cur_image.shape (3, 3)\n",
      "col 0\n",
      "row 8\n",
      "cur_col * cur_size 0\n",
      "(cur_col + 1) * cur_size 3\n",
      "cur_row * cur_size 24\n",
      "(cur_row + 1) * cur_size 27\n",
      "cur_image.shape (3, 3)\n",
      "col 0\n",
      "row 9\n",
      "cur_col * cur_size 0\n",
      "(cur_col + 1) * cur_size 3\n",
      "cur_row * cur_size 27\n",
      "(cur_row + 1) * cur_size 30\n",
      "cur_image.shape (3, 3)\n",
      "col 0\n",
      "row 10\n",
      "cur_col * cur_size 0\n",
      "(cur_col + 1) * cur_size 3\n",
      "cur_row * cur_size 30\n",
      "(cur_row + 1) * cur_size 33\n",
      "cur_image.shape (3, 3)\n",
      "col 0\n",
      "row 11\n",
      "cur_col * cur_size 0\n",
      "(cur_col + 1) * cur_size 3\n",
      "cur_row * cur_size 33\n",
      "(cur_row + 1) * cur_size 36\n",
      "cur_image.shape (3, 3)\n",
      "col 0\n",
      "row 12\n",
      "cur_col * cur_size 0\n",
      "(cur_col + 1) * cur_size 3\n",
      "cur_row * cur_size 36\n",
      "(cur_row + 1) * cur_size 39\n",
      "cur_image.shape (3, 3)\n",
      "col 0\n",
      "row 13\n",
      "cur_col * cur_size 0\n",
      "(cur_col + 1) * cur_size 3\n",
      "cur_row * cur_size 39\n",
      "(cur_row + 1) * cur_size 42\n",
      "cur_image.shape (3, 3)\n",
      "col 0\n",
      "row 14\n",
      "cur_col * cur_size 0\n",
      "(cur_col + 1) * cur_size 3\n",
      "cur_row * cur_size 42\n",
      "(cur_row + 1) * cur_size 45\n",
      "cur_image.shape (3, 3)\n",
      "col 0\n",
      "row 15\n",
      "cur_col * cur_size 0\n",
      "(cur_col + 1) * cur_size 3\n",
      "cur_row * cur_size 45\n",
      "(cur_row + 1) * cur_size 48\n",
      "cur_image.shape (3, 3)\n",
      "max_pooling2d\n",
      "conv2d_1\n",
      "in w.shape\n",
      "(3, 3, 16, 8)\n",
      "Layer shape (3, 3, 16, 8)\n",
      "n_features 8\n",
      "size 3\n",
      "n_cols 1\n",
      "display_grid shape (3, 24)\n",
      "col 0\n",
      "row 0\n",
      "cur_col * cur_size 0\n",
      "(cur_col + 1) * cur_size 3\n",
      "cur_row * cur_size 0\n",
      "(cur_row + 1) * cur_size 3\n",
      "cur_image.shape (3, 3)\n",
      "col 0\n",
      "row 1\n",
      "cur_col * cur_size 0\n",
      "(cur_col + 1) * cur_size 3\n",
      "cur_row * cur_size 3\n",
      "(cur_row + 1) * cur_size 6\n",
      "cur_image.shape (3, 3)\n",
      "col 0\n",
      "row 2\n",
      "cur_col * cur_size 0\n",
      "(cur_col + 1) * cur_size 3\n",
      "cur_row * cur_size 6\n",
      "(cur_row + 1) * cur_size 9\n",
      "cur_image.shape (3, 3)\n",
      "col 0\n",
      "row 3\n",
      "cur_col * cur_size 0\n",
      "(cur_col + 1) * cur_size 3\n",
      "cur_row * cur_size 9\n",
      "(cur_row + 1) * cur_size 12\n",
      "cur_image.shape (3, 3)\n",
      "col 0\n",
      "row 4\n",
      "cur_col * cur_size 0\n",
      "(cur_col + 1) * cur_size 3\n",
      "cur_row * cur_size 12\n",
      "(cur_row + 1) * cur_size 15\n",
      "cur_image.shape (3, 3)\n",
      "col 0\n",
      "row 5\n",
      "cur_col * cur_size 0\n",
      "(cur_col + 1) * cur_size 3\n",
      "cur_row * cur_size 15\n",
      "(cur_row + 1) * cur_size 18\n",
      "cur_image.shape (3, 3)\n",
      "col 0\n",
      "row 6\n",
      "cur_col * cur_size 0\n",
      "(cur_col + 1) * cur_size 3\n",
      "cur_row * cur_size 18\n",
      "(cur_row + 1) * cur_size 21\n",
      "cur_image.shape (3, 3)\n",
      "col 0\n",
      "row 7\n",
      "cur_col * cur_size 0\n",
      "(cur_col + 1) * cur_size 3\n",
      "cur_row * cur_size 21\n",
      "(cur_row + 1) * cur_size 24\n",
      "cur_image.shape (3, 3)\n",
      "max_pooling2d_1\n",
      "conv2d_2\n",
      "in w.shape\n",
      "(3, 3, 8, 8)\n",
      "Layer shape (3, 3, 8, 8)\n",
      "n_features 8\n",
      "size 3\n",
      "n_cols 1\n",
      "display_grid shape (3, 24)\n",
      "col 0\n",
      "row 0\n",
      "cur_col * cur_size 0\n",
      "(cur_col + 1) * cur_size 3\n",
      "cur_row * cur_size 0\n",
      "(cur_row + 1) * cur_size 3\n",
      "cur_image.shape (3, 3)\n",
      "col 0\n",
      "row 1\n",
      "cur_col * cur_size 0\n",
      "(cur_col + 1) * cur_size 3\n",
      "cur_row * cur_size 3\n",
      "(cur_row + 1) * cur_size 6\n",
      "cur_image.shape (3, 3)\n",
      "col 0\n",
      "row 2\n",
      "cur_col * cur_size 0\n",
      "(cur_col + 1) * cur_size 3\n",
      "cur_row * cur_size 6\n",
      "(cur_row + 1) * cur_size 9\n",
      "cur_image.shape (3, 3)\n",
      "col 0\n",
      "row 3\n",
      "cur_col * cur_size 0\n",
      "(cur_col + 1) * cur_size 3\n",
      "cur_row * cur_size 9\n",
      "(cur_row + 1) * cur_size 12\n",
      "cur_image.shape (3, 3)\n",
      "col 0\n",
      "row 4\n",
      "cur_col * cur_size 0\n",
      "(cur_col + 1) * cur_size 3\n",
      "cur_row * cur_size 12\n",
      "(cur_row + 1) * cur_size 15\n",
      "cur_image.shape (3, 3)\n",
      "col 0\n",
      "row 5\n",
      "cur_col * cur_size 0\n",
      "(cur_col + 1) * cur_size 3\n",
      "cur_row * cur_size 15\n",
      "(cur_row + 1) * cur_size 18\n",
      "cur_image.shape (3, 3)\n",
      "col 0\n",
      "row 6\n",
      "cur_col * cur_size 0\n",
      "(cur_col + 1) * cur_size 3\n",
      "cur_row * cur_size 18\n",
      "(cur_row + 1) * cur_size 21\n",
      "cur_image.shape (3, 3)\n",
      "col 0\n",
      "row 7\n",
      "cur_col * cur_size 0\n",
      "(cur_col + 1) * cur_size 3\n",
      "cur_row * cur_size 21\n",
      "(cur_row + 1) * cur_size 24\n",
      "cur_image.shape (3, 3)\n",
      "max_pooling2d_2\n"
     ]
    },
    {
     "data": {
      "image/png": "[encoded data removed]",
      "text/plain": [
       "<Figure size 1152x72 with 1 Axes>"
      ]
     },
     "metadata": {
      "needs_background": "light"
     },
     "output_type": "display_data"
    },
    {
     "data": {
      "image/png": "[encoded data removed]",
      "text/plain": [
       "<Figure size 576x72 with 1 Axes>"
      ]
     },
     "metadata": {
      "needs_background": "light"
     },
     "output_type": "display_data"
    },
    {
     "data": {
      "image/png": "[encoded data removed]",
      "text/plain": [
       "<Figure size 576x72 with 1 Axes>"
      ]
     },
     "metadata": {
      "needs_background": "light"
     },
     "output_type": "display_data"
    }
   ],
   "source": [
    "neuron = 0\n",
    "for layer_name in layer_names:\n",
    "    print(layer_name)\n",
    "    if 'conv2d' not in layer_name:\n",
    "        continue\n",
    "    \n",
    "    weights = autoencoder.get_layer(name=layer_name).get_weights()[0]\n",
    "    for_plot = get_plottable_weights(weights)\n",
    "    \n",
    "    \n",
    "    size, n_cols, grid_dimensions = get_current_layer_display_grid_size(images_per_row, for_plot)\n",
    "    display_grid = np.zeros(grid_dimensions)\n",
    "    print(f'display_grid shape {display_grid.shape}')\n",
    "    for col in range(n_cols):\n",
    "        for row in range(images_per_row):\n",
    "            try:\n",
    "                channel_image = for_plot[:, :, neuron, col * images_per_row + row]\n",
    "            except IndexError:\n",
    "                continue\n",
    "            print(f'col {col}')\n",
    "            print(f'row {row}')\n",
    "            fill_display_grid(display_grid, channel_image, col, row, size)\n",
    "\n",
    "    scale = 1.0 / size\n",
    "    plt.figure(figsize=(scale * display_grid.shape[1],\n",
    "                        scale * display_grid.shape[0]))\n",
    "    plt.title(layer_name)\n",
    "    plt.grid(False)\n",
    "    plt.imshow(display_grid, aspect='auto', cmap='viridis')"
   ]
  },
  {
   "cell_type": "code",
   "execution_count": null,
   "metadata": {},
   "outputs": [],
   "source": []
  },
  {
   "cell_type": "code",
   "execution_count": null,
   "metadata": {},
   "outputs": [],
   "source": []
  }
 ],
 "metadata": {
  "kernelspec": {
   "display_name": "Python 3",
   "language": "python",
   "name": "python3"
  },
  "language_info": {
   "codemirror_mode": {
    "name": "ipython",
    "version": 3
   },
   "file_extension": ".py",
   "mimetype": "text/x-python",
   "name": "python",
   "nbconvert_exporter": "python",
   "pygments_lexer": "ipython3",
   "version": "3.8.2"
  }
 },
 "nbformat": 4,
 "nbformat_minor": 4
}
