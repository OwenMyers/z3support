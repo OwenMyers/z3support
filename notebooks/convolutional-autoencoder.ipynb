{
 "cells": [
  {
   "cell_type": "code",
   "execution_count": 1,
   "metadata": {},
   "outputs": [],
   "source": [
    "%matplotlib inline\n",
    "\n",
    "from keras.layers import Input, Dense, Conv2D, Conv2DTranspose, MaxPooling2D, UpSampling2D\n",
    "from keras.models import Model\n",
    "from keras import backend as K\n",
    "from keras.datasets import mnist\n",
    "from keras.callbacks import TensorBoard\n",
    "import numpy as np\n",
    "import pickle\n",
    "from datetime import datetime\n",
    "from keras.callbacks import ModelCheckpoint\n",
    "from keras import models\n",
    "from matplotlib import pyplot as plt\n",
    "\n",
    "(x_train, _), (x_test, _) = mnist.load_data()"
   ]
  },
  {
   "cell_type": "code",
   "execution_count": 2,
   "metadata": {},
   "outputs": [],
   "source": [
    "RUN_ON_MNIST = True\n",
    "L = 4"
   ]
  },
  {
   "cell_type": "code",
   "execution_count": 3,
   "metadata": {},
   "outputs": [],
   "source": [
    "CHECKPOINTER = ModelCheckpoint(filepath='model_checkpoit.hdf5', \n",
    "                               monitor='val_loss',\n",
    "                               verbose=1, \n",
    "                               save_best_only=True,\n",
    "                               mode='auto')"
   ]
  },
  {
   "cell_type": "markdown",
   "metadata": {},
   "source": [
    "# Notes:\n",
    "* Add `Input` argument `channels_first` when using Z3 data and \n",
    "  change the input dimensions.\n",
    "* You will have to manualy add periodic edges for periodic padding before real runn\n",
    "* **requires** running the transform notebook to get the data into a format for the auto encoder"
   ]
  },
  {
   "cell_type": "code",
   "execution_count": 4,
   "metadata": {},
   "outputs": [],
   "source": [
    "if RUN_ON_MNIST:\n",
    "    input_obj = Input(shape=(28, 28, 1))\n",
    "    x = Conv2D(16, (3, 3), activation='relu', padding='same')(input_obj)\n",
    "    x = MaxPooling2D((2, 2), padding='same')(x)\n",
    "    x = Conv2D(8, (3, 3), activation='relu', padding='same')(x)\n",
    "    x = MaxPooling2D((2, 2), padding='same')(x)\n",
    "    x = Conv2D(8, (3, 3), activation='relu', padding='same')(x)\n",
    "    encoded = MaxPooling2D((2, 2), padding='same')(x)\n",
    "    \n",
    "    x = Conv2D(8, (3, 3), activation='relu', padding='same')(encoded)\n",
    "    x = UpSampling2D((2, 2))(x)\n",
    "    x = Conv2D(8, (3, 3), activation='relu', padding='same')(x)\n",
    "    x = UpSampling2D((2, 2))(x)\n",
    "    x = Conv2D(16, (3, 3), activation='relu')(x)\n",
    "    x = UpSampling2D((2, 2))(x)\n",
    "    decoded = Conv2D(1, (3, 3), activation='sigmoid', padding='same')(x)  \n",
    "\n",
    "else:\n",
    "    input_obj = Input(shape=(L*2, L*2, 1))\n",
    "    x = Conv2D(16, (3, 3), strides=2, activation='relu', padding='same', use_bias=True)(input_obj)\n",
    "    encoded = Conv2D(32, (3, 3), strides=2, activation='relu', padding='same', use_bias=True)(x)\n",
    "    x = Conv2DTranspose(16, (3, 3), strides=2, activation='relu', padding='same', use_bias=True)(encoded)\n",
    "    decoded = Conv2DTranspose(1, (3, 3), strides=2, activation='relu', padding='same', use_bias=True)(x)\n",
    "\n",
    "autoencoder = Model(input_obj, decoded)\n",
    "autoencoder.compile(optimizer='adadelta', loss='binary_crossentropy')"
   ]
  },
  {
   "cell_type": "code",
   "execution_count": 5,
   "metadata": {},
   "outputs": [
    {
     "name": "stdout",
     "output_type": "stream",
     "text": [
      "Model: \"model\"\n",
      "_________________________________________________________________\n",
      "Layer (type)                 Output Shape              Param #   \n",
      "=================================================================\n",
      "input_1 (InputLayer)         [(None, 28, 28, 1)]       0         \n",
      "_________________________________________________________________\n",
      "conv2d (Conv2D)              (None, 28, 28, 16)        160       \n",
      "_________________________________________________________________\n",
      "max_pooling2d (MaxPooling2D) (None, 14, 14, 16)        0         \n",
      "_________________________________________________________________\n",
      "conv2d_1 (Conv2D)            (None, 14, 14, 8)         1160      \n",
      "_________________________________________________________________\n",
      "max_pooling2d_1 (MaxPooling2 (None, 7, 7, 8)           0         \n",
      "_________________________________________________________________\n",
      "conv2d_2 (Conv2D)            (None, 7, 7, 8)           584       \n",
      "_________________________________________________________________\n",
      "max_pooling2d_2 (MaxPooling2 (None, 4, 4, 8)           0         \n",
      "_________________________________________________________________\n",
      "conv2d_3 (Conv2D)            (None, 4, 4, 8)           584       \n",
      "_________________________________________________________________\n",
      "up_sampling2d (UpSampling2D) (None, 8, 8, 8)           0         \n",
      "_________________________________________________________________\n",
      "conv2d_4 (Conv2D)            (None, 8, 8, 8)           584       \n",
      "_________________________________________________________________\n",
      "up_sampling2d_1 (UpSampling2 (None, 16, 16, 8)         0         \n",
      "_________________________________________________________________\n",
      "conv2d_5 (Conv2D)            (None, 14, 14, 16)        1168      \n",
      "_________________________________________________________________\n",
      "up_sampling2d_2 (UpSampling2 (None, 28, 28, 16)        0         \n",
      "_________________________________________________________________\n",
      "conv2d_6 (Conv2D)            (None, 28, 28, 1)         145       \n",
      "=================================================================\n",
      "Total params: 4,385\n",
      "Trainable params: 4,385\n",
      "Non-trainable params: 0\n",
      "_________________________________________________________________\n"
     ]
    }
   ],
   "source": [
    "autoencoder.summary()"
   ]
  },
  {
   "cell_type": "code",
   "execution_count": 6,
   "metadata": {},
   "outputs": [],
   "source": [
    "if RUN_ON_MNIST:\n",
    "    x_train = x_train.astype('float32') / 255.\n",
    "    x_test = x_test.astype('float32') / 255.\n",
    "    x_train = np.reshape(x_train, (len(x_train), 28, 28, 1))  # adapt this if using `channels_first` image data format\n",
    "    x_test = np.reshape(x_test, (len(x_test), 28, 28, 1))  # adapt this if using `channels_first` image data format\n",
    "else:\n",
    "    with open('pickle_data.pkl', 'rb') as f:\n",
    "        all_data = pickle.load(f)\n",
    "    all_data = all_data.astype('float32') / 5.0\n",
    "    n_records = len(all_data)\n",
    "    x_train = all_data[: n_records - int(n_records/4)]\n",
    "    x_test = all_data[int(n_records/4) :]\n",
    "    x_train = np.reshape(x_train, (len(x_train), L * 2, L * 2, 1))\n",
    "    x_test = np.reshape(x_test, (len(x_test), L * 2, L * 2, 1))"
   ]
  },
  {
   "cell_type": "code",
   "execution_count": 7,
   "metadata": {},
   "outputs": [
    {
     "data": {
      "text/plain": [
       "(60000, 28, 28, 1)"
      ]
     },
     "execution_count": 7,
     "metadata": {},
     "output_type": "execute_result"
    }
   ],
   "source": [
    "x_train.shape"
   ]
  },
  {
   "cell_type": "code",
   "execution_count": 8,
   "metadata": {},
   "outputs": [
    {
     "name": "stdout",
     "output_type": "stream",
     "text": [
      "Epoch 1/20\n",
      "399/400 [============================>.] - ETA: 0s - loss: 0.6913\n",
      "Epoch 00001: val_loss improved from inf to 0.68981, saving model to model_checkpoit.hdf5\n",
      "400/400 [==============================] - 10s 24ms/step - loss: 0.6913 - val_loss: 0.6898\n",
      "Epoch 2/20\n",
      "400/400 [==============================] - ETA: 0s - loss: 0.6880\n",
      "Epoch 00002: val_loss improved from 0.68981 to 0.68597, saving model to model_checkpoit.hdf5\n",
      "400/400 [==============================] - 10s 24ms/step - loss: 0.6880 - val_loss: 0.6860\n",
      "Epoch 3/20\n",
      "399/400 [============================>.] - ETA: 0s - loss: 0.6834\n",
      "Epoch 00003: val_loss improved from 0.68597 to 0.68032, saving model to model_checkpoit.hdf5\n",
      "400/400 [==============================] - 9s 24ms/step - loss: 0.6833 - val_loss: 0.6803\n",
      "Epoch 4/20\n",
      "398/400 [============================>.] - ETA: 0s - loss: 0.6761\n",
      "Epoch 00004: val_loss improved from 0.68032 to 0.67093, saving model to model_checkpoit.hdf5\n",
      "400/400 [==============================] - 10s 24ms/step - loss: 0.6761 - val_loss: 0.6709\n",
      "Epoch 5/20\n",
      "398/400 [============================>.] - ETA: 0s - loss: 0.6627\n",
      "Epoch 00005: val_loss improved from 0.67093 to 0.65200, saving model to model_checkpoit.hdf5\n",
      "400/400 [==============================] - 10s 26ms/step - loss: 0.6627 - val_loss: 0.6520\n",
      "Epoch 6/20\n",
      "398/400 [============================>.] - ETA: 0s - loss: 0.6321\n",
      "Epoch 00006: val_loss improved from 0.65200 to 0.60435, saving model to model_checkpoit.hdf5\n",
      "400/400 [==============================] - 11s 28ms/step - loss: 0.6319 - val_loss: 0.6044\n",
      "Epoch 7/20\n",
      "400/400 [==============================] - ETA: 0s - loss: 0.5586\n",
      "Epoch 00007: val_loss improved from 0.60435 to 0.51394, saving model to model_checkpoit.hdf5\n",
      "400/400 [==============================] - 10s 25ms/step - loss: 0.5586 - val_loss: 0.5139\n",
      "Epoch 8/20\n",
      "400/400 [==============================] - ETA: 0s - loss: 0.4946\n",
      "Epoch 00008: val_loss improved from 0.51394 to 0.48739, saving model to model_checkpoit.hdf5\n",
      "400/400 [==============================] - 11s 26ms/step - loss: 0.4946 - val_loss: 0.4874\n",
      "Epoch 9/20\n",
      "400/400 [==============================] - ETA: 0s - loss: 0.4821\n",
      "Epoch 00009: val_loss improved from 0.48739 to 0.48044, saving model to model_checkpoit.hdf5\n",
      "400/400 [==============================] - 11s 27ms/step - loss: 0.4821 - val_loss: 0.4804\n",
      "Epoch 10/20\n",
      "400/400 [==============================] - ETA: 0s - loss: 0.4758\n",
      "Epoch 00010: val_loss improved from 0.48044 to 0.47452, saving model to model_checkpoit.hdf5\n",
      "400/400 [==============================] - 10s 25ms/step - loss: 0.4758 - val_loss: 0.4745\n",
      "Epoch 11/20\n",
      "399/400 [============================>.] - ETA: 0s - loss: 0.4701\n",
      "Epoch 00011: val_loss improved from 0.47452 to 0.46884, saving model to model_checkpoit.hdf5\n",
      "400/400 [==============================] - 11s 26ms/step - loss: 0.4701 - val_loss: 0.4688\n",
      "Epoch 12/20\n",
      "399/400 [============================>.] - ETA: 0s - loss: 0.4645\n",
      "Epoch 00012: val_loss improved from 0.46884 to 0.46309, saving model to model_checkpoit.hdf5\n",
      "400/400 [==============================] - 10s 25ms/step - loss: 0.4644 - val_loss: 0.4631\n",
      "Epoch 13/20\n",
      "398/400 [============================>.] - ETA: 0s - loss: 0.4587\n",
      "Epoch 00013: val_loss improved from 0.46309 to 0.45712, saving model to model_checkpoit.hdf5\n",
      "400/400 [==============================] - 10s 24ms/step - loss: 0.4587 - val_loss: 0.4571\n",
      "Epoch 14/20\n",
      "399/400 [============================>.] - ETA: 0s - loss: 0.4526\n",
      "Epoch 00014: val_loss improved from 0.45712 to 0.45082, saving model to model_checkpoit.hdf5\n",
      "400/400 [==============================] - 10s 24ms/step - loss: 0.4526 - val_loss: 0.4508\n",
      "Epoch 15/20\n",
      "400/400 [==============================] - ETA: 0s - loss: 0.4462\n",
      "Epoch 00015: val_loss improved from 0.45082 to 0.44407, saving model to model_checkpoit.hdf5\n",
      "400/400 [==============================] - 10s 24ms/step - loss: 0.4462 - val_loss: 0.4441\n",
      "Epoch 16/20\n",
      "400/400 [==============================] - ETA: 0s - loss: 0.4393\n",
      "Epoch 00016: val_loss improved from 0.44407 to 0.43686, saving model to model_checkpoit.hdf5\n",
      "400/400 [==============================] - 11s 27ms/step - loss: 0.4393 - val_loss: 0.4369\n",
      "Epoch 17/20\n",
      "398/400 [============================>.] - ETA: 0s - loss: 0.4319\n",
      "Epoch 00017: val_loss improved from 0.43686 to 0.42907, saving model to model_checkpoit.hdf5\n",
      "400/400 [==============================] - 11s 27ms/step - loss: 0.4319 - val_loss: 0.4291\n",
      "Epoch 18/20\n",
      "400/400 [==============================] - ETA: 0s - loss: 0.4238\n",
      "Epoch 00018: val_loss improved from 0.42907 to 0.42056, saving model to model_checkpoit.hdf5\n",
      "400/400 [==============================] - 11s 28ms/step - loss: 0.4238 - val_loss: 0.4206\n",
      "Epoch 19/20\n",
      "400/400 [==============================] - ETA: 0s - loss: 0.4151\n",
      "Epoch 00019: val_loss improved from 0.42056 to 0.41134, saving model to model_checkpoit.hdf5\n",
      "400/400 [==============================] - 11s 26ms/step - loss: 0.4151 - val_loss: 0.4113\n",
      "Epoch 20/20\n",
      "399/400 [============================>.] - ETA: 0s - loss: 0.4057\n",
      "Epoch 00020: val_loss improved from 0.41134 to 0.40172, saving model to model_checkpoit.hdf5\n",
      "400/400 [==============================] - 10s 26ms/step - loss: 0.4057 - val_loss: 0.4017\n"
     ]
    }
   ],
   "source": [
    "history = autoencoder.fit(\n",
    "    x_train[: 20000], x_train[: 20000],\n",
    "    epochs=20,\n",
    "    batch_size=50,\n",
    "    shuffle=True,\n",
    "    validation_data=(x_test, x_test),\n",
    "    callbacks=[\n",
    "        TensorBoard(log_dir='/tmp/autoencoder/{}'.format(datetime.now())),\n",
    "        CHECKPOINTER\n",
    "    ]\n",
    ")"
   ]
  },
  {
   "cell_type": "code",
   "execution_count": 9,
   "metadata": {},
   "outputs": [
    {
     "name": "stdout",
     "output_type": "stream",
     "text": [
      "loss\n",
      "val_loss\n"
     ]
    }
   ],
   "source": [
    "for key in history.history:\n",
    "    print(key)"
   ]
  },
  {
   "cell_type": "code",
   "execution_count": 10,
   "metadata": {},
   "outputs": [],
   "source": [
    "autoencoder.load_weights('model_checkpoit.hdf5')"
   ]
  },
  {
   "cell_type": "code",
   "execution_count": 11,
   "metadata": {},
   "outputs": [],
   "source": [
    "autoencoder.save('models/best_non_hparam_autoencoder.h5')"
   ]
  },
  {
   "cell_type": "markdown",
   "metadata": {},
   "source": [
    "# Make a specific model for the activation tensors "
   ]
  },
  {
   "cell_type": "code",
   "execution_count": 12,
   "metadata": {},
   "outputs": [],
   "source": [
    "layers_to_encoded = int(len(autoencoder.layers)/2)"
   ]
  },
  {
   "cell_type": "code",
   "execution_count": 13,
   "metadata": {},
   "outputs": [
    {
     "data": {
      "text/plain": [
       "[<tensorflow.python.keras.engine.input_layer.InputLayer at 0x7f665c918f10>,\n",
       " <tensorflow.python.keras.layers.convolutional.Conv2D at 0x7f665c917760>,\n",
       " <tensorflow.python.keras.layers.pooling.MaxPooling2D at 0x7f665c917fd0>,\n",
       " <tensorflow.python.keras.layers.convolutional.Conv2D at 0x7f665c917d90>,\n",
       " <tensorflow.python.keras.layers.pooling.MaxPooling2D at 0x7f665c917c70>,\n",
       " <tensorflow.python.keras.layers.convolutional.Conv2D at 0x7f665c096700>,\n",
       " <tensorflow.python.keras.layers.pooling.MaxPooling2D at 0x7f665c064b20>,\n",
       " <tensorflow.python.keras.layers.convolutional.Conv2D at 0x7f665c09dd90>,\n",
       " <tensorflow.python.keras.layers.convolutional.UpSampling2D at 0x7f665c09dac0>,\n",
       " <tensorflow.python.keras.layers.convolutional.Conv2D at 0x7f665c02e970>,\n",
       " <tensorflow.python.keras.layers.convolutional.UpSampling2D at 0x7f665c02e3d0>,\n",
       " <tensorflow.python.keras.layers.convolutional.Conv2D at 0x7f665c031dc0>,\n",
       " <tensorflow.python.keras.layers.convolutional.UpSampling2D at 0x7f665c0375e0>,\n",
       " <tensorflow.python.keras.layers.convolutional.Conv2D at 0x7f665c040b50>]"
      ]
     },
     "execution_count": 13,
     "metadata": {},
     "output_type": "execute_result"
    }
   ],
   "source": [
    "autoencoder.layers"
   ]
  },
  {
   "cell_type": "code",
   "execution_count": 14,
   "metadata": {},
   "outputs": [],
   "source": [
    "layer_activations = [layer.output for layer in autoencoder.layers[:layers_to_encoded]]"
   ]
  },
  {
   "cell_type": "code",
   "execution_count": 15,
   "metadata": {},
   "outputs": [],
   "source": [
    "activation_model = models.Model(\n",
    "    inputs=autoencoder.input,\n",
    "    outputs=layer_activations\n",
    ")"
   ]
  },
  {
   "cell_type": "code",
   "execution_count": 16,
   "metadata": {},
   "outputs": [
    {
     "data": {
      "text/plain": [
       "(10000, 28, 28, 1)"
      ]
     },
     "execution_count": 16,
     "metadata": {},
     "output_type": "execute_result"
    }
   ],
   "source": [
    "x_test.shape"
   ]
  },
  {
   "cell_type": "code",
   "execution_count": 19,
   "metadata": {},
   "outputs": [],
   "source": [
    "single_image = x_test[20]\n",
    "activations = activation_model.predict(x_test[:50])"
   ]
  },
  {
   "cell_type": "code",
   "execution_count": 20,
   "metadata": {},
   "outputs": [
    {
     "data": {
      "text/plain": [
       "<matplotlib.image.AxesImage at 0x7f66540d8a30>"
      ]
     },
     "execution_count": 20,
     "metadata": {},
     "output_type": "execute_result"
    },
    {
     "data": {
      "image/png": "[encoded data removed]",
      "text/plain": [
       "<Figure size 288x288 with 1 Axes>"
      ]
     },
     "metadata": {
      "needs_background": "light"
     },
     "output_type": "display_data"
    }
   ],
   "source": [
    "plt.matshow(single_image[:, :, 0])"
   ]
  },
  {
   "cell_type": "code",
   "execution_count": 21,
   "metadata": {},
   "outputs": [
    {
     "data": {
      "text/plain": [
       "7"
      ]
     },
     "execution_count": 21,
     "metadata": {},
     "output_type": "execute_result"
    }
   ],
   "source": [
    "len(activations)"
   ]
  },
  {
   "cell_type": "code",
   "execution_count": 22,
   "metadata": {},
   "outputs": [],
   "source": [
    "first_layer_activation = activations[0]"
   ]
  },
  {
   "cell_type": "code",
   "execution_count": 23,
   "metadata": {},
   "outputs": [
    {
     "data": {
      "text/plain": [
       "(50, 28, 28, 1)"
      ]
     },
     "execution_count": 23,
     "metadata": {},
     "output_type": "execute_result"
    }
   ],
   "source": [
    "first_layer_activation.shape"
   ]
  },
  {
   "cell_type": "code",
   "execution_count": 24,
   "metadata": {},
   "outputs": [
    {
     "data": {
      "text/plain": [
       "<matplotlib.image.AxesImage at 0x7f6654093dc0>"
      ]
     },
     "execution_count": 24,
     "metadata": {},
     "output_type": "execute_result"
    },
    {
     "data": {
      "image/png": "[encoded data removed]",
      "text/plain": [
       "<Figure size 288x288 with 1 Axes>"
      ]
     },
     "metadata": {
      "needs_background": "light"
     },
     "output_type": "display_data"
    }
   ],
   "source": [
    "plt.matshow(first_layer_activation[1, :, :, 0], cmap='viridis')"
   ]
  },
  {
   "cell_type": "code",
   "execution_count": 27,
   "metadata": {},
   "outputs": [
    {
     "name": "stdout",
     "output_type": "stream",
     "text": [
      "Layer_activation shape (50, 28, 28, 16);    Layer name conv2d\n",
      "Size 28;  N Features 16;  N Cols 1\n",
      "Layer_activation shape (50, 14, 14, 16);    Layer name max_pooling2d\n",
      "Size 14;  N Features 16;  N Cols 1\n",
      "Layer_activation shape (50, 14, 14, 8);    Layer name conv2d_1\n",
      "Size 14;  N Features 8;  N Cols 1\n",
      "Layer_activation shape (50, 7, 7, 8);    Layer name max_pooling2d_1\n",
      "Size 7;  N Features 8;  N Cols 1\n",
      "Layer_activation shape (50, 7, 7, 8);    Layer name conv2d_2\n",
      "Size 7;  N Features 8;  N Cols 1\n",
      "Layer_activation shape (50, 4, 4, 8);    Layer name max_pooling2d_2\n",
      "Size 4;  N Features 8;  N Cols 1\n"
     ]
    },
    {
     "name": "stderr",
     "output_type": "stream",
     "text": [
      "<ipython-input-27-70d53c1b9ac5>:25: RuntimeWarning: invalid value encountered in true_divide\n",
      "  channel_image /= channel_image.std()\n"
     ]
    },
    {
     "data": {
      "image/png": "[encoded data removed]",
      "text/plain": [
       "<Figure size 1152x72 with 1 Axes>"
      ]
     },
     "metadata": {
      "needs_background": "light"
     },
     "output_type": "display_data"
    },
    {
     "data": {
      "image/png": "[encoded data removed]",
      "text/plain": [
       "<Figure size 1152x72 with 1 Axes>"
      ]
     },
     "metadata": {
      "needs_background": "light"
     },
     "output_type": "display_data"
    },
    {
     "data": {
      "image/png": "[encoded data removed]",
      "text/plain": [
       "<Figure size 1152x72 with 1 Axes>"
      ]
     },
     "metadata": {
      "needs_background": "light"
     },
     "output_type": "display_data"
    },
    {
     "data": {
      "image/png": "[encoded data removed]",
      "text/plain": [
       "<Figure size 1152x72 with 1 Axes>"
      ]
     },
     "metadata": {
      "needs_background": "light"
     },
     "output_type": "display_data"
    },
    {
     "data": {
      "image/png": "[encoded data removed]",
      "text/plain": [
       "<Figure size 1152x72 with 1 Axes>"
      ]
     },
     "metadata": {
      "needs_background": "light"
     },
     "output_type": "display_data"
    },
    {
     "data": {
      "image/png": "[encoded data removed]",
      "text/plain": [
       "<Figure size 1152x72 with 1 Axes>"
      ]
     },
     "metadata": {
      "needs_background": "light"
     },
     "output_type": "display_data"
    }
   ],
   "source": [
    "layer_names = []\n",
    "for layer in autoencoder.layers[:layers_to_encoded]:\n",
    "    layer_names.append(layer.name) # Names of the layers, so you can have them as part of your plot\n",
    "    \n",
    "images_per_row = 16\n",
    "\n",
    "c = 0\n",
    "for layer_name, layer_activation in zip(layer_names, activations): # Displays the feature maps\n",
    "    if c == 0:\n",
    "        c += 1\n",
    "        continue\n",
    "    print(f'Layer_activation shape {layer_activation.shape};    Layer name {layer_name}')\n",
    "    n_features = layer_activation.shape[-1] # Number of features in the feature map\n",
    "    size = layer_activation.shape[1] #The feature map has shape (1, size, size, n_features).\n",
    "    n_cols = max([n_features // images_per_row, 1]) # Tiles the activation channels in this matrix\n",
    "    print('Size {};  N Features {};  N Cols {}'.format(size, n_features, n_cols))\n",
    "    display_grid = np.zeros((size * n_cols, images_per_row * size))\n",
    "    for col in range(n_cols): # Tiles each filter into a big horizontal grid\n",
    "        for row in range(images_per_row):\n",
    "            try:\n",
    "                channel_image = layer_activation[0, :, :, col * images_per_row + row]\n",
    "            except IndexError:\n",
    "                continue\n",
    "            channel_image -= channel_image.mean() # Post-processes the feature to make it visually palatable\n",
    "            channel_image /= channel_image.std()\n",
    "            channel_image *= 64\n",
    "            channel_image += 128\n",
    "            channel_image = np.clip(channel_image, 0, 255).astype('uint8')\n",
    "            display_grid[col * size : (col + 1) * size, # Displays the grid\n",
    "                         row * size : (row + 1) * size] = channel_image\n",
    "    scale = 1. / size\n",
    "    plt.figure(figsize=(scale * display_grid.shape[1],\n",
    "                        scale * display_grid.shape[0]))\n",
    "    plt.title(layer_name)\n",
    "    plt.grid(False)\n",
    "    plt.imshow(display_grid, aspect='auto', cmap='viridis')\n",
    "    c += 1"
   ]
  },
  {
   "cell_type": "code",
   "execution_count": null,
   "metadata": {},
   "outputs": [],
   "source": []
  }
 ],
 "metadata": {
  "kernelspec": {
   "display_name": "Python 3",
   "language": "python",
   "name": "python3"
  },
  "language_info": {
   "codemirror_mode": {
    "name": "ipython",
    "version": 3
   },
   "file_extension": ".py",
   "mimetype": "text/x-python",
   "name": "python",
   "nbconvert_exporter": "python",
   "pygments_lexer": "ipython3",
   "version": "3.8.2"
  }
 },
 "nbformat": 4,
 "nbformat_minor": 4
}
