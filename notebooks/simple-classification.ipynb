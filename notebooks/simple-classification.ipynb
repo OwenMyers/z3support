{
 "cells": [
  {
   "cell_type": "code",
   "execution_count": 31,
   "metadata": {},
   "outputs": [],
   "source": [
    "import pandas as pd\n",
    "from sklearn.decomposition import IncrementalPCA\n",
    "import seaborn as sns\n",
    "from matplotlib import pyplot as plt"
   ]
  },
  {
   "cell_type": "markdown",
   "metadata": {},
   "source": [
    "I manualy put in a lable as the first column"
   ]
  },
  {
   "cell_type": "code",
   "execution_count": 32,
   "metadata": {},
   "outputs": [],
   "source": [
    "z2_n7_df = pd.read_csv('../data/z2Ham_L7_p4_N2000.txt', delim_whitespace=True, header=None)\n",
    "z2_n9_df = pd.read_csv('../data/z2Ham_L9_p4_N2000.txt', delim_whitespace=True, header=None)\n"
   ]
  },
  {
   "cell_type": "code",
   "execution_count": 33,
   "metadata": {},
   "outputs": [
    {
     "name": "stdout",
     "output_type": "stream",
     "text": [
      "2000\n",
      "2000\n"
     ]
    }
   ],
   "source": [
    "print(len(z2_n7_df.columns))\n",
    "print(len(z2_n9_df.columns))"
   ]
  },
  {
   "cell_type": "code",
   "execution_count": 26,
   "metadata": {},
   "outputs": [
    {
     "data": {
      "text/html": [
       "<div>\n",
       "<style scoped>\n",
       "    .dataframe tbody tr th:only-of-type {\n",
       "        vertical-align: middle;\n",
       "    }\n",
       "\n",
       "    .dataframe tbody tr th {\n",
       "        vertical-align: top;\n",
       "    }\n",
       "\n",
       "    .dataframe thead th {\n",
       "        text-align: right;\n",
       "    }\n",
       "</style>\n",
       "<table border=\"1\" class=\"dataframe\">\n",
       "  <thead>\n",
       "    <tr style=\"text-align: right;\">\n",
       "      <th></th>\n",
       "      <th>0</th>\n",
       "      <th>1</th>\n",
       "      <th>2</th>\n",
       "      <th>3</th>\n",
       "      <th>4</th>\n",
       "      <th>5</th>\n",
       "      <th>6</th>\n",
       "      <th>7</th>\n",
       "      <th>8</th>\n",
       "      <th>9</th>\n",
       "      <th>...</th>\n",
       "      <th>1990</th>\n",
       "      <th>1991</th>\n",
       "      <th>1992</th>\n",
       "      <th>1993</th>\n",
       "      <th>1994</th>\n",
       "      <th>1995</th>\n",
       "      <th>1996</th>\n",
       "      <th>1997</th>\n",
       "      <th>1998</th>\n",
       "      <th>1999</th>\n",
       "    </tr>\n",
       "  </thead>\n",
       "  <tbody>\n",
       "    <tr>\n",
       "      <th>count</th>\n",
       "      <td>2000.000000</td>\n",
       "      <td>2000.000000</td>\n",
       "      <td>2000.000000</td>\n",
       "      <td>2000.000000</td>\n",
       "      <td>2000.000000</td>\n",
       "      <td>2000.000000</td>\n",
       "      <td>2000.000000</td>\n",
       "      <td>2000.000000</td>\n",
       "      <td>2000.000000</td>\n",
       "      <td>2000.000000</td>\n",
       "      <td>...</td>\n",
       "      <td>2000.000000</td>\n",
       "      <td>2000.000000</td>\n",
       "      <td>2000.000000</td>\n",
       "      <td>2000.000000</td>\n",
       "      <td>2000.000000</td>\n",
       "      <td>2000.000000</td>\n",
       "      <td>2000.000000</td>\n",
       "      <td>2000.000000</td>\n",
       "      <td>2000.000000</td>\n",
       "      <td>2000.000000</td>\n",
       "    </tr>\n",
       "    <tr>\n",
       "      <th>mean</th>\n",
       "      <td>0.907255</td>\n",
       "      <td>0.905418</td>\n",
       "      <td>0.905541</td>\n",
       "      <td>0.906194</td>\n",
       "      <td>0.903561</td>\n",
       "      <td>0.905561</td>\n",
       "      <td>0.906153</td>\n",
       "      <td>0.905898</td>\n",
       "      <td>0.907286</td>\n",
       "      <td>0.905990</td>\n",
       "      <td>...</td>\n",
       "      <td>0.928663</td>\n",
       "      <td>0.927704</td>\n",
       "      <td>0.939429</td>\n",
       "      <td>0.938306</td>\n",
       "      <td>0.938684</td>\n",
       "      <td>0.931388</td>\n",
       "      <td>0.935469</td>\n",
       "      <td>0.935888</td>\n",
       "      <td>0.929153</td>\n",
       "      <td>0.941969</td>\n",
       "    </tr>\n",
       "    <tr>\n",
       "      <th>std</th>\n",
       "      <td>0.063093</td>\n",
       "      <td>0.063727</td>\n",
       "      <td>0.061672</td>\n",
       "      <td>0.062006</td>\n",
       "      <td>0.061397</td>\n",
       "      <td>0.060575</td>\n",
       "      <td>0.061769</td>\n",
       "      <td>0.060963</td>\n",
       "      <td>0.060611</td>\n",
       "      <td>0.062157</td>\n",
       "      <td>...</td>\n",
       "      <td>0.046482</td>\n",
       "      <td>0.047743</td>\n",
       "      <td>0.042477</td>\n",
       "      <td>0.044426</td>\n",
       "      <td>0.043108</td>\n",
       "      <td>0.045476</td>\n",
       "      <td>0.044987</td>\n",
       "      <td>0.043693</td>\n",
       "      <td>0.047129</td>\n",
       "      <td>0.042354</td>\n",
       "    </tr>\n",
       "    <tr>\n",
       "      <th>min</th>\n",
       "      <td>0.000000</td>\n",
       "      <td>0.000000</td>\n",
       "      <td>0.000000</td>\n",
       "      <td>0.000000</td>\n",
       "      <td>0.000000</td>\n",
       "      <td>0.000000</td>\n",
       "      <td>0.000000</td>\n",
       "      <td>0.000000</td>\n",
       "      <td>0.000000</td>\n",
       "      <td>0.000000</td>\n",
       "      <td>...</td>\n",
       "      <td>0.000000</td>\n",
       "      <td>0.000000</td>\n",
       "      <td>0.000000</td>\n",
       "      <td>0.000000</td>\n",
       "      <td>0.000000</td>\n",
       "      <td>0.000000</td>\n",
       "      <td>0.000000</td>\n",
       "      <td>0.000000</td>\n",
       "      <td>0.000000</td>\n",
       "      <td>0.000000</td>\n",
       "    </tr>\n",
       "    <tr>\n",
       "      <th>25%</th>\n",
       "      <td>0.877551</td>\n",
       "      <td>0.877551</td>\n",
       "      <td>0.877551</td>\n",
       "      <td>0.877551</td>\n",
       "      <td>0.877551</td>\n",
       "      <td>0.877551</td>\n",
       "      <td>0.877551</td>\n",
       "      <td>0.877551</td>\n",
       "      <td>0.877551</td>\n",
       "      <td>0.877551</td>\n",
       "      <td>...</td>\n",
       "      <td>0.897959</td>\n",
       "      <td>0.897959</td>\n",
       "      <td>0.918367</td>\n",
       "      <td>0.918367</td>\n",
       "      <td>0.918367</td>\n",
       "      <td>0.918367</td>\n",
       "      <td>0.918367</td>\n",
       "      <td>0.918367</td>\n",
       "      <td>0.897959</td>\n",
       "      <td>0.918367</td>\n",
       "    </tr>\n",
       "    <tr>\n",
       "      <th>50%</th>\n",
       "      <td>0.918367</td>\n",
       "      <td>0.918367</td>\n",
       "      <td>0.918367</td>\n",
       "      <td>0.918367</td>\n",
       "      <td>0.918367</td>\n",
       "      <td>0.918367</td>\n",
       "      <td>0.918367</td>\n",
       "      <td>0.918367</td>\n",
       "      <td>0.918367</td>\n",
       "      <td>0.918367</td>\n",
       "      <td>...</td>\n",
       "      <td>0.938776</td>\n",
       "      <td>0.938776</td>\n",
       "      <td>0.938776</td>\n",
       "      <td>0.938776</td>\n",
       "      <td>0.938776</td>\n",
       "      <td>0.938776</td>\n",
       "      <td>0.938776</td>\n",
       "      <td>0.938776</td>\n",
       "      <td>0.938776</td>\n",
       "      <td>0.938776</td>\n",
       "    </tr>\n",
       "    <tr>\n",
       "      <th>75%</th>\n",
       "      <td>0.959184</td>\n",
       "      <td>0.959184</td>\n",
       "      <td>0.959184</td>\n",
       "      <td>0.959184</td>\n",
       "      <td>0.938776</td>\n",
       "      <td>0.938776</td>\n",
       "      <td>0.938776</td>\n",
       "      <td>0.938776</td>\n",
       "      <td>0.959184</td>\n",
       "      <td>0.959184</td>\n",
       "      <td>...</td>\n",
       "      <td>0.959184</td>\n",
       "      <td>0.959184</td>\n",
       "      <td>0.959184</td>\n",
       "      <td>0.959184</td>\n",
       "      <td>0.959184</td>\n",
       "      <td>0.959184</td>\n",
       "      <td>0.959184</td>\n",
       "      <td>0.959184</td>\n",
       "      <td>0.959184</td>\n",
       "      <td>0.959184</td>\n",
       "    </tr>\n",
       "    <tr>\n",
       "      <th>max</th>\n",
       "      <td>1.000000</td>\n",
       "      <td>1.000000</td>\n",
       "      <td>1.000000</td>\n",
       "      <td>1.000000</td>\n",
       "      <td>1.000000</td>\n",
       "      <td>1.000000</td>\n",
       "      <td>1.000000</td>\n",
       "      <td>1.000000</td>\n",
       "      <td>1.000000</td>\n",
       "      <td>1.000000</td>\n",
       "      <td>...</td>\n",
       "      <td>1.000000</td>\n",
       "      <td>1.000000</td>\n",
       "      <td>1.000000</td>\n",
       "      <td>1.000000</td>\n",
       "      <td>1.000000</td>\n",
       "      <td>1.000000</td>\n",
       "      <td>1.000000</td>\n",
       "      <td>1.000000</td>\n",
       "      <td>1.000000</td>\n",
       "      <td>1.000000</td>\n",
       "    </tr>\n",
       "  </tbody>\n",
       "</table>\n",
       "<p>8 rows × 2000 columns</p>\n",
       "</div>"
      ],
      "text/plain": [
       "              0            1            2            3            4     \\\n",
       "count  2000.000000  2000.000000  2000.000000  2000.000000  2000.000000   \n",
       "mean      0.907255     0.905418     0.905541     0.906194     0.903561   \n",
       "std       0.063093     0.063727     0.061672     0.062006     0.061397   \n",
       "min       0.000000     0.000000     0.000000     0.000000     0.000000   \n",
       "25%       0.877551     0.877551     0.877551     0.877551     0.877551   \n",
       "50%       0.918367     0.918367     0.918367     0.918367     0.918367   \n",
       "75%       0.959184     0.959184     0.959184     0.959184     0.938776   \n",
       "max       1.000000     1.000000     1.000000     1.000000     1.000000   \n",
       "\n",
       "              5            6            7            8            9     ...  \\\n",
       "count  2000.000000  2000.000000  2000.000000  2000.000000  2000.000000  ...   \n",
       "mean      0.905561     0.906153     0.905898     0.907286     0.905990  ...   \n",
       "std       0.060575     0.061769     0.060963     0.060611     0.062157  ...   \n",
       "min       0.000000     0.000000     0.000000     0.000000     0.000000  ...   \n",
       "25%       0.877551     0.877551     0.877551     0.877551     0.877551  ...   \n",
       "50%       0.918367     0.918367     0.918367     0.918367     0.918367  ...   \n",
       "75%       0.938776     0.938776     0.938776     0.959184     0.959184  ...   \n",
       "max       1.000000     1.000000     1.000000     1.000000     1.000000  ...   \n",
       "\n",
       "              1990         1991         1992         1993         1994  \\\n",
       "count  2000.000000  2000.000000  2000.000000  2000.000000  2000.000000   \n",
       "mean      0.928663     0.927704     0.939429     0.938306     0.938684   \n",
       "std       0.046482     0.047743     0.042477     0.044426     0.043108   \n",
       "min       0.000000     0.000000     0.000000     0.000000     0.000000   \n",
       "25%       0.897959     0.897959     0.918367     0.918367     0.918367   \n",
       "50%       0.938776     0.938776     0.938776     0.938776     0.938776   \n",
       "75%       0.959184     0.959184     0.959184     0.959184     0.959184   \n",
       "max       1.000000     1.000000     1.000000     1.000000     1.000000   \n",
       "\n",
       "              1995         1996         1997         1998         1999  \n",
       "count  2000.000000  2000.000000  2000.000000  2000.000000  2000.000000  \n",
       "mean      0.931388     0.935469     0.935888     0.929153     0.941969  \n",
       "std       0.045476     0.044987     0.043693     0.047129     0.042354  \n",
       "min       0.000000     0.000000     0.000000     0.000000     0.000000  \n",
       "25%       0.918367     0.918367     0.918367     0.897959     0.918367  \n",
       "50%       0.938776     0.938776     0.938776     0.938776     0.938776  \n",
       "75%       0.959184     0.959184     0.959184     0.959184     0.959184  \n",
       "max       1.000000     1.000000     1.000000     1.000000     1.000000  \n",
       "\n",
       "[8 rows x 2000 columns]"
      ]
     },
     "execution_count": 26,
     "metadata": {},
     "output_type": "execute_result"
    }
   ],
   "source": [
    "z2_n7_df.describe()"
   ]
  },
  {
   "cell_type": "code",
   "execution_count": 27,
   "metadata": {},
   "outputs": [],
   "source": [
    "ipca = IncrementalPCA(n_components=2, batch_size=400)"
   ]
  },
  {
   "cell_type": "code",
   "execution_count": 28,
   "metadata": {},
   "outputs": [
    {
     "data": {
      "text/plain": [
       "IncrementalPCA(batch_size=400, n_components=2)"
      ]
     },
     "execution_count": 28,
     "metadata": {},
     "output_type": "execute_result"
    }
   ],
   "source": [
    "ipca.fit(z2_n7_df)"
   ]
  },
  {
   "cell_type": "code",
   "execution_count": 29,
   "metadata": {},
   "outputs": [
    {
     "data": {
      "text/plain": [
       "(2000, 2)"
      ]
     },
     "execution_count": 29,
     "metadata": {},
     "output_type": "execute_result"
    }
   ],
   "source": [
    "ipca.fit_transform(z2_n7_df).shape"
   ]
  },
  {
   "cell_type": "code",
   "execution_count": 30,
   "metadata": {},
   "outputs": [
    {
     "data": {
      "image/png": "[encoded data removed]",
      "text/plain": [
       "<Figure size 432x288 with 1 Axes>"
      ]
     },
     "metadata": {
      "needs_background": "light"
     },
     "output_type": "display_data"
    }
   ],
   "source": [
    "sns.scatterplot(ipca.fit_transform(z2_n7_df)[:,0], ipca.fit_transform(z2_n7_df)[:,1])\n",
    "plt.xlabel(\"PCA Dim 1\")\n",
    "plt.xlabel(\"PCA Dim 2\")\n",
    "plt.savefig(\"pca_z2_n7.png\")"
   ]
  },
  {
   "cell_type": "code",
   "execution_count": 19,
   "metadata": {},
   "outputs": [
    {
     "data": {
      "text/plain": [
       "<matplotlib.axes._subplots.AxesSubplot at 0x7fb0162c20a0>"
      ]
     },
     "execution_count": 19,
     "metadata": {},
     "output_type": "execute_result"
    },
    {
     "data": {
      "image/png": "[encoded data removed]",
      "text/plain": [
       "<Figure size 432x288 with 1 Axes>"
      ]
     },
     "metadata": {
      "needs_background": "light"
     },
     "output_type": "display_data"
    }
   ],
   "source": [
    "\n",
    "sns.scatterplot(ipca.fit_transform(z2_n9_df)[:,0], ipca.fit_transform(z2_n9_df)[:,1])"
   ]
  },
  {
   "cell_type": "code",
   "execution_count": null,
   "metadata": {},
   "outputs": [],
   "source": []
  }
 ],
 "metadata": {
  "kernelspec": {
   "display_name": "Python 3",
   "language": "python",
   "name": "python3"
  },
  "language_info": {
   "codemirror_mode": {
    "name": "ipython",
    "version": 3
   },
   "file_extension": ".py",
   "mimetype": "text/x-python",
   "name": "python",
   "nbconvert_exporter": "python",
   "pygments_lexer": "ipython3",
   "version": "3.8.2"
  }
 },
 "nbformat": 4,
 "nbformat_minor": 4
}
