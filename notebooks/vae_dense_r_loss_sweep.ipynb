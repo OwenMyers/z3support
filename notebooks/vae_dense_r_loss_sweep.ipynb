{
 "cells": [
  {
   "cell_type": "code",
   "execution_count": 1,
   "id": "a1c11071-bfbb-4177-a84f-e2444cf3e1a6",
   "metadata": {},
   "outputs": [],
   "source": [
    "import os\n",
    "\n",
    "from models.vae import DenseVariationalAutoencoder\n",
    "from models.utils.loaders import load_mnist\n",
    "import pandas as pd\n",
    "import numpy as np\n",
    "from tensorflow.python.framework.ops import disable_eager_execution\n",
    "from matplotlib import pyplot as plt\n",
    "\n",
    "disable_eager_execution()\n",
    "\n",
    "os.environ[\"CUDA_VISIBLE_DEVICES\"] = \"-1\"\n",
    "\n",
    "N_DENSE = 1\n",
    "L=8\n",
    "TRAINING_FRACTION = 0.8\n",
    "NON_LINEAR_ACTIVATION_BOOL=False"
   ]
  },
  {
   "cell_type": "code",
   "execution_count": 2,
   "id": "c2c04948-4abb-459f-b4c7-063d3ed394e4",
   "metadata": {},
   "outputs": [],
   "source": [
    "user = 1\n",
    "if user == 1:\n",
    "    prefix_s3 = \"/home/owen/\"\n",
    "    prefix_data = \"/home/owen/repos/\"\n",
    "elif user == 2:\n",
    "    prefix_data = \"/Users/omyers/repos/\""
   ]
  },
  {
   "cell_type": "code",
   "execution_count": 3,
   "id": "dac34337-c7ee-41c3-8a06-1d77200a864b",
   "metadata": {},
   "outputs": [],
   "source": [
    "# run params\n",
    "SECTION = 'vae'\n",
    "RUN_ID = '0003'\n",
    "#DATA_NAME = 'digits'\n",
    "DATA_NAME = 'ising'\n",
    "RUN_FOLDER = '{}/run/{}/'.format(os.getcwd(), SECTION)\n",
    "RUN_FOLDER += '_'.join([RUN_ID, DATA_NAME])\n",
    "\n",
    "if not os.path.exists(RUN_FOLDER):\n",
    "    os.makedirs(RUN_FOLDER)\n",
    "    os.mkdir(os.path.join(RUN_FOLDER, 'viz'))\n",
    "    os.mkdir(os.path.join(RUN_FOLDER, 'images'))\n",
    "    os.mkdir(os.path.join(RUN_FOLDER, 'weights'))\n",
    "\n",
    "mode =  'build' #'load' #\n"
   ]
  },
  {
   "cell_type": "code",
   "execution_count": 4,
   "id": "d1ba5589-1195-4b82-b3be-f28f815adcb0",
   "metadata": {},
   "outputs": [],
   "source": [
    "df_bins = pd.read_csv(\"{prefix_data}z3support/data/SpinMLData/2DIsing/L-{L}/L-{L}-T-1-5/bins_L-{L}-T-1-5.txt\".format(L=L,prefix_data=prefix_data), sep=\"\\t\")\n",
    "df_conf = pd.read_csv(\"{prefix_data}z3support/data/SpinMLData/2DIsing/L-{L}/L-{L}-T-1-5/spinConfigs_L-{L}-T-1-5.txt\".format(L=L,prefix_data=prefix_data), delimiter=r\"\\s+\", header=None)"
   ]
  },
  {
   "cell_type": "code",
   "execution_count": 5,
   "id": "c43c2d80-2e2b-4f87-acfb-74b5d4bd0b68",
   "metadata": {},
   "outputs": [],
   "source": [
    "df_bins = df_bins[df_bins[' T '] != ' T ']"
   ]
  },
  {
   "cell_type": "code",
   "execution_count": 6,
   "id": "ed5da578-d08e-404b-be6a-5b5248da0fe3",
   "metadata": {},
   "outputs": [],
   "source": [
    "df_bins = df_bins.astype(\n",
    "    {\n",
    "        \" T \": int,\n",
    "        \" binNum\": int,\n",
    "    }\n",
    ")"
   ]
  },
  {
   "cell_type": "markdown",
   "id": "e5d796dd-0cb9-462d-9c64-7ae8ddfe08cb",
   "metadata": {},
   "source": [
    "## Get the temp and magnatization into the configuration dataframe"
   ]
  },
  {
   "cell_type": "code",
   "execution_count": 7,
   "id": "e842e4e4-3f59-430a-9afc-b6d30fd60295",
   "metadata": {},
   "outputs": [],
   "source": [
    "df_conf[\"T\"] = df_bins[\" T \"]"
   ]
  },
  {
   "cell_type": "code",
   "execution_count": 8,
   "id": "f6b08978-30f5-43a3-a52e-a84d159d4da1",
   "metadata": {},
   "outputs": [],
   "source": [
    "mean_col = df_conf[0].copy()\n",
    "for i in range(1, L):\n",
    "    mean_col += df_conf[i]\n",
    "\n",
    "mean_col /= L"
   ]
  },
  {
   "cell_type": "code",
   "execution_count": 9,
   "id": "26f73eca-b06b-401e-8eaa-3e94730762c6",
   "metadata": {},
   "outputs": [],
   "source": [
    "df_conf[\"M\"] = mean_col"
   ]
  },
  {
   "cell_type": "code",
   "execution_count": 10,
   "id": "16bf92b1-af70-4128-80e9-161682a06c96",
   "metadata": {},
   "outputs": [],
   "source": [
    "filterned_confs = df_conf\n",
    "#filterned_confs = df_conf[(df_conf[\"T\"] < 1.5) | (df_conf[\"T\"] > 4.5)]"
   ]
  },
  {
   "cell_type": "code",
   "execution_count": 11,
   "id": "94d6a8cd-cec9-40b4-bdad-c9dbff035507",
   "metadata": {},
   "outputs": [
    {
     "data": {
      "text/html": [
       "<div>\n",
       "<style scoped>\n",
       "    .dataframe tbody tr th:only-of-type {\n",
       "        vertical-align: middle;\n",
       "    }\n",
       "\n",
       "    .dataframe tbody tr th {\n",
       "        vertical-align: top;\n",
       "    }\n",
       "\n",
       "    .dataframe thead th {\n",
       "        text-align: right;\n",
       "    }\n",
       "</style>\n",
       "<table border=\"1\" class=\"dataframe\">\n",
       "  <thead>\n",
       "    <tr style=\"text-align: right;\">\n",
       "      <th></th>\n",
       "      <th>0</th>\n",
       "      <th>1</th>\n",
       "      <th>2</th>\n",
       "      <th>3</th>\n",
       "      <th>4</th>\n",
       "      <th>5</th>\n",
       "      <th>6</th>\n",
       "      <th>7</th>\n",
       "      <th>8</th>\n",
       "      <th>9</th>\n",
       "      <th>...</th>\n",
       "      <th>56</th>\n",
       "      <th>57</th>\n",
       "      <th>58</th>\n",
       "      <th>59</th>\n",
       "      <th>60</th>\n",
       "      <th>61</th>\n",
       "      <th>62</th>\n",
       "      <th>63</th>\n",
       "      <th>T</th>\n",
       "      <th>M</th>\n",
       "    </tr>\n",
       "  </thead>\n",
       "  <tbody>\n",
       "    <tr>\n",
       "      <th>0</th>\n",
       "      <td>-1</td>\n",
       "      <td>-1</td>\n",
       "      <td>-1</td>\n",
       "      <td>-1</td>\n",
       "      <td>-1</td>\n",
       "      <td>-1</td>\n",
       "      <td>-1</td>\n",
       "      <td>-1</td>\n",
       "      <td>-1</td>\n",
       "      <td>-1</td>\n",
       "      <td>...</td>\n",
       "      <td>-1</td>\n",
       "      <td>-1</td>\n",
       "      <td>-1</td>\n",
       "      <td>-1</td>\n",
       "      <td>-1</td>\n",
       "      <td>-1</td>\n",
       "      <td>-1</td>\n",
       "      <td>-1</td>\n",
       "      <td>1.0</td>\n",
       "      <td>-1.0</td>\n",
       "    </tr>\n",
       "    <tr>\n",
       "      <th>1</th>\n",
       "      <td>-1</td>\n",
       "      <td>-1</td>\n",
       "      <td>-1</td>\n",
       "      <td>-1</td>\n",
       "      <td>-1</td>\n",
       "      <td>-1</td>\n",
       "      <td>-1</td>\n",
       "      <td>-1</td>\n",
       "      <td>-1</td>\n",
       "      <td>-1</td>\n",
       "      <td>...</td>\n",
       "      <td>-1</td>\n",
       "      <td>-1</td>\n",
       "      <td>-1</td>\n",
       "      <td>-1</td>\n",
       "      <td>-1</td>\n",
       "      <td>-1</td>\n",
       "      <td>-1</td>\n",
       "      <td>-1</td>\n",
       "      <td>1.0</td>\n",
       "      <td>-1.0</td>\n",
       "    </tr>\n",
       "    <tr>\n",
       "      <th>2</th>\n",
       "      <td>-1</td>\n",
       "      <td>-1</td>\n",
       "      <td>-1</td>\n",
       "      <td>-1</td>\n",
       "      <td>-1</td>\n",
       "      <td>-1</td>\n",
       "      <td>-1</td>\n",
       "      <td>-1</td>\n",
       "      <td>-1</td>\n",
       "      <td>-1</td>\n",
       "      <td>...</td>\n",
       "      <td>-1</td>\n",
       "      <td>-1</td>\n",
       "      <td>-1</td>\n",
       "      <td>-1</td>\n",
       "      <td>-1</td>\n",
       "      <td>-1</td>\n",
       "      <td>-1</td>\n",
       "      <td>-1</td>\n",
       "      <td>1.0</td>\n",
       "      <td>-1.0</td>\n",
       "    </tr>\n",
       "    <tr>\n",
       "      <th>3</th>\n",
       "      <td>-1</td>\n",
       "      <td>-1</td>\n",
       "      <td>-1</td>\n",
       "      <td>-1</td>\n",
       "      <td>-1</td>\n",
       "      <td>-1</td>\n",
       "      <td>-1</td>\n",
       "      <td>-1</td>\n",
       "      <td>-1</td>\n",
       "      <td>-1</td>\n",
       "      <td>...</td>\n",
       "      <td>-1</td>\n",
       "      <td>-1</td>\n",
       "      <td>-1</td>\n",
       "      <td>-1</td>\n",
       "      <td>-1</td>\n",
       "      <td>-1</td>\n",
       "      <td>-1</td>\n",
       "      <td>-1</td>\n",
       "      <td>1.0</td>\n",
       "      <td>-1.0</td>\n",
       "    </tr>\n",
       "    <tr>\n",
       "      <th>4</th>\n",
       "      <td>-1</td>\n",
       "      <td>-1</td>\n",
       "      <td>-1</td>\n",
       "      <td>-1</td>\n",
       "      <td>-1</td>\n",
       "      <td>-1</td>\n",
       "      <td>-1</td>\n",
       "      <td>-1</td>\n",
       "      <td>-1</td>\n",
       "      <td>-1</td>\n",
       "      <td>...</td>\n",
       "      <td>-1</td>\n",
       "      <td>-1</td>\n",
       "      <td>-1</td>\n",
       "      <td>-1</td>\n",
       "      <td>-1</td>\n",
       "      <td>-1</td>\n",
       "      <td>-1</td>\n",
       "      <td>-1</td>\n",
       "      <td>1.0</td>\n",
       "      <td>-1.0</td>\n",
       "    </tr>\n",
       "  </tbody>\n",
       "</table>\n",
       "<p>5 rows × 66 columns</p>\n",
       "</div>"
      ],
      "text/plain": [
       "   0  1  2  3  4  5  6  7  8  9  ...  56  57  58  59  60  61  62  63    T    M\n",
       "0 -1 -1 -1 -1 -1 -1 -1 -1 -1 -1  ...  -1  -1  -1  -1  -1  -1  -1  -1  1.0 -1.0\n",
       "1 -1 -1 -1 -1 -1 -1 -1 -1 -1 -1  ...  -1  -1  -1  -1  -1  -1  -1  -1  1.0 -1.0\n",
       "2 -1 -1 -1 -1 -1 -1 -1 -1 -1 -1  ...  -1  -1  -1  -1  -1  -1  -1  -1  1.0 -1.0\n",
       "3 -1 -1 -1 -1 -1 -1 -1 -1 -1 -1  ...  -1  -1  -1  -1  -1  -1  -1  -1  1.0 -1.0\n",
       "4 -1 -1 -1 -1 -1 -1 -1 -1 -1 -1  ...  -1  -1  -1  -1  -1  -1  -1  -1  1.0 -1.0\n",
       "\n",
       "[5 rows x 66 columns]"
      ]
     },
     "execution_count": 11,
     "metadata": {},
     "output_type": "execute_result"
    }
   ],
   "source": [
    "filterned_confs.head()"
   ]
  },
  {
   "cell_type": "markdown",
   "id": "40df009f-5410-4a8c-9492-835b75e2bb52",
   "metadata": {},
   "source": [
    "We need the data in the format: `(x_train, y_train), (x_test, y_test)`"
   ]
  },
  {
   "cell_type": "code",
   "execution_count": 12,
   "id": "f09c54bc-5efc-4ecc-becd-73dbbf2770bd",
   "metadata": {},
   "outputs": [],
   "source": [
    "train_with_meta_info = filterned_confs.sample(frac=TRAINING_FRACTION, axis=0)\n",
    "test_with_meta_info = filterned_confs.drop(index=train_with_meta_info.index)"
   ]
  },
  {
   "cell_type": "code",
   "execution_count": 13,
   "id": "7e93b711-9411-4425-84c6-c24f5edd3041",
   "metadata": {},
   "outputs": [],
   "source": [
    "train = train_with_meta_info.drop([\"T\",\"M\"], axis=1)\n",
    "test = test_with_meta_info.drop([\"T\",\"M\"], axis=1)"
   ]
  },
  {
   "cell_type": "markdown",
   "id": "c7f72822-bb76-46e6-81ab-5357884d393a",
   "metadata": {},
   "source": [
    "# Check what MNIST data looked like"
   ]
  },
  {
   "cell_type": "code",
   "execution_count": 14,
   "id": "7376500b-18b4-4a75-87b3-aabc02ca3f72",
   "metadata": {},
   "outputs": [],
   "source": [
    "(x_train, y_train), (x_test, y_test) = load_mnist()"
   ]
  },
  {
   "cell_type": "code",
   "execution_count": 15,
   "id": "8bfab992-117f-47ba-8fa9-0ba8a5fb1a8d",
   "metadata": {},
   "outputs": [
    {
     "data": {
      "text/plain": [
       "(60000, 28, 28, 1)"
      ]
     },
     "execution_count": 15,
     "metadata": {},
     "output_type": "execute_result"
    }
   ],
   "source": [
    "np.shape(x_train)"
   ]
  },
  {
   "cell_type": "code",
   "execution_count": 16,
   "id": "1b841a29-058d-490b-8794-1cf07d54eeb4",
   "metadata": {},
   "outputs": [
    {
     "data": {
      "text/plain": [
       "(60000, 28, 28, 1)"
      ]
     },
     "execution_count": 16,
     "metadata": {},
     "output_type": "execute_result"
    }
   ],
   "source": [
    "np.shape(x_train)"
   ]
  },
  {
   "cell_type": "markdown",
   "id": "09301a8c-93cc-4c46-b03f-07f0b9342ae9",
   "metadata": {},
   "source": [
    "## Make our data the same"
   ]
  },
  {
   "cell_type": "code",
   "execution_count": 17,
   "id": "db6cc810-4352-453f-87f5-c5dd420fb76a",
   "metadata": {},
   "outputs": [
    {
     "data": {
      "text/plain": [
       "(4000, 64)"
      ]
     },
     "execution_count": 17,
     "metadata": {},
     "output_type": "execute_result"
    }
   ],
   "source": [
    "train.to_numpy().shape"
   ]
  },
  {
   "cell_type": "code",
   "execution_count": 18,
   "id": "cd006420-3b2e-4361-bbc2-46b437787711",
   "metadata": {},
   "outputs": [],
   "source": [
    "x = train.to_numpy().reshape(-1,L*L)\n",
    "x_test = test.to_numpy().reshape(-1,L*L)"
   ]
  },
  {
   "cell_type": "code",
   "execution_count": 19,
   "id": "b87ceff0-9c8c-42b9-bae7-25a8dc037353",
   "metadata": {},
   "outputs": [
    {
     "data": {
      "text/plain": [
       "array([[1, 1],\n",
       "       [1, 1],\n",
       "       [2, 2],\n",
       "       [3, 3],\n",
       "       [4, 4],\n",
       "       [5, 5]])"
      ]
     },
     "execution_count": 19,
     "metadata": {},
     "output_type": "execute_result"
    }
   ],
   "source": [
    "np.array([[1,1,1,1], [2,2,3,3], [4,4,5,5]]).reshape(-1,2)"
   ]
  },
  {
   "cell_type": "code",
   "execution_count": 20,
   "id": "f3191ceb-d996-45c5-b28d-5f36d7882c7f",
   "metadata": {
    "tags": []
   },
   "outputs": [],
   "source": [
    "x = x.astype(float)"
   ]
  },
  {
   "cell_type": "code",
   "execution_count": 21,
   "id": "3fd9a373-fdfa-48e9-b120-e1bd02790347",
   "metadata": {},
   "outputs": [
    {
     "data": {
      "text/plain": [
       "(4000, 64)"
      ]
     },
     "execution_count": 21,
     "metadata": {},
     "output_type": "execute_result"
    }
   ],
   "source": [
    "x.shape"
   ]
  },
  {
   "cell_type": "code",
   "execution_count": null,
   "id": "c6a44c80-fad2-49f5-b045-a8af428ff036",
   "metadata": {},
   "outputs": [],
   "source": []
  },
  {
   "cell_type": "markdown",
   "id": "e559cb77-1ac0-40ce-8a11-0ef84aeeabf6",
   "metadata": {},
   "source": [
    "## Run VAE"
   ]
  },
  {
   "cell_type": "code",
   "execution_count": 22,
   "id": "e06961ee-cb27-40b7-b0f5-b24cdd184d32",
   "metadata": {},
   "outputs": [],
   "source": [
    "vae = DenseVariationalAutoencoder(\n",
    "    input_dim=(L*L,),\n",
    "    encoder_layer_sizes=[2],\n",
    "    decoder_layer_sizes=[2, L*L],\n",
    "    z_dim=N_DENSE,\n",
    "    non_linear_activation_bool=NON_LINEAR_ACTIVATION_BOOL\n",
    ")"
   ]
  },
  {
   "cell_type": "code",
   "execution_count": 23,
   "id": "6e04dcc7-42c7-4bea-918d-1f90df979de2",
   "metadata": {
    "tags": []
   },
   "outputs": [],
   "source": [
    "LEARNING_RATE = 0.0005\n",
    "#R_LOSS_FACTOR = 1000\n",
    "R_LOSS_FACTOR = 100"
   ]
  },
  {
   "cell_type": "code",
   "execution_count": null,
   "id": "28180c06-bdf7-4760-b504-c21eb9137193",
   "metadata": {},
   "outputs": [],
   "source": []
  },
  {
   "cell_type": "code",
   "execution_count": 24,
   "id": "5af6bfe8-39b6-4416-aad5-7e9ad059331a",
   "metadata": {},
   "outputs": [],
   "source": [
    "BATCH_SIZE = 16\n",
    "EPOCHS = 50\n",
    "PRINT_EVERY_N_BATCHES = 100\n",
    "INITIAL_EPOCH = 0"
   ]
  },
  {
   "cell_type": "code",
   "execution_count": null,
   "id": "9d74d26b-150d-4b2f-ae5e-7d2a0b0f199f",
   "metadata": {},
   "outputs": [],
   "source": []
  },
  {
   "cell_type": "code",
   "execution_count": 25,
   "id": "0ffe616e-dee5-4a79-b121-f6c40e135006",
   "metadata": {},
   "outputs": [],
   "source": [
    "#len(x_test)\n",
    "test_with_meta_info = test_with_meta_info.reset_index()"
   ]
  },
  {
   "cell_type": "code",
   "execution_count": null,
   "id": "c4af19df-65b5-4b08-b5ba-9a0f76065a36",
   "metadata": {},
   "outputs": [],
   "source": [
    "from sqlalchemy import create_engine\n",
    "engine = create_engine('sqlite://', echo=False)"
   ]
  },
  {
   "cell_type": "code",
   "execution_count": null,
   "id": "546bf492-fc5d-4c91-9cbe-4a51c95d971c",
   "metadata": {},
   "outputs": [],
   "source": [
    "magnitization_for_plot = None\n",
    "t = None\n",
    "list_of_latent_param_results = []\n",
    "\n",
    "n_runs = 500\n",
    "\n",
    "color_list = [ '#326496', '#969696', '#649664', '#c8c896', '#fafac8', '#c8fafa', '#646496', '#c8c8fa', '#9696c8', '#c8fac8', ] \n",
    "\n",
    "r_loss_list = [1, 10, 100, 1000, 10000]"
   ]
  },
  {
   "cell_type": "code",
   "execution_count": null,
   "id": "bec03bfb-b4a2-42ae-a2a3-05fd5c781507",
   "metadata": {
    "tags": []
   },
   "outputs": [],
   "source": [
    "for i in range(n_runs):\n",
    "    vae.compile(LEARNING_RATE, r_loss_list[i])\n",
    "    vae.train(     \n",
    "        x,\n",
    "        batch_size = BATCH_SIZE,\n",
    "        epochs = EPOCHS,\n",
    "        run_folder = RUN_FOLDER,\n",
    "        print_every_n_batches = PRINT_EVERY_N_BATCHES,\n",
    "        initial_epoch = INITIAL_EPOCH,\n",
    "    )\n",
    "    z_points = vae.encoder.predict(x_test)\n",
    "    test_with_meta_info[\"latent_1\"] = z_points[:, 0]\n",
    "    test_with_meta_info.to_sql('filtered_confs', con=engine, if_exists='replace')\n",
    "    avg_m_out = engine.execute(\n",
    "    \"\"\"\n",
    "        select \n",
    "            t,\n",
    "            avg(abs(m)),\n",
    "            avg(abs(latent_1))\n",
    "        from filtered_confs\n",
    "        group by t\n",
    "    \"\"\").fetchall()\n",
    "    \n",
    "    if i == 0:\n",
    "        magnitization_for_plot = [i[1] for i in avg_m_out[0:]]\n",
    "        t = [i[0] for i in avg_m_out[0:]]\n",
    "        \n",
    "    list_of_latent_param_results.append([i[2] for i in avg_m_out[0:]])"
   ]
  },
  {
   "cell_type": "code",
   "execution_count": null,
   "id": "ab829185-5cdf-442f-856c-5956bfb7e546",
   "metadata": {},
   "outputs": [],
   "source": [
    "fig, axes= plt.subplots(nrows=1, ncols=1,figsize=(12,7))\n",
    "for i in range(n_runs):\n",
    "    plt.plot(t, list_of_latent_param_results[i], c=color_list[i], label=\"r loss factor: {}\".format(r_loss_list[i]))\n",
    "    \n",
    "plt.plot(t, magnitization_for_plot, c='r', label='M')\n",
    "plt.xlabel(\"Temperature\")\n",
    "plt.legend()\n",
    "plt.savefig(\"{}/s3-bucket/reproduction/fig_2/vae_dense_magnitization_and_latent_param_vs_temp_r_loss_sweeps_l{}_epochs_{}.png\".format(prefix_s3, L, EPOCHS))"
   ]
  },
  {
   "cell_type": "code",
   "execution_count": null,
   "id": "1dc56ac2-970b-4662-bc59-b2e41ed234bf",
   "metadata": {},
   "outputs": [],
   "source": []
  },
  {
   "cell_type": "code",
   "execution_count": null,
   "id": "20077467-bdf1-4bf0-847b-59dee4b9b62a",
   "metadata": {},
   "outputs": [],
   "source": []
  },
  {
   "cell_type": "code",
   "execution_count": null,
   "id": "471b6f00-8cc3-45a2-b625-a2604f7f3579",
   "metadata": {},
   "outputs": [],
   "source": []
  },
  {
   "cell_type": "code",
   "execution_count": null,
   "id": "bb30a1fe-d830-4ef2-bdbc-67b74e3c4d7f",
   "metadata": {},
   "outputs": [],
   "source": []
  }
 ],
 "metadata": {
  "kernelspec": {
   "display_name": "Python 3",
   "language": "python",
   "name": "python3"
  },
  "language_info": {
   "codemirror_mode": {
    "name": "ipython",
    "version": 3
   },
   "file_extension": ".py",
   "mimetype": "text/x-python",
   "name": "python",
   "nbconvert_exporter": "python",
   "pygments_lexer": "ipython3",
   "version": "3.8.10"
  }
 },
 "nbformat": 4,
 "nbformat_minor": 5
}
